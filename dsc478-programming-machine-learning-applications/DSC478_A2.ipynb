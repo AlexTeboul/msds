{
  "nbformat": 4,
  "nbformat_minor": 0,
  "metadata": {
    "colab": {
      "name": "DSC478_A2.ipynb",
      "provenance": []
    },
    "kernelspec": {
      "name": "python3",
      "display_name": "Python 3"
    }
  },
  "cells": [
    {
      "cell_type": "markdown",
      "metadata": {
        "id": "Q-POcWfFQmGY",
        "colab_type": "text"
      },
      "source": [
        "#Assignment 2\n",
        "##DSC 478 - Programming ML Apps\n",
        "##Alex Teboul"
      ]
    },
    {
      "cell_type": "markdown",
      "metadata": {
        "id": "rUAG5fMLi-HG",
        "colab_type": "text"
      },
      "source": [
        "## Assignment Background\n",
        "For this assignment you will experiment with various classification models using subsets of some real-world data sets. In particular, you will use the K-Nearest-Neighbor algorithm to classify text documents, experiment with and compare classifiers that are part of the scikit-learn machine learning package for Python, and use some additional preprocessing capabilities of pandas and scikit-learn packages. You will use the data from the data sub-module as well as the existing bank_data file."
      ]
    },
    {
      "cell_type": "code",
      "metadata": {
        "id": "sV8HJ_yZjLex",
        "colab_type": "code",
        "colab": {}
      },
      "source": [
        ""
      ],
      "execution_count": 0,
      "outputs": []
    },
    {
      "cell_type": "markdown",
      "metadata": {
        "id": "Yy4nAsDtli34",
        "colab_type": "text"
      },
      "source": [
        "## Problem 1\n",
        "##K-Nearest-Neighbor (KNN) classification on Newsgroups \n",
        "[Dataset: newsgroups.zip]\n",
        "\n",
        "For this problem you will use a subset of the 20 Newsgroup data set. The full data set contains 20,000 newsgroup documents, partitioned (nearly) evenly across 20 different newsgroups and has been often used for experiments in text applications of machine learning techniques, such as text classification and text clustering (see the description of the full dataset). The assignment data set contains a subset of 1000 documents and a vocabulary of  terms. Each document belongs to one of two classes Hockey (class label 1) and Microsoft Windows (class label 0). The data has already been split (80%, 20%) into training and test data. The class labels for the training and test data are also provided in separate files. The training and test data contain a row for each term in the vocabulary and a column for each document. The values in the table represent raw term frequencies. The data has already been preprocessed to extract terms, remove stop words and perform stemming (so, the vocabulary contains stems not full terms). Please be sure to read the readme.txt file in the distribution.\n",
        "\n",
        "Your tasks in this problem are the following [Note: for this problem you should not use scikit-learn for classification, but create your own KNN classifer. You may use Pandas, NumPy, standard Python libraries, and Matplotlib.]"
      ]
    },
    {
      "cell_type": "markdown",
      "metadata": {
        "id": "59SP_9tUigNI",
        "colab_type": "text"
      },
      "source": [
        "1. trainMatrixModified.txt: the term-document frequency matrix for the training documents. Each row of this matrix corresponds \n",
        "to one the terms and each column corresponds to one the documents and the (i,j)th element of the matrix shows the frequency of the \n",
        "ith term in the jth document. This matrix contains 5500 rows and 800 columns.\n",
        "\n",
        "2. testMatrixModified.txt: the term-document frequency for the test documents. The matrix contains 5500 rows and 200 columns.\n",
        "\n",
        "3. trainClasses.txt: This file contains the labels associated with each training document. Each line is in the format of documentIndex \\t \n",
        "classId where the documentIndex is in the range of [0,800) and refers to the index of the document in the term-document frequency matrix for train documents. \n",
        "The classId refers to one of the two classes and takes one of the values 0 (for Windows) or 1 (for Hockey).\n",
        "\n",
        "4. testClasses.txt: This file contains the labels associated with each test document. Each line is in the format of documentIndex \\t classId where the \n",
        "documentIndex is in the range of [0,200) and refers to the index of the document in the term-document frequency matrix for test documents  \n",
        "\n",
        "5. modifiedterms.txt: This file contains the set of 5500 terms in the vocabulary. Each line contains a term and corresponds to the corresponding rows \n",
        "in term-document frequency matrices. "
      ]
    },
    {
      "cell_type": "markdown",
      "metadata": {
        "id": "IwyVioofloWD",
        "colab_type": "text"
      },
      "source": [
        "### a.\n",
        "Create your own KNN classifier function. Your classifier should allow as input the training data matrix, the training labels, the instance to be classified, the value of K, and should return the predicted class for the instance and the top K neighbors. Your classifier should work with Euclidean distance as well as Cosine Similarity. You may create two separate classifiers, or add this capability as a parameter for the classifier function."
      ]
    },
    {
      "cell_type": "code",
      "metadata": {
        "id": "vy0dYCFBZFDI",
        "colab_type": "code",
        "colab": {}
      },
      "source": [
        "#Imports\n",
        "import numpy as np\n",
        "import pandas as pd\n",
        "import matplotlib.pyplot as plt\n",
        "import warnings\n",
        "from math import sqrt\n",
        "from collections import Counter\n",
        "import matplotlib.pyplot as plt"
      ],
      "execution_count": 0,
      "outputs": []
    },
    {
      "cell_type": "code",
      "metadata": {
        "id": "gI-jO9F-eEiI",
        "colab_type": "code",
        "colab": {
          "base_uri": "https://localhost:8080/",
          "height": 122
        },
        "outputId": "2736b68c-ae42-4214-97ec-597809072936"
      },
      "source": [
        "#Mount Google Drive to get files\n",
        "from google.colab import drive\n",
        "drive.mount('/content/drive')"
      ],
      "execution_count": 2,
      "outputs": [
        {
          "output_type": "stream",
          "text": [
            "Go to this URL in a browser: https://accounts.google.com/o/oauth2/auth?client_id=947318989803-6bn6qk8qdgf4n4g3pfee6491hc0brc4i.apps.googleusercontent.com&redirect_uri=urn%3Aietf%3Awg%3Aoauth%3A2.0%3Aoob&scope=email%20https%3A%2F%2Fwww.googleapis.com%2Fauth%2Fdocs.test%20https%3A%2F%2Fwww.googleapis.com%2Fauth%2Fdrive%20https%3A%2F%2Fwww.googleapis.com%2Fauth%2Fdrive.photos.readonly%20https%3A%2F%2Fwww.googleapis.com%2Fauth%2Fpeopleapi.readonly&response_type=code\n",
            "\n",
            "Enter your authorization code:\n",
            "··········\n",
            "Mounted at /content/drive\n"
          ],
          "name": "stdout"
        }
      ]
    },
    {
      "cell_type": "code",
      "metadata": {
        "id": "2yhan95Lesn7",
        "colab_type": "code",
        "colab": {
          "base_uri": "https://localhost:8080/",
          "height": 34
        },
        "outputId": "3914c095-e49a-4be7-e8d2-a7bafb167f6f"
      },
      "source": [
        "#Files\n",
        "#train_matrix\n",
        "train_matrix_path = '/content/drive/My Drive/Colab Notebooks/datasets/newsgroups/trainMatrixModified.txt'\n",
        "train_matrix = pd.read_csv(train_matrix_path, sep=\"\\t\", header=None )\n",
        "train_matrix.shape\n",
        "#train_matrix.head()"
      ],
      "execution_count": 21,
      "outputs": [
        {
          "output_type": "execute_result",
          "data": {
            "text/plain": [
              "(5500, 800)"
            ]
          },
          "metadata": {
            "tags": []
          },
          "execution_count": 21
        }
      ]
    },
    {
      "cell_type": "code",
      "metadata": {
        "id": "opmGJcMs9KEd",
        "colab_type": "code",
        "colab": {
          "base_uri": "https://localhost:8080/",
          "height": 34
        },
        "outputId": "2afa63e2-c4d6-400d-c48d-07acf2b35f5e"
      },
      "source": [
        "#train_classes\n",
        "train_classes_path = '/content/drive/My Drive/Colab Notebooks/datasets/newsgroups/trainClasses.txt'\n",
        "train_classes = pd.read_csv(train_classes_path, sep=\"\\t\", header=None )\n",
        "train_classes.shape\n",
        "#train_classes.head()"
      ],
      "execution_count": 22,
      "outputs": [
        {
          "output_type": "execute_result",
          "data": {
            "text/plain": [
              "(800, 2)"
            ]
          },
          "metadata": {
            "tags": []
          },
          "execution_count": 22
        }
      ]
    },
    {
      "cell_type": "code",
      "metadata": {
        "id": "ddB19OST9kDl",
        "colab_type": "code",
        "colab": {
          "base_uri": "https://localhost:8080/",
          "height": 34
        },
        "outputId": "f65af345-1c79-407c-f157-3788adebd21b"
      },
      "source": [
        "#test_matrix\n",
        "test_matrix_path = '/content/drive/My Drive/Colab Notebooks/datasets/newsgroups/testMatrixModified.txt'\n",
        "test_matrix = pd.read_csv(test_matrix_path, sep=\"\\t\", header=None )\n",
        "test_matrix.shape\n",
        "#test_matrix.head()\n"
      ],
      "execution_count": 23,
      "outputs": [
        {
          "output_type": "execute_result",
          "data": {
            "text/plain": [
              "(5500, 200)"
            ]
          },
          "metadata": {
            "tags": []
          },
          "execution_count": 23
        }
      ]
    },
    {
      "cell_type": "code",
      "metadata": {
        "id": "JcWlQqLn9mC6",
        "colab_type": "code",
        "colab": {
          "base_uri": "https://localhost:8080/",
          "height": 34
        },
        "outputId": "3126c8f0-fa55-4acd-be5a-14abac44b270"
      },
      "source": [
        "#test_classes\n",
        "test_classes_path = '/content/drive/My Drive/Colab Notebooks/datasets/newsgroups/testClasses.txt'\n",
        "test_classes = pd.read_csv(test_classes_path, sep=\"\\t\", header=None )\n",
        "test_classes.shape\n",
        "#test_classes.head(15)"
      ],
      "execution_count": 24,
      "outputs": [
        {
          "output_type": "execute_result",
          "data": {
            "text/plain": [
              "(200, 2)"
            ]
          },
          "metadata": {
            "tags": []
          },
          "execution_count": 24
        }
      ]
    },
    {
      "cell_type": "code",
      "metadata": {
        "id": "9bxv6_VDEw2z",
        "colab_type": "code",
        "colab": {
          "base_uri": "https://localhost:8080/",
          "height": 34
        },
        "outputId": "cc0e4065-d28f-403c-d153-b3d184eb144c"
      },
      "source": [
        "#test_matrix\n",
        "mod_terms_path = '/content/drive/My Drive/Colab Notebooks/datasets/newsgroups/modifiedterms.txt'\n",
        "mod_terms = pd.read_csv(mod_terms_path, sep=\"\\t\", header=None )\n",
        "modt2 = mod_terms.loc[:,0]\n",
        "mod_terms.head()\n",
        "mod_terms.shape\n"
      ],
      "execution_count": 25,
      "outputs": [
        {
          "output_type": "execute_result",
          "data": {
            "text/plain": [
              "(5500, 1)"
            ]
          },
          "metadata": {
            "tags": []
          },
          "execution_count": 25
        }
      ]
    },
    {
      "cell_type": "code",
      "metadata": {
        "id": "VJkFBGy5Q1tW",
        "colab_type": "code",
        "colab": {}
      },
      "source": [
        "#transpositions\n",
        "train_matrix_t = np.array(train_matrix.T)\n",
        "test_matrix_t = np.array(test_matrix.T)\n",
        "#Classes in arrays\n",
        "train_classes = np.array(train_classes)\n",
        "test_classes = np.array(test_classes)"
      ],
      "execution_count": 0,
      "outputs": []
    },
    {
      "cell_type": "code",
      "metadata": {
        "id": "AkrYd6_ZnGFk",
        "colab_type": "code",
        "colab": {}
      },
      "source": [
        "def knn_clf(training_matrix, training_labels, instance_to_be_classified, k, distance_measure):\n",
        "  ''' This function takes in a training matrix, training labels/classes, a new data point to be classified, \n",
        "  the number of nearest neighbors, and the distance measure \"euclidean\" or \"cosine_similarity\". The function\n",
        "  returns the predicted class of the point and its top k nearest neighbors.'''\n",
        "\n",
        "  #distance calculation\n",
        "  if distance_measure == \"Euclidean\":\n",
        "    distances = np.sqrt(((training_matrix - instance_to_be_classified)**2).sum(axis=1))\n",
        "  elif distance_measure ==\"Cosine_Similarity\":\n",
        "    matrix_norm = np.array([np.linalg.norm(training_matrix[i]) for i in range(len(training_matrix))])\n",
        "    instance_norm = np.linalg.norm(instance_to_be_classified)\n",
        "    sim = np.dot(training_matrix,instance_to_be_classified)/(matrix_norm * instance_norm)\n",
        "    distances = 1 - sim\n",
        "  else:\n",
        "    print(\"Error - Please enter Euclidean or Cosine_Similarity\")\n",
        "\n",
        "  index = np.argsort(distances)\n",
        "  values = []\n",
        "  for i in index:\n",
        "    for j in training_labels:\n",
        "      if any(i==j):\n",
        "        values.append(j[1])\n",
        "\n",
        "  #Classes 0 and 1\n",
        "  zero_count = 0\n",
        "  one_count = 0\n",
        "\n",
        "  #class logic: add up classes to pick most common amongst neighbors\n",
        "  for value in values[:k]:\n",
        "    if value == 0:\n",
        "      zero_count +=1\n",
        "    elif value == 1:\n",
        "      one_count +=1\n",
        "\n",
        "  #getclass\n",
        "  predicted_class = ''\n",
        "  if zero_count > one_count:\n",
        "    predicted_class = 0\n",
        "  elif zero_count < one_count:\n",
        "    predicted_class = 1\n",
        "  else:\n",
        "    print('choose an odd k - there was a tie. or something else broke')\n",
        "\n",
        "  top_k_neighbors = index[:k]\n",
        "  #top_k_distances = sorted(distances)[:k] for distances check\n",
        "\n",
        "  return predicted_class, top_k_neighbors\n"
      ],
      "execution_count": 0,
      "outputs": []
    },
    {
      "cell_type": "code",
      "metadata": {
        "id": "LvFiIHH5RtQ-",
        "colab_type": "code",
        "colab": {}
      },
      "source": [
        "#trial run\n",
        "sample = train_matrix_t[[120]]\n",
        "mat_wosample = np.delete(train_matrix_t,(120),axis=0)"
      ],
      "execution_count": 0,
      "outputs": []
    },
    {
      "cell_type": "code",
      "metadata": {
        "id": "lgiraeC5RvMi",
        "colab_type": "code",
        "colab": {}
      },
      "source": [
        "#trial run\n",
        "pred_class, top_ks = knn_clf(mat_wosample, train_classes, sample, 5, \"Euclidean\")"
      ],
      "execution_count": 0,
      "outputs": []
    },
    {
      "cell_type": "code",
      "metadata": {
        "id": "ISvSOgk4ciI7",
        "colab_type": "code",
        "colab": {
          "base_uri": "https://localhost:8080/",
          "height": 51
        },
        "outputId": "a6609bfb-b06a-469c-eefa-11ceeb02ae9d"
      },
      "source": [
        "#trial run results\n",
        "print(\"Predicted Class: {}\".format(pred_class))\n",
        "print(\"Top K-Neighbors Index: {}\".format(top_ks))"
      ],
      "execution_count": 62,
      "outputs": [
        {
          "output_type": "stream",
          "text": [
            "Predicted Class: 1\n",
            "Top K-Neighbors Index: [512 550 797 756 223]\n"
          ],
          "name": "stdout"
        }
      ]
    },
    {
      "cell_type": "markdown",
      "metadata": {
        "id": "p9nBSI6WnGU0",
        "colab_type": "text"
      },
      "source": [
        "### b.\n",
        "Create a function to compute the classification accuracy over the test data set (ratio of correct predictions to the number of test instances). This function will call the classifier function in part a on all the test instances and in each case compares the actual test class label to the predicted class label."
      ]
    },
    {
      "cell_type": "code",
      "metadata": {
        "id": "mlE8rhO6nGdR",
        "colab_type": "code",
        "colab": {}
      },
      "source": [
        "def knn_accuracy(data_matrix, class_labels, k, distance_measure):\n",
        "  ''' Computes classification accuracy over a test data set. Calls the knn_clf function from part a. A super slow - not optimized knn. But works.'''\n",
        "\n",
        "  predicted_dict = {}\n",
        "  actual_dict = {}\n",
        "  predicted_list = []\n",
        "  count = -1\n",
        "\n",
        "  for instance_to_be_classified in data_matrix:\n",
        "    count += 1\n",
        "    pred_class, top_ks = knn_clf(data_matrix, class_labels, instance_to_be_classified, k, distance_measure)\n",
        "    predicted_dict[count] = pred_class\n",
        "  \n",
        "  for l in class_labels:\n",
        "    actual_dict[l[0]] = l[1]\n",
        "  \n",
        "  #pull out predicted and actuals\n",
        "  for keyi, valuei in predicted_dict.items():\n",
        "    for keyj, valuej in actual_dict.items():\n",
        "      if keyi == keyj:\n",
        "        predicted_list.append([valuei,valuej])\n",
        "  \n",
        "  tally_correct = 0\n",
        "  total_tested = 0\n",
        "\n",
        "  for keyi, valuei in predicted_list:\n",
        "    if keyi == valuei:\n",
        "      tally_correct += 1\n",
        "    total_tested += 1\n",
        "  \n",
        "  accuracy = tally_correct/total_tested\n",
        "\n",
        "  return accuracy"
      ],
      "execution_count": 0,
      "outputs": []
    },
    {
      "cell_type": "code",
      "metadata": {
        "id": "McSF_KH1h4TG",
        "colab_type": "code",
        "colab": {
          "base_uri": "https://localhost:8080/",
          "height": 34
        },
        "outputId": "40b32565-04a5-492b-b835-4545cfd8dfc4"
      },
      "source": [
        "#trial run - pretty slow but it runs\n",
        "knn_accuracy(test_matrix_t, test_classes, 5, \"Euclidean\")"
      ],
      "execution_count": 55,
      "outputs": [
        {
          "output_type": "execute_result",
          "data": {
            "text/plain": [
              "0.83"
            ]
          },
          "metadata": {
            "tags": []
          },
          "execution_count": 55
        }
      ]
    },
    {
      "cell_type": "markdown",
      "metadata": {
        "id": "3Jr6eGxInGkw",
        "colab_type": "text"
      },
      "source": [
        "### c.\n",
        "Run your accuracy function on a range of values for K in order to compare accuracy values for different numbers of neighbors. Do this both using Euclidean Distance as well as Cosine similarity measure. [For example, you can try evaluating your classifiers on a range of values of K from 1 through 20 and present the results as a table or a graph]."
      ]
    },
    {
      "cell_type": "code",
      "metadata": {
        "id": "Sw8TjKSJnOVa",
        "colab_type": "code",
        "colab": {
          "base_uri": "https://localhost:8080/",
          "height": 34
        },
        "outputId": "d53520c7-46b2-44a5-8ad2-81a554cfce17"
      },
      "source": [
        "# Euclidean:\n",
        "euclidean_accuracies = []\n",
        "for knum in range(1,20):\n",
        "  if knum %2 !=0:\n",
        "    euclidean_accuracies.append(knn_accuracy(test_matrix_t,test_classes,knum, \"Euclidean\"))\n",
        "\n",
        "euclidean_accuracies"
      ],
      "execution_count": 59,
      "outputs": [
        {
          "output_type": "execute_result",
          "data": {
            "text/plain": [
              "[0.995, 0.77, 0.83, 0.92, 0.89, 0.9, 0.93, 0.9, 0.88, 0.875]"
            ]
          },
          "metadata": {
            "tags": []
          },
          "execution_count": 59
        }
      ]
    },
    {
      "cell_type": "code",
      "metadata": {
        "id": "BP_44J3mmgOI",
        "colab_type": "code",
        "colab": {
          "base_uri": "https://localhost:8080/",
          "height": 34
        },
        "outputId": "94f91c5e-8021-4aab-8a17-4282864e8cb3"
      },
      "source": [
        "# Cosine Similarity:\n",
        "cosinesim_accuracies = []\n",
        "for knum in range(1,20):\n",
        "  if knum %2 !=0:\n",
        "    cosinesim_accuracies.append(knn_accuracy(test_matrix_t,test_classes,knum, \"Cosine_Similarity\"))\n",
        "\n",
        "cosinesim_accuracies"
      ],
      "execution_count": 63,
      "outputs": [
        {
          "output_type": "execute_result",
          "data": {
            "text/plain": [
              "[0.995, 0.99, 0.98, 0.955, 0.935, 0.91, 0.9, 0.855, 0.84, 0.81]"
            ]
          },
          "metadata": {
            "tags": []
          },
          "execution_count": 63
        }
      ]
    },
    {
      "cell_type": "code",
      "metadata": {
        "id": "SP8_xaQupPIW",
        "colab_type": "code",
        "colab": {
          "base_uri": "https://localhost:8080/",
          "height": 359
        },
        "outputId": "0070f253-ddf4-4feb-803f-ffa35bc6207c"
      },
      "source": [
        "#Get into a dataframe\n",
        "ks = [1,3,5,7,9,11,13,15,17,19]\n",
        "euclidean_col = [0.995, 0.77, 0.83, 0.92, 0.89, 0.9, 0.93, 0.9, 0.88, 0.875]\n",
        "cosinesim_col = [0.995, 0.99, 0.98, 0.955, 0.935, 0.91, 0.9, 0.855, 0.84, 0.81]\n",
        "\n",
        "ks_data = list(zip(ks, euclidean_col, cosinesim_col))\n",
        "\n",
        "ks_summary_columns = ['k','euclidean','cosinesim']\n",
        "ks_summary_df = pd.DataFrame(ks_data, columns = ks_summary_columns)\n",
        "ks_summary_df"
      ],
      "execution_count": 68,
      "outputs": [
        {
          "output_type": "execute_result",
          "data": {
            "text/html": [
              "<div>\n",
              "<style scoped>\n",
              "    .dataframe tbody tr th:only-of-type {\n",
              "        vertical-align: middle;\n",
              "    }\n",
              "\n",
              "    .dataframe tbody tr th {\n",
              "        vertical-align: top;\n",
              "    }\n",
              "\n",
              "    .dataframe thead th {\n",
              "        text-align: right;\n",
              "    }\n",
              "</style>\n",
              "<table border=\"1\" class=\"dataframe\">\n",
              "  <thead>\n",
              "    <tr style=\"text-align: right;\">\n",
              "      <th></th>\n",
              "      <th>k</th>\n",
              "      <th>euclidean</th>\n",
              "      <th>cosinesim</th>\n",
              "    </tr>\n",
              "  </thead>\n",
              "  <tbody>\n",
              "    <tr>\n",
              "      <th>0</th>\n",
              "      <td>1</td>\n",
              "      <td>0.995</td>\n",
              "      <td>0.995</td>\n",
              "    </tr>\n",
              "    <tr>\n",
              "      <th>1</th>\n",
              "      <td>3</td>\n",
              "      <td>0.770</td>\n",
              "      <td>0.990</td>\n",
              "    </tr>\n",
              "    <tr>\n",
              "      <th>2</th>\n",
              "      <td>5</td>\n",
              "      <td>0.830</td>\n",
              "      <td>0.980</td>\n",
              "    </tr>\n",
              "    <tr>\n",
              "      <th>3</th>\n",
              "      <td>7</td>\n",
              "      <td>0.920</td>\n",
              "      <td>0.955</td>\n",
              "    </tr>\n",
              "    <tr>\n",
              "      <th>4</th>\n",
              "      <td>9</td>\n",
              "      <td>0.890</td>\n",
              "      <td>0.935</td>\n",
              "    </tr>\n",
              "    <tr>\n",
              "      <th>5</th>\n",
              "      <td>11</td>\n",
              "      <td>0.900</td>\n",
              "      <td>0.910</td>\n",
              "    </tr>\n",
              "    <tr>\n",
              "      <th>6</th>\n",
              "      <td>13</td>\n",
              "      <td>0.930</td>\n",
              "      <td>0.900</td>\n",
              "    </tr>\n",
              "    <tr>\n",
              "      <th>7</th>\n",
              "      <td>15</td>\n",
              "      <td>0.900</td>\n",
              "      <td>0.855</td>\n",
              "    </tr>\n",
              "    <tr>\n",
              "      <th>8</th>\n",
              "      <td>17</td>\n",
              "      <td>0.880</td>\n",
              "      <td>0.840</td>\n",
              "    </tr>\n",
              "    <tr>\n",
              "      <th>9</th>\n",
              "      <td>19</td>\n",
              "      <td>0.875</td>\n",
              "      <td>0.810</td>\n",
              "    </tr>\n",
              "  </tbody>\n",
              "</table>\n",
              "</div>"
            ],
            "text/plain": [
              "    k  euclidean  cosinesim\n",
              "0   1      0.995      0.995\n",
              "1   3      0.770      0.990\n",
              "2   5      0.830      0.980\n",
              "3   7      0.920      0.955\n",
              "4   9      0.890      0.935\n",
              "5  11      0.900      0.910\n",
              "6  13      0.930      0.900\n",
              "7  15      0.900      0.855\n",
              "8  17      0.880      0.840\n",
              "9  19      0.875      0.810"
            ]
          },
          "metadata": {
            "tags": []
          },
          "execution_count": 68
        }
      ]
    },
    {
      "cell_type": "code",
      "metadata": {
        "id": "oavvehbNq4Nb",
        "colab_type": "code",
        "colab": {
          "base_uri": "https://localhost:8080/",
          "height": 295
        },
        "outputId": "79d68764-9e89-40fe-b422-b46fb35aaea8"
      },
      "source": [
        "#summarize findings plot\n",
        "ks_summary_df.plot(x=\"k\", y=[\"euclidean\", \"cosinesim\"])\n",
        "plt.title(\"euclidean v. cosinesim\")\n",
        "plt.ylabel('accuracy')\n",
        "plt.show()"
      ],
      "execution_count": 77,
      "outputs": [
        {
          "output_type": "display_data",
          "data": {
            "image/png": "[encoded data removed]",
            "text/plain": [
              "<Figure size 432x288 with 1 Axes>"
            ]
          },
          "metadata": {
            "tags": []
          }
        }
      ]
    },
    {
      "cell_type": "markdown",
      "metadata": {
        "id": "kqfmZs4BnGsH",
        "colab_type": "text"
      },
      "source": [
        "### d. \n",
        "Using Python, modify the training and test data sets so that term weights are converted to TFxIDF weights (instead of raw term frequencies). [See class notes on text categorization]. Then, rerun your evaluation on the range of K values (as above) and compare the results to the results without using TFxIDF weights.\n"
      ]
    },
    {
      "cell_type": "code",
      "metadata": {
        "id": "3ALMkFVpmqY0",
        "colab_type": "code",
        "colab": {
          "base_uri": "https://localhost:8080/",
          "height": 51
        },
        "outputId": "51d292cb-fbdd-4411-a90a-558e502cdb1b"
      },
      "source": [
        "# first let's find the doc count for each term\n",
        "DF_train = np.array([(train_matrix!=0).sum(1)]).T\n",
        "DF_test = np.array([(test_matrix!=0).sum(1)]).T\n",
        "NDocs_train = 800\n",
        "NDocs_test = 200\n",
        "\n",
        "NMatrix_train = np.ones(np.shape(train_matrix), dtype=float)*NDocs_train\n",
        "NMatrix_test = np.ones(np.shape(test_matrix), dtype=float)*NDocs_test\n",
        "np.set_printoptions(precision=2,suppress=True,linewidth=120)\n",
        "\n",
        "\n",
        "IDF_train  = np.log2(np.divide(NMatrix_train, DF_train))\n",
        "IDF_test  = np.log2(np.divide(NMatrix_test, DF_test))\n",
        "\n",
        "tfidf_train = train_matrix * IDF_train\n",
        "tfidf_test = test_matrix * IDF_test"
      ],
      "execution_count": 80,
      "outputs": [
        {
          "output_type": "stream",
          "text": [
            "/usr/local/lib/python3.6/dist-packages/ipykernel_launcher.py:12: RuntimeWarning: divide by zero encountered in true_divide\n",
            "  if sys.path[0] == '':\n"
          ],
          "name": "stderr"
        }
      ]
    },
    {
      "cell_type": "code",
      "metadata": {
        "id": "97XqGxP21rGt",
        "colab_type": "code",
        "colab": {}
      },
      "source": [
        "# Each term in x must be multiplied by the corresponding idf value\n",
        "#test_tfidf =  test_matrix * IDF_test[0]\n",
        "#print (test_tfidf)\n",
        "# Testclasses ????\n",
        "#testclasses_tfidf = test_classes * IDF_test\n",
        "#testclasses_tfidf"
      ],
      "execution_count": 0,
      "outputs": []
    },
    {
      "cell_type": "code",
      "metadata": {
        "id": "yPUudEb32ikg",
        "colab_type": "code",
        "colab": {}
      },
      "source": [
        "# The KNN Search function expects a doc x term matrix as an np array\n",
        "tfidf_test_t = np.array(tfidf_test.T)"
      ],
      "execution_count": 0,
      "outputs": []
    },
    {
      "cell_type": "code",
      "metadata": {
        "id": "yxXJ8hsx9jTZ",
        "colab_type": "code",
        "colab": {}
      },
      "source": [
        "#Method 2 bc method 1 from notes doesn't seem to be working correctly.\n",
        "def grab_termfreqs(df, r):\n",
        "    for c in range(0, df.shape[1]):\n",
        "      termfreqs = df[r,c]\n",
        "      return termfreqs ## for each row\n",
        "\n",
        "def grab_idf(df, c):\n",
        "    listidf = []\n",
        "    b = 0\n",
        "    for rv in range(0, df.shape[0]):\n",
        "        z = df[rv, c]\n",
        "        listidf.append(z)\n",
        "    for i in listidf:\n",
        "        if i != 0:\n",
        "            b += 1\n",
        "    if b == 0:\n",
        "        b = 1 \n",
        "    return b \n",
        "\n",
        "def grab_tfidf(df):\n",
        "    tfidf_list = []\n",
        "    nums = df.shape[0]\n",
        "    for c in range(0, df.shape[1]):\n",
        "      b = grab_idf(df, c)\n",
        "      for r in range(0, df.shape[0]):\n",
        "          temp = grab_termfreqs(df, r)\n",
        "          tfidf = temp * np.log(nums/b)\n",
        "          tfidf_list.append(tfidf)\n",
        "    matrix_fixed = np.array(tfidf_list)\n",
        "    useable_matrix = matrix_fixed.reshape(df.shape[0], df.shape[1])\n",
        "    return useable_matrix\n",
        "\n",
        "test_tfidf_fixed = grab_tfidf(test_matrix_t)"
      ],
      "execution_count": 0,
      "outputs": []
    },
    {
      "cell_type": "code",
      "metadata": {
        "id": "3PHizbsi4gCY",
        "colab_type": "code",
        "colab": {
          "base_uri": "https://localhost:8080/",
          "height": 34
        },
        "outputId": "4172112e-f027-4ea0-f373-52ee89da22ee"
      },
      "source": [
        "# Euclidean - TFxIDF:\n",
        "euclidean_accuracies_tfidf = []\n",
        "for knum in range(1,20):\n",
        "  if knum %2 !=0:\n",
        "    euclidean_accuracies_tfidf.append(knn_accuracy(test_tfidf_fixed,test_classes,knum, \"Euclidean\"))\n",
        "\n",
        "euclidean_accuracies_tfidf"
      ],
      "execution_count": 121,
      "outputs": [
        {
          "output_type": "execute_result",
          "data": {
            "text/plain": [
              "[0.995, 0.78, 0.695, 0.635, 0.615, 0.58, 0.555, 0.535, 0.57, 0.565]"
            ]
          },
          "metadata": {
            "tags": []
          },
          "execution_count": 121
        }
      ]
    },
    {
      "cell_type": "code",
      "metadata": {
        "id": "IG-fwLf96tTW",
        "colab_type": "code",
        "colab": {
          "base_uri": "https://localhost:8080/",
          "height": 34
        },
        "outputId": "feeb479d-392d-4bf8-e18b-a3f430a6f574"
      },
      "source": [
        "# Cosine Similarity TFxIDF:\n",
        "cosinesim_accuracies_tfidf = []\n",
        "for knum in range(1,20):\n",
        "  if knum %2 !=0:\n",
        "    cosinesim_accuracies_tfidf.append(knn_accuracy(test_tfidf_fixed,test_classes,knum, \"Cosine_Similarity\"))\n",
        "\n",
        "cosinesim_accuracies_tfidf"
      ],
      "execution_count": 122,
      "outputs": [
        {
          "output_type": "execute_result",
          "data": {
            "text/plain": [
              "[0.995, 0.795, 0.75, 0.67, 0.66, 0.62, 0.62, 0.625, 0.595, 0.585]"
            ]
          },
          "metadata": {
            "tags": []
          },
          "execution_count": 122
        }
      ]
    },
    {
      "cell_type": "code",
      "metadata": {
        "id": "mQDOmfzq9apn",
        "colab_type": "code",
        "colab": {
          "base_uri": "https://localhost:8080/",
          "height": 359
        },
        "outputId": "1305873e-713f-4437-d2dd-9cee7852f320"
      },
      "source": [
        "#Get into a dataframe\n",
        "ks_tfidf = [1,3,5,7,9,11,13,15,17,19]\n",
        "euclidean_col_tfidf = [0.995, 0.78, 0.695, 0.635, 0.615, 0.58, 0.555, 0.535, 0.57, 0.565]\n",
        "cosinesim_col_tfidf = [0.995, 0.795, 0.75, 0.67, 0.66, 0.62, 0.62, 0.625, 0.595, 0.585]\n",
        "\n",
        "ks_data_tfidf = list(zip(ks_tfidf, euclidean_col_tfidf, cosinesim_col_tfidf))\n",
        "\n",
        "ks_summary_columns_tfidf = ['k','euclidean_tfidf','cosinesim_tfidf']\n",
        "ks_summary_df_tfidf = pd.DataFrame(ks_data_tfidf, columns = ks_summary_columns_tfidf)\n",
        "ks_summary_df_tfidf"
      ],
      "execution_count": 123,
      "outputs": [
        {
          "output_type": "execute_result",
          "data": {
            "text/html": [
              "<div>\n",
              "<style scoped>\n",
              "    .dataframe tbody tr th:only-of-type {\n",
              "        vertical-align: middle;\n",
              "    }\n",
              "\n",
              "    .dataframe tbody tr th {\n",
              "        vertical-align: top;\n",
              "    }\n",
              "\n",
              "    .dataframe thead th {\n",
              "        text-align: right;\n",
              "    }\n",
              "</style>\n",
              "<table border=\"1\" class=\"dataframe\">\n",
              "  <thead>\n",
              "    <tr style=\"text-align: right;\">\n",
              "      <th></th>\n",
              "      <th>k</th>\n",
              "      <th>euclidean_tfidf</th>\n",
              "      <th>cosinesim_tfidf</th>\n",
              "    </tr>\n",
              "  </thead>\n",
              "  <tbody>\n",
              "    <tr>\n",
              "      <th>0</th>\n",
              "      <td>1</td>\n",
              "      <td>0.995</td>\n",
              "      <td>0.995</td>\n",
              "    </tr>\n",
              "    <tr>\n",
              "      <th>1</th>\n",
              "      <td>3</td>\n",
              "      <td>0.780</td>\n",
              "      <td>0.795</td>\n",
              "    </tr>\n",
              "    <tr>\n",
              "      <th>2</th>\n",
              "      <td>5</td>\n",
              "      <td>0.695</td>\n",
              "      <td>0.750</td>\n",
              "    </tr>\n",
              "    <tr>\n",
              "      <th>3</th>\n",
              "      <td>7</td>\n",
              "      <td>0.635</td>\n",
              "      <td>0.670</td>\n",
              "    </tr>\n",
              "    <tr>\n",
              "      <th>4</th>\n",
              "      <td>9</td>\n",
              "      <td>0.615</td>\n",
              "      <td>0.660</td>\n",
              "    </tr>\n",
              "    <tr>\n",
              "      <th>5</th>\n",
              "      <td>11</td>\n",
              "      <td>0.580</td>\n",
              "      <td>0.620</td>\n",
              "    </tr>\n",
              "    <tr>\n",
              "      <th>6</th>\n",
              "      <td>13</td>\n",
              "      <td>0.555</td>\n",
              "      <td>0.620</td>\n",
              "    </tr>\n",
              "    <tr>\n",
              "      <th>7</th>\n",
              "      <td>15</td>\n",
              "      <td>0.535</td>\n",
              "      <td>0.625</td>\n",
              "    </tr>\n",
              "    <tr>\n",
              "      <th>8</th>\n",
              "      <td>17</td>\n",
              "      <td>0.570</td>\n",
              "      <td>0.595</td>\n",
              "    </tr>\n",
              "    <tr>\n",
              "      <th>9</th>\n",
              "      <td>19</td>\n",
              "      <td>0.565</td>\n",
              "      <td>0.585</td>\n",
              "    </tr>\n",
              "  </tbody>\n",
              "</table>\n",
              "</div>"
            ],
            "text/plain": [
              "    k  euclidean_tfidf  cosinesim_tfidf\n",
              "0   1            0.995            0.995\n",
              "1   3            0.780            0.795\n",
              "2   5            0.695            0.750\n",
              "3   7            0.635            0.670\n",
              "4   9            0.615            0.660\n",
              "5  11            0.580            0.620\n",
              "6  13            0.555            0.620\n",
              "7  15            0.535            0.625\n",
              "8  17            0.570            0.595\n",
              "9  19            0.565            0.585"
            ]
          },
          "metadata": {
            "tags": []
          },
          "execution_count": 123
        }
      ]
    },
    {
      "cell_type": "code",
      "metadata": {
        "id": "VVJDoBNU9dYl",
        "colab_type": "code",
        "colab": {
          "base_uri": "https://localhost:8080/",
          "height": 295
        },
        "outputId": "ce46ac0e-637e-4efa-de8d-0096e15c0595"
      },
      "source": [
        "#summarize findings plot\n",
        "ks_summary_df_tfidf.plot(x=\"k\", y=[\"euclidean_tfidf\", \"cosinesim_tfidf\"])\n",
        "plt.title(\"euclidean_tfidf v. cosinesim_tfidf\")\n",
        "plt.ylabel('accuracy')\n",
        "plt.show()"
      ],
      "execution_count": 124,
      "outputs": [
        {
          "output_type": "display_data",
          "data": {
            "image/png": "[encoded data removed]",
            "text/plain": [
              "<Figure size 432x288 with 1 Axes>"
            ]
          },
          "metadata": {
            "tags": []
          }
        }
      ]
    },
    {
      "cell_type": "markdown",
      "metadata": {
        "id": "6UcM9x0cCV5Z",
        "colab_type": "text"
      },
      "source": [
        "*   Not really sure how to interpret this difference. Seems strange that the accuracy drops so much with increasing k. I think I may have erred in my matrix calculation with the tfidfs. I tried two methods, the first produced a flatline for both measures around 0.5 accuracy so I assumed I'd made a mistake. From scratch method 2 also seems to have poor performance. \n",
        "*   Based on these results I would not use the TFxIDF but I presume there is a bug in my code I have been unable to locate. \n",
        "\n"
      ]
    },
    {
      "cell_type": "markdown",
      "metadata": {
        "id": "cMmsnMS-nTJ3",
        "colab_type": "text"
      },
      "source": [
        "### e.\n",
        "Create a new classifier based on the Rocchio Method adapted for text categorization [See class notes on text categorization]. You should separate the training function from the classification function. The training part for the classifier can be implemented as a function that takes as input the training data matrix and the training labels, returning the prototype vectors for each class. The classification part can be implemented as another function that would take as input the prototypes returned from the training function and the instance to be classified. This function should measure Cosine similarity of the test instance to each prototype vector. Your output should indicate the predicted class for the test instance and the similarity values of the instance to each of the category prototypes. Finally, compute the classification accuracy using the test instances and compare your results to the best KNN approach you tried earlier."
      ]
    },
    {
      "cell_type": "code",
      "metadata": {
        "id": "A65djlCnnTuM",
        "colab_type": "code",
        "colab": {
          "base_uri": "https://localhost:8080/",
          "height": 34
        },
        "outputId": "62af396b-fcd1-44ef-e42d-3d0c22d1be0f"
      },
      "source": [
        "#From class notes\n",
        "#d = tfidf_test_t\n",
        "#m=-2\n",
        "#for i in range(1,n):\n",
        " # s=cosSim(d,p)\n",
        " #if s>m:\n",
        "  #m=s\n",
        "  #r=c\n",
        "#return class_r\n",
        "#X : Training vector {array-like, sparse matrix}, shape (n_samples, n_features).\n",
        "#y : Target vector relative to X array-like, shape (n_samples,).\n",
        "X = test_matrix_t\n",
        "y = test_classes[:,0]\n",
        "\n",
        "from sklearn.neighbors.nearest_centroid import NearestCentroid\n",
        "clf_nc=NearestCentroid()\n",
        "clf_nc.fit(X,y)\n",
        "#test_matrix_t.shape\n",
        "#y.shape\n",
        "print (clf_nc.score(X, y)*100, \"%\")"
      ],
      "execution_count": 149,
      "outputs": [
        {
          "output_type": "stream",
          "text": [
            "100.0 %\n"
          ],
          "name": "stdout"
        }
      ]
    },
    {
      "cell_type": "markdown",
      "metadata": {
        "id": "fMqE0WHyDH8K",
        "colab_type": "text"
      },
      "source": [
        "*   Not sure what went wrong here to end up with 100 percent...\n",
        "*   Assuming it's actually 100%, which I doubt because I probably have an error - then it is the best method. Compared to the best from before of Euclidean, this is an improvement of at least 10%accuracy.\n"
      ]
    },
    {
      "cell_type": "markdown",
      "metadata": {
        "id": "Adke_E6Flo_T",
        "colab_type": "text"
      },
      "source": [
        "## Problem 2\n",
        "## Classification using scikit-learn \n",
        " [Dataset: bank_data.csv]\n",
        "\n",
        " For this problem you will experiment with various classifiers provided as part of the scikit-learn (sklearn) machine learning module, as well as with some of its preprocessing and model evaluation capabilities.  [Note: This module is already part of the Anaconda distributions. However, if you are using standalone Python distributions, you will need to first obtain and install it]. You will work with a modified subset of a real data set of customers for a bank. This is the same data set used in Assignment 1. The data is provided in a CSV formatted file with the first row containing the attribute names. The description of the the different fields in the data are provided in the data section.\n",
        "\n",
        "Your tasks in this problem are the following:"
      ]
    },
    {
      "cell_type": "markdown",
      "metadata": {
        "id": "xCQmcji_lpiV",
        "colab_type": "text"
      },
      "source": [
        "### a. \n",
        "Load and preprocess the data using Numpy or Pandas and the preprocessing functions from scikit-learn. Specifically, you need to separate the target attribute (\"pep\") from the portion of the data to be used for training and testing. You will need to convert the selected dataset into the Standard Spreadsheet format (scikit-learn functions generally assume that all attributes are in numeric form). Finally, you need to split the transformed data into training and test sets (using 80%-20% randomized split). [Review Ipython Notebook examples from Week 4 for different ways to perform these tasks.]"
      ]
    },
    {
      "cell_type": "code",
      "metadata": {
        "id": "rV4oRjYlmrGm",
        "colab_type": "code",
        "colab": {}
      },
      "source": [
        "#Imports\n",
        "import numpy as np\n",
        "import pandas as pd\n",
        "from sklearn.model_selection import train_test_split\n",
        "from sklearn import neighbors, tree, naive_bayes\n",
        "from sklearn import preprocessing\n",
        "import matplotlib.pyplot as plt\n",
        "from sklearn.metrics import classification_report\n",
        "from sklearn.metrics import confusion_matrix"
      ],
      "execution_count": 0,
      "outputs": []
    },
    {
      "cell_type": "code",
      "metadata": {
        "id": "SwOcoXdEDeYa",
        "colab_type": "code",
        "colab": {
          "base_uri": "https://localhost:8080/",
          "height": 122
        },
        "outputId": "f7ed699c-c319-4322-bf7b-f73b97e890ca"
      },
      "source": [
        "#Mounts the Google Drive so I can pull the bank_data.csv file from my drive. Like setting working directory.\n",
        "from google.colab import drive\n",
        "drive.mount('/content/drive')"
      ],
      "execution_count": 3,
      "outputs": [
        {
          "output_type": "stream",
          "text": [
            "Go to this URL in a browser: https://accounts.google.com/o/oauth2/auth?client_id=947318989803-6bn6qk8qdgf4n4g3pfee6491hc0brc4i.apps.googleusercontent.com&redirect_uri=urn%3Aietf%3Awg%3Aoauth%3A2.0%3Aoob&scope=email%20https%3A%2F%2Fwww.googleapis.com%2Fauth%2Fdocs.test%20https%3A%2F%2Fwww.googleapis.com%2Fauth%2Fdrive%20https%3A%2F%2Fwww.googleapis.com%2Fauth%2Fdrive.photos.readonly%20https%3A%2F%2Fwww.googleapis.com%2Fauth%2Fpeopleapi.readonly&response_type=code\n",
            "\n",
            "Enter your authorization code:\n",
            "··········\n",
            "Mounted at /content/drive\n"
          ],
          "name": "stdout"
        }
      ]
    },
    {
      "cell_type": "code",
      "metadata": {
        "id": "_g27U_XSDgWF",
        "colab_type": "code",
        "colab": {}
      },
      "source": [
        "#File_path\n",
        "file_path = '/content/drive/My Drive/Colab Notebooks/datasets/bank_data.csv'"
      ],
      "execution_count": 0,
      "outputs": []
    },
    {
      "cell_type": "code",
      "metadata": {
        "id": "L0cq2zB8D8vq",
        "colab_type": "code",
        "colab": {
          "base_uri": "https://localhost:8080/",
          "height": 204
        },
        "outputId": "68ef291f-b058-448b-f7a2-4293e6f07cb6"
      },
      "source": [
        "#Load in the Dataset\n",
        "bank_data = pd.read_csv(file_path)\n",
        "bank_data.head()"
      ],
      "execution_count": 152,
      "outputs": [
        {
          "output_type": "execute_result",
          "data": {
            "text/html": [
              "<div>\n",
              "<style scoped>\n",
              "    .dataframe tbody tr th:only-of-type {\n",
              "        vertical-align: middle;\n",
              "    }\n",
              "\n",
              "    .dataframe tbody tr th {\n",
              "        vertical-align: top;\n",
              "    }\n",
              "\n",
              "    .dataframe thead th {\n",
              "        text-align: right;\n",
              "    }\n",
              "</style>\n",
              "<table border=\"1\" class=\"dataframe\">\n",
              "  <thead>\n",
              "    <tr style=\"text-align: right;\">\n",
              "      <th></th>\n",
              "      <th>id</th>\n",
              "      <th>age</th>\n",
              "      <th>income</th>\n",
              "      <th>children</th>\n",
              "      <th>gender</th>\n",
              "      <th>region</th>\n",
              "      <th>married</th>\n",
              "      <th>car</th>\n",
              "      <th>savings_acct</th>\n",
              "      <th>current_acct</th>\n",
              "      <th>mortgage</th>\n",
              "      <th>pep</th>\n",
              "    </tr>\n",
              "  </thead>\n",
              "  <tbody>\n",
              "    <tr>\n",
              "      <th>0</th>\n",
              "      <td>ID12101</td>\n",
              "      <td>48</td>\n",
              "      <td>17546.0</td>\n",
              "      <td>1</td>\n",
              "      <td>FEMALE</td>\n",
              "      <td>INNER_CITY</td>\n",
              "      <td>NO</td>\n",
              "      <td>NO</td>\n",
              "      <td>NO</td>\n",
              "      <td>NO</td>\n",
              "      <td>NO</td>\n",
              "      <td>YES</td>\n",
              "    </tr>\n",
              "    <tr>\n",
              "      <th>1</th>\n",
              "      <td>ID12102</td>\n",
              "      <td>40</td>\n",
              "      <td>30085.1</td>\n",
              "      <td>3</td>\n",
              "      <td>MALE</td>\n",
              "      <td>TOWN</td>\n",
              "      <td>YES</td>\n",
              "      <td>YES</td>\n",
              "      <td>NO</td>\n",
              "      <td>YES</td>\n",
              "      <td>YES</td>\n",
              "      <td>NO</td>\n",
              "    </tr>\n",
              "    <tr>\n",
              "      <th>2</th>\n",
              "      <td>ID12103</td>\n",
              "      <td>51</td>\n",
              "      <td>16575.4</td>\n",
              "      <td>0</td>\n",
              "      <td>FEMALE</td>\n",
              "      <td>INNER_CITY</td>\n",
              "      <td>YES</td>\n",
              "      <td>YES</td>\n",
              "      <td>YES</td>\n",
              "      <td>YES</td>\n",
              "      <td>NO</td>\n",
              "      <td>NO</td>\n",
              "    </tr>\n",
              "    <tr>\n",
              "      <th>3</th>\n",
              "      <td>ID12104</td>\n",
              "      <td>23</td>\n",
              "      <td>20375.4</td>\n",
              "      <td>3</td>\n",
              "      <td>FEMALE</td>\n",
              "      <td>TOWN</td>\n",
              "      <td>YES</td>\n",
              "      <td>NO</td>\n",
              "      <td>NO</td>\n",
              "      <td>YES</td>\n",
              "      <td>NO</td>\n",
              "      <td>NO</td>\n",
              "    </tr>\n",
              "    <tr>\n",
              "      <th>4</th>\n",
              "      <td>ID12105</td>\n",
              "      <td>57</td>\n",
              "      <td>50576.3</td>\n",
              "      <td>0</td>\n",
              "      <td>FEMALE</td>\n",
              "      <td>RURAL</td>\n",
              "      <td>YES</td>\n",
              "      <td>NO</td>\n",
              "      <td>YES</td>\n",
              "      <td>NO</td>\n",
              "      <td>NO</td>\n",
              "      <td>NO</td>\n",
              "    </tr>\n",
              "  </tbody>\n",
              "</table>\n",
              "</div>"
            ],
            "text/plain": [
              "        id  age   income  children  ... savings_acct current_acct mortgage  pep\n",
              "0  ID12101   48  17546.0         1  ...           NO           NO       NO  YES\n",
              "1  ID12102   40  30085.1         3  ...           NO          YES      YES   NO\n",
              "2  ID12103   51  16575.4         0  ...          YES          YES       NO   NO\n",
              "3  ID12104   23  20375.4         3  ...           NO          YES       NO   NO\n",
              "4  ID12105   57  50576.3         0  ...          YES           NO       NO   NO\n",
              "\n",
              "[5 rows x 12 columns]"
            ]
          },
          "metadata": {
            "tags": []
          },
          "execution_count": 152
        }
      ]
    },
    {
      "cell_type": "code",
      "metadata": {
        "id": "6GKkW07DEREa",
        "colab_type": "code",
        "colab": {
          "base_uri": "https://localhost:8080/",
          "height": 80
        },
        "outputId": "a831394d-d052-4d2e-cf1c-57aa1d89c9aa"
      },
      "source": [
        "#We don't need that ID column for anything\n",
        "bank_data.drop('id', axis=1, inplace=True)\n",
        "bank_data.head(1)"
      ],
      "execution_count": 153,
      "outputs": [
        {
          "output_type": "execute_result",
          "data": {
            "text/html": [
              "<div>\n",
              "<style scoped>\n",
              "    .dataframe tbody tr th:only-of-type {\n",
              "        vertical-align: middle;\n",
              "    }\n",
              "\n",
              "    .dataframe tbody tr th {\n",
              "        vertical-align: top;\n",
              "    }\n",
              "\n",
              "    .dataframe thead th {\n",
              "        text-align: right;\n",
              "    }\n",
              "</style>\n",
              "<table border=\"1\" class=\"dataframe\">\n",
              "  <thead>\n",
              "    <tr style=\"text-align: right;\">\n",
              "      <th></th>\n",
              "      <th>age</th>\n",
              "      <th>income</th>\n",
              "      <th>children</th>\n",
              "      <th>gender</th>\n",
              "      <th>region</th>\n",
              "      <th>married</th>\n",
              "      <th>car</th>\n",
              "      <th>savings_acct</th>\n",
              "      <th>current_acct</th>\n",
              "      <th>mortgage</th>\n",
              "      <th>pep</th>\n",
              "    </tr>\n",
              "  </thead>\n",
              "  <tbody>\n",
              "    <tr>\n",
              "      <th>0</th>\n",
              "      <td>48</td>\n",
              "      <td>17546.0</td>\n",
              "      <td>1</td>\n",
              "      <td>FEMALE</td>\n",
              "      <td>INNER_CITY</td>\n",
              "      <td>NO</td>\n",
              "      <td>NO</td>\n",
              "      <td>NO</td>\n",
              "      <td>NO</td>\n",
              "      <td>NO</td>\n",
              "      <td>YES</td>\n",
              "    </tr>\n",
              "  </tbody>\n",
              "</table>\n",
              "</div>"
            ],
            "text/plain": [
              "   age   income  children  gender  ... savings_acct current_acct mortgage  pep\n",
              "0   48  17546.0         1  FEMALE  ...           NO           NO       NO  YES\n",
              "\n",
              "[1 rows x 11 columns]"
            ]
          },
          "metadata": {
            "tags": []
          },
          "execution_count": 153
        }
      ]
    },
    {
      "cell_type": "code",
      "metadata": {
        "id": "RFBHNHS5MAWc",
        "colab_type": "code",
        "colab": {
          "base_uri": "https://localhost:8080/",
          "height": 119
        },
        "outputId": "d6a229e4-f556-42d7-b5f7-c281f4771266"
      },
      "source": [
        "#PEP Target Set\n",
        "pep_target = bank_data.pep\n",
        "pep_target.head()"
      ],
      "execution_count": 154,
      "outputs": [
        {
          "output_type": "execute_result",
          "data": {
            "text/plain": [
              "0    YES\n",
              "1     NO\n",
              "2     NO\n",
              "3     NO\n",
              "4     NO\n",
              "Name: pep, dtype: object"
            ]
          },
          "metadata": {
            "tags": []
          },
          "execution_count": 154
        }
      ]
    },
    {
      "cell_type": "code",
      "metadata": {
        "id": "47WEvQ-UM9Dx",
        "colab_type": "code",
        "colab": {
          "base_uri": "https://localhost:8080/",
          "height": 204
        },
        "outputId": "b2b12c61-c9ad-4c73-f6f6-47d377ec110b"
      },
      "source": [
        "#Attribute Set\n",
        "bank_attributes = bank_data[['age','income','children','gender','region','married','car','savings_acct','current_acct','mortgage']]\n",
        "bank_attributes.head()"
      ],
      "execution_count": 158,
      "outputs": [
        {
          "output_type": "execute_result",
          "data": {
            "text/html": [
              "<div>\n",
              "<style scoped>\n",
              "    .dataframe tbody tr th:only-of-type {\n",
              "        vertical-align: middle;\n",
              "    }\n",
              "\n",
              "    .dataframe tbody tr th {\n",
              "        vertical-align: top;\n",
              "    }\n",
              "\n",
              "    .dataframe thead th {\n",
              "        text-align: right;\n",
              "    }\n",
              "</style>\n",
              "<table border=\"1\" class=\"dataframe\">\n",
              "  <thead>\n",
              "    <tr style=\"text-align: right;\">\n",
              "      <th></th>\n",
              "      <th>age</th>\n",
              "      <th>income</th>\n",
              "      <th>children</th>\n",
              "      <th>gender</th>\n",
              "      <th>region</th>\n",
              "      <th>married</th>\n",
              "      <th>car</th>\n",
              "      <th>savings_acct</th>\n",
              "      <th>current_acct</th>\n",
              "      <th>mortgage</th>\n",
              "    </tr>\n",
              "  </thead>\n",
              "  <tbody>\n",
              "    <tr>\n",
              "      <th>0</th>\n",
              "      <td>48</td>\n",
              "      <td>17546.0</td>\n",
              "      <td>1</td>\n",
              "      <td>FEMALE</td>\n",
              "      <td>INNER_CITY</td>\n",
              "      <td>NO</td>\n",
              "      <td>NO</td>\n",
              "      <td>NO</td>\n",
              "      <td>NO</td>\n",
              "      <td>NO</td>\n",
              "    </tr>\n",
              "    <tr>\n",
              "      <th>1</th>\n",
              "      <td>40</td>\n",
              "      <td>30085.1</td>\n",
              "      <td>3</td>\n",
              "      <td>MALE</td>\n",
              "      <td>TOWN</td>\n",
              "      <td>YES</td>\n",
              "      <td>YES</td>\n",
              "      <td>NO</td>\n",
              "      <td>YES</td>\n",
              "      <td>YES</td>\n",
              "    </tr>\n",
              "    <tr>\n",
              "      <th>2</th>\n",
              "      <td>51</td>\n",
              "      <td>16575.4</td>\n",
              "      <td>0</td>\n",
              "      <td>FEMALE</td>\n",
              "      <td>INNER_CITY</td>\n",
              "      <td>YES</td>\n",
              "      <td>YES</td>\n",
              "      <td>YES</td>\n",
              "      <td>YES</td>\n",
              "      <td>NO</td>\n",
              "    </tr>\n",
              "    <tr>\n",
              "      <th>3</th>\n",
              "      <td>23</td>\n",
              "      <td>20375.4</td>\n",
              "      <td>3</td>\n",
              "      <td>FEMALE</td>\n",
              "      <td>TOWN</td>\n",
              "      <td>YES</td>\n",
              "      <td>NO</td>\n",
              "      <td>NO</td>\n",
              "      <td>YES</td>\n",
              "      <td>NO</td>\n",
              "    </tr>\n",
              "    <tr>\n",
              "      <th>4</th>\n",
              "      <td>57</td>\n",
              "      <td>50576.3</td>\n",
              "      <td>0</td>\n",
              "      <td>FEMALE</td>\n",
              "      <td>RURAL</td>\n",
              "      <td>YES</td>\n",
              "      <td>NO</td>\n",
              "      <td>YES</td>\n",
              "      <td>NO</td>\n",
              "      <td>NO</td>\n",
              "    </tr>\n",
              "  </tbody>\n",
              "</table>\n",
              "</div>"
            ],
            "text/plain": [
              "   age   income  children  gender  ...  car savings_acct current_acct mortgage\n",
              "0   48  17546.0         1  FEMALE  ...   NO           NO           NO       NO\n",
              "1   40  30085.1         3    MALE  ...  YES           NO          YES      YES\n",
              "2   51  16575.4         0  FEMALE  ...  YES          YES          YES       NO\n",
              "3   23  20375.4         3  FEMALE  ...   NO           NO          YES       NO\n",
              "4   57  50576.3         0  FEMALE  ...   NO          YES           NO       NO\n",
              "\n",
              "[5 rows x 10 columns]"
            ]
          },
          "metadata": {
            "tags": []
          },
          "execution_count": 158
        }
      ]
    },
    {
      "cell_type": "code",
      "metadata": {
        "id": "zFnfVFH2NmBr",
        "colab_type": "code",
        "colab": {
          "base_uri": "https://localhost:8080/",
          "height": 224
        },
        "outputId": "2847888d-3381-4aa4-a1cb-5bc0809a84ab"
      },
      "source": [
        "bank_dummy = pd.get_dummies(bank_attributes)\n",
        "bank_dummy.head()"
      ],
      "execution_count": 159,
      "outputs": [
        {
          "output_type": "execute_result",
          "data": {
            "text/html": [
              "<div>\n",
              "<style scoped>\n",
              "    .dataframe tbody tr th:only-of-type {\n",
              "        vertical-align: middle;\n",
              "    }\n",
              "\n",
              "    .dataframe tbody tr th {\n",
              "        vertical-align: top;\n",
              "    }\n",
              "\n",
              "    .dataframe thead th {\n",
              "        text-align: right;\n",
              "    }\n",
              "</style>\n",
              "<table border=\"1\" class=\"dataframe\">\n",
              "  <thead>\n",
              "    <tr style=\"text-align: right;\">\n",
              "      <th></th>\n",
              "      <th>age</th>\n",
              "      <th>income</th>\n",
              "      <th>children</th>\n",
              "      <th>gender_FEMALE</th>\n",
              "      <th>gender_MALE</th>\n",
              "      <th>region_INNER_CITY</th>\n",
              "      <th>region_RURAL</th>\n",
              "      <th>region_SUBURBAN</th>\n",
              "      <th>region_TOWN</th>\n",
              "      <th>married_NO</th>\n",
              "      <th>married_YES</th>\n",
              "      <th>car_NO</th>\n",
              "      <th>car_YES</th>\n",
              "      <th>savings_acct_NO</th>\n",
              "      <th>savings_acct_YES</th>\n",
              "      <th>current_acct_NO</th>\n",
              "      <th>current_acct_YES</th>\n",
              "      <th>mortgage_NO</th>\n",
              "      <th>mortgage_YES</th>\n",
              "    </tr>\n",
              "  </thead>\n",
              "  <tbody>\n",
              "    <tr>\n",
              "      <th>0</th>\n",
              "      <td>48</td>\n",
              "      <td>17546.0</td>\n",
              "      <td>1</td>\n",
              "      <td>1</td>\n",
              "      <td>0</td>\n",
              "      <td>1</td>\n",
              "      <td>0</td>\n",
              "      <td>0</td>\n",
              "      <td>0</td>\n",
              "      <td>1</td>\n",
              "      <td>0</td>\n",
              "      <td>1</td>\n",
              "      <td>0</td>\n",
              "      <td>1</td>\n",
              "      <td>0</td>\n",
              "      <td>1</td>\n",
              "      <td>0</td>\n",
              "      <td>1</td>\n",
              "      <td>0</td>\n",
              "    </tr>\n",
              "    <tr>\n",
              "      <th>1</th>\n",
              "      <td>40</td>\n",
              "      <td>30085.1</td>\n",
              "      <td>3</td>\n",
              "      <td>0</td>\n",
              "      <td>1</td>\n",
              "      <td>0</td>\n",
              "      <td>0</td>\n",
              "      <td>0</td>\n",
              "      <td>1</td>\n",
              "      <td>0</td>\n",
              "      <td>1</td>\n",
              "      <td>0</td>\n",
              "      <td>1</td>\n",
              "      <td>1</td>\n",
              "      <td>0</td>\n",
              "      <td>0</td>\n",
              "      <td>1</td>\n",
              "      <td>0</td>\n",
              "      <td>1</td>\n",
              "    </tr>\n",
              "    <tr>\n",
              "      <th>2</th>\n",
              "      <td>51</td>\n",
              "      <td>16575.4</td>\n",
              "      <td>0</td>\n",
              "      <td>1</td>\n",
              "      <td>0</td>\n",
              "      <td>1</td>\n",
              "      <td>0</td>\n",
              "      <td>0</td>\n",
              "      <td>0</td>\n",
              "      <td>0</td>\n",
              "      <td>1</td>\n",
              "      <td>0</td>\n",
              "      <td>1</td>\n",
              "      <td>0</td>\n",
              "      <td>1</td>\n",
              "      <td>0</td>\n",
              "      <td>1</td>\n",
              "      <td>1</td>\n",
              "      <td>0</td>\n",
              "    </tr>\n",
              "    <tr>\n",
              "      <th>3</th>\n",
              "      <td>23</td>\n",
              "      <td>20375.4</td>\n",
              "      <td>3</td>\n",
              "      <td>1</td>\n",
              "      <td>0</td>\n",
              "      <td>0</td>\n",
              "      <td>0</td>\n",
              "      <td>0</td>\n",
              "      <td>1</td>\n",
              "      <td>0</td>\n",
              "      <td>1</td>\n",
              "      <td>1</td>\n",
              "      <td>0</td>\n",
              "      <td>1</td>\n",
              "      <td>0</td>\n",
              "      <td>0</td>\n",
              "      <td>1</td>\n",
              "      <td>1</td>\n",
              "      <td>0</td>\n",
              "    </tr>\n",
              "    <tr>\n",
              "      <th>4</th>\n",
              "      <td>57</td>\n",
              "      <td>50576.3</td>\n",
              "      <td>0</td>\n",
              "      <td>1</td>\n",
              "      <td>0</td>\n",
              "      <td>0</td>\n",
              "      <td>1</td>\n",
              "      <td>0</td>\n",
              "      <td>0</td>\n",
              "      <td>0</td>\n",
              "      <td>1</td>\n",
              "      <td>1</td>\n",
              "      <td>0</td>\n",
              "      <td>0</td>\n",
              "      <td>1</td>\n",
              "      <td>1</td>\n",
              "      <td>0</td>\n",
              "      <td>1</td>\n",
              "      <td>0</td>\n",
              "    </tr>\n",
              "  </tbody>\n",
              "</table>\n",
              "</div>"
            ],
            "text/plain": [
              "   age   income  children  ...  current_acct_YES  mortgage_NO  mortgage_YES\n",
              "0   48  17546.0         1  ...                 0            1             0\n",
              "1   40  30085.1         3  ...                 1            0             1\n",
              "2   51  16575.4         0  ...                 1            1             0\n",
              "3   23  20375.4         3  ...                 1            1             0\n",
              "4   57  50576.3         0  ...                 0            1             0\n",
              "\n",
              "[5 rows x 19 columns]"
            ]
          },
          "metadata": {
            "tags": []
          },
          "execution_count": 159
        }
      ]
    },
    {
      "cell_type": "code",
      "metadata": {
        "id": "2HVI__MoOQ75",
        "colab_type": "code",
        "colab": {}
      },
      "source": [
        "#Split the data into train/test sets\n",
        "bank_train, bank_test, pep_target_train, pep_target_test = train_test_split(bank_dummy, pep_target, test_size=0.2, random_state=7)\n"
      ],
      "execution_count": 0,
      "outputs": []
    },
    {
      "cell_type": "code",
      "metadata": {
        "id": "RRW8JBaCO2gG",
        "colab_type": "code",
        "colab": {
          "base_uri": "https://localhost:8080/",
          "height": 241
        },
        "outputId": "158478d9-ba11-45e3-9348-e77735d6c63d"
      },
      "source": [
        "#Inspect bank Test set\n",
        "print (bank_test.shape)\n",
        "bank_test[0:5]"
      ],
      "execution_count": 161,
      "outputs": [
        {
          "output_type": "stream",
          "text": [
            "(120, 19)\n"
          ],
          "name": "stdout"
        },
        {
          "output_type": "execute_result",
          "data": {
            "text/html": [
              "<div>\n",
              "<style scoped>\n",
              "    .dataframe tbody tr th:only-of-type {\n",
              "        vertical-align: middle;\n",
              "    }\n",
              "\n",
              "    .dataframe tbody tr th {\n",
              "        vertical-align: top;\n",
              "    }\n",
              "\n",
              "    .dataframe thead th {\n",
              "        text-align: right;\n",
              "    }\n",
              "</style>\n",
              "<table border=\"1\" class=\"dataframe\">\n",
              "  <thead>\n",
              "    <tr style=\"text-align: right;\">\n",
              "      <th></th>\n",
              "      <th>age</th>\n",
              "      <th>income</th>\n",
              "      <th>children</th>\n",
              "      <th>gender_FEMALE</th>\n",
              "      <th>gender_MALE</th>\n",
              "      <th>region_INNER_CITY</th>\n",
              "      <th>region_RURAL</th>\n",
              "      <th>region_SUBURBAN</th>\n",
              "      <th>region_TOWN</th>\n",
              "      <th>married_NO</th>\n",
              "      <th>married_YES</th>\n",
              "      <th>car_NO</th>\n",
              "      <th>car_YES</th>\n",
              "      <th>savings_acct_NO</th>\n",
              "      <th>savings_acct_YES</th>\n",
              "      <th>current_acct_NO</th>\n",
              "      <th>current_acct_YES</th>\n",
              "      <th>mortgage_NO</th>\n",
              "      <th>mortgage_YES</th>\n",
              "    </tr>\n",
              "  </thead>\n",
              "  <tbody>\n",
              "    <tr>\n",
              "      <th>261</th>\n",
              "      <td>40</td>\n",
              "      <td>28882.3</td>\n",
              "      <td>1</td>\n",
              "      <td>1</td>\n",
              "      <td>0</td>\n",
              "      <td>0</td>\n",
              "      <td>0</td>\n",
              "      <td>0</td>\n",
              "      <td>1</td>\n",
              "      <td>0</td>\n",
              "      <td>1</td>\n",
              "      <td>1</td>\n",
              "      <td>0</td>\n",
              "      <td>0</td>\n",
              "      <td>1</td>\n",
              "      <td>0</td>\n",
              "      <td>1</td>\n",
              "      <td>0</td>\n",
              "      <td>1</td>\n",
              "    </tr>\n",
              "    <tr>\n",
              "      <th>132</th>\n",
              "      <td>52</td>\n",
              "      <td>16716.1</td>\n",
              "      <td>2</td>\n",
              "      <td>1</td>\n",
              "      <td>0</td>\n",
              "      <td>0</td>\n",
              "      <td>0</td>\n",
              "      <td>1</td>\n",
              "      <td>0</td>\n",
              "      <td>1</td>\n",
              "      <td>0</td>\n",
              "      <td>0</td>\n",
              "      <td>1</td>\n",
              "      <td>0</td>\n",
              "      <td>1</td>\n",
              "      <td>0</td>\n",
              "      <td>1</td>\n",
              "      <td>1</td>\n",
              "      <td>0</td>\n",
              "    </tr>\n",
              "    <tr>\n",
              "      <th>575</th>\n",
              "      <td>37</td>\n",
              "      <td>30488.0</td>\n",
              "      <td>0</td>\n",
              "      <td>0</td>\n",
              "      <td>1</td>\n",
              "      <td>0</td>\n",
              "      <td>0</td>\n",
              "      <td>0</td>\n",
              "      <td>1</td>\n",
              "      <td>0</td>\n",
              "      <td>1</td>\n",
              "      <td>1</td>\n",
              "      <td>0</td>\n",
              "      <td>0</td>\n",
              "      <td>1</td>\n",
              "      <td>0</td>\n",
              "      <td>1</td>\n",
              "      <td>0</td>\n",
              "      <td>1</td>\n",
              "    </tr>\n",
              "    <tr>\n",
              "      <th>454</th>\n",
              "      <td>24</td>\n",
              "      <td>16352.2</td>\n",
              "      <td>0</td>\n",
              "      <td>0</td>\n",
              "      <td>1</td>\n",
              "      <td>1</td>\n",
              "      <td>0</td>\n",
              "      <td>0</td>\n",
              "      <td>0</td>\n",
              "      <td>1</td>\n",
              "      <td>0</td>\n",
              "      <td>1</td>\n",
              "      <td>0</td>\n",
              "      <td>0</td>\n",
              "      <td>1</td>\n",
              "      <td>0</td>\n",
              "      <td>1</td>\n",
              "      <td>0</td>\n",
              "      <td>1</td>\n",
              "    </tr>\n",
              "    <tr>\n",
              "      <th>337</th>\n",
              "      <td>65</td>\n",
              "      <td>38080.9</td>\n",
              "      <td>1</td>\n",
              "      <td>0</td>\n",
              "      <td>1</td>\n",
              "      <td>1</td>\n",
              "      <td>0</td>\n",
              "      <td>0</td>\n",
              "      <td>0</td>\n",
              "      <td>0</td>\n",
              "      <td>1</td>\n",
              "      <td>0</td>\n",
              "      <td>1</td>\n",
              "      <td>0</td>\n",
              "      <td>1</td>\n",
              "      <td>1</td>\n",
              "      <td>0</td>\n",
              "      <td>0</td>\n",
              "      <td>1</td>\n",
              "    </tr>\n",
              "  </tbody>\n",
              "</table>\n",
              "</div>"
            ],
            "text/plain": [
              "     age   income  children  ...  current_acct_YES  mortgage_NO  mortgage_YES\n",
              "261   40  28882.3         1  ...                 1            0             1\n",
              "132   52  16716.1         2  ...                 1            1             0\n",
              "575   37  30488.0         0  ...                 1            0             1\n",
              "454   24  16352.2         0  ...                 1            0             1\n",
              "337   65  38080.9         1  ...                 0            0             1\n",
              "\n",
              "[5 rows x 19 columns]"
            ]
          },
          "metadata": {
            "tags": []
          },
          "execution_count": 161
        }
      ]
    },
    {
      "cell_type": "code",
      "metadata": {
        "id": "QCKYSnVrOx1L",
        "colab_type": "code",
        "colab": {
          "base_uri": "https://localhost:8080/",
          "height": 241
        },
        "outputId": "3e9a4afb-c1cb-4168-f35a-4c07ccbbc78d"
      },
      "source": [
        "#Inspect bank Train set - can confirm that 480 train to 120 test is 80:20 split.\n",
        "print (bank_train.shape)\n",
        "bank_train[0:5]"
      ],
      "execution_count": 162,
      "outputs": [
        {
          "output_type": "stream",
          "text": [
            "(480, 19)\n"
          ],
          "name": "stdout"
        },
        {
          "output_type": "execute_result",
          "data": {
            "text/html": [
              "<div>\n",
              "<style scoped>\n",
              "    .dataframe tbody tr th:only-of-type {\n",
              "        vertical-align: middle;\n",
              "    }\n",
              "\n",
              "    .dataframe tbody tr th {\n",
              "        vertical-align: top;\n",
              "    }\n",
              "\n",
              "    .dataframe thead th {\n",
              "        text-align: right;\n",
              "    }\n",
              "</style>\n",
              "<table border=\"1\" class=\"dataframe\">\n",
              "  <thead>\n",
              "    <tr style=\"text-align: right;\">\n",
              "      <th></th>\n",
              "      <th>age</th>\n",
              "      <th>income</th>\n",
              "      <th>children</th>\n",
              "      <th>gender_FEMALE</th>\n",
              "      <th>gender_MALE</th>\n",
              "      <th>region_INNER_CITY</th>\n",
              "      <th>region_RURAL</th>\n",
              "      <th>region_SUBURBAN</th>\n",
              "      <th>region_TOWN</th>\n",
              "      <th>married_NO</th>\n",
              "      <th>married_YES</th>\n",
              "      <th>car_NO</th>\n",
              "      <th>car_YES</th>\n",
              "      <th>savings_acct_NO</th>\n",
              "      <th>savings_acct_YES</th>\n",
              "      <th>current_acct_NO</th>\n",
              "      <th>current_acct_YES</th>\n",
              "      <th>mortgage_NO</th>\n",
              "      <th>mortgage_YES</th>\n",
              "    </tr>\n",
              "  </thead>\n",
              "  <tbody>\n",
              "    <tr>\n",
              "      <th>447</th>\n",
              "      <td>35</td>\n",
              "      <td>30799.5</td>\n",
              "      <td>2</td>\n",
              "      <td>1</td>\n",
              "      <td>0</td>\n",
              "      <td>0</td>\n",
              "      <td>0</td>\n",
              "      <td>0</td>\n",
              "      <td>1</td>\n",
              "      <td>0</td>\n",
              "      <td>1</td>\n",
              "      <td>1</td>\n",
              "      <td>0</td>\n",
              "      <td>1</td>\n",
              "      <td>0</td>\n",
              "      <td>0</td>\n",
              "      <td>1</td>\n",
              "      <td>1</td>\n",
              "      <td>0</td>\n",
              "    </tr>\n",
              "    <tr>\n",
              "      <th>32</th>\n",
              "      <td>45</td>\n",
              "      <td>23443.2</td>\n",
              "      <td>1</td>\n",
              "      <td>0</td>\n",
              "      <td>1</td>\n",
              "      <td>0</td>\n",
              "      <td>0</td>\n",
              "      <td>1</td>\n",
              "      <td>0</td>\n",
              "      <td>0</td>\n",
              "      <td>1</td>\n",
              "      <td>0</td>\n",
              "      <td>1</td>\n",
              "      <td>0</td>\n",
              "      <td>1</td>\n",
              "      <td>0</td>\n",
              "      <td>1</td>\n",
              "      <td>1</td>\n",
              "      <td>0</td>\n",
              "    </tr>\n",
              "    <tr>\n",
              "      <th>22</th>\n",
              "      <td>54</td>\n",
              "      <td>38446.6</td>\n",
              "      <td>0</td>\n",
              "      <td>0</td>\n",
              "      <td>1</td>\n",
              "      <td>1</td>\n",
              "      <td>0</td>\n",
              "      <td>0</td>\n",
              "      <td>0</td>\n",
              "      <td>0</td>\n",
              "      <td>1</td>\n",
              "      <td>1</td>\n",
              "      <td>0</td>\n",
              "      <td>0</td>\n",
              "      <td>1</td>\n",
              "      <td>0</td>\n",
              "      <td>1</td>\n",
              "      <td>1</td>\n",
              "      <td>0</td>\n",
              "    </tr>\n",
              "    <tr>\n",
              "      <th>508</th>\n",
              "      <td>60</td>\n",
              "      <td>50409.9</td>\n",
              "      <td>2</td>\n",
              "      <td>0</td>\n",
              "      <td>1</td>\n",
              "      <td>0</td>\n",
              "      <td>0</td>\n",
              "      <td>1</td>\n",
              "      <td>0</td>\n",
              "      <td>1</td>\n",
              "      <td>0</td>\n",
              "      <td>1</td>\n",
              "      <td>0</td>\n",
              "      <td>0</td>\n",
              "      <td>1</td>\n",
              "      <td>0</td>\n",
              "      <td>1</td>\n",
              "      <td>0</td>\n",
              "      <td>1</td>\n",
              "    </tr>\n",
              "    <tr>\n",
              "      <th>427</th>\n",
              "      <td>53</td>\n",
              "      <td>32184.4</td>\n",
              "      <td>2</td>\n",
              "      <td>1</td>\n",
              "      <td>0</td>\n",
              "      <td>1</td>\n",
              "      <td>0</td>\n",
              "      <td>0</td>\n",
              "      <td>0</td>\n",
              "      <td>0</td>\n",
              "      <td>1</td>\n",
              "      <td>0</td>\n",
              "      <td>1</td>\n",
              "      <td>1</td>\n",
              "      <td>0</td>\n",
              "      <td>1</td>\n",
              "      <td>0</td>\n",
              "      <td>1</td>\n",
              "      <td>0</td>\n",
              "    </tr>\n",
              "  </tbody>\n",
              "</table>\n",
              "</div>"
            ],
            "text/plain": [
              "     age   income  children  ...  current_acct_YES  mortgage_NO  mortgage_YES\n",
              "447   35  30799.5         2  ...                 1            1             0\n",
              "32    45  23443.2         1  ...                 1            1             0\n",
              "22    54  38446.6         0  ...                 1            1             0\n",
              "508   60  50409.9         2  ...                 1            0             1\n",
              "427   53  32184.4         2  ...                 0            1             0\n",
              "\n",
              "[5 rows x 19 columns]"
            ]
          },
          "metadata": {
            "tags": []
          },
          "execution_count": 162
        }
      ]
    },
    {
      "cell_type": "markdown",
      "metadata": {
        "colab_type": "text",
        "id": "ojNwCV-FKotB"
      },
      "source": [
        "### b.\n",
        "Run scikit-learn's KNN classifier on the test set. Note: in the case of KNN, you should first normalize the data so that all attributes are in the same scale (normalize so that the values are between 0 and 1). Generate the confusion matrix (visualize it using Matplotlib), as well as the classification report. Also, compute the average accuracy score. Experiment with different values of K and the weight parameter (i.e., with or without distance weighting) for KNN to see if you can improve accuracy (you do not need to provide the details of all of your experimentation, but provide a short discussion on what parameters worked best as well as your final results)."
      ]
    },
    {
      "cell_type": "code",
      "metadata": {
        "id": "VhvPRk-dzGIM",
        "colab_type": "code",
        "colab": {
          "base_uri": "https://localhost:8080/",
          "height": 204
        },
        "outputId": "addb3c37-db73-4fca-a645-cfa38500c851"
      },
      "source": [
        "#Normalize the dummy matrix range (0,1)\n",
        "min_max_scaler = preprocessing.MinMaxScaler().fit(bank_train)\n",
        "bank_train_norm = min_max_scaler.transform(bank_train)\n",
        "bank_test_norm = min_max_scaler.transform(bank_test)\n",
        "\n",
        "print(\"bank_train_norm = \", bank_train_norm[0:5])\n",
        "print(\"\")\n",
        "print( \"bank_test_norm = \", bank_test_norm[0:5])"
      ],
      "execution_count": 163,
      "outputs": [
        {
          "output_type": "stream",
          "text": [
            "bank_train_norm =  [[0.35 0.44 0.67 1.   0.   0.   0.   0.   1.   0.   1.   1.   0.   1.   0.   0.   1.   1.   0.  ]\n",
            " [0.55 0.32 0.33 0.   1.   0.   0.   1.   0.   0.   1.   0.   1.   0.   1.   0.   1.   1.   0.  ]\n",
            " [0.73 0.58 0.   0.   1.   1.   0.   0.   0.   0.   1.   1.   0.   0.   1.   0.   1.   1.   0.  ]\n",
            " [0.86 0.78 0.67 0.   1.   0.   0.   1.   0.   1.   0.   1.   0.   0.   1.   0.   1.   0.   1.  ]\n",
            " [0.71 0.47 0.67 1.   0.   1.   0.   0.   0.   0.   1.   0.   1.   1.   0.   1.   0.   1.   0.  ]]\n",
            "\n",
            "bank_test_norm =  [[0.45 0.41 0.33 1.   0.   0.   0.   0.   1.   0.   1.   1.   0.   0.   1.   0.   1.   0.   1.  ]\n",
            " [0.69 0.2  0.67 1.   0.   0.   0.   1.   0.   1.   0.   0.   1.   0.   1.   0.   1.   1.   0.  ]\n",
            " [0.39 0.44 0.   0.   1.   0.   0.   0.   1.   0.   1.   1.   0.   0.   1.   0.   1.   0.   1.  ]\n",
            " [0.12 0.2  0.   0.   1.   1.   0.   0.   0.   1.   0.   1.   0.   0.   1.   0.   1.   0.   1.  ]\n",
            " [0.96 0.57 0.33 0.   1.   1.   0.   0.   0.   0.   1.   0.   1.   0.   1.   1.   0.   0.   1.  ]]\n"
          ],
          "name": "stdout"
        }
      ]
    },
    {
      "cell_type": "code",
      "metadata": {
        "id": "-Y1lKffRQCkX",
        "colab_type": "code",
        "colab": {
          "base_uri": "https://localhost:8080/",
          "height": 68
        },
        "outputId": "1c5c25d6-7c68-4d48-f601-e0f41932a121"
      },
      "source": [
        "#Run KNN\n",
        "n_neighbors = 5\n",
        "\n",
        "bank_knn_5_w = neighbors.KNeighborsClassifier(n_neighbors, weights='distance')\n",
        "bank_knn_5_w.fit(bank_train_norm, pep_target_train)"
      ],
      "execution_count": 164,
      "outputs": [
        {
          "output_type": "execute_result",
          "data": {
            "text/plain": [
              "KNeighborsClassifier(algorithm='auto', leaf_size=30, metric='minkowski',\n",
              "                     metric_params=None, n_jobs=None, n_neighbors=5, p=2,\n",
              "                     weights='distance')"
            ]
          },
          "metadata": {
            "tags": []
          },
          "execution_count": 164
        }
      ]
    },
    {
      "cell_type": "code",
      "metadata": {
        "id": "Ziq7n__uVQre",
        "colab_type": "code",
        "colab": {
          "base_uri": "https://localhost:8080/",
          "height": 119
        },
        "outputId": "c2524a87-be5b-43ed-a00f-1f8df6fb9b91"
      },
      "source": [
        "#Get predicted classes\n",
        "bank_knn_5_w_preds_test = bank_knn_5_w.predict(bank_test_norm)\n",
        "print(bank_knn_5_w_preds_test)"
      ],
      "execution_count": 165,
      "outputs": [
        {
          "output_type": "stream",
          "text": [
            "['YES' 'YES' 'NO' 'YES' 'YES' 'YES' 'YES' 'YES' 'YES' 'YES' 'NO' 'YES' 'NO' 'NO' 'NO' 'NO' 'NO' 'NO' 'YES' 'YES' 'NO'\n",
            " 'NO' 'YES' 'YES' 'NO' 'YES' 'NO' 'YES' 'YES' 'YES' 'NO' 'NO' 'NO' 'YES' 'YES' 'YES' 'YES' 'NO' 'YES' 'YES' 'NO' 'NO'\n",
            " 'NO' 'NO' 'NO' 'NO' 'YES' 'YES' 'YES' 'YES' 'NO' 'NO' 'YES' 'NO' 'NO' 'YES' 'NO' 'NO' 'YES' 'NO' 'NO' 'YES' 'YES'\n",
            " 'YES' 'NO' 'NO' 'NO' 'YES' 'NO' 'YES' 'YES' 'NO' 'YES' 'NO' 'NO' 'YES' 'NO' 'NO' 'NO' 'NO' 'NO' 'YES' 'NO' 'NO' 'NO'\n",
            " 'YES' 'NO' 'YES' 'NO' 'NO' 'NO' 'NO' 'YES' 'YES' 'YES' 'NO' 'NO' 'NO' 'NO' 'YES' 'NO' 'YES' 'YES' 'NO' 'NO' 'YES' 'NO'\n",
            " 'NO' 'NO' 'NO' 'YES' 'YES' 'NO' 'NO' 'YES' 'YES' 'NO' 'YES' 'NO' 'NO']\n"
          ],
          "name": "stdout"
        }
      ]
    },
    {
      "cell_type": "code",
      "metadata": {
        "id": "CWLRFQ-FL7YP",
        "colab_type": "code",
        "colab": {
          "base_uri": "https://localhost:8080/",
          "height": 291
        },
        "outputId": "c39dac85-fc25-4c49-cbcd-2f9fe53258ed"
      },
      "source": [
        "#Generate the confusion matrix\n",
        "bank_knn_5_w_cm = confusion_matrix(pep_target_test, bank_knn_5_w_preds_test)\n",
        "print (bank_knn_5_w_cm)\n",
        "\n",
        "#Plot it\n",
        "plt.matshow(bank_knn_5_w_cm)\n",
        "plt.title('Confusion matrix')\n",
        "plt.colorbar()\n",
        "plt.ylabel('Actual')\n",
        "plt.xlabel('Predicted')\n",
        "plt.show()"
      ],
      "execution_count": 166,
      "outputs": [
        {
          "output_type": "stream",
          "text": [
            "[[41 28]\n",
            " [25 26]]\n"
          ],
          "name": "stdout"
        },
        {
          "output_type": "display_data",
          "data": {
            "image/png": "[encoded data removed]",
            "text/plain": [
              "<Figure size 288x288 with 2 Axes>"
            ]
          },
          "metadata": {
            "tags": []
          }
        }
      ]
    },
    {
      "cell_type": "code",
      "metadata": {
        "id": "GYeyrsHjMFax",
        "colab_type": "code",
        "colab": {
          "base_uri": "https://localhost:8080/",
          "height": 170
        },
        "outputId": "86108c70-ecbe-40b4-9ad3-75609ddf14de"
      },
      "source": [
        "#Classification Report\n",
        "print(classification_report(pep_target_test, bank_knn_5_w_preds_test))"
      ],
      "execution_count": 167,
      "outputs": [
        {
          "output_type": "stream",
          "text": [
            "              precision    recall  f1-score   support\n",
            "\n",
            "          NO       0.62      0.59      0.61        69\n",
            "         YES       0.48      0.51      0.50        51\n",
            "\n",
            "    accuracy                           0.56       120\n",
            "   macro avg       0.55      0.55      0.55       120\n",
            "weighted avg       0.56      0.56      0.56       120\n",
            "\n"
          ],
          "name": "stdout"
        }
      ]
    },
    {
      "cell_type": "code",
      "metadata": {
        "id": "LgDmqSScMJSR",
        "colab_type": "code",
        "colab": {
          "base_uri": "https://localhost:8080/",
          "height": 34
        },
        "outputId": "cf1f8e7f-6fda-4ee8-f172-c9d6cb988f95"
      },
      "source": [
        "#Average Accuracy Score\n",
        "print (bank_knn_5_w.score(bank_test_norm, pep_target_test)*100, \"%\")"
      ],
      "execution_count": 168,
      "outputs": [
        {
          "output_type": "stream",
          "text": [
            "55.833333333333336 %\n"
          ],
          "name": "stdout"
        }
      ]
    },
    {
      "cell_type": "code",
      "metadata": {
        "id": "6x6o5Gt1MOxw",
        "colab_type": "code",
        "colab": {
          "base_uri": "https://localhost:8080/",
          "height": 323
        },
        "outputId": "65f6bee0-dd56-4d76-e20d-d25438d2bd25"
      },
      "source": [
        "#K's and W/ & W/o Weight Parameter Testing\n",
        "\n",
        "#Run KNN\n",
        "n_neighbors = 7\n",
        "\n",
        "bank_knn = neighbors.KNeighborsClassifier(n_neighbors)\n",
        "bank_knn.fit(bank_train_norm, pep_target_train)\n",
        "\n",
        "#Get predicted classes\n",
        "bank_knn_preds_test = bank_knn.predict(bank_test_norm)\n",
        "print(bank_knn_preds_test)\n",
        "\n",
        "#Generate the confusion matrix\n",
        "bank_knn_cm = confusion_matrix(pep_target_test, bank_knn_preds_test)\n",
        "print (bank_knn_cm)\n",
        "\n",
        "#Classification Report\n",
        "print(classification_report(pep_target_test, bank_knn_preds_test))\n",
        "\n",
        "#Average Accuracy Score\n",
        "print (bank_knn.score(bank_test_norm, pep_target_test)*100, \"%\")"
      ],
      "execution_count": 169,
      "outputs": [
        {
          "output_type": "stream",
          "text": [
            "['YES' 'YES' 'NO' 'NO' 'YES' 'YES' 'YES' 'YES' 'YES' 'NO' 'NO' 'NO' 'YES' 'NO' 'NO' 'NO' 'NO' 'NO' 'YES' 'YES' 'NO'\n",
            " 'NO' 'YES' 'NO' 'NO' 'YES' 'NO' 'NO' 'NO' 'NO' 'YES' 'NO' 'NO' 'YES' 'YES' 'NO' 'YES' 'YES' 'NO' 'YES' 'NO' 'NO' 'NO'\n",
            " 'NO' 'NO' 'YES' 'YES' 'NO' 'YES' 'NO' 'NO' 'NO' 'YES' 'NO' 'NO' 'YES' 'NO' 'YES' 'YES' 'NO' 'YES' 'YES' 'YES' 'NO'\n",
            " 'NO' 'YES' 'NO' 'YES' 'NO' 'YES' 'YES' 'NO' 'YES' 'NO' 'NO' 'NO' 'NO' 'NO' 'NO' 'NO' 'NO' 'NO' 'NO' 'NO' 'NO' 'YES'\n",
            " 'NO' 'YES' 'NO' 'NO' 'NO' 'NO' 'YES' 'NO' 'YES' 'NO' 'NO' 'NO' 'NO' 'YES' 'NO' 'YES' 'YES' 'NO' 'NO' 'NO' 'NO' 'NO'\n",
            " 'NO' 'NO' 'YES' 'YES' 'YES' 'NO' 'NO' 'NO' 'NO' 'NO' 'YES' 'YES']\n",
            "[[53 16]\n",
            " [22 29]]\n",
            "              precision    recall  f1-score   support\n",
            "\n",
            "          NO       0.71      0.77      0.74        69\n",
            "         YES       0.64      0.57      0.60        51\n",
            "\n",
            "    accuracy                           0.68       120\n",
            "   macro avg       0.68      0.67      0.67       120\n",
            "weighted avg       0.68      0.68      0.68       120\n",
            "\n",
            "68.33333333333333 %\n"
          ],
          "name": "stdout"
        }
      ]
    },
    {
      "cell_type": "code",
      "metadata": {
        "id": "qfNh5-EYMY34",
        "colab_type": "code",
        "colab": {
          "base_uri": "https://localhost:8080/",
          "height": 421
        },
        "outputId": "f9d6a4ef-64ed-44fa-f2e1-bfaf8a81e4c0"
      },
      "source": [
        "#Best Model\n",
        "n_neighbors_list = [1,1,3,3,5,5,7,7,9,9,11,11]\n",
        "weights_list = [\"yes\",\"no\",\"yes\",\"no\",\"yes\",\"no\",\"yes\",\"no\",\"yes\",\"no\",\"yes\",\"no\",\"yes\",\"no\"]\n",
        "accuracy_scores_list = [60.8,60.8,56.7,56.7,55.8,55.8,64.2,68.3,65.0,68.3,64.2,68.3]\n",
        "knn_data = list(zip(n_neighbors_list, weights_list, accuracy_scores_list))\n",
        "\n",
        "knn_summary_columns = ['k','weight parameter','accuracy']\n",
        "knn_summary_df = pd.DataFrame(knn_data, columns = knn_summary_columns)\n",
        "knn_summary_df"
      ],
      "execution_count": 170,
      "outputs": [
        {
          "output_type": "execute_result",
          "data": {
            "text/html": [
              "<div>\n",
              "<style scoped>\n",
              "    .dataframe tbody tr th:only-of-type {\n",
              "        vertical-align: middle;\n",
              "    }\n",
              "\n",
              "    .dataframe tbody tr th {\n",
              "        vertical-align: top;\n",
              "    }\n",
              "\n",
              "    .dataframe thead th {\n",
              "        text-align: right;\n",
              "    }\n",
              "</style>\n",
              "<table border=\"1\" class=\"dataframe\">\n",
              "  <thead>\n",
              "    <tr style=\"text-align: right;\">\n",
              "      <th></th>\n",
              "      <th>k</th>\n",
              "      <th>weight parameter</th>\n",
              "      <th>accuracy</th>\n",
              "    </tr>\n",
              "  </thead>\n",
              "  <tbody>\n",
              "    <tr>\n",
              "      <th>0</th>\n",
              "      <td>1</td>\n",
              "      <td>yes</td>\n",
              "      <td>60.8</td>\n",
              "    </tr>\n",
              "    <tr>\n",
              "      <th>1</th>\n",
              "      <td>1</td>\n",
              "      <td>no</td>\n",
              "      <td>60.8</td>\n",
              "    </tr>\n",
              "    <tr>\n",
              "      <th>2</th>\n",
              "      <td>3</td>\n",
              "      <td>yes</td>\n",
              "      <td>56.7</td>\n",
              "    </tr>\n",
              "    <tr>\n",
              "      <th>3</th>\n",
              "      <td>3</td>\n",
              "      <td>no</td>\n",
              "      <td>56.7</td>\n",
              "    </tr>\n",
              "    <tr>\n",
              "      <th>4</th>\n",
              "      <td>5</td>\n",
              "      <td>yes</td>\n",
              "      <td>55.8</td>\n",
              "    </tr>\n",
              "    <tr>\n",
              "      <th>5</th>\n",
              "      <td>5</td>\n",
              "      <td>no</td>\n",
              "      <td>55.8</td>\n",
              "    </tr>\n",
              "    <tr>\n",
              "      <th>6</th>\n",
              "      <td>7</td>\n",
              "      <td>yes</td>\n",
              "      <td>64.2</td>\n",
              "    </tr>\n",
              "    <tr>\n",
              "      <th>7</th>\n",
              "      <td>7</td>\n",
              "      <td>no</td>\n",
              "      <td>68.3</td>\n",
              "    </tr>\n",
              "    <tr>\n",
              "      <th>8</th>\n",
              "      <td>9</td>\n",
              "      <td>yes</td>\n",
              "      <td>65.0</td>\n",
              "    </tr>\n",
              "    <tr>\n",
              "      <th>9</th>\n",
              "      <td>9</td>\n",
              "      <td>no</td>\n",
              "      <td>68.3</td>\n",
              "    </tr>\n",
              "    <tr>\n",
              "      <th>10</th>\n",
              "      <td>11</td>\n",
              "      <td>yes</td>\n",
              "      <td>64.2</td>\n",
              "    </tr>\n",
              "    <tr>\n",
              "      <th>11</th>\n",
              "      <td>11</td>\n",
              "      <td>no</td>\n",
              "      <td>68.3</td>\n",
              "    </tr>\n",
              "  </tbody>\n",
              "</table>\n",
              "</div>"
            ],
            "text/plain": [
              "     k weight parameter  accuracy\n",
              "0    1              yes      60.8\n",
              "1    1               no      60.8\n",
              "2    3              yes      56.7\n",
              "3    3               no      56.7\n",
              "4    5              yes      55.8\n",
              "5    5               no      55.8\n",
              "6    7              yes      64.2\n",
              "7    7               no      68.3\n",
              "8    9              yes      65.0\n",
              "9    9               no      68.3\n",
              "10  11              yes      64.2\n",
              "11  11               no      68.3"
            ]
          },
          "metadata": {
            "tags": []
          },
          "execution_count": 170
        }
      ]
    },
    {
      "cell_type": "code",
      "metadata": {
        "id": "DtYx20ACjySe",
        "colab_type": "code",
        "colab": {
          "base_uri": "https://localhost:8080/",
          "height": 296
        },
        "outputId": "cec2d1c1-0f3a-45fa-aacf-fbb13b8d3e20"
      },
      "source": [
        "#summarize findings plot\n",
        "knnplt_df = knn_summary_df.pivot(index='k', columns='weight parameter', values='accuracy')\n",
        "\n",
        "knnplt_df.plot()"
      ],
      "execution_count": 171,
      "outputs": [
        {
          "output_type": "execute_result",
          "data": {
            "text/plain": [
              "<matplotlib.axes._subplots.AxesSubplot at 0x7efdf32025f8>"
            ]
          },
          "metadata": {
            "tags": []
          },
          "execution_count": 171
        },
        {
          "output_type": "display_data",
          "data": {
            "image/png": "[encoded data removed]",
            "text/plain": [
              "<Figure size 432x288 with 1 Axes>"
            ]
          },
          "metadata": {
            "tags": []
          }
        }
      ]
    },
    {
      "cell_type": "markdown",
      "metadata": {
        "id": "Pza3FiOHMkP3",
        "colab_type": "text"
      },
      "source": [
        "**Discussion**\n",
        "*   KNN with k=7 and no weight parameter achieved the highest accuracy of 68.3%.\n",
        "*   It also yielded the highest precision/recall figures as well. I would pick this k and weight paraemter set. The chart above shows the summary of parameters tested.\n",
        "\n"
      ]
    },
    {
      "cell_type": "markdown",
      "metadata": {
        "id": "UYKwYR8XzGqF",
        "colab_type": "text"
      },
      "source": [
        "### c.\n",
        "Repeat the classification using scikit-learn's decision tree classifier (using the default parameters) and the Naive Bayes (Gaussian) classifier. As above, generate the confusion matrix, classification report, and average accuracy scores for each classifier. For each model, compare the average accuracy scores on the test and the training data sets. What does the comparison tell you in terms of bias-variance trade-off?"
      ]
    },
    {
      "cell_type": "markdown",
      "metadata": {
        "id": "0H1NnkMKmkbX",
        "colab_type": "text"
      },
      "source": [
        "**Decision Tree Classifier**"
      ]
    },
    {
      "cell_type": "code",
      "metadata": {
        "id": "Vpt0webLnHP6",
        "colab_type": "code",
        "colab": {
          "base_uri": "https://localhost:8080/",
          "height": 119
        },
        "outputId": "03582545-ad37-4ed4-aa03-8d93aec14189"
      },
      "source": [
        "#Run Descision Tree\n",
        "treeclf = tree.DecisionTreeClassifier(criterion='entropy', min_samples_split=12)\n",
        "treeclf = treeclf.fit(bank_train, pep_target_train)\n",
        "\n",
        "treepreds_test = treeclf.predict(bank_test)\n",
        "print (treepreds_test)"
      ],
      "execution_count": 172,
      "outputs": [
        {
          "output_type": "stream",
          "text": [
            "['YES' 'NO' 'NO' 'NO' 'YES' 'YES' 'NO' 'YES' 'YES' 'YES' 'YES' 'NO' 'YES' 'NO' 'NO' 'YES' 'NO' 'YES' 'NO' 'YES' 'NO'\n",
            " 'NO' 'YES' 'YES' 'YES' 'YES' 'NO' 'NO' 'NO' 'NO' 'YES' 'NO' 'NO' 'NO' 'YES' 'NO' 'YES' 'YES' 'NO' 'YES' 'NO' 'NO' 'NO'\n",
            " 'NO' 'YES' 'NO' 'YES' 'YES' 'NO' 'NO' 'NO' 'NO' 'YES' 'YES' 'NO' 'NO' 'YES' 'YES' 'YES' 'NO' 'NO' 'YES' 'NO' 'NO' 'NO'\n",
            " 'NO' 'YES' 'NO' 'NO' 'YES' 'YES' 'NO' 'YES' 'NO' 'YES' 'NO' 'NO' 'NO' 'NO' 'YES' 'NO' 'YES' 'NO' 'NO' 'NO' 'YES' 'NO'\n",
            " 'YES' 'NO' 'NO' 'YES' 'NO' 'NO' 'NO' 'NO' 'NO' 'NO' 'NO' 'NO' 'NO' 'NO' 'NO' 'YES' 'YES' 'YES' 'NO' 'NO' 'NO' 'YES'\n",
            " 'NO' 'YES' 'NO' 'NO' 'NO' 'NO' 'YES' 'NO' 'NO' 'YES' 'YES']\n"
          ],
          "name": "stdout"
        }
      ]
    },
    {
      "cell_type": "code",
      "metadata": {
        "id": "_5GbLhAbmiAj",
        "colab_type": "code",
        "colab": {
          "base_uri": "https://localhost:8080/",
          "height": 291
        },
        "outputId": "72746598-a123-447b-b779-efc2422e2905"
      },
      "source": [
        "#Confusion Matrix\n",
        "treecm = confusion_matrix(pep_target_test, treepreds_test)\n",
        "print (treecm)\n",
        "\n",
        "plt.matshow(treecm)\n",
        "plt.title('Confusion matrix')\n",
        "plt.colorbar()\n",
        "plt.ylabel('Actual')\n",
        "plt.xlabel('Predicted')\n",
        "plt.show()"
      ],
      "execution_count": 173,
      "outputs": [
        {
          "output_type": "stream",
          "text": [
            "[[65  4]\n",
            " [ 8 43]]\n"
          ],
          "name": "stdout"
        },
        {
          "output_type": "display_data",
          "data": {
            "image/png": "[encoded data removed]",
            "text/plain": [
              "<Figure size 288x288 with 2 Axes>"
            ]
          },
          "metadata": {
            "tags": []
          }
        }
      ]
    },
    {
      "cell_type": "code",
      "metadata": {
        "id": "sy9VL2jzm1iP",
        "colab_type": "code",
        "colab": {
          "base_uri": "https://localhost:8080/",
          "height": 170
        },
        "outputId": "9d34af23-a7d6-4a54-a37a-a2345b313613"
      },
      "source": [
        "#Classification Report\n",
        "print(classification_report(pep_target_test, treepreds_test))"
      ],
      "execution_count": 174,
      "outputs": [
        {
          "output_type": "stream",
          "text": [
            "              precision    recall  f1-score   support\n",
            "\n",
            "          NO       0.89      0.94      0.92        69\n",
            "         YES       0.91      0.84      0.88        51\n",
            "\n",
            "    accuracy                           0.90       120\n",
            "   macro avg       0.90      0.89      0.90       120\n",
            "weighted avg       0.90      0.90      0.90       120\n",
            "\n"
          ],
          "name": "stdout"
        }
      ]
    },
    {
      "cell_type": "code",
      "metadata": {
        "id": "SCS2afuQm4LM",
        "colab_type": "code",
        "colab": {
          "base_uri": "https://localhost:8080/",
          "height": 51
        },
        "outputId": "6271ba8f-b414-49bd-9ff0-25ab720d8623"
      },
      "source": [
        "#Average Accuracy Scores\n",
        "print (\"train accuracy:  \", treeclf.score(bank_train, pep_target_train)*100)\n",
        "print (\"test accuracy:  \", treeclf.score(bank_test, pep_target_test)*100)"
      ],
      "execution_count": 175,
      "outputs": [
        {
          "output_type": "stream",
          "text": [
            "train accuracy:   92.5\n",
            "test accuracy:   90.0\n"
          ],
          "name": "stdout"
        }
      ]
    },
    {
      "cell_type": "markdown",
      "metadata": {
        "id": "zXydVy4drQN3",
        "colab_type": "text"
      },
      "source": [
        "*   Was overfitting badly with lower min_samples_split. Could be reasonable now as train and test accuracies are much closer.\n",
        "\n"
      ]
    },
    {
      "cell_type": "markdown",
      "metadata": {
        "id": "7sZumZ0iMzBR",
        "colab_type": "text"
      },
      "source": [
        "**Decision Tree Classifier - Train vs. Test Accuracy**\n",
        "*   Train Accuracy: 92.5%\n",
        "*   Test Accuracy: 90.0%\n",
        "*   This is a pretty solid accuracy, a larger dataset is needed to determine whether or not overfitting is taking place now, but it doesn't appear to be the case.\n",
        "\n"
      ]
    },
    {
      "cell_type": "markdown",
      "metadata": {
        "id": "kiwSC0ERNP4Z",
        "colab_type": "text"
      },
      "source": [
        "**Naive Bayes (Gaussian) Classifier**"
      ]
    },
    {
      "cell_type": "code",
      "metadata": {
        "id": "wtW_-KOOnETw",
        "colab_type": "code",
        "colab": {
          "base_uri": "https://localhost:8080/",
          "height": 119
        },
        "outputId": "9094f331-6463-4dfe-e7d2-76eafb90285c"
      },
      "source": [
        "#Run Naive Bayes\n",
        "nbclf = naive_bayes.GaussianNB()\n",
        "nbclf = nbclf.fit(bank_train, pep_target_train)\n",
        "nbpreds_test = nbclf.predict(bank_test)\n",
        "print (nbpreds_test)"
      ],
      "execution_count": 176,
      "outputs": [
        {
          "output_type": "stream",
          "text": [
            "['NO' 'YES' 'NO' 'NO' 'YES' 'YES' 'YES' 'NO' 'YES' 'NO' 'NO' 'NO' 'YES' 'NO' 'YES' 'NO' 'NO' 'NO' 'NO' 'YES' 'NO' 'NO'\n",
            " 'YES' 'NO' 'NO' 'YES' 'YES' 'NO' 'NO' 'NO' 'YES' 'NO' 'NO' 'YES' 'YES' 'NO' 'YES' 'YES' 'NO' 'NO' 'NO' 'NO' 'NO' 'NO'\n",
            " 'NO' 'NO' 'NO' 'YES' 'YES' 'NO' 'NO' 'NO' 'NO' 'NO' 'NO' 'YES' 'NO' 'NO' 'NO' 'YES' 'NO' 'YES' 'NO' 'YES' 'NO' 'NO'\n",
            " 'NO' 'YES' 'NO' 'YES' 'NO' 'NO' 'YES' 'YES' 'NO' 'NO' 'NO' 'NO' 'YES' 'YES' 'YES' 'YES' 'NO' 'NO' 'NO' 'YES' 'NO' 'NO'\n",
            " 'YES' 'NO' 'YES' 'NO' 'NO' 'NO' 'YES' 'NO' 'NO' 'NO' 'NO' 'YES' 'YES' 'YES' 'YES' 'NO' 'NO' 'NO' 'NO' 'NO' 'YES' 'NO'\n",
            " 'YES' 'YES' 'NO' 'NO' 'NO' 'YES' 'NO' 'YES' 'YES' 'YES']\n"
          ],
          "name": "stdout"
        }
      ]
    },
    {
      "cell_type": "code",
      "metadata": {
        "id": "85DRDhHfmo3o",
        "colab_type": "code",
        "colab": {
          "base_uri": "https://localhost:8080/",
          "height": 297
        },
        "outputId": "06496e1d-1b87-4ffd-98bf-ad132cadcd25"
      },
      "source": [
        "#Confusion Matrix\n",
        "nbcm = confusion_matrix(pep_target_test, nbpreds_test)\n",
        "print (nbcm)\n",
        "\n",
        "plt.matshow(nbcm)\n",
        "plt.title('Confusion matrix')\n",
        "plt.colorbar()\n",
        "plt.ylabel('Actual')\n",
        "plt.xlabel('Predicted')\n",
        "plt.show()"
      ],
      "execution_count": 177,
      "outputs": [
        {
          "output_type": "stream",
          "text": [
            "[[49 20]\n",
            " [26 25]]\n"
          ],
          "name": "stdout"
        },
        {
          "output_type": "display_data",
          "data": {
            "image/png": "[encoded data removed]",
            "text/plain": [
              "<Figure size 288x288 with 2 Axes>"
            ]
          },
          "metadata": {
            "tags": []
          }
        }
      ]
    },
    {
      "cell_type": "code",
      "metadata": {
        "id": "XGN0KPO-m_H7",
        "colab_type": "code",
        "colab": {
          "base_uri": "https://localhost:8080/",
          "height": 170
        },
        "outputId": "358c13b7-35bb-4259-ec1d-bfbfb57ba679"
      },
      "source": [
        "#Classfication Report\n",
        "print(classification_report(pep_target_test, nbpreds_test))"
      ],
      "execution_count": 178,
      "outputs": [
        {
          "output_type": "stream",
          "text": [
            "              precision    recall  f1-score   support\n",
            "\n",
            "          NO       0.65      0.71      0.68        69\n",
            "         YES       0.56      0.49      0.52        51\n",
            "\n",
            "    accuracy                           0.62       120\n",
            "   macro avg       0.60      0.60      0.60       120\n",
            "weighted avg       0.61      0.62      0.61       120\n",
            "\n"
          ],
          "name": "stdout"
        }
      ]
    },
    {
      "cell_type": "code",
      "metadata": {
        "id": "5xcwngIpnBE4",
        "colab_type": "code",
        "colab": {
          "base_uri": "https://localhost:8080/",
          "height": 51
        },
        "outputId": "5e2ed4a1-4452-40eb-833c-54485597b24b"
      },
      "source": [
        "#Average Accuracy Scores\n",
        "print (\"train accuracy:  \",nbclf.score(bank_train, pep_target_train)*100)\n",
        "print (\"test accuracy:  \",nbclf.score(bank_test, pep_target_test)*100)"
      ],
      "execution_count": 179,
      "outputs": [
        {
          "output_type": "stream",
          "text": [
            "train accuracy:   66.25\n",
            "test accuracy:   61.66666666666667\n"
          ],
          "name": "stdout"
        }
      ]
    },
    {
      "cell_type": "markdown",
      "metadata": {
        "id": "Rv7289G2NOhc",
        "colab_type": "text"
      },
      "source": [
        "**Naive Bayes (Gaussian) Classifier - Train vs. Test Accuracy**\n",
        "*   Train Accuracy: 66.3 %\n",
        "*   Test Accuracy: 61.7 %\n",
        "*   This is a pretty weak result, Naive Bayes like this should not be used on this particular dataset. \n"
      ]
    },
    {
      "cell_type": "markdown",
      "metadata": {
        "id": "L_7aLkmWNQXM",
        "colab_type": "text"
      },
      "source": [
        "**Train/Test Accuracy and Bias-Variance Trade-Off**\n",
        "*   Bias Definition: The difference between the average prediction of the model and the correct value the model attempts to predict. \n",
        "*   Variance Definition: The variability of model prediction for a given data point or a value which indicates the spread of the data.\n",
        "*   High Bias means the model may be oversimplified and show in high errors in train and test. The Naive Bayes model above could be said to have high bias.\n",
        "*   High Variance means the model pays too much attention to the training data and fails to generalize to the test data. This was apparent in the initial trials for the decision tree model I ran with min_samples_split of 3. Specifically, training accuracy was 99%, while testing was mid-80%s. To address this, I increased the min samples to split on, such that training accuracy decreased while testing accuracy increased. In the end settled on 12 samples to split on and had close train/test accuracy around 90%.\n",
        "*   KNN is different in how to think about train/test accuracy but the model could still be said to have High Bias as well because it didn't fit the data well, shown by low accuracy. \n",
        "\n",
        "\n"
      ]
    },
    {
      "cell_type": "markdown",
      "metadata": {
        "id": "B7gs2rpTzIAK",
        "colab_type": "text"
      },
      "source": [
        "### d. \n",
        "Discuss your observations based on the above experiments."
      ]
    },
    {
      "cell_type": "markdown",
      "metadata": {
        "id": "2QZbc4__zIae",
        "colab_type": "text"
      },
      "source": [
        "**Further Observations**\n",
        "*   Decision Trees: Best Model achieved 90% test accuracy. For this dataset, Decision Trees or similar variants could prove useful. KNN and Naive Bayes were less successful in the classification task. Better Precision/Recall with DT than the other models as well and for such a small dataset, the computational tradeoffs of these different models are negligible. Took some parameter tuning to get this better model result though, and no parameter tuning was done for Naive Bayes while parameter tuning was done for KNN.\n",
        "*   KNN: Best Model achieved 68% test accuracy. \n",
        "*   Naive Bayes: Best Model achieved 62% test accuracy.\n",
        "\n"
      ]
    },
    {
      "cell_type": "markdown",
      "metadata": {
        "id": "1I7kwk5KlrJ-",
        "colab_type": "text"
      },
      "source": [
        "## Problem 3\n",
        "## Data Analysis and Predictive Modeling on Census data \n",
        "[Dataset: adult-modified.csv]\n",
        "\n",
        "For this problem you will use a simplified version of the Adult Census Data Set. In the subset provided here, some of the attributes have been removed and some preprocessing has been performed.\n",
        "\n",
        "Your tasks in this problem are the following:"
      ]
    },
    {
      "cell_type": "markdown",
      "metadata": {
        "id": "fuYxSBPNmHcp",
        "colab_type": "text"
      },
      "source": [
        "### a. Preprocessing and data analysis:"
      ]
    },
    {
      "cell_type": "markdown",
      "metadata": {
        "id": "QOk_rRR1mrr0",
        "colab_type": "text"
      },
      "source": [
        "#### 1. Examine the data for missing values. In case of categorical attributes, remove instances with missing values. In the case of numeric attributes, impute and fill-in the missing values using the attribute mean."
      ]
    },
    {
      "cell_type": "code",
      "metadata": {
        "id": "mYnaNPGzmdBJ",
        "colab_type": "code",
        "colab": {}
      },
      "source": [
        "#Imports\n",
        "import numpy as np\n",
        "import pandas as pd\n",
        "from sklearn.model_selection import train_test_split\n",
        "from sklearn import neighbors, tree, naive_bayes\n",
        "from sklearn import preprocessing\n",
        "import matplotlib.pyplot as plt\n",
        "from sklearn.metrics import classification_report\n",
        "from sklearn.metrics import confusion_matrix\n",
        "import seaborn as sns\n",
        "from sklearn.discriminant_analysis import LinearDiscriminantAnalysis\n",
        "import graphviz\n",
        "from sklearn.tree import export_graphviz\n",
        "from sklearn import model_selection"
      ],
      "execution_count": 0,
      "outputs": []
    },
    {
      "cell_type": "code",
      "metadata": {
        "id": "ZV3KXxwjmmdJ",
        "colab_type": "code",
        "colab": {
          "base_uri": "https://localhost:8080/",
          "height": 34
        },
        "outputId": "35c93921-2e9f-4b5d-a906-33c6901b54f1"
      },
      "source": [
        "#Mounts the Google Drive so I can pull the bank_data.csv file from my drive. Like setting working directory.\n",
        "from google.colab import drive\n",
        "drive.mount('/content/drive')"
      ],
      "execution_count": 181,
      "outputs": [
        {
          "output_type": "stream",
          "text": [
            "Drive already mounted at /content/drive; to attempt to forcibly remount, call drive.mount(\"/content/drive\", force_remount=True).\n"
          ],
          "name": "stdout"
        }
      ]
    },
    {
      "cell_type": "code",
      "metadata": {
        "id": "1z7VArbdzpSG",
        "colab_type": "code",
        "colab": {
          "base_uri": "https://localhost:8080/",
          "height": 204
        },
        "outputId": "af86ec85-3bb8-458a-ab2a-13fb530435ef"
      },
      "source": [
        "#File_path\n",
        "file_path_census = '/content/drive/My Drive/Colab Notebooks/datasets/adult-modified.csv'\n",
        "#Load in the Dataset\n",
        "census_data_pre = pd.read_csv(file_path_census,na_values=[\"?\"])\n",
        "census_data_pre.head()"
      ],
      "execution_count": 182,
      "outputs": [
        {
          "output_type": "execute_result",
          "data": {
            "text/html": [
              "<div>\n",
              "<style scoped>\n",
              "    .dataframe tbody tr th:only-of-type {\n",
              "        vertical-align: middle;\n",
              "    }\n",
              "\n",
              "    .dataframe tbody tr th {\n",
              "        vertical-align: top;\n",
              "    }\n",
              "\n",
              "    .dataframe thead th {\n",
              "        text-align: right;\n",
              "    }\n",
              "</style>\n",
              "<table border=\"1\" class=\"dataframe\">\n",
              "  <thead>\n",
              "    <tr style=\"text-align: right;\">\n",
              "      <th></th>\n",
              "      <th>age</th>\n",
              "      <th>workclass</th>\n",
              "      <th>education</th>\n",
              "      <th>marital-status</th>\n",
              "      <th>race</th>\n",
              "      <th>sex</th>\n",
              "      <th>hours-per-week</th>\n",
              "      <th>income</th>\n",
              "    </tr>\n",
              "  </thead>\n",
              "  <tbody>\n",
              "    <tr>\n",
              "      <th>0</th>\n",
              "      <td>39.0</td>\n",
              "      <td>Public</td>\n",
              "      <td>13</td>\n",
              "      <td>Single</td>\n",
              "      <td>White</td>\n",
              "      <td>Male</td>\n",
              "      <td>40</td>\n",
              "      <td>&lt;=50K</td>\n",
              "    </tr>\n",
              "    <tr>\n",
              "      <th>1</th>\n",
              "      <td>50.0</td>\n",
              "      <td>Self-emp</td>\n",
              "      <td>13</td>\n",
              "      <td>Married</td>\n",
              "      <td>White</td>\n",
              "      <td>Male</td>\n",
              "      <td>13</td>\n",
              "      <td>&lt;=50K</td>\n",
              "    </tr>\n",
              "    <tr>\n",
              "      <th>2</th>\n",
              "      <td>38.0</td>\n",
              "      <td>Private</td>\n",
              "      <td>9</td>\n",
              "      <td>Single</td>\n",
              "      <td>White</td>\n",
              "      <td>Male</td>\n",
              "      <td>40</td>\n",
              "      <td>&lt;=50K</td>\n",
              "    </tr>\n",
              "    <tr>\n",
              "      <th>3</th>\n",
              "      <td>53.0</td>\n",
              "      <td>Private</td>\n",
              "      <td>7</td>\n",
              "      <td>Married</td>\n",
              "      <td>Black</td>\n",
              "      <td>Male</td>\n",
              "      <td>40</td>\n",
              "      <td>&lt;=50K</td>\n",
              "    </tr>\n",
              "    <tr>\n",
              "      <th>4</th>\n",
              "      <td>28.0</td>\n",
              "      <td>Private</td>\n",
              "      <td>13</td>\n",
              "      <td>Married</td>\n",
              "      <td>Black</td>\n",
              "      <td>Female</td>\n",
              "      <td>40</td>\n",
              "      <td>&lt;=50K</td>\n",
              "    </tr>\n",
              "  </tbody>\n",
              "</table>\n",
              "</div>"
            ],
            "text/plain": [
              "    age workclass  education  ...     sex hours-per-week income\n",
              "0  39.0    Public         13  ...    Male             40  <=50K\n",
              "1  50.0  Self-emp         13  ...    Male             13  <=50K\n",
              "2  38.0   Private          9  ...    Male             40  <=50K\n",
              "3  53.0   Private          7  ...    Male             40  <=50K\n",
              "4  28.0   Private         13  ...  Female             40  <=50K\n",
              "\n",
              "[5 rows x 8 columns]"
            ]
          },
          "metadata": {
            "tags": []
          },
          "execution_count": 182
        }
      ]
    },
    {
      "cell_type": "markdown",
      "metadata": {
        "id": "wfoxokzDm6Lu",
        "colab_type": "text"
      },
      "source": [
        "**To Do**\n",
        "*   Numeric: Impute and fill in the missing values with the attribute means for age, education, hours-per-week (one by one)\n",
        "*   Categorical: Remove missing value rows for workclass, marital-status, race, sex, income (dropna)\n",
        "*   age - 198 na\n",
        "*   workclass - 588 na\n",
        "\n",
        "\n"
      ]
    },
    {
      "cell_type": "code",
      "metadata": {
        "id": "IKJeZiH5stJ6",
        "colab_type": "code",
        "colab": {
          "base_uri": "https://localhost:8080/",
          "height": 34
        },
        "outputId": "ebcbadab-0e63-4051-8e0e-935702352561"
      },
      "source": [
        "#shape check\n",
        "census_data_pre.shape"
      ],
      "execution_count": 183,
      "outputs": [
        {
          "output_type": "execute_result",
          "data": {
            "text/plain": [
              "(10000, 8)"
            ]
          },
          "metadata": {
            "tags": []
          },
          "execution_count": 183
        }
      ]
    },
    {
      "cell_type": "code",
      "metadata": {
        "id": "dm9P2ehhoJuB",
        "colab_type": "code",
        "colab": {
          "base_uri": "https://localhost:8080/",
          "height": 170
        },
        "outputId": "f0f82ad7-ec6d-4687-8440-6a03c548e9e0"
      },
      "source": [
        "#Numeric\n",
        "census_data = census_data_pre\n",
        "\n",
        "age_mean = census_data.age.mean() #actually the only numeric with na but I'll do the others anyways..\n",
        "education_mean = census_data.education.mean()\n",
        "hpw_mean = census_data['hours-per-week'].mean()\n",
        "\n",
        "census_data.age.fillna(age_mean, axis=0, inplace=True)\n",
        "census_data.education.fillna(education_mean, axis=0, inplace=True)\n",
        "census_data['hours-per-week'].fillna(hpw_mean, axis=0, inplace=True)\n",
        "\n",
        "census_data.isnull().sum()"
      ],
      "execution_count": 184,
      "outputs": [
        {
          "output_type": "execute_result",
          "data": {
            "text/plain": [
              "age                 0\n",
              "workclass         588\n",
              "education           0\n",
              "marital-status      0\n",
              "race                0\n",
              "sex                 0\n",
              "hours-per-week      0\n",
              "income              0\n",
              "dtype: int64"
            ]
          },
          "metadata": {
            "tags": []
          },
          "execution_count": 184
        }
      ]
    },
    {
      "cell_type": "code",
      "metadata": {
        "id": "OeaPavbssydQ",
        "colab_type": "code",
        "colab": {
          "base_uri": "https://localhost:8080/",
          "height": 34
        },
        "outputId": "42f30fc2-1aa8-4c2f-b277-0df276ee49ee"
      },
      "source": [
        "#shape check\n",
        "census_data.shape"
      ],
      "execution_count": 185,
      "outputs": [
        {
          "output_type": "execute_result",
          "data": {
            "text/plain": [
              "(10000, 8)"
            ]
          },
          "metadata": {
            "tags": []
          },
          "execution_count": 185
        }
      ]
    },
    {
      "cell_type": "code",
      "metadata": {
        "id": "E61GRxNIrx2H",
        "colab_type": "code",
        "colab": {
          "base_uri": "https://localhost:8080/",
          "height": 170
        },
        "outputId": "181d66df-e9f1-4724-e449-e5d09cf60ef3"
      },
      "source": [
        "#Categorical\n",
        "census_data = census_data.dropna()\n",
        "census_data.isnull().sum()"
      ],
      "execution_count": 186,
      "outputs": [
        {
          "output_type": "execute_result",
          "data": {
            "text/plain": [
              "age               0\n",
              "workclass         0\n",
              "education         0\n",
              "marital-status    0\n",
              "race              0\n",
              "sex               0\n",
              "hours-per-week    0\n",
              "income            0\n",
              "dtype: int64"
            ]
          },
          "metadata": {
            "tags": []
          },
          "execution_count": 186
        }
      ]
    },
    {
      "cell_type": "code",
      "metadata": {
        "id": "4CmmdXAis7Em",
        "colab_type": "code",
        "colab": {
          "base_uri": "https://localhost:8080/",
          "height": 34
        },
        "outputId": "11e5e773-e581-4c3f-d318-9df1f3f92048"
      },
      "source": [
        "census_data.shape"
      ],
      "execution_count": 187,
      "outputs": [
        {
          "output_type": "execute_result",
          "data": {
            "text/plain": [
              "(9412, 8)"
            ]
          },
          "metadata": {
            "tags": []
          },
          "execution_count": 187
        }
      ]
    },
    {
      "cell_type": "markdown",
      "metadata": {
        "id": "vknVuUMXs_8u",
        "colab_type": "text"
      },
      "source": [
        "*    Great. Missing values dealt with."
      ]
    },
    {
      "cell_type": "markdown",
      "metadata": {
        "id": "Qumb4N7tzr-i",
        "colab_type": "text"
      },
      "source": [
        "#### 2. Examine the characteristics of the attributes, including relevant statistics for each attribute, histograms illustrating the distributions of numeric attributes, bar graphs showing value counts for categorical attributes, etc.\n",
        "\n"
      ]
    },
    {
      "cell_type": "code",
      "metadata": {
        "id": "TOMfSr67ztdA",
        "colab_type": "code",
        "colab": {
          "base_uri": "https://localhost:8080/",
          "height": 349
        },
        "outputId": "0f5f36a2-be8f-4d6a-c8d2-1ef95fdba4a1"
      },
      "source": [
        "#Numeric Attributes Histograms\n",
        "census_data.hist()"
      ],
      "execution_count": 188,
      "outputs": [
        {
          "output_type": "execute_result",
          "data": {
            "text/plain": [
              "array([[<matplotlib.axes._subplots.AxesSubplot object at 0x7efdf2ee49b0>,\n",
              "        <matplotlib.axes._subplots.AxesSubplot object at 0x7efdf32e2550>],\n",
              "       [<matplotlib.axes._subplots.AxesSubplot object at 0x7efdf2dfab00>,\n",
              "        <matplotlib.axes._subplots.AxesSubplot object at 0x7efdf2d530f0>]], dtype=object)"
            ]
          },
          "metadata": {
            "tags": []
          },
          "execution_count": 188
        },
        {
          "output_type": "display_data",
          "data": {
            "image/png": "[encoded data removed]",
            "text/plain": [
              "<Figure size 432x288 with 4 Axes>"
            ]
          },
          "metadata": {
            "tags": []
          }
        }
      ]
    },
    {
      "cell_type": "code",
      "metadata": {
        "id": "K4FUoHwHNazb",
        "colab_type": "code",
        "colab": {
          "base_uri": "https://localhost:8080/",
          "height": 142
        },
        "outputId": "714fce5a-18c9-44fd-d620-652c9050c4a2"
      },
      "source": [
        "#Numeric Attributes Description\n",
        "census_data.describe().T"
      ],
      "execution_count": 189,
      "outputs": [
        {
          "output_type": "execute_result",
          "data": {
            "text/html": [
              "<div>\n",
              "<style scoped>\n",
              "    .dataframe tbody tr th:only-of-type {\n",
              "        vertical-align: middle;\n",
              "    }\n",
              "\n",
              "    .dataframe tbody tr th {\n",
              "        vertical-align: top;\n",
              "    }\n",
              "\n",
              "    .dataframe thead th {\n",
              "        text-align: right;\n",
              "    }\n",
              "</style>\n",
              "<table border=\"1\" class=\"dataframe\">\n",
              "  <thead>\n",
              "    <tr style=\"text-align: right;\">\n",
              "      <th></th>\n",
              "      <th>count</th>\n",
              "      <th>mean</th>\n",
              "      <th>std</th>\n",
              "      <th>min</th>\n",
              "      <th>25%</th>\n",
              "      <th>50%</th>\n",
              "      <th>75%</th>\n",
              "      <th>max</th>\n",
              "    </tr>\n",
              "  </thead>\n",
              "  <tbody>\n",
              "    <tr>\n",
              "      <th>age</th>\n",
              "      <td>9412.0</td>\n",
              "      <td>38.366342</td>\n",
              "      <td>12.962039</td>\n",
              "      <td>17.0</td>\n",
              "      <td>28.0</td>\n",
              "      <td>37.0</td>\n",
              "      <td>47.0</td>\n",
              "      <td>90.0</td>\n",
              "    </tr>\n",
              "    <tr>\n",
              "      <th>education</th>\n",
              "      <td>9412.0</td>\n",
              "      <td>10.125266</td>\n",
              "      <td>2.542118</td>\n",
              "      <td>1.0</td>\n",
              "      <td>9.0</td>\n",
              "      <td>10.0</td>\n",
              "      <td>13.0</td>\n",
              "      <td>16.0</td>\n",
              "    </tr>\n",
              "    <tr>\n",
              "      <th>hours-per-week</th>\n",
              "      <td>9412.0</td>\n",
              "      <td>41.080217</td>\n",
              "      <td>11.884590</td>\n",
              "      <td>1.0</td>\n",
              "      <td>40.0</td>\n",
              "      <td>40.0</td>\n",
              "      <td>45.0</td>\n",
              "      <td>99.0</td>\n",
              "    </tr>\n",
              "  </tbody>\n",
              "</table>\n",
              "</div>"
            ],
            "text/plain": [
              "                 count       mean        std   min   25%   50%   75%   max\n",
              "age             9412.0  38.366342  12.962039  17.0  28.0  37.0  47.0  90.0\n",
              "education       9412.0  10.125266   2.542118   1.0   9.0  10.0  13.0  16.0\n",
              "hours-per-week  9412.0  41.080217  11.884590   1.0  40.0  40.0  45.0  99.0"
            ]
          },
          "metadata": {
            "tags": []
          },
          "execution_count": 189
        }
      ]
    },
    {
      "cell_type": "code",
      "metadata": {
        "id": "eJnwe1oVNNg-",
        "colab_type": "code",
        "colab": {
          "base_uri": "https://localhost:8080/",
          "height": 368
        },
        "outputId": "6b933b58-1742-4158-862e-87f0d57d31d8"
      },
      "source": [
        "#Categorical Attributes Bar Graphs\n",
        "#workclass\n",
        "census_data['workclass'].value_counts().plot(kind='bar')\n",
        "census_data['workclass'].value_counts()"
      ],
      "execution_count": 190,
      "outputs": [
        {
          "output_type": "execute_result",
          "data": {
            "text/plain": [
              "Private     6947\n",
              "Public      1317\n",
              "Self-emp    1148\n",
              "Name: workclass, dtype: int64"
            ]
          },
          "metadata": {
            "tags": []
          },
          "execution_count": 190
        },
        {
          "output_type": "display_data",
          "data": {
            "image/png": "[encoded data removed]",
            "text/plain": [
              "<Figure size 432x288 with 1 Axes>"
            ]
          },
          "metadata": {
            "tags": []
          }
        }
      ]
    },
    {
      "cell_type": "code",
      "metadata": {
        "id": "MFSpOg0HNs9g",
        "colab_type": "code",
        "colab": {
          "base_uri": "https://localhost:8080/",
          "height": 345
        },
        "outputId": "1b1d99e4-1581-414c-9ba0-1caa931fb125"
      },
      "source": [
        "#marital-status\n",
        "census_data['marital-status'].value_counts().plot(kind='bar')\n",
        "census_data['marital-status'].value_counts()"
      ],
      "execution_count": 191,
      "outputs": [
        {
          "output_type": "execute_result",
          "data": {
            "text/plain": [
              "Married    4737\n",
              "Single     4675\n",
              "Name: marital-status, dtype: int64"
            ]
          },
          "metadata": {
            "tags": []
          },
          "execution_count": 191
        },
        {
          "output_type": "display_data",
          "data": {
            "image/png": "[encoded data removed]",
            "text/plain": [
              "<Figure size 432x288 with 1 Axes>"
            ]
          },
          "metadata": {
            "tags": []
          }
        }
      ]
    },
    {
      "cell_type": "code",
      "metadata": {
        "id": "GU07reavNwfh",
        "colab_type": "code",
        "colab": {
          "base_uri": "https://localhost:8080/",
          "height": 419
        },
        "outputId": "d7d1add2-8a77-413b-9224-9a014dcd1c32"
      },
      "source": [
        "#race\n",
        "census_data['race'].value_counts().plot(kind='bar')\n",
        "census_data['race'].value_counts()\n"
      ],
      "execution_count": 192,
      "outputs": [
        {
          "output_type": "execute_result",
          "data": {
            "text/plain": [
              "White          8062\n",
              "Black           892\n",
              "Asian           291\n",
              "Amer-Indian      92\n",
              "Hispanic         75\n",
              "Name: race, dtype: int64"
            ]
          },
          "metadata": {
            "tags": []
          },
          "execution_count": 192
        },
        {
          "output_type": "display_data",
          "data": {
            "image/png": "[encoded data removed]",
            "text/plain": [
              "<Figure size 432x288 with 1 Axes>"
            ]
          },
          "metadata": {
            "tags": []
          }
        }
      ]
    },
    {
      "cell_type": "code",
      "metadata": {
        "id": "_V63iJBMNyxh",
        "colab_type": "code",
        "colab": {
          "base_uri": "https://localhost:8080/",
          "height": 343
        },
        "outputId": "94f91106-8cd7-465a-d703-61a09532fcea"
      },
      "source": [
        "#sex\n",
        "census_data['sex'].value_counts().plot(kind='bar')\n",
        "census_data['sex'].value_counts()"
      ],
      "execution_count": 193,
      "outputs": [
        {
          "output_type": "execute_result",
          "data": {
            "text/plain": [
              "Male      6383\n",
              "Female    3029\n",
              "Name: sex, dtype: int64"
            ]
          },
          "metadata": {
            "tags": []
          },
          "execution_count": 193
        },
        {
          "output_type": "display_data",
          "data": {
            "image/png": "[encoded data removed]",
            "text/plain": [
              "<Figure size 432x288 with 1 Axes>"
            ]
          },
          "metadata": {
            "tags": []
          }
        }
      ]
    },
    {
      "cell_type": "code",
      "metadata": {
        "id": "lxbk6qavNzfA",
        "colab_type": "code",
        "colab": {
          "base_uri": "https://localhost:8080/",
          "height": 342
        },
        "outputId": "bfe26cd2-08dd-4c2a-8ee9-aef7fb6a541b"
      },
      "source": [
        "#income\n",
        "census_data['income'].value_counts().plot(kind='bar')\n",
        "census_data['income'].value_counts()"
      ],
      "execution_count": 194,
      "outputs": [
        {
          "output_type": "execute_result",
          "data": {
            "text/plain": [
              "<=50K    7093\n",
              ">50K     2319\n",
              "Name: income, dtype: int64"
            ]
          },
          "metadata": {
            "tags": []
          },
          "execution_count": 194
        },
        {
          "output_type": "display_data",
          "data": {
            "image/png": "[encoded data removed]",
            "text/plain": [
              "<Figure size 432x288 with 1 Axes>"
            ]
          },
          "metadata": {
            "tags": []
          }
        }
      ]
    },
    {
      "cell_type": "markdown",
      "metadata": {
        "id": "P7g2uEF3zsqV",
        "colab_type": "text"
      },
      "source": [
        "#### 3. Perform the following cross-tabulations (including generating bar charts): education+race, work-class+income, work-class+race, and race+income. In the latter case (race+income) also create a table or chart showing percentages of each race category that fall in the low-income group. Discuss your observations from this analysis."
      ]
    },
    {
      "cell_type": "code",
      "metadata": {
        "id": "TxS8SGVIzuOs",
        "colab_type": "code",
        "colab": {
          "base_uri": "https://localhost:8080/",
          "height": 576
        },
        "outputId": "de6c42ea-14f0-4cf6-e04d-83795723ac0e"
      },
      "source": [
        "#education + race cross-tabulation\n",
        "pd.crosstab(census_data.education,census_data.race)"
      ],
      "execution_count": 195,
      "outputs": [
        {
          "output_type": "execute_result",
          "data": {
            "text/html": [
              "<div>\n",
              "<style scoped>\n",
              "    .dataframe tbody tr th:only-of-type {\n",
              "        vertical-align: middle;\n",
              "    }\n",
              "\n",
              "    .dataframe tbody tr th {\n",
              "        vertical-align: top;\n",
              "    }\n",
              "\n",
              "    .dataframe thead th {\n",
              "        text-align: right;\n",
              "    }\n",
              "</style>\n",
              "<table border=\"1\" class=\"dataframe\">\n",
              "  <thead>\n",
              "    <tr style=\"text-align: right;\">\n",
              "      <th>race</th>\n",
              "      <th>Amer-Indian</th>\n",
              "      <th>Asian</th>\n",
              "      <th>Black</th>\n",
              "      <th>Hispanic</th>\n",
              "      <th>White</th>\n",
              "    </tr>\n",
              "    <tr>\n",
              "      <th>education</th>\n",
              "      <th></th>\n",
              "      <th></th>\n",
              "      <th></th>\n",
              "      <th></th>\n",
              "      <th></th>\n",
              "    </tr>\n",
              "  </thead>\n",
              "  <tbody>\n",
              "    <tr>\n",
              "      <th>1</th>\n",
              "      <td>0</td>\n",
              "      <td>0</td>\n",
              "      <td>1</td>\n",
              "      <td>0</td>\n",
              "      <td>11</td>\n",
              "    </tr>\n",
              "    <tr>\n",
              "      <th>2</th>\n",
              "      <td>0</td>\n",
              "      <td>1</td>\n",
              "      <td>4</td>\n",
              "      <td>3</td>\n",
              "      <td>38</td>\n",
              "    </tr>\n",
              "    <tr>\n",
              "      <th>3</th>\n",
              "      <td>0</td>\n",
              "      <td>4</td>\n",
              "      <td>5</td>\n",
              "      <td>1</td>\n",
              "      <td>71</td>\n",
              "    </tr>\n",
              "    <tr>\n",
              "      <th>4</th>\n",
              "      <td>5</td>\n",
              "      <td>5</td>\n",
              "      <td>14</td>\n",
              "      <td>6</td>\n",
              "      <td>150</td>\n",
              "    </tr>\n",
              "    <tr>\n",
              "      <th>5</th>\n",
              "      <td>0</td>\n",
              "      <td>3</td>\n",
              "      <td>19</td>\n",
              "      <td>2</td>\n",
              "      <td>118</td>\n",
              "    </tr>\n",
              "    <tr>\n",
              "      <th>6</th>\n",
              "      <td>8</td>\n",
              "      <td>3</td>\n",
              "      <td>30</td>\n",
              "      <td>4</td>\n",
              "      <td>223</td>\n",
              "    </tr>\n",
              "    <tr>\n",
              "      <th>7</th>\n",
              "      <td>4</td>\n",
              "      <td>6</td>\n",
              "      <td>49</td>\n",
              "      <td>4</td>\n",
              "      <td>261</td>\n",
              "    </tr>\n",
              "    <tr>\n",
              "      <th>8</th>\n",
              "      <td>0</td>\n",
              "      <td>2</td>\n",
              "      <td>17</td>\n",
              "      <td>3</td>\n",
              "      <td>78</td>\n",
              "    </tr>\n",
              "    <tr>\n",
              "      <th>9</th>\n",
              "      <td>35</td>\n",
              "      <td>67</td>\n",
              "      <td>350</td>\n",
              "      <td>23</td>\n",
              "      <td>2590</td>\n",
              "    </tr>\n",
              "    <tr>\n",
              "      <th>10</th>\n",
              "      <td>26</td>\n",
              "      <td>64</td>\n",
              "      <td>206</td>\n",
              "      <td>11</td>\n",
              "      <td>1818</td>\n",
              "    </tr>\n",
              "    <tr>\n",
              "      <th>11</th>\n",
              "      <td>5</td>\n",
              "      <td>10</td>\n",
              "      <td>33</td>\n",
              "      <td>4</td>\n",
              "      <td>337</td>\n",
              "    </tr>\n",
              "    <tr>\n",
              "      <th>12</th>\n",
              "      <td>4</td>\n",
              "      <td>5</td>\n",
              "      <td>33</td>\n",
              "      <td>3</td>\n",
              "      <td>259</td>\n",
              "    </tr>\n",
              "    <tr>\n",
              "      <th>13</th>\n",
              "      <td>5</td>\n",
              "      <td>75</td>\n",
              "      <td>102</td>\n",
              "      <td>8</td>\n",
              "      <td>1387</td>\n",
              "    </tr>\n",
              "    <tr>\n",
              "      <th>14</th>\n",
              "      <td>0</td>\n",
              "      <td>27</td>\n",
              "      <td>20</td>\n",
              "      <td>1</td>\n",
              "      <td>467</td>\n",
              "    </tr>\n",
              "    <tr>\n",
              "      <th>15</th>\n",
              "      <td>0</td>\n",
              "      <td>11</td>\n",
              "      <td>5</td>\n",
              "      <td>2</td>\n",
              "      <td>153</td>\n",
              "    </tr>\n",
              "    <tr>\n",
              "      <th>16</th>\n",
              "      <td>0</td>\n",
              "      <td>8</td>\n",
              "      <td>4</td>\n",
              "      <td>0</td>\n",
              "      <td>101</td>\n",
              "    </tr>\n",
              "  </tbody>\n",
              "</table>\n",
              "</div>"
            ],
            "text/plain": [
              "race       Amer-Indian  Asian  Black  Hispanic  White\n",
              "education                                            \n",
              "1                    0      0      1         0     11\n",
              "2                    0      1      4         3     38\n",
              "3                    0      4      5         1     71\n",
              "4                    5      5     14         6    150\n",
              "5                    0      3     19         2    118\n",
              "6                    8      3     30         4    223\n",
              "7                    4      6     49         4    261\n",
              "8                    0      2     17         3     78\n",
              "9                   35     67    350        23   2590\n",
              "10                  26     64    206        11   1818\n",
              "11                   5     10     33         4    337\n",
              "12                   4      5     33         3    259\n",
              "13                   5     75    102         8   1387\n",
              "14                   0     27     20         1    467\n",
              "15                   0     11      5         2    153\n",
              "16                   0      8      4         0    101"
            ]
          },
          "metadata": {
            "tags": []
          },
          "execution_count": 195
        }
      ]
    },
    {
      "cell_type": "code",
      "metadata": {
        "id": "G16htrW_Rncs",
        "colab_type": "code",
        "colab": {
          "base_uri": "https://localhost:8080/",
          "height": 405
        },
        "outputId": "d2a5b08b-8800-44ec-a23f-42905a13ed88"
      },
      "source": [
        "#education + race bar chart\n",
        "plt.figure(figsize=(12,6))\n",
        "race_edu_comp = sns.countplot(x=\"education\", hue=\"race\", data=census_data)\n",
        "plt.legend(bbox_to_anchor=(1.05, 1), loc=2, borderaxespad=0.)"
      ],
      "execution_count": 196,
      "outputs": [
        {
          "output_type": "execute_result",
          "data": {
            "text/plain": [
              "<matplotlib.legend.Legend at 0x7efde0063048>"
            ]
          },
          "metadata": {
            "tags": []
          },
          "execution_count": 196
        },
        {
          "output_type": "display_data",
          "data": {
            "image/png": "[encoded data removed]",
            "text/plain": [
              "<Figure size 864x432 with 1 Axes>"
            ]
          },
          "metadata": {
            "tags": []
          }
        }
      ]
    },
    {
      "cell_type": "code",
      "metadata": {
        "id": "TzKEWFDbQ8pa",
        "colab_type": "code",
        "colab": {
          "base_uri": "https://localhost:8080/",
          "height": 173
        },
        "outputId": "e1652932-3aae-4132-ef25-ed9d34abfea9"
      },
      "source": [
        "#work-class + income cross-tabulation\n",
        "pd.crosstab(census_data.workclass,census_data.income)"
      ],
      "execution_count": 197,
      "outputs": [
        {
          "output_type": "execute_result",
          "data": {
            "text/html": [
              "<div>\n",
              "<style scoped>\n",
              "    .dataframe tbody tr th:only-of-type {\n",
              "        vertical-align: middle;\n",
              "    }\n",
              "\n",
              "    .dataframe tbody tr th {\n",
              "        vertical-align: top;\n",
              "    }\n",
              "\n",
              "    .dataframe thead th {\n",
              "        text-align: right;\n",
              "    }\n",
              "</style>\n",
              "<table border=\"1\" class=\"dataframe\">\n",
              "  <thead>\n",
              "    <tr style=\"text-align: right;\">\n",
              "      <th>income</th>\n",
              "      <th>&lt;=50K</th>\n",
              "      <th>&gt;50K</th>\n",
              "    </tr>\n",
              "    <tr>\n",
              "      <th>workclass</th>\n",
              "      <th></th>\n",
              "      <th></th>\n",
              "    </tr>\n",
              "  </thead>\n",
              "  <tbody>\n",
              "    <tr>\n",
              "      <th>Private</th>\n",
              "      <td>5443</td>\n",
              "      <td>1504</td>\n",
              "    </tr>\n",
              "    <tr>\n",
              "      <th>Public</th>\n",
              "      <td>925</td>\n",
              "      <td>392</td>\n",
              "    </tr>\n",
              "    <tr>\n",
              "      <th>Self-emp</th>\n",
              "      <td>725</td>\n",
              "      <td>423</td>\n",
              "    </tr>\n",
              "  </tbody>\n",
              "</table>\n",
              "</div>"
            ],
            "text/plain": [
              "income     <=50K  >50K\n",
              "workclass             \n",
              "Private     5443  1504\n",
              "Public       925   392\n",
              "Self-emp     725   423"
            ]
          },
          "metadata": {
            "tags": []
          },
          "execution_count": 197
        }
      ]
    },
    {
      "cell_type": "code",
      "metadata": {
        "id": "HW50T65wTO89",
        "colab_type": "code",
        "colab": {
          "base_uri": "https://localhost:8080/",
          "height": 405
        },
        "outputId": "41cf5040-1682-411b-9f9e-e8c41bb58717"
      },
      "source": [
        "#work-class + income bar chart\n",
        "plt.figure(figsize=(12,6))\n",
        "work_inc_comp = sns.countplot(x=\"workclass\", hue=\"income\", data=census_data)\n",
        "plt.legend(bbox_to_anchor=(1.05, 1), loc=2, borderaxespad=0.)"
      ],
      "execution_count": 198,
      "outputs": [
        {
          "output_type": "execute_result",
          "data": {
            "text/plain": [
              "<matplotlib.legend.Legend at 0x7efdf30cd4a8>"
            ]
          },
          "metadata": {
            "tags": []
          },
          "execution_count": 198
        },
        {
          "output_type": "display_data",
          "data": {
            "image/png": "[encoded data removed]",
            "text/plain": [
              "<Figure size 864x432 with 1 Axes>"
            ]
          },
          "metadata": {
            "tags": []
          }
        }
      ]
    },
    {
      "cell_type": "code",
      "metadata": {
        "id": "GUk95qdoQ-7K",
        "colab_type": "code",
        "colab": {
          "base_uri": "https://localhost:8080/",
          "height": 173
        },
        "outputId": "3238c0e9-b4cd-4af3-fa8b-d95defb5b25e"
      },
      "source": [
        "#work-class + race cross-tabulation\n",
        "pd.crosstab(census_data.workclass,census_data.race)"
      ],
      "execution_count": 199,
      "outputs": [
        {
          "output_type": "execute_result",
          "data": {
            "text/html": [
              "<div>\n",
              "<style scoped>\n",
              "    .dataframe tbody tr th:only-of-type {\n",
              "        vertical-align: middle;\n",
              "    }\n",
              "\n",
              "    .dataframe tbody tr th {\n",
              "        vertical-align: top;\n",
              "    }\n",
              "\n",
              "    .dataframe thead th {\n",
              "        text-align: right;\n",
              "    }\n",
              "</style>\n",
              "<table border=\"1\" class=\"dataframe\">\n",
              "  <thead>\n",
              "    <tr style=\"text-align: right;\">\n",
              "      <th>race</th>\n",
              "      <th>Amer-Indian</th>\n",
              "      <th>Asian</th>\n",
              "      <th>Black</th>\n",
              "      <th>Hispanic</th>\n",
              "      <th>White</th>\n",
              "    </tr>\n",
              "    <tr>\n",
              "      <th>workclass</th>\n",
              "      <th></th>\n",
              "      <th></th>\n",
              "      <th></th>\n",
              "      <th></th>\n",
              "      <th></th>\n",
              "    </tr>\n",
              "  </thead>\n",
              "  <tbody>\n",
              "    <tr>\n",
              "      <th>Private</th>\n",
              "      <td>65</td>\n",
              "      <td>204</td>\n",
              "      <td>664</td>\n",
              "      <td>64</td>\n",
              "      <td>5950</td>\n",
              "    </tr>\n",
              "    <tr>\n",
              "      <th>Public</th>\n",
              "      <td>20</td>\n",
              "      <td>48</td>\n",
              "      <td>192</td>\n",
              "      <td>5</td>\n",
              "      <td>1052</td>\n",
              "    </tr>\n",
              "    <tr>\n",
              "      <th>Self-emp</th>\n",
              "      <td>7</td>\n",
              "      <td>39</td>\n",
              "      <td>36</td>\n",
              "      <td>6</td>\n",
              "      <td>1060</td>\n",
              "    </tr>\n",
              "  </tbody>\n",
              "</table>\n",
              "</div>"
            ],
            "text/plain": [
              "race       Amer-Indian  Asian  Black  Hispanic  White\n",
              "workclass                                            \n",
              "Private             65    204    664        64   5950\n",
              "Public              20     48    192         5   1052\n",
              "Self-emp             7     39     36         6   1060"
            ]
          },
          "metadata": {
            "tags": []
          },
          "execution_count": 199
        }
      ]
    },
    {
      "cell_type": "code",
      "metadata": {
        "id": "YEZ4xt3cTtId",
        "colab_type": "code",
        "colab": {
          "base_uri": "https://localhost:8080/",
          "height": 405
        },
        "outputId": "2d30db6f-631b-4618-a1a5-d2d734d91c6e"
      },
      "source": [
        "#work-class + race bar chart\n",
        "plt.figure(figsize=(12,6))\n",
        "work_rCE_comp = sns.countplot(x=\"workclass\", hue=\"race\", data=census_data)\n",
        "plt.legend(bbox_to_anchor=(1.05, 1), loc=2, borderaxespad=0.)"
      ],
      "execution_count": 200,
      "outputs": [
        {
          "output_type": "execute_result",
          "data": {
            "text/plain": [
              "<matplotlib.legend.Legend at 0x7efddffb70b8>"
            ]
          },
          "metadata": {
            "tags": []
          },
          "execution_count": 200
        },
        {
          "output_type": "display_data",
          "data": {
            "image/png": "[encoded data removed]",
            "text/plain": [
              "<Figure size 864x432 with 1 Axes>"
            ]
          },
          "metadata": {
            "tags": []
          }
        }
      ]
    },
    {
      "cell_type": "code",
      "metadata": {
        "id": "cGBJu7T1RBuE",
        "colab_type": "code",
        "colab": {
          "base_uri": "https://localhost:8080/",
          "height": 235
        },
        "outputId": "d76f1872-13df-441e-c52a-524334bcddc0"
      },
      "source": [
        "#race + income cross-tabulation\n",
        "pd.crosstab(census_data.race,census_data.income)"
      ],
      "execution_count": 201,
      "outputs": [
        {
          "output_type": "execute_result",
          "data": {
            "text/html": [
              "<div>\n",
              "<style scoped>\n",
              "    .dataframe tbody tr th:only-of-type {\n",
              "        vertical-align: middle;\n",
              "    }\n",
              "\n",
              "    .dataframe tbody tr th {\n",
              "        vertical-align: top;\n",
              "    }\n",
              "\n",
              "    .dataframe thead th {\n",
              "        text-align: right;\n",
              "    }\n",
              "</style>\n",
              "<table border=\"1\" class=\"dataframe\">\n",
              "  <thead>\n",
              "    <tr style=\"text-align: right;\">\n",
              "      <th>income</th>\n",
              "      <th>&lt;=50K</th>\n",
              "      <th>&gt;50K</th>\n",
              "    </tr>\n",
              "    <tr>\n",
              "      <th>race</th>\n",
              "      <th></th>\n",
              "      <th></th>\n",
              "    </tr>\n",
              "  </thead>\n",
              "  <tbody>\n",
              "    <tr>\n",
              "      <th>Amer-Indian</th>\n",
              "      <td>83</td>\n",
              "      <td>9</td>\n",
              "    </tr>\n",
              "    <tr>\n",
              "      <th>Asian</th>\n",
              "      <td>224</td>\n",
              "      <td>67</td>\n",
              "    </tr>\n",
              "    <tr>\n",
              "      <th>Black</th>\n",
              "      <td>773</td>\n",
              "      <td>119</td>\n",
              "    </tr>\n",
              "    <tr>\n",
              "      <th>Hispanic</th>\n",
              "      <td>69</td>\n",
              "      <td>6</td>\n",
              "    </tr>\n",
              "    <tr>\n",
              "      <th>White</th>\n",
              "      <td>5944</td>\n",
              "      <td>2118</td>\n",
              "    </tr>\n",
              "  </tbody>\n",
              "</table>\n",
              "</div>"
            ],
            "text/plain": [
              "income       <=50K  >50K\n",
              "race                    \n",
              "Amer-Indian     83     9\n",
              "Asian          224    67\n",
              "Black          773   119\n",
              "Hispanic        69     6\n",
              "White         5944  2118"
            ]
          },
          "metadata": {
            "tags": []
          },
          "execution_count": 201
        }
      ]
    },
    {
      "cell_type": "code",
      "metadata": {
        "id": "AYOS2eDOTtmh",
        "colab_type": "code",
        "colab": {
          "base_uri": "https://localhost:8080/",
          "height": 405
        },
        "outputId": "358b9c67-db52-4e78-f267-141218468102"
      },
      "source": [
        "#race + income bar chart\n",
        "plt.figure(figsize=(12,6))\n",
        "race_inc_comp = sns.countplot(x=\"race\", hue=\"income\", data=census_data)\n",
        "plt.legend(bbox_to_anchor=(1.05, 1), loc=2, borderaxespad=0.)"
      ],
      "execution_count": 202,
      "outputs": [
        {
          "output_type": "execute_result",
          "data": {
            "text/plain": [
              "<matplotlib.legend.Legend at 0x7efddff3a668>"
            ]
          },
          "metadata": {
            "tags": []
          },
          "execution_count": 202
        },
        {
          "output_type": "display_data",
          "data": {
            "image/png": "[encoded data removed]",
            "text/plain": [
              "<Figure size 864x432 with 1 Axes>"
            ]
          },
          "metadata": {
            "tags": []
          }
        }
      ]
    },
    {
      "cell_type": "code",
      "metadata": {
        "id": "e-exfTc1WfQ1",
        "colab_type": "code",
        "colab": {
          "base_uri": "https://localhost:8080/",
          "height": 204
        },
        "outputId": "b9b5787a-220b-488e-af4d-746b1ec82f62"
      },
      "source": [
        "#Show the percentages of each race that end up in the low-income category:\n",
        "#Clean it up (manually):\n",
        "# intialise data of lists. \n",
        "race_lowinc_data = {'Race':['White', 'Black', 'Asian', 'Amer-Indian', 'Hispanic'], \n",
        "                 'Percentage_LowIncome':[73.7, 86.7, 77.0, 90.2, 92.0]} \n",
        "  \n",
        "# Create DataFrame \n",
        "race_lowinc_df = pd.DataFrame(race_lowinc_data) \n",
        "race_lowinc_df = race_lowinc_df.sort_values('Percentage_LowIncome')\n",
        "# Print the output. \n",
        "race_lowinc_df"
      ],
      "execution_count": 203,
      "outputs": [
        {
          "output_type": "execute_result",
          "data": {
            "text/html": [
              "<div>\n",
              "<style scoped>\n",
              "    .dataframe tbody tr th:only-of-type {\n",
              "        vertical-align: middle;\n",
              "    }\n",
              "\n",
              "    .dataframe tbody tr th {\n",
              "        vertical-align: top;\n",
              "    }\n",
              "\n",
              "    .dataframe thead th {\n",
              "        text-align: right;\n",
              "    }\n",
              "</style>\n",
              "<table border=\"1\" class=\"dataframe\">\n",
              "  <thead>\n",
              "    <tr style=\"text-align: right;\">\n",
              "      <th></th>\n",
              "      <th>Race</th>\n",
              "      <th>Percentage_LowIncome</th>\n",
              "    </tr>\n",
              "  </thead>\n",
              "  <tbody>\n",
              "    <tr>\n",
              "      <th>0</th>\n",
              "      <td>White</td>\n",
              "      <td>73.7</td>\n",
              "    </tr>\n",
              "    <tr>\n",
              "      <th>2</th>\n",
              "      <td>Asian</td>\n",
              "      <td>77.0</td>\n",
              "    </tr>\n",
              "    <tr>\n",
              "      <th>1</th>\n",
              "      <td>Black</td>\n",
              "      <td>86.7</td>\n",
              "    </tr>\n",
              "    <tr>\n",
              "      <th>3</th>\n",
              "      <td>Amer-Indian</td>\n",
              "      <td>90.2</td>\n",
              "    </tr>\n",
              "    <tr>\n",
              "      <th>4</th>\n",
              "      <td>Hispanic</td>\n",
              "      <td>92.0</td>\n",
              "    </tr>\n",
              "  </tbody>\n",
              "</table>\n",
              "</div>"
            ],
            "text/plain": [
              "          Race  Percentage_LowIncome\n",
              "0        White                  73.7\n",
              "2        Asian                  77.0\n",
              "1        Black                  86.7\n",
              "3  Amer-Indian                  90.2\n",
              "4     Hispanic                  92.0"
            ]
          },
          "metadata": {
            "tags": []
          },
          "execution_count": 203
        }
      ]
    },
    {
      "cell_type": "code",
      "metadata": {
        "id": "dfzHwMZjX3Q1",
        "colab_type": "code",
        "colab": {
          "base_uri": "https://localhost:8080/",
          "height": 381
        },
        "outputId": "210336fe-8892-4429-b826-cb070a0aeb9c"
      },
      "source": [
        "plt.figure(figsize=(12,6))\n",
        "race_lowinc_df.plot(kind='bar',x='Race',y='Percentage_LowIncome')\n",
        "plt.title('Percentage Low Income by Race')\n",
        "plt.legend(bbox_to_anchor=(1.05, 1), loc=2, borderaxespad=0.)"
      ],
      "execution_count": 204,
      "outputs": [
        {
          "output_type": "execute_result",
          "data": {
            "text/plain": [
              "<matplotlib.legend.Legend at 0x7efddfe7f198>"
            ]
          },
          "metadata": {
            "tags": []
          },
          "execution_count": 204
        },
        {
          "output_type": "display_data",
          "data": {
            "text/plain": [
              "<Figure size 864x432 with 0 Axes>"
            ]
          },
          "metadata": {
            "tags": []
          }
        },
        {
          "output_type": "display_data",
          "data": {
            "image/png": "[encoded data removed]",
            "text/plain": [
              "<Figure size 432x288 with 1 Axes>"
            ]
          },
          "metadata": {
            "tags": []
          }
        }
      ]
    },
    {
      "cell_type": "markdown",
      "metadata": {
        "id": "BblojrwJREID",
        "colab_type": "text"
      },
      "source": [
        "**Observations**\n",
        "*   education + race: In this sample dataset, there are significantly more white in the dataset compared to the other races. When looking at counts of race in each education level, whitehave far larger counts, but relatively it seems that most of the races follow a similar distribution of education received. The greatest counts for each race are around8-9 years of education which is compulsory in the United States. The distributions also appear to be bimodal as a secondary maximum appears around 13 for education. This makes sense because many people go to college. Peaks around graduation milestones (Middle school, High School, College).\n",
        "*   workclass + income: Public and Self-Employed share similar income outcomes. In the Private Sector there is a greater number of <=50k jobs and in higher proportion to >=50k jobs, but more people in general are also employed in the private sector compared to public and self-employed. \n",
        "*   workclass + race: Not much insight available when looking at just counts here. Similar distribution across races. \n",
        "*   race + income: Hard to interpret because of the scale, which is why the percentage bar plot that follows is better.\n",
        "*   Percentage Low Income by Race: Here we see that for the dataset, White race has the lowest percentage of people with LowIncome or income <=50k. For the White race the figure is 73.7%, followed by Asian, then Black, Amer-Indian, and finally Hispanic with 92.0% earning <=50k. Assuming this data scales and explains the greater picture of earnings by Americans across the country, it is a clear sign of the economic disparity that exists by race in the US.\n",
        "\n",
        "\n"
      ]
    },
    {
      "cell_type": "markdown",
      "metadata": {
        "id": "79zfba-oz8z3",
        "colab_type": "text"
      },
      "source": [
        "#### 4. Compare and contrast the characteristics of the low-income and high-income categories across the different attributes."
      ]
    },
    {
      "cell_type": "code",
      "metadata": {
        "id": "jiSPbcLJdBtk",
        "colab_type": "code",
        "colab": {
          "base_uri": "https://localhost:8080/",
          "height": 405
        },
        "outputId": "def31d81-5570-4eb0-da4c-2fb79e7376da"
      },
      "source": [
        "#Extra for analysis:\n",
        "#education + income bar chart\n",
        "plt.figure(figsize=(12,6))\n",
        "race_edu_comp = sns.countplot(x=\"education\", hue=\"income\", data=census_data)\n",
        "plt.legend(bbox_to_anchor=(1.05, 1), loc=2, borderaxespad=0.)"
      ],
      "execution_count": 205,
      "outputs": [
        {
          "output_type": "execute_result",
          "data": {
            "text/plain": [
              "<matplotlib.legend.Legend at 0x7efddfebb4a8>"
            ]
          },
          "metadata": {
            "tags": []
          },
          "execution_count": 205
        },
        {
          "output_type": "display_data",
          "data": {
            "image/png": "[encoded data removed]",
            "text/plain": [
              "<Figure size 864x432 with 1 Axes>"
            ]
          },
          "metadata": {
            "tags": []
          }
        }
      ]
    },
    {
      "cell_type": "code",
      "metadata": {
        "id": "X68QfBKndui9",
        "colab_type": "code",
        "colab": {
          "base_uri": "https://localhost:8080/",
          "height": 405
        },
        "outputId": "4462b49f-61a6-4d61-9334-45b678c5c96a"
      },
      "source": [
        "#Extra for analysis:\n",
        "#workclass + income bar chart\n",
        "plt.figure(figsize=(12,6))\n",
        "race_edu_comp = sns.countplot(x=\"workclass\", hue=\"income\", data=census_data)\n",
        "plt.legend(bbox_to_anchor=(1.05, 1), loc=2, borderaxespad=0.)"
      ],
      "execution_count": 206,
      "outputs": [
        {
          "output_type": "execute_result",
          "data": {
            "text/plain": [
              "<matplotlib.legend.Legend at 0x7efddfe93b00>"
            ]
          },
          "metadata": {
            "tags": []
          },
          "execution_count": 206
        },
        {
          "output_type": "display_data",
          "data": {
            "image/png": "[encoded data removed]",
            "text/plain": [
              "<Figure size 864x432 with 1 Axes>"
            ]
          },
          "metadata": {
            "tags": []
          }
        }
      ]
    },
    {
      "cell_type": "code",
      "metadata": {
        "id": "OPz89gDkfVK6",
        "colab_type": "code",
        "colab": {
          "base_uri": "https://localhost:8080/",
          "height": 405
        },
        "outputId": "752ca60a-820c-4f12-d0f6-0d0f38cb7da4"
      },
      "source": [
        "#Extra for analysis:\n",
        "#sex + income bar chart\n",
        "plt.figure(figsize=(12,6))\n",
        "race_edu_comp = sns.countplot(x=\"sex\", hue=\"income\", data=census_data)\n",
        "plt.legend(bbox_to_anchor=(1.05, 1), loc=2, borderaxespad=0.)"
      ],
      "execution_count": 207,
      "outputs": [
        {
          "output_type": "execute_result",
          "data": {
            "text/plain": [
              "<matplotlib.legend.Legend at 0x7efddfcf14a8>"
            ]
          },
          "metadata": {
            "tags": []
          },
          "execution_count": 207
        },
        {
          "output_type": "display_data",
          "data": {
            "image/png": "[encoded data removed]",
            "text/plain": [
              "<Figure size 864x432 with 1 Axes>"
            ]
          },
          "metadata": {
            "tags": []
          }
        }
      ]
    },
    {
      "cell_type": "code",
      "metadata": {
        "id": "ft-QfiMvuHNd",
        "colab_type": "code",
        "colab": {
          "base_uri": "https://localhost:8080/",
          "height": 405
        },
        "outputId": "2cbe5fb1-c78b-4a9a-c7ca-81d4b31bc937"
      },
      "source": [
        "#Extra for analysis:\n",
        "#marital status + income bar chart\n",
        "plt.figure(figsize=(12,6))\n",
        "race_edu_comp = sns.countplot(x=\"marital-status\", hue=\"income\", data=census_data)\n",
        "plt.legend(bbox_to_anchor=(1.05, 1), loc=2, borderaxespad=0.)"
      ],
      "execution_count": 208,
      "outputs": [
        {
          "output_type": "execute_result",
          "data": {
            "text/plain": [
              "<matplotlib.legend.Legend at 0x7efddfcc8668>"
            ]
          },
          "metadata": {
            "tags": []
          },
          "execution_count": 208
        },
        {
          "output_type": "display_data",
          "data": {
            "image/png": "[encoded data removed]",
            "text/plain": [
              "<Figure size 864x432 with 1 Axes>"
            ]
          },
          "metadata": {
            "tags": []
          }
        }
      ]
    },
    {
      "cell_type": "code",
      "metadata": {
        "id": "wvzIe9RfflyG",
        "colab_type": "code",
        "colab": {
          "base_uri": "https://localhost:8080/",
          "height": 142
        },
        "outputId": "666f22b0-6b3f-46d6-d951-19a560e8be61"
      },
      "source": [
        "#sex + income cross-tabulation\n",
        "pd.crosstab(census_data.sex,census_data.income)"
      ],
      "execution_count": 209,
      "outputs": [
        {
          "output_type": "execute_result",
          "data": {
            "text/html": [
              "<div>\n",
              "<style scoped>\n",
              "    .dataframe tbody tr th:only-of-type {\n",
              "        vertical-align: middle;\n",
              "    }\n",
              "\n",
              "    .dataframe tbody tr th {\n",
              "        vertical-align: top;\n",
              "    }\n",
              "\n",
              "    .dataframe thead th {\n",
              "        text-align: right;\n",
              "    }\n",
              "</style>\n",
              "<table border=\"1\" class=\"dataframe\">\n",
              "  <thead>\n",
              "    <tr style=\"text-align: right;\">\n",
              "      <th>income</th>\n",
              "      <th>&lt;=50K</th>\n",
              "      <th>&gt;50K</th>\n",
              "    </tr>\n",
              "    <tr>\n",
              "      <th>sex</th>\n",
              "      <th></th>\n",
              "      <th></th>\n",
              "    </tr>\n",
              "  </thead>\n",
              "  <tbody>\n",
              "    <tr>\n",
              "      <th>Female</th>\n",
              "      <td>2669</td>\n",
              "      <td>360</td>\n",
              "    </tr>\n",
              "    <tr>\n",
              "      <th>Male</th>\n",
              "      <td>4424</td>\n",
              "      <td>1959</td>\n",
              "    </tr>\n",
              "  </tbody>\n",
              "</table>\n",
              "</div>"
            ],
            "text/plain": [
              "income  <=50K  >50K\n",
              "sex                \n",
              "Female   2669   360\n",
              "Male     4424  1959"
            ]
          },
          "metadata": {
            "tags": []
          },
          "execution_count": 209
        }
      ]
    },
    {
      "cell_type": "markdown",
      "metadata": {
        "id": "0jGPxeqbz8Wt",
        "colab_type": "text"
      },
      "source": [
        "*   More on this was explained above, but some main take-aways are:\n",
        " *   Race seems to play a strong predictive role in low-income vs. high-income figures in the dataset.\n",
        " *   Education is also very important as seen above. For people who receive similar amounts of education, receiving more education increases the likelihood of earning >50k.\n",
        " *   Workclass shows that self-emp people are more likely to earn >50k relative to their peers who are also self employed than private or public employies are relative to other private/public employees. Public is next, followed by private. There are far more private jobs though, so the predictive power of this attribute is lower than say education.\n",
        " *   Sex is also an important indicator of income. Females are 88% low-income while only 69% of Male is low-income in this dataset.\n",
        " *   Marital-Status is actually the most predictive of income. Splitting on this in a Decision Tree would probably give pretty solid accuracy. Married individuals are more likely to earn high income.\n",
        "\n"
      ]
    },
    {
      "cell_type": "markdown",
      "metadata": {
        "id": "vsIp41_l0Hym",
        "colab_type": "text"
      },
      "source": [
        "### b. Predictive Modeling and Model Evaluation:"
      ]
    },
    {
      "cell_type": "markdown",
      "metadata": {
        "id": "Dwt5vY5w0M4x",
        "colab_type": "text"
      },
      "source": [
        "#### 1. Using either Pandas or Scikit-learn, create dummy variables for the categorical attributes. Then separate the target attribute (\"income_>50K\") from the attributes used for training. [Note: you need to drop \"income_<=50K\" which is also created as a dummy variable in earlier steps)."
      ]
    },
    {
      "cell_type": "code",
      "metadata": {
        "id": "HL3Thy6C0Q6Y",
        "colab_type": "code",
        "colab": {
          "base_uri": "https://localhost:8080/",
          "height": 221
        },
        "outputId": "c5b49a86-6af6-48be-b5ed-d8581e11b8fd"
      },
      "source": [
        "#Create dummy set\n",
        "census_dummy = pd.get_dummies(census_data)\n",
        "\n",
        "#Drop the income_<=50K column\n",
        "census_dummy = census_dummy.drop(['income_<=50K'],axis=1)\n",
        "\n",
        "census_dummy.head()"
      ],
      "execution_count": 210,
      "outputs": [
        {
          "output_type": "execute_result",
          "data": {
            "text/html": [
              "<div>\n",
              "<style scoped>\n",
              "    .dataframe tbody tr th:only-of-type {\n",
              "        vertical-align: middle;\n",
              "    }\n",
              "\n",
              "    .dataframe tbody tr th {\n",
              "        vertical-align: top;\n",
              "    }\n",
              "\n",
              "    .dataframe thead th {\n",
              "        text-align: right;\n",
              "    }\n",
              "</style>\n",
              "<table border=\"1\" class=\"dataframe\">\n",
              "  <thead>\n",
              "    <tr style=\"text-align: right;\">\n",
              "      <th></th>\n",
              "      <th>age</th>\n",
              "      <th>education</th>\n",
              "      <th>hours-per-week</th>\n",
              "      <th>workclass_Private</th>\n",
              "      <th>workclass_Public</th>\n",
              "      <th>workclass_Self-emp</th>\n",
              "      <th>marital-status_Married</th>\n",
              "      <th>marital-status_Single</th>\n",
              "      <th>race_Amer-Indian</th>\n",
              "      <th>race_Asian</th>\n",
              "      <th>race_Black</th>\n",
              "      <th>race_Hispanic</th>\n",
              "      <th>race_White</th>\n",
              "      <th>sex_Female</th>\n",
              "      <th>sex_Male</th>\n",
              "      <th>income_&gt;50K</th>\n",
              "    </tr>\n",
              "  </thead>\n",
              "  <tbody>\n",
              "    <tr>\n",
              "      <th>0</th>\n",
              "      <td>39.0</td>\n",
              "      <td>13</td>\n",
              "      <td>40</td>\n",
              "      <td>0</td>\n",
              "      <td>1</td>\n",
              "      <td>0</td>\n",
              "      <td>0</td>\n",
              "      <td>1</td>\n",
              "      <td>0</td>\n",
              "      <td>0</td>\n",
              "      <td>0</td>\n",
              "      <td>0</td>\n",
              "      <td>1</td>\n",
              "      <td>0</td>\n",
              "      <td>1</td>\n",
              "      <td>0</td>\n",
              "    </tr>\n",
              "    <tr>\n",
              "      <th>1</th>\n",
              "      <td>50.0</td>\n",
              "      <td>13</td>\n",
              "      <td>13</td>\n",
              "      <td>0</td>\n",
              "      <td>0</td>\n",
              "      <td>1</td>\n",
              "      <td>1</td>\n",
              "      <td>0</td>\n",
              "      <td>0</td>\n",
              "      <td>0</td>\n",
              "      <td>0</td>\n",
              "      <td>0</td>\n",
              "      <td>1</td>\n",
              "      <td>0</td>\n",
              "      <td>1</td>\n",
              "      <td>0</td>\n",
              "    </tr>\n",
              "    <tr>\n",
              "      <th>2</th>\n",
              "      <td>38.0</td>\n",
              "      <td>9</td>\n",
              "      <td>40</td>\n",
              "      <td>1</td>\n",
              "      <td>0</td>\n",
              "      <td>0</td>\n",
              "      <td>0</td>\n",
              "      <td>1</td>\n",
              "      <td>0</td>\n",
              "      <td>0</td>\n",
              "      <td>0</td>\n",
              "      <td>0</td>\n",
              "      <td>1</td>\n",
              "      <td>0</td>\n",
              "      <td>1</td>\n",
              "      <td>0</td>\n",
              "    </tr>\n",
              "    <tr>\n",
              "      <th>3</th>\n",
              "      <td>53.0</td>\n",
              "      <td>7</td>\n",
              "      <td>40</td>\n",
              "      <td>1</td>\n",
              "      <td>0</td>\n",
              "      <td>0</td>\n",
              "      <td>1</td>\n",
              "      <td>0</td>\n",
              "      <td>0</td>\n",
              "      <td>0</td>\n",
              "      <td>1</td>\n",
              "      <td>0</td>\n",
              "      <td>0</td>\n",
              "      <td>0</td>\n",
              "      <td>1</td>\n",
              "      <td>0</td>\n",
              "    </tr>\n",
              "    <tr>\n",
              "      <th>4</th>\n",
              "      <td>28.0</td>\n",
              "      <td>13</td>\n",
              "      <td>40</td>\n",
              "      <td>1</td>\n",
              "      <td>0</td>\n",
              "      <td>0</td>\n",
              "      <td>1</td>\n",
              "      <td>0</td>\n",
              "      <td>0</td>\n",
              "      <td>0</td>\n",
              "      <td>1</td>\n",
              "      <td>0</td>\n",
              "      <td>0</td>\n",
              "      <td>1</td>\n",
              "      <td>0</td>\n",
              "      <td>0</td>\n",
              "    </tr>\n",
              "  </tbody>\n",
              "</table>\n",
              "</div>"
            ],
            "text/plain": [
              "    age  education  hours-per-week  ...  sex_Female  sex_Male  income_>50K\n",
              "0  39.0         13              40  ...           0         1            0\n",
              "1  50.0         13              13  ...           0         1            0\n",
              "2  38.0          9              40  ...           0         1            0\n",
              "3  53.0          7              40  ...           0         1            0\n",
              "4  28.0         13              40  ...           1         0            0\n",
              "\n",
              "[5 rows x 16 columns]"
            ]
          },
          "metadata": {
            "tags": []
          },
          "execution_count": 210
        }
      ]
    },
    {
      "cell_type": "code",
      "metadata": {
        "id": "S_tFlb5lhtQm",
        "colab_type": "code",
        "colab": {
          "base_uri": "https://localhost:8080/",
          "height": 204
        },
        "outputId": "f26b338a-8886-4bab-fbeb-52d590965c7b"
      },
      "source": [
        "#Target Attribute Set\n",
        "census_target = census_dummy[['income_>50K']]\n",
        "census_target.head()"
      ],
      "execution_count": 211,
      "outputs": [
        {
          "output_type": "execute_result",
          "data": {
            "text/html": [
              "<div>\n",
              "<style scoped>\n",
              "    .dataframe tbody tr th:only-of-type {\n",
              "        vertical-align: middle;\n",
              "    }\n",
              "\n",
              "    .dataframe tbody tr th {\n",
              "        vertical-align: top;\n",
              "    }\n",
              "\n",
              "    .dataframe thead th {\n",
              "        text-align: right;\n",
              "    }\n",
              "</style>\n",
              "<table border=\"1\" class=\"dataframe\">\n",
              "  <thead>\n",
              "    <tr style=\"text-align: right;\">\n",
              "      <th></th>\n",
              "      <th>income_&gt;50K</th>\n",
              "    </tr>\n",
              "  </thead>\n",
              "  <tbody>\n",
              "    <tr>\n",
              "      <th>0</th>\n",
              "      <td>0</td>\n",
              "    </tr>\n",
              "    <tr>\n",
              "      <th>1</th>\n",
              "      <td>0</td>\n",
              "    </tr>\n",
              "    <tr>\n",
              "      <th>2</th>\n",
              "      <td>0</td>\n",
              "    </tr>\n",
              "    <tr>\n",
              "      <th>3</th>\n",
              "      <td>0</td>\n",
              "    </tr>\n",
              "    <tr>\n",
              "      <th>4</th>\n",
              "      <td>0</td>\n",
              "    </tr>\n",
              "  </tbody>\n",
              "</table>\n",
              "</div>"
            ],
            "text/plain": [
              "   income_>50K\n",
              "0            0\n",
              "1            0\n",
              "2            0\n",
              "3            0\n",
              "4            0"
            ]
          },
          "metadata": {
            "tags": []
          },
          "execution_count": 211
        }
      ]
    },
    {
      "cell_type": "code",
      "metadata": {
        "id": "uNWBa3MAh__5",
        "colab_type": "code",
        "colab": {
          "base_uri": "https://localhost:8080/",
          "height": 204
        },
        "outputId": "8af4d253-db5a-4244-a9b9-0baf36c562eb"
      },
      "source": [
        "#Training Attributes Set\n",
        "training_attributes = census_dummy.drop(['income_>50K'], axis=1)\n",
        "training_attributes.head()"
      ],
      "execution_count": 212,
      "outputs": [
        {
          "output_type": "execute_result",
          "data": {
            "text/html": [
              "<div>\n",
              "<style scoped>\n",
              "    .dataframe tbody tr th:only-of-type {\n",
              "        vertical-align: middle;\n",
              "    }\n",
              "\n",
              "    .dataframe tbody tr th {\n",
              "        vertical-align: top;\n",
              "    }\n",
              "\n",
              "    .dataframe thead th {\n",
              "        text-align: right;\n",
              "    }\n",
              "</style>\n",
              "<table border=\"1\" class=\"dataframe\">\n",
              "  <thead>\n",
              "    <tr style=\"text-align: right;\">\n",
              "      <th></th>\n",
              "      <th>age</th>\n",
              "      <th>education</th>\n",
              "      <th>hours-per-week</th>\n",
              "      <th>workclass_Private</th>\n",
              "      <th>workclass_Public</th>\n",
              "      <th>workclass_Self-emp</th>\n",
              "      <th>marital-status_Married</th>\n",
              "      <th>marital-status_Single</th>\n",
              "      <th>race_Amer-Indian</th>\n",
              "      <th>race_Asian</th>\n",
              "      <th>race_Black</th>\n",
              "      <th>race_Hispanic</th>\n",
              "      <th>race_White</th>\n",
              "      <th>sex_Female</th>\n",
              "      <th>sex_Male</th>\n",
              "    </tr>\n",
              "  </thead>\n",
              "  <tbody>\n",
              "    <tr>\n",
              "      <th>0</th>\n",
              "      <td>39.0</td>\n",
              "      <td>13</td>\n",
              "      <td>40</td>\n",
              "      <td>0</td>\n",
              "      <td>1</td>\n",
              "      <td>0</td>\n",
              "      <td>0</td>\n",
              "      <td>1</td>\n",
              "      <td>0</td>\n",
              "      <td>0</td>\n",
              "      <td>0</td>\n",
              "      <td>0</td>\n",
              "      <td>1</td>\n",
              "      <td>0</td>\n",
              "      <td>1</td>\n",
              "    </tr>\n",
              "    <tr>\n",
              "      <th>1</th>\n",
              "      <td>50.0</td>\n",
              "      <td>13</td>\n",
              "      <td>13</td>\n",
              "      <td>0</td>\n",
              "      <td>0</td>\n",
              "      <td>1</td>\n",
              "      <td>1</td>\n",
              "      <td>0</td>\n",
              "      <td>0</td>\n",
              "      <td>0</td>\n",
              "      <td>0</td>\n",
              "      <td>0</td>\n",
              "      <td>1</td>\n",
              "      <td>0</td>\n",
              "      <td>1</td>\n",
              "    </tr>\n",
              "    <tr>\n",
              "      <th>2</th>\n",
              "      <td>38.0</td>\n",
              "      <td>9</td>\n",
              "      <td>40</td>\n",
              "      <td>1</td>\n",
              "      <td>0</td>\n",
              "      <td>0</td>\n",
              "      <td>0</td>\n",
              "      <td>1</td>\n",
              "      <td>0</td>\n",
              "      <td>0</td>\n",
              "      <td>0</td>\n",
              "      <td>0</td>\n",
              "      <td>1</td>\n",
              "      <td>0</td>\n",
              "      <td>1</td>\n",
              "    </tr>\n",
              "    <tr>\n",
              "      <th>3</th>\n",
              "      <td>53.0</td>\n",
              "      <td>7</td>\n",
              "      <td>40</td>\n",
              "      <td>1</td>\n",
              "      <td>0</td>\n",
              "      <td>0</td>\n",
              "      <td>1</td>\n",
              "      <td>0</td>\n",
              "      <td>0</td>\n",
              "      <td>0</td>\n",
              "      <td>1</td>\n",
              "      <td>0</td>\n",
              "      <td>0</td>\n",
              "      <td>0</td>\n",
              "      <td>1</td>\n",
              "    </tr>\n",
              "    <tr>\n",
              "      <th>4</th>\n",
              "      <td>28.0</td>\n",
              "      <td>13</td>\n",
              "      <td>40</td>\n",
              "      <td>1</td>\n",
              "      <td>0</td>\n",
              "      <td>0</td>\n",
              "      <td>1</td>\n",
              "      <td>0</td>\n",
              "      <td>0</td>\n",
              "      <td>0</td>\n",
              "      <td>1</td>\n",
              "      <td>0</td>\n",
              "      <td>0</td>\n",
              "      <td>1</td>\n",
              "      <td>0</td>\n",
              "    </tr>\n",
              "  </tbody>\n",
              "</table>\n",
              "</div>"
            ],
            "text/plain": [
              "    age  education  hours-per-week  ...  race_White  sex_Female  sex_Male\n",
              "0  39.0         13              40  ...           1           0         1\n",
              "1  50.0         13              13  ...           1           0         1\n",
              "2  38.0          9              40  ...           1           0         1\n",
              "3  53.0          7              40  ...           0           0         1\n",
              "4  28.0         13              40  ...           0           1         0\n",
              "\n",
              "[5 rows x 15 columns]"
            ]
          },
          "metadata": {
            "tags": []
          },
          "execution_count": 212
        }
      ]
    },
    {
      "cell_type": "markdown",
      "metadata": {
        "id": "H68xM-mG0SD8",
        "colab_type": "text"
      },
      "source": [
        "#### 2. Use scikit-learn to build classifiers uisng Naive Bayes (Gaussian), decision tree (using \"entropy\" as selection criteria), and linear discriminant analysis (LDA). For each of these perform 10-fold cross-validation (using cross-validation module in scikit-learn) and report the overall average accuracy."
      ]
    },
    {
      "cell_type": "code",
      "metadata": {
        "id": "UdQt7NxWkRH0",
        "colab_type": "code",
        "colab": {
          "base_uri": "https://localhost:8080/",
          "height": 221
        },
        "outputId": "b95cc503-ea68-4150-df96-afade2b0d193"
      },
      "source": [
        "#Train/Test Split\n",
        "census_train, census_test, census_target_train, census_target_test = train_test_split(training_attributes, census_target, test_size=0.2, random_state=7)\n",
        "\n",
        "print (census_test.shape)\n",
        "census_test[0:5]"
      ],
      "execution_count": 213,
      "outputs": [
        {
          "output_type": "stream",
          "text": [
            "(1883, 15)\n"
          ],
          "name": "stdout"
        },
        {
          "output_type": "execute_result",
          "data": {
            "text/html": [
              "<div>\n",
              "<style scoped>\n",
              "    .dataframe tbody tr th:only-of-type {\n",
              "        vertical-align: middle;\n",
              "    }\n",
              "\n",
              "    .dataframe tbody tr th {\n",
              "        vertical-align: top;\n",
              "    }\n",
              "\n",
              "    .dataframe thead th {\n",
              "        text-align: right;\n",
              "    }\n",
              "</style>\n",
              "<table border=\"1\" class=\"dataframe\">\n",
              "  <thead>\n",
              "    <tr style=\"text-align: right;\">\n",
              "      <th></th>\n",
              "      <th>age</th>\n",
              "      <th>education</th>\n",
              "      <th>hours-per-week</th>\n",
              "      <th>workclass_Private</th>\n",
              "      <th>workclass_Public</th>\n",
              "      <th>workclass_Self-emp</th>\n",
              "      <th>marital-status_Married</th>\n",
              "      <th>marital-status_Single</th>\n",
              "      <th>race_Amer-Indian</th>\n",
              "      <th>race_Asian</th>\n",
              "      <th>race_Black</th>\n",
              "      <th>race_Hispanic</th>\n",
              "      <th>race_White</th>\n",
              "      <th>sex_Female</th>\n",
              "      <th>sex_Male</th>\n",
              "    </tr>\n",
              "  </thead>\n",
              "  <tbody>\n",
              "    <tr>\n",
              "      <th>6797</th>\n",
              "      <td>49.0</td>\n",
              "      <td>10</td>\n",
              "      <td>40</td>\n",
              "      <td>1</td>\n",
              "      <td>0</td>\n",
              "      <td>0</td>\n",
              "      <td>1</td>\n",
              "      <td>0</td>\n",
              "      <td>0</td>\n",
              "      <td>0</td>\n",
              "      <td>0</td>\n",
              "      <td>0</td>\n",
              "      <td>1</td>\n",
              "      <td>1</td>\n",
              "      <td>0</td>\n",
              "    </tr>\n",
              "    <tr>\n",
              "      <th>3931</th>\n",
              "      <td>75.0</td>\n",
              "      <td>3</td>\n",
              "      <td>10</td>\n",
              "      <td>1</td>\n",
              "      <td>0</td>\n",
              "      <td>0</td>\n",
              "      <td>1</td>\n",
              "      <td>0</td>\n",
              "      <td>0</td>\n",
              "      <td>0</td>\n",
              "      <td>1</td>\n",
              "      <td>0</td>\n",
              "      <td>0</td>\n",
              "      <td>0</td>\n",
              "      <td>1</td>\n",
              "    </tr>\n",
              "    <tr>\n",
              "      <th>6716</th>\n",
              "      <td>58.0</td>\n",
              "      <td>9</td>\n",
              "      <td>20</td>\n",
              "      <td>0</td>\n",
              "      <td>0</td>\n",
              "      <td>1</td>\n",
              "      <td>1</td>\n",
              "      <td>0</td>\n",
              "      <td>0</td>\n",
              "      <td>0</td>\n",
              "      <td>0</td>\n",
              "      <td>0</td>\n",
              "      <td>1</td>\n",
              "      <td>1</td>\n",
              "      <td>0</td>\n",
              "    </tr>\n",
              "    <tr>\n",
              "      <th>9550</th>\n",
              "      <td>40.0</td>\n",
              "      <td>9</td>\n",
              "      <td>66</td>\n",
              "      <td>0</td>\n",
              "      <td>0</td>\n",
              "      <td>1</td>\n",
              "      <td>1</td>\n",
              "      <td>0</td>\n",
              "      <td>0</td>\n",
              "      <td>1</td>\n",
              "      <td>0</td>\n",
              "      <td>0</td>\n",
              "      <td>0</td>\n",
              "      <td>0</td>\n",
              "      <td>1</td>\n",
              "    </tr>\n",
              "    <tr>\n",
              "      <th>7633</th>\n",
              "      <td>37.0</td>\n",
              "      <td>5</td>\n",
              "      <td>40</td>\n",
              "      <td>1</td>\n",
              "      <td>0</td>\n",
              "      <td>0</td>\n",
              "      <td>1</td>\n",
              "      <td>0</td>\n",
              "      <td>0</td>\n",
              "      <td>0</td>\n",
              "      <td>0</td>\n",
              "      <td>0</td>\n",
              "      <td>1</td>\n",
              "      <td>0</td>\n",
              "      <td>1</td>\n",
              "    </tr>\n",
              "  </tbody>\n",
              "</table>\n",
              "</div>"
            ],
            "text/plain": [
              "       age  education  hours-per-week  ...  race_White  sex_Female  sex_Male\n",
              "6797  49.0         10              40  ...           1           1         0\n",
              "3931  75.0          3              10  ...           0           0         1\n",
              "6716  58.0          9              20  ...           1           1         0\n",
              "9550  40.0          9              66  ...           0           0         1\n",
              "7633  37.0          5              40  ...           1           0         1\n",
              "\n",
              "[5 rows x 15 columns]"
            ]
          },
          "metadata": {
            "tags": []
          },
          "execution_count": 213
        }
      ]
    },
    {
      "cell_type": "code",
      "metadata": {
        "id": "30EukYfJkUU0",
        "colab_type": "code",
        "colab": {
          "base_uri": "https://localhost:8080/",
          "height": 221
        },
        "outputId": "6f861285-ea1d-4ac8-9c4b-ca4e226264c1"
      },
      "source": [
        "print (census_train.shape)\n",
        "census_train[0:5]"
      ],
      "execution_count": 214,
      "outputs": [
        {
          "output_type": "stream",
          "text": [
            "(7529, 15)\n"
          ],
          "name": "stdout"
        },
        {
          "output_type": "execute_result",
          "data": {
            "text/html": [
              "<div>\n",
              "<style scoped>\n",
              "    .dataframe tbody tr th:only-of-type {\n",
              "        vertical-align: middle;\n",
              "    }\n",
              "\n",
              "    .dataframe tbody tr th {\n",
              "        vertical-align: top;\n",
              "    }\n",
              "\n",
              "    .dataframe thead th {\n",
              "        text-align: right;\n",
              "    }\n",
              "</style>\n",
              "<table border=\"1\" class=\"dataframe\">\n",
              "  <thead>\n",
              "    <tr style=\"text-align: right;\">\n",
              "      <th></th>\n",
              "      <th>age</th>\n",
              "      <th>education</th>\n",
              "      <th>hours-per-week</th>\n",
              "      <th>workclass_Private</th>\n",
              "      <th>workclass_Public</th>\n",
              "      <th>workclass_Self-emp</th>\n",
              "      <th>marital-status_Married</th>\n",
              "      <th>marital-status_Single</th>\n",
              "      <th>race_Amer-Indian</th>\n",
              "      <th>race_Asian</th>\n",
              "      <th>race_Black</th>\n",
              "      <th>race_Hispanic</th>\n",
              "      <th>race_White</th>\n",
              "      <th>sex_Female</th>\n",
              "      <th>sex_Male</th>\n",
              "    </tr>\n",
              "  </thead>\n",
              "  <tbody>\n",
              "    <tr>\n",
              "      <th>8032</th>\n",
              "      <td>39.0</td>\n",
              "      <td>9</td>\n",
              "      <td>40</td>\n",
              "      <td>0</td>\n",
              "      <td>1</td>\n",
              "      <td>0</td>\n",
              "      <td>1</td>\n",
              "      <td>0</td>\n",
              "      <td>0</td>\n",
              "      <td>0</td>\n",
              "      <td>0</td>\n",
              "      <td>0</td>\n",
              "      <td>1</td>\n",
              "      <td>0</td>\n",
              "      <td>1</td>\n",
              "    </tr>\n",
              "    <tr>\n",
              "      <th>9499</th>\n",
              "      <td>19.0</td>\n",
              "      <td>10</td>\n",
              "      <td>15</td>\n",
              "      <td>1</td>\n",
              "      <td>0</td>\n",
              "      <td>0</td>\n",
              "      <td>0</td>\n",
              "      <td>1</td>\n",
              "      <td>0</td>\n",
              "      <td>0</td>\n",
              "      <td>0</td>\n",
              "      <td>0</td>\n",
              "      <td>1</td>\n",
              "      <td>1</td>\n",
              "      <td>0</td>\n",
              "    </tr>\n",
              "    <tr>\n",
              "      <th>425</th>\n",
              "      <td>25.0</td>\n",
              "      <td>9</td>\n",
              "      <td>60</td>\n",
              "      <td>1</td>\n",
              "      <td>0</td>\n",
              "      <td>0</td>\n",
              "      <td>1</td>\n",
              "      <td>0</td>\n",
              "      <td>0</td>\n",
              "      <td>0</td>\n",
              "      <td>0</td>\n",
              "      <td>0</td>\n",
              "      <td>1</td>\n",
              "      <td>0</td>\n",
              "      <td>1</td>\n",
              "    </tr>\n",
              "    <tr>\n",
              "      <th>742</th>\n",
              "      <td>42.0</td>\n",
              "      <td>14</td>\n",
              "      <td>50</td>\n",
              "      <td>1</td>\n",
              "      <td>0</td>\n",
              "      <td>0</td>\n",
              "      <td>0</td>\n",
              "      <td>1</td>\n",
              "      <td>0</td>\n",
              "      <td>0</td>\n",
              "      <td>0</td>\n",
              "      <td>0</td>\n",
              "      <td>1</td>\n",
              "      <td>1</td>\n",
              "      <td>0</td>\n",
              "    </tr>\n",
              "    <tr>\n",
              "      <th>3848</th>\n",
              "      <td>28.0</td>\n",
              "      <td>10</td>\n",
              "      <td>40</td>\n",
              "      <td>1</td>\n",
              "      <td>0</td>\n",
              "      <td>0</td>\n",
              "      <td>0</td>\n",
              "      <td>1</td>\n",
              "      <td>0</td>\n",
              "      <td>0</td>\n",
              "      <td>0</td>\n",
              "      <td>0</td>\n",
              "      <td>1</td>\n",
              "      <td>0</td>\n",
              "      <td>1</td>\n",
              "    </tr>\n",
              "  </tbody>\n",
              "</table>\n",
              "</div>"
            ],
            "text/plain": [
              "       age  education  hours-per-week  ...  race_White  sex_Female  sex_Male\n",
              "8032  39.0          9              40  ...           1           0         1\n",
              "9499  19.0         10              15  ...           1           1         0\n",
              "425   25.0          9              60  ...           1           0         1\n",
              "742   42.0         14              50  ...           1           1         0\n",
              "3848  28.0         10              40  ...           1           0         1\n",
              "\n",
              "[5 rows x 15 columns]"
            ]
          },
          "metadata": {
            "tags": []
          },
          "execution_count": 214
        }
      ]
    },
    {
      "cell_type": "markdown",
      "metadata": {
        "id": "gIw4-TqB0TaG",
        "colab_type": "text"
      },
      "source": [
        "**Naive Bayes (Gaussian)**"
      ]
    },
    {
      "cell_type": "code",
      "metadata": {
        "id": "ngPSQ9A7iqGq",
        "colab_type": "code",
        "colab": {
          "base_uri": "https://localhost:8080/",
          "height": 34
        },
        "outputId": "db84dff4-5b57-42a4-cccc-66d9785e3836"
      },
      "source": [
        "census_nbclf = naive_bayes.GaussianNB()\n",
        "#census_nbclf = census_nbclf.fit(census_train, census_target_train)\n",
        "#print (\"Score on Training: \", census_nbclf.score(census_train, census_target_train))\n",
        "#print (\"Score on Test: \", census_nbclf.score(census_test, census_target_test))\n",
        "\n",
        "census_cv_scores_nb = model_selection.cross_val_score(census_nbclf, training_attributes, census_target, cv=10)\n",
        "print(\"Overall Accuracy on X-Val: %0.2f (+/- %0.2f)\" % (census_cv_scores_nb.mean(), census_cv_scores_nb.std() * 2))"
      ],
      "execution_count": 221,
      "outputs": [
        {
          "output_type": "stream",
          "text": [
            "Overall Accuracy on X-Val: 0.72 (+/- 0.02)\n"
          ],
          "name": "stdout"
        }
      ]
    },
    {
      "cell_type": "markdown",
      "metadata": {
        "id": "bqZnoH1SirDX",
        "colab_type": "text"
      },
      "source": [
        "**Decision Tree using Entropy**\n",
        "\n"
      ]
    },
    {
      "cell_type": "code",
      "metadata": {
        "id": "GTEkE6nriqp3",
        "colab_type": "code",
        "colab": {
          "base_uri": "https://localhost:8080/",
          "height": 34
        },
        "outputId": "5f7d1dcf-77df-490a-ee76-e60ad00d73ba"
      },
      "source": [
        "census_treeclf = tree.DecisionTreeClassifier(criterion='entropy', min_samples_split=100, max_depth=2)\n",
        "census_cv_scores_tree = model_selection.cross_val_score(census_treeclf, training_attributes, census_target, cv=10)\n",
        "print(\"Overall Accuracy on X-Val: %0.2f (+/- %0.2f)\" % (census_cv_scores_tree.mean(), census_cv_scores_tree.std() * 2))"
      ],
      "execution_count": 217,
      "outputs": [
        {
          "output_type": "stream",
          "text": [
            "Overall Accuracy on X-Val: 0.81 (+/- 0.02)\n"
          ],
          "name": "stdout"
        }
      ]
    },
    {
      "cell_type": "markdown",
      "metadata": {
        "id": "Sm3xhyqPiq8G",
        "colab_type": "text"
      },
      "source": [
        "**Linear Discriminant Analysis (LDA)**"
      ]
    },
    {
      "cell_type": "code",
      "metadata": {
        "id": "H0ZVJrUuiqhQ",
        "colab_type": "code",
        "colab": {
          "base_uri": "https://localhost:8080/",
          "height": 34
        },
        "outputId": "2b1a665d-e7bf-410d-ab52-0098b310da76"
      },
      "source": [
        "import warnings\n",
        "warnings.filterwarnings('ignore')\n",
        "census_ldclf = LinearDiscriminantAnalysis()\n",
        "#census_ldclf = census_ldclf.fit(census_train, census_target_train)\n",
        "#print (\"Score on Training: \", census_ldclf.score(census_train, census_target_train))\n",
        "#print (\"Score on Test: \", census_ldclf.score(census_test, census_target_test))\n",
        "\n",
        "census_cv_scores_ld = model_selection.cross_val_score(census_ldclf, training_attributes, census_target, cv=10)\n",
        "print(\"Overall Accuracy on X-Val: %0.2f (+/- %0.2f)\" % (census_cv_scores_ld.mean(), census_cv_scores_ld.std() * 2))"
      ],
      "execution_count": 220,
      "outputs": [
        {
          "output_type": "stream",
          "text": [
            "Overall Accuracy on X-Val: 0.81 (+/- 0.02)\n"
          ],
          "name": "stdout"
        }
      ]
    },
    {
      "cell_type": "markdown",
      "metadata": {
        "id": "1bCwxwsAqytS",
        "colab_type": "text"
      },
      "source": [
        "*   The LDA was warning of collinearity, this should probably be addressed if a regression like technique is to be used.\n",
        "\n",
        "\n",
        "*   Naive Bayes: 0.72 (+/- 0.02)\n",
        "*   Decision Tree: 0.81 (+/- 0.02)\n",
        "*   LDA: 0.81 (+/- 0.02)\n",
        "\n",
        "\n",
        "\n"
      ]
    },
    {
      "cell_type": "markdown",
      "metadata": {
        "id": "IZoNly6n0ShM",
        "colab_type": "text"
      },
      "source": [
        "#### 3. For the decision tree model (generated on the full training data), generate a visualization of tree and submit it as a separate file (png, jpg, or pdf) or embed it in the Jupyter Notebook."
      ]
    },
    {
      "cell_type": "code",
      "metadata": {
        "id": "EvvKB-ep0S3q",
        "colab_type": "code",
        "colab": {
          "base_uri": "https://localhost:8080/",
          "height": 380
        },
        "outputId": "bdcef002-c2f4-4dde-fe2b-56f375a18241"
      },
      "source": [
        "census_treeclf = census_treeclf.fit(census_train, census_target_train)\n",
        "export_graphviz(census_treeclf,out_file='tree.dot', feature_names=census_train.columns)\n",
        "with open(\"tree.dot\") as f:\n",
        "    dot_graph = f.read()\n",
        "graphviz.Source(dot_graph)"
      ],
      "execution_count": 109,
      "outputs": [
        {
          "output_type": "execute_result",
          "data": {
            "text/plain": [
              "<graphviz.files.Source at 0x7f9ade3d2438>"
            ],
            "image/svg+xml": "<?xml version=\"1.0\" encoding=\"UTF-8\" standalone=\"no\"?>\n<!DOCTYPE svg PUBLIC \"-//W3C//DTD SVG 1.1//EN\"\n \"http://www.w3.org/Graphics/SVG/1.1/DTD/svg11.dtd\">\n<!-- Generated by graphviz version 2.40.1 (20161225.0304)\n -->\n<!-- Title: Tree Pages: 1 -->\n<svg width=\"573pt\" height=\"269pt\"\n viewBox=\"0.00 0.00 573.00 269.00\" xmlns=\"http://www.w3.org/2000/svg\" xmlns:xlink=\"http://www.w3.org/1999/xlink\">\n<g id=\"graph0\" class=\"graph\" transform=\"scale(1 1) rotate(0) translate(4 265)\">\n<title>Tree</title>\n<polygon fill=\"#ffffff\" stroke=\"transparent\" points=\"-4,4 -4,-265 569,-265 569,4 -4,4\"/>\n<!-- 0 -->\n<g id=\"node1\" class=\"node\">\n<title>0</title>\n<polygon fill=\"none\" stroke=\"#000000\" points=\"374,-261 187,-261 187,-193 374,-193 374,-261\"/>\n<text text-anchor=\"middle\" x=\"280.5\" y=\"-245.8\" font-family=\"Times,serif\" font-size=\"14.00\" fill=\"#000000\">marital&#45;status_Married &lt;= 0.5</text>\n<text text-anchor=\"middle\" x=\"280.5\" y=\"-230.8\" font-family=\"Times,serif\" font-size=\"14.00\" fill=\"#000000\">entropy = 0.801</text>\n<text text-anchor=\"middle\" x=\"280.5\" y=\"-215.8\" font-family=\"Times,serif\" font-size=\"14.00\" fill=\"#000000\">samples = 7529</text>\n<text text-anchor=\"middle\" x=\"280.5\" y=\"-200.8\" font-family=\"Times,serif\" font-size=\"14.00\" fill=\"#000000\">value = [5696, 1833]</text>\n</g>\n<!-- 1 -->\n<g id=\"node2\" class=\"node\">\n<title>1</title>\n<polygon fill=\"none\" stroke=\"#000000\" points=\"269.5,-157 137.5,-157 137.5,-89 269.5,-89 269.5,-157\"/>\n<text text-anchor=\"middle\" x=\"203.5\" y=\"-141.8\" font-family=\"Times,serif\" font-size=\"14.00\" fill=\"#000000\">education &lt;= 12.5</text>\n<text text-anchor=\"middle\" x=\"203.5\" y=\"-126.8\" font-family=\"Times,serif\" font-size=\"14.00\" fill=\"#000000\">entropy = 0.346</text>\n<text text-anchor=\"middle\" x=\"203.5\" y=\"-111.8\" font-family=\"Times,serif\" font-size=\"14.00\" fill=\"#000000\">samples = 3757</text>\n<text text-anchor=\"middle\" x=\"203.5\" y=\"-96.8\" font-family=\"Times,serif\" font-size=\"14.00\" fill=\"#000000\">value = [3514, 243]</text>\n</g>\n<!-- 0&#45;&gt;1 -->\n<g id=\"edge1\" class=\"edge\">\n<title>0&#45;&gt;1</title>\n<path fill=\"none\" stroke=\"#000000\" d=\"M255.2873,-192.9465C248.7727,-184.1475 241.6795,-174.5672 234.8918,-165.3993\"/>\n<polygon fill=\"#000000\" stroke=\"#000000\" points=\"237.5327,-163.0843 228.7693,-157.13 231.9069,-167.2496 237.5327,-163.0843\"/>\n<text text-anchor=\"middle\" x=\"225.0809\" y=\"-178.1564\" font-family=\"Times,serif\" font-size=\"14.00\" fill=\"#000000\">True</text>\n</g>\n<!-- 4 -->\n<g id=\"node5\" class=\"node\">\n<title>4</title>\n<polygon fill=\"none\" stroke=\"#000000\" points=\"427.5,-157 287.5,-157 287.5,-89 427.5,-89 427.5,-157\"/>\n<text text-anchor=\"middle\" x=\"357.5\" y=\"-141.8\" font-family=\"Times,serif\" font-size=\"14.00\" fill=\"#000000\">education &lt;= 11.5</text>\n<text text-anchor=\"middle\" x=\"357.5\" y=\"-126.8\" font-family=\"Times,serif\" font-size=\"14.00\" fill=\"#000000\">entropy = 0.982</text>\n<text text-anchor=\"middle\" x=\"357.5\" y=\"-111.8\" font-family=\"Times,serif\" font-size=\"14.00\" fill=\"#000000\">samples = 3772</text>\n<text text-anchor=\"middle\" x=\"357.5\" y=\"-96.8\" font-family=\"Times,serif\" font-size=\"14.00\" fill=\"#000000\">value = [2182, 1590]</text>\n</g>\n<!-- 0&#45;&gt;4 -->\n<g id=\"edge4\" class=\"edge\">\n<title>0&#45;&gt;4</title>\n<path fill=\"none\" stroke=\"#000000\" d=\"M305.7127,-192.9465C312.2273,-184.1475 319.3205,-174.5672 326.1082,-165.3993\"/>\n<polygon fill=\"#000000\" stroke=\"#000000\" points=\"329.0931,-167.2496 332.2307,-157.13 323.4673,-163.0843 329.0931,-167.2496\"/>\n<text text-anchor=\"middle\" x=\"335.9191\" y=\"-178.1564\" font-family=\"Times,serif\" font-size=\"14.00\" fill=\"#000000\">False</text>\n</g>\n<!-- 2 -->\n<g id=\"node3\" class=\"node\">\n<title>2</title>\n<polygon fill=\"none\" stroke=\"#000000\" points=\"125,-53 0,-53 0,0 125,0 125,-53\"/>\n<text text-anchor=\"middle\" x=\"62.5\" y=\"-37.8\" font-family=\"Times,serif\" font-size=\"14.00\" fill=\"#000000\">entropy = 0.183</text>\n<text text-anchor=\"middle\" x=\"62.5\" y=\"-22.8\" font-family=\"Times,serif\" font-size=\"14.00\" fill=\"#000000\">samples = 2955</text>\n<text text-anchor=\"middle\" x=\"62.5\" y=\"-7.8\" font-family=\"Times,serif\" font-size=\"14.00\" fill=\"#000000\">value = [2873, 82]</text>\n</g>\n<!-- 1&#45;&gt;2 -->\n<g id=\"edge2\" class=\"edge\">\n<title>1&#45;&gt;2</title>\n<path fill=\"none\" stroke=\"#000000\" d=\"M153.7887,-88.9777C139.6063,-79.2713 124.1912,-68.7213 110.1358,-59.1018\"/>\n<polygon fill=\"#000000\" stroke=\"#000000\" points=\"111.8124,-56.0081 101.5833,-53.2485 107.8589,-61.7847 111.8124,-56.0081\"/>\n</g>\n<!-- 3 -->\n<g id=\"node4\" class=\"node\">\n<title>3</title>\n<polygon fill=\"none\" stroke=\"#000000\" points=\"268,-53 143,-53 143,0 268,0 268,-53\"/>\n<text text-anchor=\"middle\" x=\"205.5\" y=\"-37.8\" font-family=\"Times,serif\" font-size=\"14.00\" fill=\"#000000\">entropy = 0.723</text>\n<text text-anchor=\"middle\" x=\"205.5\" y=\"-22.8\" font-family=\"Times,serif\" font-size=\"14.00\" fill=\"#000000\">samples = 802</text>\n<text text-anchor=\"middle\" x=\"205.5\" y=\"-7.8\" font-family=\"Times,serif\" font-size=\"14.00\" fill=\"#000000\">value = [641, 161]</text>\n</g>\n<!-- 1&#45;&gt;3 -->\n<g id=\"edge3\" class=\"edge\">\n<title>1&#45;&gt;3</title>\n<path fill=\"none\" stroke=\"#000000\" d=\"M204.2051,-88.9777C204.3759,-80.7364 204.5593,-71.887 204.7328,-63.5153\"/>\n<polygon fill=\"#000000\" stroke=\"#000000\" points=\"208.2376,-63.3189 204.9456,-53.2485 201.2391,-63.1738 208.2376,-63.3189\"/>\n</g>\n<!-- 5 -->\n<g id=\"node6\" class=\"node\">\n<title>5</title>\n<polygon fill=\"none\" stroke=\"#000000\" points=\"421.5,-53 289.5,-53 289.5,0 421.5,0 421.5,-53\"/>\n<text text-anchor=\"middle\" x=\"355.5\" y=\"-37.8\" font-family=\"Times,serif\" font-size=\"14.00\" fill=\"#000000\">entropy = 0.882</text>\n<text text-anchor=\"middle\" x=\"355.5\" y=\"-22.8\" font-family=\"Times,serif\" font-size=\"14.00\" fill=\"#000000\">samples = 2568</text>\n<text text-anchor=\"middle\" x=\"355.5\" y=\"-7.8\" font-family=\"Times,serif\" font-size=\"14.00\" fill=\"#000000\">value = [1797, 771]</text>\n</g>\n<!-- 4&#45;&gt;5 -->\n<g id=\"edge5\" class=\"edge\">\n<title>4&#45;&gt;5</title>\n<path fill=\"none\" stroke=\"#000000\" d=\"M356.7949,-88.9777C356.6241,-80.7364 356.4407,-71.887 356.2672,-63.5153\"/>\n<polygon fill=\"#000000\" stroke=\"#000000\" points=\"359.7609,-63.1738 356.0544,-53.2485 352.7624,-63.3189 359.7609,-63.1738\"/>\n</g>\n<!-- 6 -->\n<g id=\"node7\" class=\"node\">\n<title>6</title>\n<polygon fill=\"none\" stroke=\"#000000\" points=\"565,-53 440,-53 440,0 565,0 565,-53\"/>\n<text text-anchor=\"middle\" x=\"502.5\" y=\"-37.8\" font-family=\"Times,serif\" font-size=\"14.00\" fill=\"#000000\">entropy = 0.904</text>\n<text text-anchor=\"middle\" x=\"502.5\" y=\"-22.8\" font-family=\"Times,serif\" font-size=\"14.00\" fill=\"#000000\">samples = 1204</text>\n<text text-anchor=\"middle\" x=\"502.5\" y=\"-7.8\" font-family=\"Times,serif\" font-size=\"14.00\" fill=\"#000000\">value = [385, 819]</text>\n</g>\n<!-- 4&#45;&gt;6 -->\n<g id=\"edge6\" class=\"edge\">\n<title>4&#45;&gt;6</title>\n<path fill=\"none\" stroke=\"#000000\" d=\"M408.6216,-88.9777C423.3439,-79.1798 439.3579,-68.5222 453.9215,-58.8298\"/>\n<polygon fill=\"#000000\" stroke=\"#000000\" points=\"455.9222,-61.7026 462.308,-53.2485 452.0439,-55.8752 455.9222,-61.7026\"/>\n</g>\n</g>\n</svg>\n"
          },
          "metadata": {
            "tags": []
          },
          "execution_count": 109
        }
      ]
    },
    {
      "cell_type": "markdown",
      "metadata": {
        "id": "KVdI9jfmtwUM",
        "colab_type": "text"
      },
      "source": [
        "*   Set a lower max depth and didn't lose any accuracy. Simpler model works just as well it appears.\n",
        "\n"
      ]
    }
  ]
}