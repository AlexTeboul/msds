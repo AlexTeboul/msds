{
  "nbformat": 4,
  "nbformat_minor": 0,
  "metadata": {
    "colab": {
      "name": "DSC478_A1.ipynb",
      "provenance": [],
      "toc_visible": true
    },
    "kernelspec": {
      "name": "python3",
      "display_name": "Python 3"
    }
  },
  "cells": [
    {
      "cell_type": "markdown",
      "metadata": {
        "id": "_bvJoC1pih25",
        "colab_type": "text"
      },
      "source": [
        "#Assignment 1\n",
        "##DSC 478 - Programming ML Apps\n",
        "##Alex Teboul"
      ]
    },
    {
      "cell_type": "markdown",
      "metadata": {
        "id": "6L6sqDCL4X1S",
        "colab_type": "text"
      },
      "source": [
        "## Bank.csv Dataset Background\n",
        "The marketing department of a financial firm keeps records on customers, including demographic information and, number of type of accounts. When launching a new product, such as a \"Personal Equity Plan\" (PEP), a direct mail piece or a targeted email, advertising the product, is sent to existing customers, and a record kept as to whether that customer responded and bought the product. Based on this database of prior cases, the managers decide to use data mining techniques to build customer profile models in order to predict the behavior of future customers.\n",
        "\n",
        "The data is contained in the file bank_data.csv. Each record is a customer description where the \"pep\" field indicates whether or not that customer has purchased a PEP. For classification problems, this field is used as the target attribute (with \"YES\" and \"NO\") as class labels."
      ]
    },
    {
      "cell_type": "markdown",
      "metadata": {
        "id": "5SBUrM50kF2T",
        "colab_type": "text"
      },
      "source": [
        "## Imports and Getting the Data"
      ]
    },
    {
      "cell_type": "code",
      "metadata": {
        "id": "YmU2S3HtlSTs",
        "colab_type": "code",
        "colab": {}
      },
      "source": [
        "#Imports\n",
        "import pandas as pd\n",
        "import seaborn as sns\n",
        "from sklearn import preprocessing\n",
        "import matplotlib.pyplot as plt"
      ],
      "execution_count": 0,
      "outputs": []
    },
    {
      "cell_type": "code",
      "metadata": {
        "id": "f5q0WPw7jnLb",
        "colab_type": "code",
        "outputId": "6b5d50fc-4b10-43b4-88c1-579ab974bb1f",
        "colab": {
          "base_uri": "https://localhost:8080/",
          "height": 125
        }
      },
      "source": [
        "#Mounts the Google Drive so I can pull the bank_data.csv file from my drive. Like setting working directory.\n",
        "from google.colab import drive\n",
        "drive.mount('/content/drive')"
      ],
      "execution_count": 3,
      "outputs": [
        {
          "output_type": "stream",
          "text": [
            "Go to this URL in a browser: https://accounts.google.com/o/oauth2/auth?client_id=947318989803-6bn6qk8qdgf4n4g3pfee6491hc0brc4i.apps.googleusercontent.com&redirect_uri=urn%3Aietf%3Awg%3Aoauth%3A2.0%3Aoob&scope=email%20https%3A%2F%2Fwww.googleapis.com%2Fauth%2Fdocs.test%20https%3A%2F%2Fwww.googleapis.com%2Fauth%2Fdrive%20https%3A%2F%2Fwww.googleapis.com%2Fauth%2Fdrive.photos.readonly%20https%3A%2F%2Fwww.googleapis.com%2Fauth%2Fpeopleapi.readonly&response_type=code\n",
            "\n",
            "Enter your authorization code:\n",
            "··········\n",
            "Mounted at /content/drive\n"
          ],
          "name": "stdout"
        }
      ]
    },
    {
      "cell_type": "code",
      "metadata": {
        "id": "W6eDVlRijpGr",
        "colab_type": "code",
        "colab": {}
      },
      "source": [
        "file_path = '/content/drive/My Drive/DSC 478 - Programming ML Apps/bank_data.csv'"
      ],
      "execution_count": 0,
      "outputs": []
    },
    {
      "cell_type": "code",
      "metadata": {
        "id": "WLxW1kOHlLdl",
        "colab_type": "code",
        "outputId": "701df9cb-f8dc-40b2-8286-40063019ae3e",
        "colab": {
          "base_uri": "https://localhost:8080/",
          "height": 203
        }
      },
      "source": [
        "df = pd.read_csv(file_path)\n",
        "df.head()"
      ],
      "execution_count": 5,
      "outputs": [
        {
          "output_type": "execute_result",
          "data": {
            "text/html": [
              "<div>\n",
              "<style scoped>\n",
              "    .dataframe tbody tr th:only-of-type {\n",
              "        vertical-align: middle;\n",
              "    }\n",
              "\n",
              "    .dataframe tbody tr th {\n",
              "        vertical-align: top;\n",
              "    }\n",
              "\n",
              "    .dataframe thead th {\n",
              "        text-align: right;\n",
              "    }\n",
              "</style>\n",
              "<table border=\"1\" class=\"dataframe\">\n",
              "  <thead>\n",
              "    <tr style=\"text-align: right;\">\n",
              "      <th></th>\n",
              "      <th>id</th>\n",
              "      <th>age</th>\n",
              "      <th>income</th>\n",
              "      <th>children</th>\n",
              "      <th>gender</th>\n",
              "      <th>region</th>\n",
              "      <th>married</th>\n",
              "      <th>car</th>\n",
              "      <th>savings_acct</th>\n",
              "      <th>current_acct</th>\n",
              "      <th>mortgage</th>\n",
              "      <th>pep</th>\n",
              "    </tr>\n",
              "  </thead>\n",
              "  <tbody>\n",
              "    <tr>\n",
              "      <th>0</th>\n",
              "      <td>ID12101</td>\n",
              "      <td>48</td>\n",
              "      <td>17546.0</td>\n",
              "      <td>1</td>\n",
              "      <td>FEMALE</td>\n",
              "      <td>INNER_CITY</td>\n",
              "      <td>NO</td>\n",
              "      <td>NO</td>\n",
              "      <td>NO</td>\n",
              "      <td>NO</td>\n",
              "      <td>NO</td>\n",
              "      <td>YES</td>\n",
              "    </tr>\n",
              "    <tr>\n",
              "      <th>1</th>\n",
              "      <td>ID12102</td>\n",
              "      <td>40</td>\n",
              "      <td>30085.1</td>\n",
              "      <td>3</td>\n",
              "      <td>MALE</td>\n",
              "      <td>TOWN</td>\n",
              "      <td>YES</td>\n",
              "      <td>YES</td>\n",
              "      <td>NO</td>\n",
              "      <td>YES</td>\n",
              "      <td>YES</td>\n",
              "      <td>NO</td>\n",
              "    </tr>\n",
              "    <tr>\n",
              "      <th>2</th>\n",
              "      <td>ID12103</td>\n",
              "      <td>51</td>\n",
              "      <td>16575.4</td>\n",
              "      <td>0</td>\n",
              "      <td>FEMALE</td>\n",
              "      <td>INNER_CITY</td>\n",
              "      <td>YES</td>\n",
              "      <td>YES</td>\n",
              "      <td>YES</td>\n",
              "      <td>YES</td>\n",
              "      <td>NO</td>\n",
              "      <td>NO</td>\n",
              "    </tr>\n",
              "    <tr>\n",
              "      <th>3</th>\n",
              "      <td>ID12104</td>\n",
              "      <td>23</td>\n",
              "      <td>20375.4</td>\n",
              "      <td>3</td>\n",
              "      <td>FEMALE</td>\n",
              "      <td>TOWN</td>\n",
              "      <td>YES</td>\n",
              "      <td>NO</td>\n",
              "      <td>NO</td>\n",
              "      <td>YES</td>\n",
              "      <td>NO</td>\n",
              "      <td>NO</td>\n",
              "    </tr>\n",
              "    <tr>\n",
              "      <th>4</th>\n",
              "      <td>ID12105</td>\n",
              "      <td>57</td>\n",
              "      <td>50576.3</td>\n",
              "      <td>0</td>\n",
              "      <td>FEMALE</td>\n",
              "      <td>RURAL</td>\n",
              "      <td>YES</td>\n",
              "      <td>NO</td>\n",
              "      <td>YES</td>\n",
              "      <td>NO</td>\n",
              "      <td>NO</td>\n",
              "      <td>NO</td>\n",
              "    </tr>\n",
              "  </tbody>\n",
              "</table>\n",
              "</div>"
            ],
            "text/plain": [
              "        id  age   income  children  ... savings_acct current_acct mortgage  pep\n",
              "0  ID12101   48  17546.0         1  ...           NO           NO       NO  YES\n",
              "1  ID12102   40  30085.1         3  ...           NO          YES      YES   NO\n",
              "2  ID12103   51  16575.4         0  ...          YES          YES       NO   NO\n",
              "3  ID12104   23  20375.4         3  ...           NO          YES       NO   NO\n",
              "4  ID12105   57  50576.3         0  ...          YES           NO       NO   NO\n",
              "\n",
              "[5 rows x 12 columns]"
            ]
          },
          "metadata": {
            "tags": []
          },
          "execution_count": 5
        }
      ]
    },
    {
      "cell_type": "markdown",
      "metadata": {
        "id": "m9nG9jgOqOMe",
        "colab_type": "text"
      },
      "source": [
        "## Problem 1\n",
        "\n",
        "1. Explore the general characteristics of the data as a whole: examine the means, standard deviations, and other statistics associated with the numerical attributes; show the distributions of values associated with categorical attributes; etc."
      ]
    },
    {
      "cell_type": "markdown",
      "metadata": {
        "id": "c1kX2M6P53Dd",
        "colab_type": "text"
      },
      "source": [
        "### Basic Checks"
      ]
    },
    {
      "cell_type": "code",
      "metadata": {
        "id": "kbWAVCyNIS27",
        "colab_type": "code",
        "colab": {}
      },
      "source": [
        "#We don't need that ID column for anything\n",
        "df.drop('id', axis=1, inplace=True)\n"
      ],
      "execution_count": 0,
      "outputs": []
    },
    {
      "cell_type": "code",
      "metadata": {
        "id": "oi9_Wrwr06Qc",
        "colab_type": "code",
        "colab": {
          "base_uri": "https://localhost:8080/",
          "height": 35
        },
        "outputId": "1f2c56ea-b789-4869-9d56-b19044ea43ac"
      },
      "source": [
        "#Get shape of data to show how many rows and columns\n",
        "df.shape\n",
        "\n",
        "#Turns out we have 600 rows and 11 columns since we dropped 'id'"
      ],
      "execution_count": 47,
      "outputs": [
        {
          "output_type": "execute_result",
          "data": {
            "text/plain": [
              "(600, 11)"
            ]
          },
          "metadata": {
            "tags": []
          },
          "execution_count": 47
        }
      ]
    },
    {
      "cell_type": "code",
      "metadata": {
        "id": "iB9mzzMA4DHZ",
        "colab_type": "code",
        "colab": {
          "base_uri": "https://localhost:8080/",
          "height": 228
        },
        "outputId": "199ba5d6-4916-4f7c-a8f2-e4c2891d12e5"
      },
      "source": [
        "#Confirm no missing values in dataset\n",
        "df.isnull().sum()"
      ],
      "execution_count": 48,
      "outputs": [
        {
          "output_type": "execute_result",
          "data": {
            "text/plain": [
              "age             0\n",
              "income          0\n",
              "children        0\n",
              "gender          0\n",
              "region          0\n",
              "married         0\n",
              "car             0\n",
              "savings_acct    0\n",
              "current_acct    0\n",
              "mortgage        0\n",
              "pep             0\n",
              "dtype: int64"
            ]
          },
          "metadata": {
            "tags": []
          },
          "execution_count": 48
        }
      ]
    },
    {
      "cell_type": "code",
      "metadata": {
        "id": "1HzYo9HpHPf5",
        "colab_type": "code",
        "colab": {
          "base_uri": "https://localhost:8080/",
          "height": 369
        },
        "outputId": "2e34d03d-0fed-49e9-8ed8-b3b9ab4d1d99"
      },
      "source": [
        "df.hist(bins=60)"
      ],
      "execution_count": 49,
      "outputs": [
        {
          "output_type": "execute_result",
          "data": {
            "text/plain": [
              "array([[<matplotlib.axes._subplots.AxesSubplot object at 0x7f8b1d295940>,\n",
              "        <matplotlib.axes._subplots.AxesSubplot object at 0x7f8b1d1fd780>],\n",
              "       [<matplotlib.axes._subplots.AxesSubplot object at 0x7f8b1d2189e8>,\n",
              "        <matplotlib.axes._subplots.AxesSubplot object at 0x7f8b1d1bec50>]],\n",
              "      dtype=object)"
            ]
          },
          "metadata": {
            "tags": []
          },
          "execution_count": 49
        },
        {
          "output_type": "display_data",
          "data": {
            "image/png": "[encoded data removed]",
            "text/plain": [
              "<Figure size 432x288 with 4 Axes>"
            ]
          },
          "metadata": {
            "tags": []
          }
        }
      ]
    },
    {
      "cell_type": "markdown",
      "metadata": {
        "id": "U0DapcGj5qL3",
        "colab_type": "text"
      },
      "source": [
        "### Numerical Value Stats"
      ]
    },
    {
      "cell_type": "code",
      "metadata": {
        "id": "9LGpGcQk3CgK",
        "colab_type": "code",
        "colab": {
          "base_uri": "https://localhost:8080/",
          "height": 141
        },
        "outputId": "3c83e208-0a05-47f3-abba-c0619a5e960d"
      },
      "source": [
        "#Get the means, standard deviations and other key statistics associated with the numerical attributes\n",
        "#Our numerical Attributes are Age, Income and Children\n",
        "df.describe().T"
      ],
      "execution_count": 51,
      "outputs": [
        {
          "output_type": "execute_result",
          "data": {
            "text/html": [
              "<div>\n",
              "<style scoped>\n",
              "    .dataframe tbody tr th:only-of-type {\n",
              "        vertical-align: middle;\n",
              "    }\n",
              "\n",
              "    .dataframe tbody tr th {\n",
              "        vertical-align: top;\n",
              "    }\n",
              "\n",
              "    .dataframe thead th {\n",
              "        text-align: right;\n",
              "    }\n",
              "</style>\n",
              "<table border=\"1\" class=\"dataframe\">\n",
              "  <thead>\n",
              "    <tr style=\"text-align: right;\">\n",
              "      <th></th>\n",
              "      <th>count</th>\n",
              "      <th>mean</th>\n",
              "      <th>std</th>\n",
              "      <th>min</th>\n",
              "      <th>25%</th>\n",
              "      <th>50%</th>\n",
              "      <th>75%</th>\n",
              "      <th>max</th>\n",
              "    </tr>\n",
              "  </thead>\n",
              "  <tbody>\n",
              "    <tr>\n",
              "      <th>age</th>\n",
              "      <td>600.0</td>\n",
              "      <td>42.395000</td>\n",
              "      <td>14.424947</td>\n",
              "      <td>18.00</td>\n",
              "      <td>30.0</td>\n",
              "      <td>42.0</td>\n",
              "      <td>55.250</td>\n",
              "      <td>67.0</td>\n",
              "    </tr>\n",
              "    <tr>\n",
              "      <th>income</th>\n",
              "      <td>600.0</td>\n",
              "      <td>27524.031217</td>\n",
              "      <td>12899.468246</td>\n",
              "      <td>5014.21</td>\n",
              "      <td>17264.5</td>\n",
              "      <td>24925.3</td>\n",
              "      <td>36172.675</td>\n",
              "      <td>63130.1</td>\n",
              "    </tr>\n",
              "    <tr>\n",
              "      <th>children</th>\n",
              "      <td>600.0</td>\n",
              "      <td>1.011667</td>\n",
              "      <td>1.056752</td>\n",
              "      <td>0.00</td>\n",
              "      <td>0.0</td>\n",
              "      <td>1.0</td>\n",
              "      <td>2.000</td>\n",
              "      <td>3.0</td>\n",
              "    </tr>\n",
              "  </tbody>\n",
              "</table>\n",
              "</div>"
            ],
            "text/plain": [
              "          count          mean           std  ...      50%        75%      max\n",
              "age       600.0     42.395000     14.424947  ...     42.0     55.250     67.0\n",
              "income    600.0  27524.031217  12899.468246  ...  24925.3  36172.675  63130.1\n",
              "children  600.0      1.011667      1.056752  ...      1.0      2.000      3.0\n",
              "\n",
              "[3 rows x 8 columns]"
            ]
          },
          "metadata": {
            "tags": []
          },
          "execution_count": 51
        }
      ]
    },
    {
      "cell_type": "markdown",
      "metadata": {
        "id": "9ORCHvMi5mHB",
        "colab_type": "text"
      },
      "source": [
        "### Categorical Attribute Distributions/Counts"
      ]
    },
    {
      "cell_type": "code",
      "metadata": {
        "id": "nkNIx4eX6Rh9",
        "colab_type": "code",
        "colab": {
          "base_uri": "https://localhost:8080/",
          "height": 351
        },
        "outputId": "89bb563d-88a6-4ccb-f79a-ccee8d8dfed0"
      },
      "source": [
        "#Gender\n",
        "df['gender'].value_counts().plot(kind='bar')\n",
        "df['gender'].value_counts()"
      ],
      "execution_count": 52,
      "outputs": [
        {
          "output_type": "execute_result",
          "data": {
            "text/plain": [
              "MALE      300\n",
              "FEMALE    300\n",
              "Name: gender, dtype: int64"
            ]
          },
          "metadata": {
            "tags": []
          },
          "execution_count": 52
        },
        {
          "output_type": "display_data",
          "data": {
            "image/png": "[encoded data removed]",
            "text/plain": [
              "<Figure size 432x288 with 1 Axes>"
            ]
          },
          "metadata": {
            "tags": []
          }
        }
      ]
    },
    {
      "cell_type": "markdown",
      "metadata": {
        "id": "rFqs5UBJ7Nq8",
        "colab_type": "text"
      },
      "source": [
        "\n",
        "\n",
        "*   Appears we have an equal number of male and female in the datset. 300 of each.\n",
        "\n"
      ]
    },
    {
      "cell_type": "code",
      "metadata": {
        "id": "3GNfcoZ06xlR",
        "colab_type": "code",
        "colab": {
          "base_uri": "https://localhost:8080/",
          "height": 405
        },
        "outputId": "0d34351e-21d5-490a-e148-f2b365fc4625"
      },
      "source": [
        "#Region\n",
        "df['region'].value_counts().plot(kind='bar')\n",
        "df['region'].value_counts()"
      ],
      "execution_count": 21,
      "outputs": [
        {
          "output_type": "execute_result",
          "data": {
            "text/plain": [
              "INNER_CITY    269\n",
              "TOWN          173\n",
              "RURAL          96\n",
              "SUBURBAN       62\n",
              "Name: region, dtype: int64"
            ]
          },
          "metadata": {
            "tags": []
          },
          "execution_count": 21
        },
        {
          "output_type": "display_data",
          "data": {
            "image/png": "[encoded data removed]",
            "text/plain": [
              "<Figure size 432x288 with 1 Axes>"
            ]
          },
          "metadata": {
            "tags": []
          }
        }
      ]
    },
    {
      "cell_type": "markdown",
      "metadata": {
        "id": "lUZK3mp27Ywg",
        "colab_type": "text"
      },
      "source": [
        "* Most customers from the inner city in this dataset. Followed by Town, Rural, and Suburban with the lowest."
      ]
    },
    {
      "cell_type": "code",
      "metadata": {
        "id": "INMqIpha62H7",
        "colab_type": "code",
        "colab": {
          "base_uri": "https://localhost:8080/",
          "height": 330
        },
        "outputId": "a86a0b20-3e16-4047-fdc6-5175a91766fd"
      },
      "source": [
        "#Married\n",
        "df['married'].value_counts().plot(kind='bar')\n",
        "df['married'].value_counts()"
      ],
      "execution_count": 22,
      "outputs": [
        {
          "output_type": "execute_result",
          "data": {
            "text/plain": [
              "YES    396\n",
              "NO     204\n",
              "Name: married, dtype: int64"
            ]
          },
          "metadata": {
            "tags": []
          },
          "execution_count": 22
        },
        {
          "output_type": "display_data",
          "data": {
            "image/png": "[encoded data removed]",
            "text/plain": [
              "<Figure size 432x288 with 1 Axes>"
            ]
          },
          "metadata": {
            "tags": []
          }
        }
      ]
    },
    {
      "cell_type": "markdown",
      "metadata": {
        "id": "W42Id6td7o2B",
        "colab_type": "text"
      },
      "source": [
        "* More yes than no in the dataset. Roughly double married vs not married."
      ]
    },
    {
      "cell_type": "code",
      "metadata": {
        "id": "SxKBP0XO62u0",
        "colab_type": "code",
        "colab": {
          "base_uri": "https://localhost:8080/",
          "height": 330
        },
        "outputId": "4b8a5657-6533-419f-9d1a-1eb7c25c2359"
      },
      "source": [
        "#Car\n",
        "df['car'].value_counts().plot(kind='bar')\n",
        "df['car'].value_counts()"
      ],
      "execution_count": 23,
      "outputs": [
        {
          "output_type": "execute_result",
          "data": {
            "text/plain": [
              "NO     304\n",
              "YES    296\n",
              "Name: car, dtype: int64"
            ]
          },
          "metadata": {
            "tags": []
          },
          "execution_count": 23
        },
        {
          "output_type": "display_data",
          "data": {
            "image/png": "[encoded data removed]",
            "text/plain": [
              "<Figure size 432x288 with 1 Axes>"
            ]
          },
          "metadata": {
            "tags": []
          }
        }
      ]
    },
    {
      "cell_type": "markdown",
      "metadata": {
        "id": "HuveGPgR8Ywl",
        "colab_type": "text"
      },
      "source": [
        "* Roughly equal number of customers with and without a car."
      ]
    },
    {
      "cell_type": "code",
      "metadata": {
        "id": "yABesMnw625E",
        "colab_type": "code",
        "colab": {
          "base_uri": "https://localhost:8080/",
          "height": 330
        },
        "outputId": "007c9c3b-ec5e-4d00-c1a7-c562f80fa747"
      },
      "source": [
        "#Savings Account\n",
        "df['savings_acct'].value_counts().plot(kind='bar')\n",
        "df['savings_acct'].value_counts()"
      ],
      "execution_count": 24,
      "outputs": [
        {
          "output_type": "execute_result",
          "data": {
            "text/plain": [
              "YES    414\n",
              "NO     186\n",
              "Name: savings_acct, dtype: int64"
            ]
          },
          "metadata": {
            "tags": []
          },
          "execution_count": 24
        },
        {
          "output_type": "display_data",
          "data": {
            "image/png": "[encoded data removed]",
            "text/plain": [
              "<Figure size 432x288 with 1 Axes>"
            ]
          },
          "metadata": {
            "tags": []
          }
        }
      ]
    },
    {
      "cell_type": "markdown",
      "metadata": {
        "id": "NvAW521j8fFU",
        "colab_type": "text"
      },
      "source": [
        "* Slightly more than double the number of customers with savings accounts vs those without."
      ]
    },
    {
      "cell_type": "code",
      "metadata": {
        "id": "Hnej77hi63CE",
        "colab_type": "code",
        "colab": {
          "base_uri": "https://localhost:8080/",
          "height": 330
        },
        "outputId": "746b80e4-4d10-4639-8c24-edf0687f3bce"
      },
      "source": [
        "#Current Account\n",
        "df['current_acct'].value_counts().plot(kind='bar')\n",
        "df['current_acct'].value_counts()"
      ],
      "execution_count": 25,
      "outputs": [
        {
          "output_type": "execute_result",
          "data": {
            "text/plain": [
              "YES    455\n",
              "NO     145\n",
              "Name: current_acct, dtype: int64"
            ]
          },
          "metadata": {
            "tags": []
          },
          "execution_count": 25
        },
        {
          "output_type": "display_data",
          "data": {
            "image/png": "[encoded data removed]",
            "text/plain": [
              "<Figure size 432x288 with 1 Axes>"
            ]
          },
          "metadata": {
            "tags": []
          }
        }
      ]
    },
    {
      "cell_type": "markdown",
      "metadata": {
        "id": "VoFgk8vK8vvS",
        "colab_type": "text"
      },
      "source": [
        "* A bit more than triple the say yes to current account than no."
      ]
    },
    {
      "cell_type": "code",
      "metadata": {
        "id": "g_0NKoX89luE",
        "colab_type": "code",
        "colab": {
          "base_uri": "https://localhost:8080/",
          "height": 330
        },
        "outputId": "677bc7f8-0589-4015-d165-60862b2d4208"
      },
      "source": [
        "#Mortgage\n",
        "df['mortgage'].value_counts().plot(kind='bar')\n",
        "df['mortgage'].value_counts()"
      ],
      "execution_count": 28,
      "outputs": [
        {
          "output_type": "execute_result",
          "data": {
            "text/plain": [
              "NO     391\n",
              "YES    209\n",
              "Name: mortgage, dtype: int64"
            ]
          },
          "metadata": {
            "tags": []
          },
          "execution_count": 28
        },
        {
          "output_type": "display_data",
          "data": {
            "image/png": "[encoded data removed]",
            "text/plain": [
              "<Figure size 432x288 with 1 Axes>"
            ]
          },
          "metadata": {
            "tags": []
          }
        }
      ]
    },
    {
      "cell_type": "markdown",
      "metadata": {
        "id": "Z4jWa_fa_1tx",
        "colab_type": "text"
      },
      "source": [
        "* Roughly double the customers without mortgages vs those with."
      ]
    },
    {
      "cell_type": "code",
      "metadata": {
        "id": "w6vEXOv_DIcF",
        "colab_type": "code",
        "colab": {
          "base_uri": "https://localhost:8080/",
          "height": 330
        },
        "outputId": "4217ce71-fc69-4e9a-e74a-35eb5a6884fe"
      },
      "source": [
        "#PEP\n",
        "df['pep'].value_counts().plot(kind='bar')\n",
        "df['pep'].value_counts()"
      ],
      "execution_count": 29,
      "outputs": [
        {
          "output_type": "execute_result",
          "data": {
            "text/plain": [
              "NO     326\n",
              "YES    274\n",
              "Name: pep, dtype: int64"
            ]
          },
          "metadata": {
            "tags": []
          },
          "execution_count": 29
        },
        {
          "output_type": "display_data",
          "data": {
            "image/png": "[encoded data removed]",
            "text/plain": [
              "<Figure size 432x288 with 1 Axes>"
            ]
          },
          "metadata": {
            "tags": []
          }
        }
      ]
    },
    {
      "cell_type": "markdown",
      "metadata": {
        "id": "ZEPoTBbODPtQ",
        "colab_type": "text"
      },
      "source": [
        "* There are 326 No to 274 Yes on customers who didn't buy vs bought PEP."
      ]
    },
    {
      "cell_type": "markdown",
      "metadata": {
        "id": "H1W0J5diqYW0",
        "colab_type": "text"
      },
      "source": [
        "## Problem 2\n",
        "\n",
        "2. Suppose that the hypothetical bank is particularly interested in customers who buy the PEP (Personal Equity Plan) product. Compare and contrast the subsets of customers who buy and don't buy the PEP. Compute summaries (as in part 1) of the selected data with respect to all other attributes. Can you observe any significant differences between these segments of customers? Discuss your observations.\n"
      ]
    },
    {
      "cell_type": "markdown",
      "metadata": {
        "id": "JGJAJsQMBhyR",
        "colab_type": "text"
      },
      "source": [
        "### Create PEP subsets and Compute Summaries"
      ]
    },
    {
      "cell_type": "code",
      "metadata": {
        "id": "WW1URtggC-ES",
        "colab_type": "code",
        "colab": {}
      },
      "source": [
        "#subset for YES pep\n",
        "yes_pep = df[df['pep'] == \"YES\"]\n",
        "#yes_pep.head()\n"
      ],
      "execution_count": 0,
      "outputs": []
    },
    {
      "cell_type": "code",
      "metadata": {
        "id": "3Pbj2UyTD0tl",
        "colab_type": "code",
        "colab": {}
      },
      "source": [
        "#subset for NO pep\n",
        "no_pep = df[df['pep'] == \"NO\"]\n",
        "#no_pep.head()"
      ],
      "execution_count": 0,
      "outputs": []
    },
    {
      "cell_type": "code",
      "metadata": {
        "id": "VgypHDnIPlyy",
        "colab_type": "code",
        "colab": {}
      },
      "source": [
        "#get a dummy df in case it's useful later on\n",
        "df_dummy_pepcol = df['pep']\n",
        "df_dummypre = df.drop('pep', axis=1)\n",
        "df_dummypre2 = pd.get_dummies(df_dummypre)\n",
        "df_dummy = df_dummypre2\n",
        "df_dummy['pep'] = df_dummy_pepcol\n",
        "\n",
        "#yes no dummy dfs\n",
        "df_dummy_yespep = pd.get_dummies(yes_pep)\n",
        "#df_dummy_yespep.head()\n",
        "df_dummy_nopep = pd.get_dummies(no_pep)\n",
        "#df_dummy_nopep\n",
        "\n",
        "#df_dummy.head()"
      ],
      "execution_count": 0,
      "outputs": []
    },
    {
      "cell_type": "markdown",
      "metadata": {
        "id": "wU2AlYQvE6KH",
        "colab_type": "text"
      },
      "source": [
        "### Compare and Contrast PEP subsets"
      ]
    },
    {
      "cell_type": "code",
      "metadata": {
        "id": "5EX4fW4BYac7",
        "colab_type": "code",
        "colab": {
          "base_uri": "https://localhost:8080/",
          "height": 141
        },
        "outputId": "f7ebc24b-b923-4fd0-94e5-d8db55115c34"
      },
      "source": [
        "#Let's get the numerical summaries for YES_pep subset\n",
        "yes_pep.describe().T"
      ],
      "execution_count": 87,
      "outputs": [
        {
          "output_type": "execute_result",
          "data": {
            "text/html": [
              "<div>\n",
              "<style scoped>\n",
              "    .dataframe tbody tr th:only-of-type {\n",
              "        vertical-align: middle;\n",
              "    }\n",
              "\n",
              "    .dataframe tbody tr th {\n",
              "        vertical-align: top;\n",
              "    }\n",
              "\n",
              "    .dataframe thead th {\n",
              "        text-align: right;\n",
              "    }\n",
              "</style>\n",
              "<table border=\"1\" class=\"dataframe\">\n",
              "  <thead>\n",
              "    <tr style=\"text-align: right;\">\n",
              "      <th></th>\n",
              "      <th>count</th>\n",
              "      <th>mean</th>\n",
              "      <th>std</th>\n",
              "      <th>min</th>\n",
              "      <th>25%</th>\n",
              "      <th>50%</th>\n",
              "      <th>75%</th>\n",
              "      <th>max</th>\n",
              "    </tr>\n",
              "  </thead>\n",
              "  <tbody>\n",
              "    <tr>\n",
              "      <th>age</th>\n",
              "      <td>274.0</td>\n",
              "      <td>45.127737</td>\n",
              "      <td>14.327991</td>\n",
              "      <td>18.00</td>\n",
              "      <td>34.000</td>\n",
              "      <td>45.00</td>\n",
              "      <td>58.00</td>\n",
              "      <td>67.0</td>\n",
              "    </tr>\n",
              "    <tr>\n",
              "      <th>income</th>\n",
              "      <td>274.0</td>\n",
              "      <td>30644.919453</td>\n",
              "      <td>13609.613043</td>\n",
              "      <td>7756.36</td>\n",
              "      <td>19639.475</td>\n",
              "      <td>28080.05</td>\n",
              "      <td>38458.35</td>\n",
              "      <td>63130.1</td>\n",
              "    </tr>\n",
              "    <tr>\n",
              "      <th>children</th>\n",
              "      <td>274.0</td>\n",
              "      <td>0.945255</td>\n",
              "      <td>0.860571</td>\n",
              "      <td>0.00</td>\n",
              "      <td>0.000</td>\n",
              "      <td>1.00</td>\n",
              "      <td>1.00</td>\n",
              "      <td>3.0</td>\n",
              "    </tr>\n",
              "  </tbody>\n",
              "</table>\n",
              "</div>"
            ],
            "text/plain": [
              "          count          mean           std  ...       50%       75%      max\n",
              "age       274.0     45.127737     14.327991  ...     45.00     58.00     67.0\n",
              "income    274.0  30644.919453  13609.613043  ...  28080.05  38458.35  63130.1\n",
              "children  274.0      0.945255      0.860571  ...      1.00      1.00      3.0\n",
              "\n",
              "[3 rows x 8 columns]"
            ]
          },
          "metadata": {
            "tags": []
          },
          "execution_count": 87
        }
      ]
    },
    {
      "cell_type": "code",
      "metadata": {
        "id": "cXKRFpgJYe81",
        "colab_type": "code",
        "colab": {
          "base_uri": "https://localhost:8080/",
          "height": 141
        },
        "outputId": "d6321b31-cf13-420e-ae2a-f42ce5102071"
      },
      "source": [
        "#Let's get the numerical summaries for NO_pep subset\n",
        "no_pep.describe().T"
      ],
      "execution_count": 89,
      "outputs": [
        {
          "output_type": "execute_result",
          "data": {
            "text/html": [
              "<div>\n",
              "<style scoped>\n",
              "    .dataframe tbody tr th:only-of-type {\n",
              "        vertical-align: middle;\n",
              "    }\n",
              "\n",
              "    .dataframe tbody tr th {\n",
              "        vertical-align: top;\n",
              "    }\n",
              "\n",
              "    .dataframe thead th {\n",
              "        text-align: right;\n",
              "    }\n",
              "</style>\n",
              "<table border=\"1\" class=\"dataframe\">\n",
              "  <thead>\n",
              "    <tr style=\"text-align: right;\">\n",
              "      <th></th>\n",
              "      <th>count</th>\n",
              "      <th>mean</th>\n",
              "      <th>std</th>\n",
              "      <th>min</th>\n",
              "      <th>25%</th>\n",
              "      <th>50%</th>\n",
              "      <th>75%</th>\n",
              "      <th>max</th>\n",
              "    </tr>\n",
              "  </thead>\n",
              "  <tbody>\n",
              "    <tr>\n",
              "      <th>age</th>\n",
              "      <td>326.0</td>\n",
              "      <td>40.098160</td>\n",
              "      <td>14.123506</td>\n",
              "      <td>18.00</td>\n",
              "      <td>27.000</td>\n",
              "      <td>40.0</td>\n",
              "      <td>51.0</td>\n",
              "      <td>67.0</td>\n",
              "    </tr>\n",
              "    <tr>\n",
              "      <th>income</th>\n",
              "      <td>326.0</td>\n",
              "      <td>24900.953374</td>\n",
              "      <td>11661.123422</td>\n",
              "      <td>5014.21</td>\n",
              "      <td>15366.475</td>\n",
              "      <td>23105.0</td>\n",
              "      <td>31210.9</td>\n",
              "      <td>61554.6</td>\n",
              "    </tr>\n",
              "    <tr>\n",
              "      <th>children</th>\n",
              "      <td>326.0</td>\n",
              "      <td>1.067485</td>\n",
              "      <td>1.195524</td>\n",
              "      <td>0.00</td>\n",
              "      <td>0.000</td>\n",
              "      <td>0.0</td>\n",
              "      <td>2.0</td>\n",
              "      <td>3.0</td>\n",
              "    </tr>\n",
              "  </tbody>\n",
              "</table>\n",
              "</div>"
            ],
            "text/plain": [
              "          count          mean           std  ...      50%      75%      max\n",
              "age       326.0     40.098160     14.123506  ...     40.0     51.0     67.0\n",
              "income    326.0  24900.953374  11661.123422  ...  23105.0  31210.9  61554.6\n",
              "children  326.0      1.067485      1.195524  ...      0.0      2.0      3.0\n",
              "\n",
              "[3 rows x 8 columns]"
            ]
          },
          "metadata": {
            "tags": []
          },
          "execution_count": 89
        }
      ]
    },
    {
      "cell_type": "markdown",
      "metadata": {
        "id": "_C6zNqvXYqto",
        "colab_type": "text"
      },
      "source": [
        "* A couple of observations:\n",
        " * 274 YES vs. 326 NO\n",
        " * Mean Income and Mean Age are higher in the YES group\n",
        " * Income standard deviation is higher in YES group, as is the minimum value.\n"
      ]
    },
    {
      "cell_type": "code",
      "metadata": {
        "id": "54gbOdJmElix",
        "colab_type": "code",
        "colab": {
          "base_uri": "https://localhost:8080/",
          "height": 567
        },
        "outputId": "9f0eec5d-bbac-47b8-96ab-e807b60c0b1d"
      },
      "source": [
        "#visualize the difference\n",
        "sns.pairplot(df, hue = 'pep')\n",
        "#sns.pairplot(df_dummy, hue = 'pep')"
      ],
      "execution_count": 71,
      "outputs": [
        {
          "output_type": "execute_result",
          "data": {
            "text/plain": [
              "<seaborn.axisgrid.PairGrid at 0x7f8b1b9813c8>"
            ]
          },
          "metadata": {
            "tags": []
          },
          "execution_count": 71
        },
        {
          "output_type": "display_data",
          "data": {
            "image/png": "[encoded data removed]",
            "text/plain": [
              "<Figure size 594.5x540 with 12 Axes>"
            ]
          },
          "metadata": {
            "tags": []
          }
        }
      ]
    },
    {
      "cell_type": "markdown",
      "metadata": {
        "id": "76LY0cf4PMjJ",
        "colab_type": "text"
      },
      "source": [
        "* The yes_pep/no_pep subsets have similar distributions for the 3 numeric attributes. A bit of a difference in children distribution with 3 peaks for YES pep vs 2 for NO pep."
      ]
    },
    {
      "cell_type": "code",
      "metadata": {
        "id": "yz9f4eZ_Pkps",
        "colab_type": "code",
        "colab": {
          "base_uri": "https://localhost:8080/",
          "height": 283
        },
        "outputId": "99391eef-ed11-4bc2-f169-93231896aa02"
      },
      "source": [
        "#Gender\n",
        "gender_comp = sns.countplot(x=\"gender\", hue=\"pep\", data=df)"
      ],
      "execution_count": 72,
      "outputs": [
        {
          "output_type": "display_data",
          "data": {
            "image/png": "[encoded data removed]",
            "text/plain": [
              "<Figure size 432x288 with 1 Axes>"
            ]
          },
          "metadata": {
            "tags": []
          }
        }
      ]
    },
    {
      "cell_type": "markdown",
      "metadata": {
        "id": "hYvUDAqUYLu1",
        "colab_type": "text"
      },
      "source": [
        "* Male about the same, but more NO's in the female group vs YES's."
      ]
    },
    {
      "cell_type": "code",
      "metadata": {
        "id": "NiPnFooBUxTp",
        "colab_type": "code",
        "colab": {
          "base_uri": "https://localhost:8080/",
          "height": 284
        },
        "outputId": "c9a27815-e570-4caa-f086-03c3420d2a89"
      },
      "source": [
        "#Region\n",
        "region_comp = sns.countplot(x=\"region\", hue=\"pep\", data=df)"
      ],
      "execution_count": 79,
      "outputs": [
        {
          "output_type": "display_data",
          "data": {
            "image/png": "[encoded data removed]",
            "text/plain": [
              "<Figure size 432x288 with 1 Axes>"
            ]
          },
          "metadata": {
            "tags": []
          }
        }
      ]
    },
    {
      "cell_type": "markdown",
      "metadata": {
        "id": "QV-OQP0zdAYl",
        "colab_type": "text"
      },
      "source": [
        "* Seems like for Inner City, Town, and Rural there are more NO's than YES's for PEP. Suburban customers had slightly more YES's than NO's, but the overall population of the suburban group is also much lower."
      ]
    },
    {
      "cell_type": "code",
      "metadata": {
        "id": "I9kiZv8UUxgb",
        "colab_type": "code",
        "colab": {
          "base_uri": "https://localhost:8080/",
          "height": 283
        },
        "outputId": "818e96bf-e6f3-4b8a-c654-60bba44e7e09"
      },
      "source": [
        "#Married\n",
        "married_comp = sns.countplot(x=\"married\", hue=\"pep\", data=df)"
      ],
      "execution_count": 80,
      "outputs": [
        {
          "output_type": "display_data",
          "data": {
            "image/png": "[encoded data removed]",
            "text/plain": [
              "<Figure size 432x288 with 1 Axes>"
            ]
          },
          "metadata": {
            "tags": []
          }
        }
      ]
    },
    {
      "cell_type": "markdown",
      "metadata": {
        "id": "KzDoiJFqdfKh",
        "colab_type": "text"
      },
      "source": [
        "* For married customers, more did not have PEP than those who did have PEP.\n",
        "* For un-married customers, there were more YES than NO responses for PEP.\n",
        "* Seems to be good split on / be a part of some form of classification.  "
      ]
    },
    {
      "cell_type": "code",
      "metadata": {
        "id": "qMNvQuCvUxpK",
        "colab_type": "code",
        "colab": {
          "base_uri": "https://localhost:8080/",
          "height": 283
        },
        "outputId": "acba2bde-8a9c-4e74-b9a5-acda2949ebf7"
      },
      "source": [
        "#Car\n",
        "car_comp = sns.countplot(x=\"car\", hue=\"pep\", data=df)"
      ],
      "execution_count": 83,
      "outputs": [
        {
          "output_type": "display_data",
          "data": {
            "image/png": "[encoded data removed]",
            "text/plain": [
              "<Figure size 432x288 with 1 Axes>"
            ]
          },
          "metadata": {
            "tags": []
          }
        }
      ]
    },
    {
      "cell_type": "markdown",
      "metadata": {
        "id": "Bjfz0vFjd-Xu",
        "colab_type": "text"
      },
      "source": [
        "* More NO PEP than YES PEP for both those who have and do not have cars."
      ]
    },
    {
      "cell_type": "code",
      "metadata": {
        "id": "mAELZ5bNUxyN",
        "colab_type": "code",
        "colab": {
          "base_uri": "https://localhost:8080/",
          "height": 284
        },
        "outputId": "3d9e3764-3d07-4139-c76c-4f2febb0c61a"
      },
      "source": [
        "#Savings Accounts\n",
        "savings_comp = sns.countplot(x=\"savings_acct\", hue=\"pep\", data=df)"
      ],
      "execution_count": 86,
      "outputs": [
        {
          "output_type": "display_data",
          "data": {
            "image/png": "[encoded data removed]",
            "text/plain": [
              "<Figure size 432x288 with 1 Axes>"
            ]
          },
          "metadata": {
            "tags": []
          }
        }
      ]
    },
    {
      "cell_type": "markdown",
      "metadata": {
        "id": "yrEVmVBSeFiR",
        "colab_type": "text"
      },
      "source": [
        "* Savings_acct NO responses had about the same YES/NO to PEP\n",
        "* For those with savings accounts, more did not have PEP than those who did."
      ]
    },
    {
      "cell_type": "code",
      "metadata": {
        "id": "qe_VwiseUx60",
        "colab_type": "code",
        "colab": {
          "base_uri": "https://localhost:8080/",
          "height": 283
        },
        "outputId": "9ca1c6eb-c1a4-4737-bdd3-7b12a1816e03"
      },
      "source": [
        "#Current Accounts\n",
        "current_comp = sns.countplot(x=\"current_acct\", hue=\"pep\", data=df)"
      ],
      "execution_count": 84,
      "outputs": [
        {
          "output_type": "display_data",
          "data": {
            "image/png": "[encoded data removed]",
            "text/plain": [
              "<Figure size 432x288 with 1 Axes>"
            ]
          },
          "metadata": {
            "tags": []
          }
        }
      ]
    },
    {
      "cell_type": "markdown",
      "metadata": {
        "id": "1CQKfQzVeUtP",
        "colab_type": "text"
      },
      "source": [
        "* For both those with current account and those without, more customers responded NO PEP than those who said YES PEP. "
      ]
    },
    {
      "cell_type": "code",
      "metadata": {
        "id": "0KNMay7TUyCi",
        "colab_type": "code",
        "colab": {
          "base_uri": "https://localhost:8080/",
          "height": 283
        },
        "outputId": "8f99f685-461b-41f6-aed3-3178bf0d02ec"
      },
      "source": [
        "#Mortgage\n",
        "mortage_comp = sns.countplot(x=\"mortgage\", hue=\"pep\", data=df)"
      ],
      "execution_count": 85,
      "outputs": [
        {
          "output_type": "display_data",
          "data": {
            "image/png": "[encoded data removed]",
            "text/plain": [
              "<Figure size 432x288 with 1 Axes>"
            ]
          },
          "metadata": {
            "tags": []
          }
        }
      ]
    },
    {
      "cell_type": "markdown",
      "metadata": {
        "id": "tuuM91-VeiDI",
        "colab_type": "text"
      },
      "source": [
        "* FOr both those with a mortgage and those without, more customers responded NO PEP than those who said YES PEP."
      ]
    },
    {
      "cell_type": "markdown",
      "metadata": {
        "id": "u_Hw5UYhqaoB",
        "colab_type": "text"
      },
      "source": [
        "## Problem 3\n",
        "\n",
        "3. Use z-score normalization to standardize the values of the income attribute. [Do not change the original income attribute in the table.]"
      ]
    },
    {
      "cell_type": "markdown",
      "metadata": {
        "id": "hqedfgzQl6Yv",
        "colab_type": "text"
      },
      "source": [
        "### Z-Score Normalization"
      ]
    },
    {
      "cell_type": "code",
      "metadata": {
        "id": "rkqIpcEdeyoG",
        "colab_type": "code",
        "colab": {
          "base_uri": "https://localhost:8080/",
          "height": 203
        },
        "outputId": "0d1fc546-2036-4d3c-d759-2f5df418337b"
      },
      "source": [
        "#Z-Score normalization of income attribute\n",
        "df['income_Z'] = (df['income'] - df['income'].mean())/df['income'].std()\n",
        "df.head()\n"
      ],
      "execution_count": 94,
      "outputs": [
        {
          "output_type": "execute_result",
          "data": {
            "text/html": [
              "<div>\n",
              "<style scoped>\n",
              "    .dataframe tbody tr th:only-of-type {\n",
              "        vertical-align: middle;\n",
              "    }\n",
              "\n",
              "    .dataframe tbody tr th {\n",
              "        vertical-align: top;\n",
              "    }\n",
              "\n",
              "    .dataframe thead th {\n",
              "        text-align: right;\n",
              "    }\n",
              "</style>\n",
              "<table border=\"1\" class=\"dataframe\">\n",
              "  <thead>\n",
              "    <tr style=\"text-align: right;\">\n",
              "      <th></th>\n",
              "      <th>age</th>\n",
              "      <th>income</th>\n",
              "      <th>children</th>\n",
              "      <th>gender</th>\n",
              "      <th>region</th>\n",
              "      <th>married</th>\n",
              "      <th>car</th>\n",
              "      <th>savings_acct</th>\n",
              "      <th>current_acct</th>\n",
              "      <th>mortgage</th>\n",
              "      <th>pep</th>\n",
              "      <th>income_Z</th>\n",
              "    </tr>\n",
              "  </thead>\n",
              "  <tbody>\n",
              "    <tr>\n",
              "      <th>0</th>\n",
              "      <td>48</td>\n",
              "      <td>17546.0</td>\n",
              "      <td>1</td>\n",
              "      <td>FEMALE</td>\n",
              "      <td>INNER_CITY</td>\n",
              "      <td>NO</td>\n",
              "      <td>NO</td>\n",
              "      <td>NO</td>\n",
              "      <td>NO</td>\n",
              "      <td>NO</td>\n",
              "      <td>YES</td>\n",
              "      <td>-0.773523</td>\n",
              "    </tr>\n",
              "    <tr>\n",
              "      <th>1</th>\n",
              "      <td>40</td>\n",
              "      <td>30085.1</td>\n",
              "      <td>3</td>\n",
              "      <td>MALE</td>\n",
              "      <td>TOWN</td>\n",
              "      <td>YES</td>\n",
              "      <td>YES</td>\n",
              "      <td>NO</td>\n",
              "      <td>YES</td>\n",
              "      <td>YES</td>\n",
              "      <td>NO</td>\n",
              "      <td>0.198541</td>\n",
              "    </tr>\n",
              "    <tr>\n",
              "      <th>2</th>\n",
              "      <td>51</td>\n",
              "      <td>16575.4</td>\n",
              "      <td>0</td>\n",
              "      <td>FEMALE</td>\n",
              "      <td>INNER_CITY</td>\n",
              "      <td>YES</td>\n",
              "      <td>YES</td>\n",
              "      <td>YES</td>\n",
              "      <td>YES</td>\n",
              "      <td>NO</td>\n",
              "      <td>NO</td>\n",
              "      <td>-0.848766</td>\n",
              "    </tr>\n",
              "    <tr>\n",
              "      <th>3</th>\n",
              "      <td>23</td>\n",
              "      <td>20375.4</td>\n",
              "      <td>3</td>\n",
              "      <td>FEMALE</td>\n",
              "      <td>TOWN</td>\n",
              "      <td>YES</td>\n",
              "      <td>NO</td>\n",
              "      <td>NO</td>\n",
              "      <td>YES</td>\n",
              "      <td>NO</td>\n",
              "      <td>NO</td>\n",
              "      <td>-0.554180</td>\n",
              "    </tr>\n",
              "    <tr>\n",
              "      <th>4</th>\n",
              "      <td>57</td>\n",
              "      <td>50576.3</td>\n",
              "      <td>0</td>\n",
              "      <td>FEMALE</td>\n",
              "      <td>RURAL</td>\n",
              "      <td>YES</td>\n",
              "      <td>NO</td>\n",
              "      <td>YES</td>\n",
              "      <td>NO</td>\n",
              "      <td>NO</td>\n",
              "      <td>NO</td>\n",
              "      <td>1.787071</td>\n",
              "    </tr>\n",
              "  </tbody>\n",
              "</table>\n",
              "</div>"
            ],
            "text/plain": [
              "   age   income  children  gender  ... current_acct mortgage  pep  income_Z\n",
              "0   48  17546.0         1  FEMALE  ...           NO       NO  YES -0.773523\n",
              "1   40  30085.1         3    MALE  ...          YES      YES   NO  0.198541\n",
              "2   51  16575.4         0  FEMALE  ...          YES       NO   NO -0.848766\n",
              "3   23  20375.4         3  FEMALE  ...          YES       NO   NO -0.554180\n",
              "4   57  50576.3         0  FEMALE  ...           NO       NO   NO  1.787071\n",
              "\n",
              "[5 rows x 12 columns]"
            ]
          },
          "metadata": {
            "tags": []
          },
          "execution_count": 94
        }
      ]
    },
    {
      "cell_type": "code",
      "metadata": {
        "id": "C_93bfVyjrWG",
        "colab_type": "code",
        "colab": {
          "base_uri": "https://localhost:8080/",
          "height": 172
        },
        "outputId": "29613b94-7d0f-4c66-e684-e5793d5feb07"
      },
      "source": [
        "#Describe variables to double check\n",
        "df.describe().T"
      ],
      "execution_count": 96,
      "outputs": [
        {
          "output_type": "execute_result",
          "data": {
            "text/html": [
              "<div>\n",
              "<style scoped>\n",
              "    .dataframe tbody tr th:only-of-type {\n",
              "        vertical-align: middle;\n",
              "    }\n",
              "\n",
              "    .dataframe tbody tr th {\n",
              "        vertical-align: top;\n",
              "    }\n",
              "\n",
              "    .dataframe thead th {\n",
              "        text-align: right;\n",
              "    }\n",
              "</style>\n",
              "<table border=\"1\" class=\"dataframe\">\n",
              "  <thead>\n",
              "    <tr style=\"text-align: right;\">\n",
              "      <th></th>\n",
              "      <th>count</th>\n",
              "      <th>mean</th>\n",
              "      <th>std</th>\n",
              "      <th>min</th>\n",
              "      <th>25%</th>\n",
              "      <th>50%</th>\n",
              "      <th>75%</th>\n",
              "      <th>max</th>\n",
              "    </tr>\n",
              "  </thead>\n",
              "  <tbody>\n",
              "    <tr>\n",
              "      <th>age</th>\n",
              "      <td>600.0</td>\n",
              "      <td>4.239500e+01</td>\n",
              "      <td>14.424947</td>\n",
              "      <td>18.000000</td>\n",
              "      <td>30.000000</td>\n",
              "      <td>42.00000</td>\n",
              "      <td>55.250000</td>\n",
              "      <td>67.000000</td>\n",
              "    </tr>\n",
              "    <tr>\n",
              "      <th>income</th>\n",
              "      <td>600.0</td>\n",
              "      <td>2.752403e+04</td>\n",
              "      <td>12899.468246</td>\n",
              "      <td>5014.210000</td>\n",
              "      <td>17264.500000</td>\n",
              "      <td>24925.30000</td>\n",
              "      <td>36172.675000</td>\n",
              "      <td>63130.100000</td>\n",
              "    </tr>\n",
              "    <tr>\n",
              "      <th>children</th>\n",
              "      <td>600.0</td>\n",
              "      <td>1.011667e+00</td>\n",
              "      <td>1.056752</td>\n",
              "      <td>0.000000</td>\n",
              "      <td>0.000000</td>\n",
              "      <td>1.00000</td>\n",
              "      <td>2.000000</td>\n",
              "      <td>3.000000</td>\n",
              "    </tr>\n",
              "    <tr>\n",
              "      <th>income_Z</th>\n",
              "      <td>600.0</td>\n",
              "      <td>-2.513545e-15</td>\n",
              "      <td>1.000000</td>\n",
              "      <td>-1.745019</td>\n",
              "      <td>-0.795345</td>\n",
              "      <td>-0.20146</td>\n",
              "      <td>0.670465</td>\n",
              "      <td>2.760274</td>\n",
              "    </tr>\n",
              "  </tbody>\n",
              "</table>\n",
              "</div>"
            ],
            "text/plain": [
              "          count          mean  ...           75%           max\n",
              "age       600.0  4.239500e+01  ...     55.250000     67.000000\n",
              "income    600.0  2.752403e+04  ...  36172.675000  63130.100000\n",
              "children  600.0  1.011667e+00  ...      2.000000      3.000000\n",
              "income_Z  600.0 -2.513545e-15  ...      0.670465      2.760274\n",
              "\n",
              "[4 rows x 8 columns]"
            ]
          },
          "metadata": {
            "tags": []
          },
          "execution_count": 96
        }
      ]
    },
    {
      "cell_type": "markdown",
      "metadata": {
        "id": "tCT02hsxqc2h",
        "colab_type": "text"
      },
      "source": [
        "## Problem 4\n",
        "\n",
        "4. Discretize the age attribute into 3 categories (corresponding to \"young\", \"mid-age\", and \"old\"). [Do not change the original age attribute in the table.]"
      ]
    },
    {
      "cell_type": "markdown",
      "metadata": {
        "id": "MrcPThTWs1fn",
        "colab_type": "text"
      },
      "source": [
        "### Discretize Age"
      ]
    },
    {
      "cell_type": "code",
      "metadata": {
        "id": "GKCoiEUokCqR",
        "colab_type": "code",
        "colab": {
          "base_uri": "https://localhost:8080/",
          "height": 203
        },
        "outputId": "661545e8-d949-4efe-8dfc-a349b0cd5749"
      },
      "source": [
        "# Discretize age into 3 bins\n",
        "#young = 0-30 (about 25% of samples)\n",
        "#mid-age = 30-55 (about 50% of samples)\n",
        "#old = 55-70 (about 25% of of samples)\n",
        "age_bins = [0, 30, 55, 70]\n",
        "age_labels = [\"young\",\"mid-age\",\"old\"]\n",
        "age_discrete = pd.cut(df['age'],bins=age_bins, labels=age_labels)\n",
        "\n",
        "df['age_discrete'] = age_discrete\n",
        "df.head()"
      ],
      "execution_count": 103,
      "outputs": [
        {
          "output_type": "execute_result",
          "data": {
            "text/html": [
              "<div>\n",
              "<style scoped>\n",
              "    .dataframe tbody tr th:only-of-type {\n",
              "        vertical-align: middle;\n",
              "    }\n",
              "\n",
              "    .dataframe tbody tr th {\n",
              "        vertical-align: top;\n",
              "    }\n",
              "\n",
              "    .dataframe thead th {\n",
              "        text-align: right;\n",
              "    }\n",
              "</style>\n",
              "<table border=\"1\" class=\"dataframe\">\n",
              "  <thead>\n",
              "    <tr style=\"text-align: right;\">\n",
              "      <th></th>\n",
              "      <th>age</th>\n",
              "      <th>income</th>\n",
              "      <th>children</th>\n",
              "      <th>gender</th>\n",
              "      <th>region</th>\n",
              "      <th>married</th>\n",
              "      <th>car</th>\n",
              "      <th>savings_acct</th>\n",
              "      <th>current_acct</th>\n",
              "      <th>mortgage</th>\n",
              "      <th>pep</th>\n",
              "      <th>income_Z</th>\n",
              "      <th>age_discrete</th>\n",
              "    </tr>\n",
              "  </thead>\n",
              "  <tbody>\n",
              "    <tr>\n",
              "      <th>0</th>\n",
              "      <td>48</td>\n",
              "      <td>17546.0</td>\n",
              "      <td>1</td>\n",
              "      <td>FEMALE</td>\n",
              "      <td>INNER_CITY</td>\n",
              "      <td>NO</td>\n",
              "      <td>NO</td>\n",
              "      <td>NO</td>\n",
              "      <td>NO</td>\n",
              "      <td>NO</td>\n",
              "      <td>YES</td>\n",
              "      <td>-0.773523</td>\n",
              "      <td>mid-age</td>\n",
              "    </tr>\n",
              "    <tr>\n",
              "      <th>1</th>\n",
              "      <td>40</td>\n",
              "      <td>30085.1</td>\n",
              "      <td>3</td>\n",
              "      <td>MALE</td>\n",
              "      <td>TOWN</td>\n",
              "      <td>YES</td>\n",
              "      <td>YES</td>\n",
              "      <td>NO</td>\n",
              "      <td>YES</td>\n",
              "      <td>YES</td>\n",
              "      <td>NO</td>\n",
              "      <td>0.198541</td>\n",
              "      <td>mid-age</td>\n",
              "    </tr>\n",
              "    <tr>\n",
              "      <th>2</th>\n",
              "      <td>51</td>\n",
              "      <td>16575.4</td>\n",
              "      <td>0</td>\n",
              "      <td>FEMALE</td>\n",
              "      <td>INNER_CITY</td>\n",
              "      <td>YES</td>\n",
              "      <td>YES</td>\n",
              "      <td>YES</td>\n",
              "      <td>YES</td>\n",
              "      <td>NO</td>\n",
              "      <td>NO</td>\n",
              "      <td>-0.848766</td>\n",
              "      <td>mid-age</td>\n",
              "    </tr>\n",
              "    <tr>\n",
              "      <th>3</th>\n",
              "      <td>23</td>\n",
              "      <td>20375.4</td>\n",
              "      <td>3</td>\n",
              "      <td>FEMALE</td>\n",
              "      <td>TOWN</td>\n",
              "      <td>YES</td>\n",
              "      <td>NO</td>\n",
              "      <td>NO</td>\n",
              "      <td>YES</td>\n",
              "      <td>NO</td>\n",
              "      <td>NO</td>\n",
              "      <td>-0.554180</td>\n",
              "      <td>young</td>\n",
              "    </tr>\n",
              "    <tr>\n",
              "      <th>4</th>\n",
              "      <td>57</td>\n",
              "      <td>50576.3</td>\n",
              "      <td>0</td>\n",
              "      <td>FEMALE</td>\n",
              "      <td>RURAL</td>\n",
              "      <td>YES</td>\n",
              "      <td>NO</td>\n",
              "      <td>YES</td>\n",
              "      <td>NO</td>\n",
              "      <td>NO</td>\n",
              "      <td>NO</td>\n",
              "      <td>1.787071</td>\n",
              "      <td>old</td>\n",
              "    </tr>\n",
              "  </tbody>\n",
              "</table>\n",
              "</div>"
            ],
            "text/plain": [
              "   age   income  children  gender  ... mortgage  pep  income_Z age_discrete\n",
              "0   48  17546.0         1  FEMALE  ...       NO  YES -0.773523      mid-age\n",
              "1   40  30085.1         3    MALE  ...      YES   NO  0.198541      mid-age\n",
              "2   51  16575.4         0  FEMALE  ...       NO   NO -0.848766      mid-age\n",
              "3   23  20375.4         3  FEMALE  ...       NO   NO -0.554180        young\n",
              "4   57  50576.3         0  FEMALE  ...       NO   NO  1.787071          old\n",
              "\n",
              "[5 rows x 13 columns]"
            ]
          },
          "metadata": {
            "tags": []
          },
          "execution_count": 103
        }
      ]
    },
    {
      "cell_type": "code",
      "metadata": {
        "id": "PxA1AtGPqowc",
        "colab_type": "code",
        "colab": {
          "base_uri": "https://localhost:8080/",
          "height": 370
        },
        "outputId": "79df49d0-4e2a-4893-9322-8042a7cd07e5"
      },
      "source": [
        "#Show distribution\n",
        "df['age_discrete'].value_counts().plot(kind='bar')\n",
        "df['age_discrete'].value_counts()"
      ],
      "execution_count": 102,
      "outputs": [
        {
          "output_type": "execute_result",
          "data": {
            "text/plain": [
              "mid-age    294\n",
              "young      156\n",
              "old        150\n",
              "Name: age_discrete, dtype: int64"
            ]
          },
          "metadata": {
            "tags": []
          },
          "execution_count": 102
        },
        {
          "output_type": "display_data",
          "data": {
            "image/png": "[encoded data removed]",
            "text/plain": [
              "<Figure size 432x288 with 1 Axes>"
            ]
          },
          "metadata": {
            "tags": []
          }
        }
      ]
    },
    {
      "cell_type": "markdown",
      "metadata": {
        "id": "Vat59GnbrMJD",
        "colab_type": "text"
      },
      "source": [
        "* I chose to split young / mid-age / old with 25% / 50% / 25% samples per group respectively, but other groupings could be more useful depending on the purpose. "
      ]
    },
    {
      "cell_type": "markdown",
      "metadata": {
        "id": "Zk7KqrRqqetu",
        "colab_type": "text"
      },
      "source": [
        "## Problem 5"
      ]
    },
    {
      "cell_type": "markdown",
      "metadata": {
        "id": "mdYZTU-Up0HB",
        "colab_type": "text"
      },
      "source": [
        "5. Use Min-Max Normalization to transform the values of all numeric attributes  (income, age, children) in the original table (before the transformations in parts 3 and 4 above) onto the range 0.0-1.0."
      ]
    },
    {
      "cell_type": "markdown",
      "metadata": {
        "id": "5EKXwalet2kB",
        "colab_type": "text"
      },
      "source": [
        "### Min-Max on Income"
      ]
    },
    {
      "cell_type": "code",
      "metadata": {
        "id": "szX5Yb_2n-1p",
        "colab_type": "code",
        "colab": {
          "base_uri": "https://localhost:8080/",
          "height": 203
        },
        "outputId": "b0d61b1d-a923-4abe-dbfa-40f2f1a43532"
      },
      "source": [
        "# Income as float\n",
        "income_float = df[['income']].values.astype(float)\n",
        "\n",
        "# Create a minimum and maximum processor object\n",
        "min_max_scaler = preprocessing.MinMaxScaler()\n",
        "\n",
        "# Create an object to transform the data to fit minmax processor\n",
        "income_float_scaled = min_max_scaler.fit_transform(income_float)\n",
        "\n",
        "# Run the normalizer on the dataframe\n",
        "minmax_income = pd.DataFrame(income_float_scaled)\n",
        "\n",
        "# Append to global df\n",
        "df['minmax_income'] = minmax_income[0]\n",
        "\n",
        "df.head()"
      ],
      "execution_count": 113,
      "outputs": [
        {
          "output_type": "execute_result",
          "data": {
            "text/html": [
              "<div>\n",
              "<style scoped>\n",
              "    .dataframe tbody tr th:only-of-type {\n",
              "        vertical-align: middle;\n",
              "    }\n",
              "\n",
              "    .dataframe tbody tr th {\n",
              "        vertical-align: top;\n",
              "    }\n",
              "\n",
              "    .dataframe thead th {\n",
              "        text-align: right;\n",
              "    }\n",
              "</style>\n",
              "<table border=\"1\" class=\"dataframe\">\n",
              "  <thead>\n",
              "    <tr style=\"text-align: right;\">\n",
              "      <th></th>\n",
              "      <th>age</th>\n",
              "      <th>income</th>\n",
              "      <th>children</th>\n",
              "      <th>gender</th>\n",
              "      <th>region</th>\n",
              "      <th>married</th>\n",
              "      <th>car</th>\n",
              "      <th>savings_acct</th>\n",
              "      <th>current_acct</th>\n",
              "      <th>mortgage</th>\n",
              "      <th>pep</th>\n",
              "      <th>income_Z</th>\n",
              "      <th>age_discrete</th>\n",
              "      <th>minmax_income</th>\n",
              "    </tr>\n",
              "  </thead>\n",
              "  <tbody>\n",
              "    <tr>\n",
              "      <th>0</th>\n",
              "      <td>48</td>\n",
              "      <td>17546.0</td>\n",
              "      <td>1</td>\n",
              "      <td>FEMALE</td>\n",
              "      <td>INNER_CITY</td>\n",
              "      <td>NO</td>\n",
              "      <td>NO</td>\n",
              "      <td>NO</td>\n",
              "      <td>NO</td>\n",
              "      <td>NO</td>\n",
              "      <td>YES</td>\n",
              "      <td>-0.773523</td>\n",
              "      <td>mid-age</td>\n",
              "      <td>0.215634</td>\n",
              "    </tr>\n",
              "    <tr>\n",
              "      <th>1</th>\n",
              "      <td>40</td>\n",
              "      <td>30085.1</td>\n",
              "      <td>3</td>\n",
              "      <td>MALE</td>\n",
              "      <td>TOWN</td>\n",
              "      <td>YES</td>\n",
              "      <td>YES</td>\n",
              "      <td>NO</td>\n",
              "      <td>YES</td>\n",
              "      <td>YES</td>\n",
              "      <td>NO</td>\n",
              "      <td>0.198541</td>\n",
              "      <td>mid-age</td>\n",
              "      <td>0.431395</td>\n",
              "    </tr>\n",
              "    <tr>\n",
              "      <th>2</th>\n",
              "      <td>51</td>\n",
              "      <td>16575.4</td>\n",
              "      <td>0</td>\n",
              "      <td>FEMALE</td>\n",
              "      <td>INNER_CITY</td>\n",
              "      <td>YES</td>\n",
              "      <td>YES</td>\n",
              "      <td>YES</td>\n",
              "      <td>YES</td>\n",
              "      <td>NO</td>\n",
              "      <td>NO</td>\n",
              "      <td>-0.848766</td>\n",
              "      <td>mid-age</td>\n",
              "      <td>0.198933</td>\n",
              "    </tr>\n",
              "    <tr>\n",
              "      <th>3</th>\n",
              "      <td>23</td>\n",
              "      <td>20375.4</td>\n",
              "      <td>3</td>\n",
              "      <td>FEMALE</td>\n",
              "      <td>TOWN</td>\n",
              "      <td>YES</td>\n",
              "      <td>NO</td>\n",
              "      <td>NO</td>\n",
              "      <td>YES</td>\n",
              "      <td>NO</td>\n",
              "      <td>NO</td>\n",
              "      <td>-0.554180</td>\n",
              "      <td>young</td>\n",
              "      <td>0.264320</td>\n",
              "    </tr>\n",
              "    <tr>\n",
              "      <th>4</th>\n",
              "      <td>57</td>\n",
              "      <td>50576.3</td>\n",
              "      <td>0</td>\n",
              "      <td>FEMALE</td>\n",
              "      <td>RURAL</td>\n",
              "      <td>YES</td>\n",
              "      <td>NO</td>\n",
              "      <td>YES</td>\n",
              "      <td>NO</td>\n",
              "      <td>NO</td>\n",
              "      <td>NO</td>\n",
              "      <td>1.787071</td>\n",
              "      <td>old</td>\n",
              "      <td>0.783987</td>\n",
              "    </tr>\n",
              "  </tbody>\n",
              "</table>\n",
              "</div>"
            ],
            "text/plain": [
              "   age   income  children  gender  ...  pep  income_Z age_discrete minmax_income\n",
              "0   48  17546.0         1  FEMALE  ...  YES -0.773523      mid-age      0.215634\n",
              "1   40  30085.1         3    MALE  ...   NO  0.198541      mid-age      0.431395\n",
              "2   51  16575.4         0  FEMALE  ...   NO -0.848766      mid-age      0.198933\n",
              "3   23  20375.4         3  FEMALE  ...   NO -0.554180        young      0.264320\n",
              "4   57  50576.3         0  FEMALE  ...   NO  1.787071          old      0.783987\n",
              "\n",
              "[5 rows x 14 columns]"
            ]
          },
          "metadata": {
            "tags": []
          },
          "execution_count": 113
        }
      ]
    },
    {
      "cell_type": "markdown",
      "metadata": {
        "id": "o59eBhPvt9pk",
        "colab_type": "text"
      },
      "source": [
        "### Min-Max on Age"
      ]
    },
    {
      "cell_type": "code",
      "metadata": {
        "id": "Z2pjIGXCuBP2",
        "colab_type": "code",
        "colab": {
          "base_uri": "https://localhost:8080/",
          "height": 203
        },
        "outputId": "ebf918d3-f27c-46e9-a323-9d16f2cbdf77"
      },
      "source": [
        "# Age as float\n",
        "age_float = df[['age']].values.astype(float)\n",
        "\n",
        "# Create a minimum and maximum processor object\n",
        "min_max_scaler = preprocessing.MinMaxScaler()\n",
        "\n",
        "# Create an object to transform the data to fit minmax processor\n",
        "age_float_scaled = min_max_scaler.fit_transform(age_float)\n",
        "\n",
        "# Run the normalizer on the dataframe\n",
        "minmax_age = pd.DataFrame(age_float_scaled)\n",
        "\n",
        "# Append to global df\n",
        "df['minmax_age'] = minmax_age[0]\n",
        "\n",
        "df.head()"
      ],
      "execution_count": 114,
      "outputs": [
        {
          "output_type": "execute_result",
          "data": {
            "text/html": [
              "<div>\n",
              "<style scoped>\n",
              "    .dataframe tbody tr th:only-of-type {\n",
              "        vertical-align: middle;\n",
              "    }\n",
              "\n",
              "    .dataframe tbody tr th {\n",
              "        vertical-align: top;\n",
              "    }\n",
              "\n",
              "    .dataframe thead th {\n",
              "        text-align: right;\n",
              "    }\n",
              "</style>\n",
              "<table border=\"1\" class=\"dataframe\">\n",
              "  <thead>\n",
              "    <tr style=\"text-align: right;\">\n",
              "      <th></th>\n",
              "      <th>age</th>\n",
              "      <th>income</th>\n",
              "      <th>children</th>\n",
              "      <th>gender</th>\n",
              "      <th>region</th>\n",
              "      <th>married</th>\n",
              "      <th>car</th>\n",
              "      <th>savings_acct</th>\n",
              "      <th>current_acct</th>\n",
              "      <th>mortgage</th>\n",
              "      <th>pep</th>\n",
              "      <th>income_Z</th>\n",
              "      <th>age_discrete</th>\n",
              "      <th>minmax_income</th>\n",
              "      <th>minmax_age</th>\n",
              "    </tr>\n",
              "  </thead>\n",
              "  <tbody>\n",
              "    <tr>\n",
              "      <th>0</th>\n",
              "      <td>48</td>\n",
              "      <td>17546.0</td>\n",
              "      <td>1</td>\n",
              "      <td>FEMALE</td>\n",
              "      <td>INNER_CITY</td>\n",
              "      <td>NO</td>\n",
              "      <td>NO</td>\n",
              "      <td>NO</td>\n",
              "      <td>NO</td>\n",
              "      <td>NO</td>\n",
              "      <td>YES</td>\n",
              "      <td>-0.773523</td>\n",
              "      <td>mid-age</td>\n",
              "      <td>0.215634</td>\n",
              "      <td>0.612245</td>\n",
              "    </tr>\n",
              "    <tr>\n",
              "      <th>1</th>\n",
              "      <td>40</td>\n",
              "      <td>30085.1</td>\n",
              "      <td>3</td>\n",
              "      <td>MALE</td>\n",
              "      <td>TOWN</td>\n",
              "      <td>YES</td>\n",
              "      <td>YES</td>\n",
              "      <td>NO</td>\n",
              "      <td>YES</td>\n",
              "      <td>YES</td>\n",
              "      <td>NO</td>\n",
              "      <td>0.198541</td>\n",
              "      <td>mid-age</td>\n",
              "      <td>0.431395</td>\n",
              "      <td>0.448980</td>\n",
              "    </tr>\n",
              "    <tr>\n",
              "      <th>2</th>\n",
              "      <td>51</td>\n",
              "      <td>16575.4</td>\n",
              "      <td>0</td>\n",
              "      <td>FEMALE</td>\n",
              "      <td>INNER_CITY</td>\n",
              "      <td>YES</td>\n",
              "      <td>YES</td>\n",
              "      <td>YES</td>\n",
              "      <td>YES</td>\n",
              "      <td>NO</td>\n",
              "      <td>NO</td>\n",
              "      <td>-0.848766</td>\n",
              "      <td>mid-age</td>\n",
              "      <td>0.198933</td>\n",
              "      <td>0.673469</td>\n",
              "    </tr>\n",
              "    <tr>\n",
              "      <th>3</th>\n",
              "      <td>23</td>\n",
              "      <td>20375.4</td>\n",
              "      <td>3</td>\n",
              "      <td>FEMALE</td>\n",
              "      <td>TOWN</td>\n",
              "      <td>YES</td>\n",
              "      <td>NO</td>\n",
              "      <td>NO</td>\n",
              "      <td>YES</td>\n",
              "      <td>NO</td>\n",
              "      <td>NO</td>\n",
              "      <td>-0.554180</td>\n",
              "      <td>young</td>\n",
              "      <td>0.264320</td>\n",
              "      <td>0.102041</td>\n",
              "    </tr>\n",
              "    <tr>\n",
              "      <th>4</th>\n",
              "      <td>57</td>\n",
              "      <td>50576.3</td>\n",
              "      <td>0</td>\n",
              "      <td>FEMALE</td>\n",
              "      <td>RURAL</td>\n",
              "      <td>YES</td>\n",
              "      <td>NO</td>\n",
              "      <td>YES</td>\n",
              "      <td>NO</td>\n",
              "      <td>NO</td>\n",
              "      <td>NO</td>\n",
              "      <td>1.787071</td>\n",
              "      <td>old</td>\n",
              "      <td>0.783987</td>\n",
              "      <td>0.795918</td>\n",
              "    </tr>\n",
              "  </tbody>\n",
              "</table>\n",
              "</div>"
            ],
            "text/plain": [
              "   age   income  children  ... age_discrete minmax_income minmax_age\n",
              "0   48  17546.0         1  ...      mid-age      0.215634   0.612245\n",
              "1   40  30085.1         3  ...      mid-age      0.431395   0.448980\n",
              "2   51  16575.4         0  ...      mid-age      0.198933   0.673469\n",
              "3   23  20375.4         3  ...        young      0.264320   0.102041\n",
              "4   57  50576.3         0  ...          old      0.783987   0.795918\n",
              "\n",
              "[5 rows x 15 columns]"
            ]
          },
          "metadata": {
            "tags": []
          },
          "execution_count": 114
        }
      ]
    },
    {
      "cell_type": "markdown",
      "metadata": {
        "id": "BnsG6uJzuBbJ",
        "colab_type": "text"
      },
      "source": [
        "### Min-Max on Children"
      ]
    },
    {
      "cell_type": "code",
      "metadata": {
        "id": "-qb4JvymuBlT",
        "colab_type": "code",
        "colab": {
          "base_uri": "https://localhost:8080/",
          "height": 223
        },
        "outputId": "e453effa-0eb9-4d36-ee0a-0a5e2b254e09"
      },
      "source": [
        "# Income as float\n",
        "children_float = df[['children']].values.astype(float)\n",
        "\n",
        "# Create a minimum and maximum processor object\n",
        "min_max_scaler = preprocessing.MinMaxScaler()\n",
        "\n",
        "# Create an object to transform the data to fit minmax processor\n",
        "children_float_scaled = min_max_scaler.fit_transform(children_float)\n",
        "\n",
        "# Run the normalizer on the dataframe\n",
        "minmax_children = pd.DataFrame(children_float_scaled)\n",
        "\n",
        "# Append to global df\n",
        "df['minmax_children'] = minmax_children[0]\n",
        "\n",
        "df.head()"
      ],
      "execution_count": 115,
      "outputs": [
        {
          "output_type": "execute_result",
          "data": {
            "text/html": [
              "<div>\n",
              "<style scoped>\n",
              "    .dataframe tbody tr th:only-of-type {\n",
              "        vertical-align: middle;\n",
              "    }\n",
              "\n",
              "    .dataframe tbody tr th {\n",
              "        vertical-align: top;\n",
              "    }\n",
              "\n",
              "    .dataframe thead th {\n",
              "        text-align: right;\n",
              "    }\n",
              "</style>\n",
              "<table border=\"1\" class=\"dataframe\">\n",
              "  <thead>\n",
              "    <tr style=\"text-align: right;\">\n",
              "      <th></th>\n",
              "      <th>age</th>\n",
              "      <th>income</th>\n",
              "      <th>children</th>\n",
              "      <th>gender</th>\n",
              "      <th>region</th>\n",
              "      <th>married</th>\n",
              "      <th>car</th>\n",
              "      <th>savings_acct</th>\n",
              "      <th>current_acct</th>\n",
              "      <th>mortgage</th>\n",
              "      <th>pep</th>\n",
              "      <th>income_Z</th>\n",
              "      <th>age_discrete</th>\n",
              "      <th>minmax_income</th>\n",
              "      <th>minmax_age</th>\n",
              "      <th>minmax_children</th>\n",
              "    </tr>\n",
              "  </thead>\n",
              "  <tbody>\n",
              "    <tr>\n",
              "      <th>0</th>\n",
              "      <td>48</td>\n",
              "      <td>17546.0</td>\n",
              "      <td>1</td>\n",
              "      <td>FEMALE</td>\n",
              "      <td>INNER_CITY</td>\n",
              "      <td>NO</td>\n",
              "      <td>NO</td>\n",
              "      <td>NO</td>\n",
              "      <td>NO</td>\n",
              "      <td>NO</td>\n",
              "      <td>YES</td>\n",
              "      <td>-0.773523</td>\n",
              "      <td>mid-age</td>\n",
              "      <td>0.215634</td>\n",
              "      <td>0.612245</td>\n",
              "      <td>0.333333</td>\n",
              "    </tr>\n",
              "    <tr>\n",
              "      <th>1</th>\n",
              "      <td>40</td>\n",
              "      <td>30085.1</td>\n",
              "      <td>3</td>\n",
              "      <td>MALE</td>\n",
              "      <td>TOWN</td>\n",
              "      <td>YES</td>\n",
              "      <td>YES</td>\n",
              "      <td>NO</td>\n",
              "      <td>YES</td>\n",
              "      <td>YES</td>\n",
              "      <td>NO</td>\n",
              "      <td>0.198541</td>\n",
              "      <td>mid-age</td>\n",
              "      <td>0.431395</td>\n",
              "      <td>0.448980</td>\n",
              "      <td>1.000000</td>\n",
              "    </tr>\n",
              "    <tr>\n",
              "      <th>2</th>\n",
              "      <td>51</td>\n",
              "      <td>16575.4</td>\n",
              "      <td>0</td>\n",
              "      <td>FEMALE</td>\n",
              "      <td>INNER_CITY</td>\n",
              "      <td>YES</td>\n",
              "      <td>YES</td>\n",
              "      <td>YES</td>\n",
              "      <td>YES</td>\n",
              "      <td>NO</td>\n",
              "      <td>NO</td>\n",
              "      <td>-0.848766</td>\n",
              "      <td>mid-age</td>\n",
              "      <td>0.198933</td>\n",
              "      <td>0.673469</td>\n",
              "      <td>0.000000</td>\n",
              "    </tr>\n",
              "    <tr>\n",
              "      <th>3</th>\n",
              "      <td>23</td>\n",
              "      <td>20375.4</td>\n",
              "      <td>3</td>\n",
              "      <td>FEMALE</td>\n",
              "      <td>TOWN</td>\n",
              "      <td>YES</td>\n",
              "      <td>NO</td>\n",
              "      <td>NO</td>\n",
              "      <td>YES</td>\n",
              "      <td>NO</td>\n",
              "      <td>NO</td>\n",
              "      <td>-0.554180</td>\n",
              "      <td>young</td>\n",
              "      <td>0.264320</td>\n",
              "      <td>0.102041</td>\n",
              "      <td>1.000000</td>\n",
              "    </tr>\n",
              "    <tr>\n",
              "      <th>4</th>\n",
              "      <td>57</td>\n",
              "      <td>50576.3</td>\n",
              "      <td>0</td>\n",
              "      <td>FEMALE</td>\n",
              "      <td>RURAL</td>\n",
              "      <td>YES</td>\n",
              "      <td>NO</td>\n",
              "      <td>YES</td>\n",
              "      <td>NO</td>\n",
              "      <td>NO</td>\n",
              "      <td>NO</td>\n",
              "      <td>1.787071</td>\n",
              "      <td>old</td>\n",
              "      <td>0.783987</td>\n",
              "      <td>0.795918</td>\n",
              "      <td>0.000000</td>\n",
              "    </tr>\n",
              "  </tbody>\n",
              "</table>\n",
              "</div>"
            ],
            "text/plain": [
              "   age   income  children  ... minmax_income minmax_age minmax_children\n",
              "0   48  17546.0         1  ...      0.215634   0.612245        0.333333\n",
              "1   40  30085.1         3  ...      0.431395   0.448980        1.000000\n",
              "2   51  16575.4         0  ...      0.198933   0.673469        0.000000\n",
              "3   23  20375.4         3  ...      0.264320   0.102041        1.000000\n",
              "4   57  50576.3         0  ...      0.783987   0.795918        0.000000\n",
              "\n",
              "[5 rows x 16 columns]"
            ]
          },
          "metadata": {
            "tags": []
          },
          "execution_count": 115
        }
      ]
    },
    {
      "cell_type": "markdown",
      "metadata": {
        "id": "lW159ElHuFCZ",
        "colab_type": "text"
      },
      "source": [
        "### Check overall dataframe"
      ]
    },
    {
      "cell_type": "code",
      "metadata": {
        "id": "M-oUoSlRuK7z",
        "colab_type": "code",
        "colab": {
          "base_uri": "https://localhost:8080/",
          "height": 223
        },
        "outputId": "8c979765-a954-45fa-9f95-f476b72c1f0e"
      },
      "source": [
        "df.head()"
      ],
      "execution_count": 116,
      "outputs": [
        {
          "output_type": "execute_result",
          "data": {
            "text/html": [
              "<div>\n",
              "<style scoped>\n",
              "    .dataframe tbody tr th:only-of-type {\n",
              "        vertical-align: middle;\n",
              "    }\n",
              "\n",
              "    .dataframe tbody tr th {\n",
              "        vertical-align: top;\n",
              "    }\n",
              "\n",
              "    .dataframe thead th {\n",
              "        text-align: right;\n",
              "    }\n",
              "</style>\n",
              "<table border=\"1\" class=\"dataframe\">\n",
              "  <thead>\n",
              "    <tr style=\"text-align: right;\">\n",
              "      <th></th>\n",
              "      <th>age</th>\n",
              "      <th>income</th>\n",
              "      <th>children</th>\n",
              "      <th>gender</th>\n",
              "      <th>region</th>\n",
              "      <th>married</th>\n",
              "      <th>car</th>\n",
              "      <th>savings_acct</th>\n",
              "      <th>current_acct</th>\n",
              "      <th>mortgage</th>\n",
              "      <th>pep</th>\n",
              "      <th>income_Z</th>\n",
              "      <th>age_discrete</th>\n",
              "      <th>minmax_income</th>\n",
              "      <th>minmax_age</th>\n",
              "      <th>minmax_children</th>\n",
              "    </tr>\n",
              "  </thead>\n",
              "  <tbody>\n",
              "    <tr>\n",
              "      <th>0</th>\n",
              "      <td>48</td>\n",
              "      <td>17546.0</td>\n",
              "      <td>1</td>\n",
              "      <td>FEMALE</td>\n",
              "      <td>INNER_CITY</td>\n",
              "      <td>NO</td>\n",
              "      <td>NO</td>\n",
              "      <td>NO</td>\n",
              "      <td>NO</td>\n",
              "      <td>NO</td>\n",
              "      <td>YES</td>\n",
              "      <td>-0.773523</td>\n",
              "      <td>mid-age</td>\n",
              "      <td>0.215634</td>\n",
              "      <td>0.612245</td>\n",
              "      <td>0.333333</td>\n",
              "    </tr>\n",
              "    <tr>\n",
              "      <th>1</th>\n",
              "      <td>40</td>\n",
              "      <td>30085.1</td>\n",
              "      <td>3</td>\n",
              "      <td>MALE</td>\n",
              "      <td>TOWN</td>\n",
              "      <td>YES</td>\n",
              "      <td>YES</td>\n",
              "      <td>NO</td>\n",
              "      <td>YES</td>\n",
              "      <td>YES</td>\n",
              "      <td>NO</td>\n",
              "      <td>0.198541</td>\n",
              "      <td>mid-age</td>\n",
              "      <td>0.431395</td>\n",
              "      <td>0.448980</td>\n",
              "      <td>1.000000</td>\n",
              "    </tr>\n",
              "    <tr>\n",
              "      <th>2</th>\n",
              "      <td>51</td>\n",
              "      <td>16575.4</td>\n",
              "      <td>0</td>\n",
              "      <td>FEMALE</td>\n",
              "      <td>INNER_CITY</td>\n",
              "      <td>YES</td>\n",
              "      <td>YES</td>\n",
              "      <td>YES</td>\n",
              "      <td>YES</td>\n",
              "      <td>NO</td>\n",
              "      <td>NO</td>\n",
              "      <td>-0.848766</td>\n",
              "      <td>mid-age</td>\n",
              "      <td>0.198933</td>\n",
              "      <td>0.673469</td>\n",
              "      <td>0.000000</td>\n",
              "    </tr>\n",
              "    <tr>\n",
              "      <th>3</th>\n",
              "      <td>23</td>\n",
              "      <td>20375.4</td>\n",
              "      <td>3</td>\n",
              "      <td>FEMALE</td>\n",
              "      <td>TOWN</td>\n",
              "      <td>YES</td>\n",
              "      <td>NO</td>\n",
              "      <td>NO</td>\n",
              "      <td>YES</td>\n",
              "      <td>NO</td>\n",
              "      <td>NO</td>\n",
              "      <td>-0.554180</td>\n",
              "      <td>young</td>\n",
              "      <td>0.264320</td>\n",
              "      <td>0.102041</td>\n",
              "      <td>1.000000</td>\n",
              "    </tr>\n",
              "    <tr>\n",
              "      <th>4</th>\n",
              "      <td>57</td>\n",
              "      <td>50576.3</td>\n",
              "      <td>0</td>\n",
              "      <td>FEMALE</td>\n",
              "      <td>RURAL</td>\n",
              "      <td>YES</td>\n",
              "      <td>NO</td>\n",
              "      <td>YES</td>\n",
              "      <td>NO</td>\n",
              "      <td>NO</td>\n",
              "      <td>NO</td>\n",
              "      <td>1.787071</td>\n",
              "      <td>old</td>\n",
              "      <td>0.783987</td>\n",
              "      <td>0.795918</td>\n",
              "      <td>0.000000</td>\n",
              "    </tr>\n",
              "  </tbody>\n",
              "</table>\n",
              "</div>"
            ],
            "text/plain": [
              "   age   income  children  ... minmax_income minmax_age minmax_children\n",
              "0   48  17546.0         1  ...      0.215634   0.612245        0.333333\n",
              "1   40  30085.1         3  ...      0.431395   0.448980        1.000000\n",
              "2   51  16575.4         0  ...      0.198933   0.673469        0.000000\n",
              "3   23  20375.4         3  ...      0.264320   0.102041        1.000000\n",
              "4   57  50576.3         0  ...      0.783987   0.795918        0.000000\n",
              "\n",
              "[5 rows x 16 columns]"
            ]
          },
          "metadata": {
            "tags": []
          },
          "execution_count": 116
        }
      ]
    },
    {
      "cell_type": "code",
      "metadata": {
        "id": "UZ1d5srzyLRY",
        "colab_type": "code",
        "colab": {
          "base_uri": "https://localhost:8080/",
          "height": 264
        },
        "outputId": "b43a9c39-1e2d-4e39-96b0-e5f5de6e6f09"
      },
      "source": [
        "df.describe().T"
      ],
      "execution_count": 118,
      "outputs": [
        {
          "output_type": "execute_result",
          "data": {
            "text/html": [
              "<div>\n",
              "<style scoped>\n",
              "    .dataframe tbody tr th:only-of-type {\n",
              "        vertical-align: middle;\n",
              "    }\n",
              "\n",
              "    .dataframe tbody tr th {\n",
              "        vertical-align: top;\n",
              "    }\n",
              "\n",
              "    .dataframe thead th {\n",
              "        text-align: right;\n",
              "    }\n",
              "</style>\n",
              "<table border=\"1\" class=\"dataframe\">\n",
              "  <thead>\n",
              "    <tr style=\"text-align: right;\">\n",
              "      <th></th>\n",
              "      <th>count</th>\n",
              "      <th>mean</th>\n",
              "      <th>std</th>\n",
              "      <th>min</th>\n",
              "      <th>25%</th>\n",
              "      <th>50%</th>\n",
              "      <th>75%</th>\n",
              "      <th>max</th>\n",
              "    </tr>\n",
              "  </thead>\n",
              "  <tbody>\n",
              "    <tr>\n",
              "      <th>age</th>\n",
              "      <td>600.0</td>\n",
              "      <td>4.239500e+01</td>\n",
              "      <td>14.424947</td>\n",
              "      <td>18.000000</td>\n",
              "      <td>30.000000</td>\n",
              "      <td>42.000000</td>\n",
              "      <td>55.250000</td>\n",
              "      <td>67.000000</td>\n",
              "    </tr>\n",
              "    <tr>\n",
              "      <th>income</th>\n",
              "      <td>600.0</td>\n",
              "      <td>2.752403e+04</td>\n",
              "      <td>12899.468246</td>\n",
              "      <td>5014.210000</td>\n",
              "      <td>17264.500000</td>\n",
              "      <td>24925.300000</td>\n",
              "      <td>36172.675000</td>\n",
              "      <td>63130.100000</td>\n",
              "    </tr>\n",
              "    <tr>\n",
              "      <th>children</th>\n",
              "      <td>600.0</td>\n",
              "      <td>1.011667e+00</td>\n",
              "      <td>1.056752</td>\n",
              "      <td>0.000000</td>\n",
              "      <td>0.000000</td>\n",
              "      <td>1.000000</td>\n",
              "      <td>2.000000</td>\n",
              "      <td>3.000000</td>\n",
              "    </tr>\n",
              "    <tr>\n",
              "      <th>income_Z</th>\n",
              "      <td>600.0</td>\n",
              "      <td>-2.513545e-15</td>\n",
              "      <td>1.000000</td>\n",
              "      <td>-1.745019</td>\n",
              "      <td>-0.795345</td>\n",
              "      <td>-0.201460</td>\n",
              "      <td>0.670465</td>\n",
              "      <td>2.760274</td>\n",
              "    </tr>\n",
              "    <tr>\n",
              "      <th>minmax_income</th>\n",
              "      <td>600.0</td>\n",
              "      <td>3.873264e-01</td>\n",
              "      <td>0.221961</td>\n",
              "      <td>0.000000</td>\n",
              "      <td>0.210791</td>\n",
              "      <td>0.342610</td>\n",
              "      <td>0.536144</td>\n",
              "      <td>1.000000</td>\n",
              "    </tr>\n",
              "    <tr>\n",
              "      <th>minmax_age</th>\n",
              "      <td>600.0</td>\n",
              "      <td>4.978571e-01</td>\n",
              "      <td>0.294387</td>\n",
              "      <td>0.000000</td>\n",
              "      <td>0.244898</td>\n",
              "      <td>0.489796</td>\n",
              "      <td>0.760204</td>\n",
              "      <td>1.000000</td>\n",
              "    </tr>\n",
              "    <tr>\n",
              "      <th>minmax_children</th>\n",
              "      <td>600.0</td>\n",
              "      <td>3.372222e-01</td>\n",
              "      <td>0.352251</td>\n",
              "      <td>0.000000</td>\n",
              "      <td>0.000000</td>\n",
              "      <td>0.333333</td>\n",
              "      <td>0.666667</td>\n",
              "      <td>1.000000</td>\n",
              "    </tr>\n",
              "  </tbody>\n",
              "</table>\n",
              "</div>"
            ],
            "text/plain": [
              "                 count          mean  ...           75%           max\n",
              "age              600.0  4.239500e+01  ...     55.250000     67.000000\n",
              "income           600.0  2.752403e+04  ...  36172.675000  63130.100000\n",
              "children         600.0  1.011667e+00  ...      2.000000      3.000000\n",
              "income_Z         600.0 -2.513545e-15  ...      0.670465      2.760274\n",
              "minmax_income    600.0  3.873264e-01  ...      0.536144      1.000000\n",
              "minmax_age       600.0  4.978571e-01  ...      0.760204      1.000000\n",
              "minmax_children  600.0  3.372222e-01  ...      0.666667      1.000000\n",
              "\n",
              "[7 rows x 8 columns]"
            ]
          },
          "metadata": {
            "tags": []
          },
          "execution_count": 118
        }
      ]
    },
    {
      "cell_type": "markdown",
      "metadata": {
        "id": "TwtceJZMyWkV",
        "colab_type": "text"
      },
      "source": [
        "* Everything Checks out in terms of the normalization. Not sure why we have done both z-score and minmax normalization on the income attribute though."
      ]
    },
    {
      "cell_type": "markdown",
      "metadata": {
        "id": "qDElR0tjqgn0",
        "colab_type": "text"
      },
      "source": [
        "## Problem 6"
      ]
    },
    {
      "cell_type": "markdown",
      "metadata": {
        "id": "yXDMnacVp1UJ",
        "colab_type": "text"
      },
      "source": [
        "6. Convert the table (after normalization in part 5) into the standard spreadsheet format. Note that this requires converting each categorical attribute into multiple binary (\"dummy\") attributes (one for each values of the categorical attribute) and assigning binary values corresponding to the presence or not presence of the attribute value in the original record). The numeric attributes should remain unchanged. Save this new table into a file called bank_numeric.csv and submit it along with your assignment. [Hint: you might consider using the get_dummies for Pandas data frames.]"
      ]
    },
    {
      "cell_type": "markdown",
      "metadata": {
        "id": "XZWRNmj85d8T",
        "colab_type": "text"
      },
      "source": [
        "### New Dataframe With Required Columns"
      ]
    },
    {
      "cell_type": "code",
      "metadata": {
        "id": "zmcikU_Uu5zM",
        "colab_type": "code",
        "colab": {
          "base_uri": "https://localhost:8080/",
          "height": 203
        },
        "outputId": "b6f3d53e-76b7-4d0e-c2f0-5cb953947d03"
      },
      "source": [
        "# Make a new datframe for what I assume are the columns actually required.\n",
        "\n",
        "df_p6 = df[['pep','gender','region','married','car','savings_acct','current_acct','mortgage','age_discrete','minmax_income','minmax_age','minmax_children','income_Z']]\n",
        "\n",
        "df_p6.head()"
      ],
      "execution_count": 123,
      "outputs": [
        {
          "output_type": "execute_result",
          "data": {
            "text/html": [
              "<div>\n",
              "<style scoped>\n",
              "    .dataframe tbody tr th:only-of-type {\n",
              "        vertical-align: middle;\n",
              "    }\n",
              "\n",
              "    .dataframe tbody tr th {\n",
              "        vertical-align: top;\n",
              "    }\n",
              "\n",
              "    .dataframe thead th {\n",
              "        text-align: right;\n",
              "    }\n",
              "</style>\n",
              "<table border=\"1\" class=\"dataframe\">\n",
              "  <thead>\n",
              "    <tr style=\"text-align: right;\">\n",
              "      <th></th>\n",
              "      <th>pep</th>\n",
              "      <th>gender</th>\n",
              "      <th>region</th>\n",
              "      <th>married</th>\n",
              "      <th>car</th>\n",
              "      <th>savings_acct</th>\n",
              "      <th>current_acct</th>\n",
              "      <th>mortgage</th>\n",
              "      <th>age_discrete</th>\n",
              "      <th>minmax_income</th>\n",
              "      <th>minmax_age</th>\n",
              "      <th>minmax_children</th>\n",
              "      <th>income_Z</th>\n",
              "    </tr>\n",
              "  </thead>\n",
              "  <tbody>\n",
              "    <tr>\n",
              "      <th>0</th>\n",
              "      <td>YES</td>\n",
              "      <td>FEMALE</td>\n",
              "      <td>INNER_CITY</td>\n",
              "      <td>NO</td>\n",
              "      <td>NO</td>\n",
              "      <td>NO</td>\n",
              "      <td>NO</td>\n",
              "      <td>NO</td>\n",
              "      <td>mid-age</td>\n",
              "      <td>0.215634</td>\n",
              "      <td>0.612245</td>\n",
              "      <td>0.333333</td>\n",
              "      <td>-0.773523</td>\n",
              "    </tr>\n",
              "    <tr>\n",
              "      <th>1</th>\n",
              "      <td>NO</td>\n",
              "      <td>MALE</td>\n",
              "      <td>TOWN</td>\n",
              "      <td>YES</td>\n",
              "      <td>YES</td>\n",
              "      <td>NO</td>\n",
              "      <td>YES</td>\n",
              "      <td>YES</td>\n",
              "      <td>mid-age</td>\n",
              "      <td>0.431395</td>\n",
              "      <td>0.448980</td>\n",
              "      <td>1.000000</td>\n",
              "      <td>0.198541</td>\n",
              "    </tr>\n",
              "    <tr>\n",
              "      <th>2</th>\n",
              "      <td>NO</td>\n",
              "      <td>FEMALE</td>\n",
              "      <td>INNER_CITY</td>\n",
              "      <td>YES</td>\n",
              "      <td>YES</td>\n",
              "      <td>YES</td>\n",
              "      <td>YES</td>\n",
              "      <td>NO</td>\n",
              "      <td>mid-age</td>\n",
              "      <td>0.198933</td>\n",
              "      <td>0.673469</td>\n",
              "      <td>0.000000</td>\n",
              "      <td>-0.848766</td>\n",
              "    </tr>\n",
              "    <tr>\n",
              "      <th>3</th>\n",
              "      <td>NO</td>\n",
              "      <td>FEMALE</td>\n",
              "      <td>TOWN</td>\n",
              "      <td>YES</td>\n",
              "      <td>NO</td>\n",
              "      <td>NO</td>\n",
              "      <td>YES</td>\n",
              "      <td>NO</td>\n",
              "      <td>young</td>\n",
              "      <td>0.264320</td>\n",
              "      <td>0.102041</td>\n",
              "      <td>1.000000</td>\n",
              "      <td>-0.554180</td>\n",
              "    </tr>\n",
              "    <tr>\n",
              "      <th>4</th>\n",
              "      <td>NO</td>\n",
              "      <td>FEMALE</td>\n",
              "      <td>RURAL</td>\n",
              "      <td>YES</td>\n",
              "      <td>NO</td>\n",
              "      <td>YES</td>\n",
              "      <td>NO</td>\n",
              "      <td>NO</td>\n",
              "      <td>old</td>\n",
              "      <td>0.783987</td>\n",
              "      <td>0.795918</td>\n",
              "      <td>0.000000</td>\n",
              "      <td>1.787071</td>\n",
              "    </tr>\n",
              "  </tbody>\n",
              "</table>\n",
              "</div>"
            ],
            "text/plain": [
              "   pep  gender      region  ... minmax_age minmax_children  income_Z\n",
              "0  YES  FEMALE  INNER_CITY  ...   0.612245        0.333333 -0.773523\n",
              "1   NO    MALE        TOWN  ...   0.448980        1.000000  0.198541\n",
              "2   NO  FEMALE  INNER_CITY  ...   0.673469        0.000000 -0.848766\n",
              "3   NO  FEMALE        TOWN  ...   0.102041        1.000000 -0.554180\n",
              "4   NO  FEMALE       RURAL  ...   0.795918        0.000000  1.787071\n",
              "\n",
              "[5 rows x 13 columns]"
            ]
          },
          "metadata": {
            "tags": []
          },
          "execution_count": 123
        }
      ]
    },
    {
      "cell_type": "markdown",
      "metadata": {
        "id": "iNACxZ8t5kI7",
        "colab_type": "text"
      },
      "source": [
        "### Get Dummy Dataframe"
      ]
    },
    {
      "cell_type": "code",
      "metadata": {
        "id": "9urS3zb45wBU",
        "colab_type": "code",
        "colab": {
          "base_uri": "https://localhost:8080/",
          "height": 240
        },
        "outputId": "3fb42022-f874-427b-eed4-d68e1af7489c"
      },
      "source": [
        "#get a dummy df in case it's useful later on\n",
        "df_p6_dummy = pd.get_dummies(df_p6)\n",
        "\n",
        "df_p6_dummy.head()"
      ],
      "execution_count": 124,
      "outputs": [
        {
          "output_type": "execute_result",
          "data": {
            "text/html": [
              "<div>\n",
              "<style scoped>\n",
              "    .dataframe tbody tr th:only-of-type {\n",
              "        vertical-align: middle;\n",
              "    }\n",
              "\n",
              "    .dataframe tbody tr th {\n",
              "        vertical-align: top;\n",
              "    }\n",
              "\n",
              "    .dataframe thead th {\n",
              "        text-align: right;\n",
              "    }\n",
              "</style>\n",
              "<table border=\"1\" class=\"dataframe\">\n",
              "  <thead>\n",
              "    <tr style=\"text-align: right;\">\n",
              "      <th></th>\n",
              "      <th>minmax_income</th>\n",
              "      <th>minmax_age</th>\n",
              "      <th>minmax_children</th>\n",
              "      <th>income_Z</th>\n",
              "      <th>pep_NO</th>\n",
              "      <th>pep_YES</th>\n",
              "      <th>gender_FEMALE</th>\n",
              "      <th>gender_MALE</th>\n",
              "      <th>region_INNER_CITY</th>\n",
              "      <th>region_RURAL</th>\n",
              "      <th>region_SUBURBAN</th>\n",
              "      <th>region_TOWN</th>\n",
              "      <th>married_NO</th>\n",
              "      <th>married_YES</th>\n",
              "      <th>car_NO</th>\n",
              "      <th>car_YES</th>\n",
              "      <th>savings_acct_NO</th>\n",
              "      <th>savings_acct_YES</th>\n",
              "      <th>current_acct_NO</th>\n",
              "      <th>current_acct_YES</th>\n",
              "      <th>mortgage_NO</th>\n",
              "      <th>mortgage_YES</th>\n",
              "      <th>age_discrete_young</th>\n",
              "      <th>age_discrete_mid-age</th>\n",
              "      <th>age_discrete_old</th>\n",
              "    </tr>\n",
              "  </thead>\n",
              "  <tbody>\n",
              "    <tr>\n",
              "      <th>0</th>\n",
              "      <td>0.215634</td>\n",
              "      <td>0.612245</td>\n",
              "      <td>0.333333</td>\n",
              "      <td>-0.773523</td>\n",
              "      <td>0</td>\n",
              "      <td>1</td>\n",
              "      <td>1</td>\n",
              "      <td>0</td>\n",
              "      <td>1</td>\n",
              "      <td>0</td>\n",
              "      <td>0</td>\n",
              "      <td>0</td>\n",
              "      <td>1</td>\n",
              "      <td>0</td>\n",
              "      <td>1</td>\n",
              "      <td>0</td>\n",
              "      <td>1</td>\n",
              "      <td>0</td>\n",
              "      <td>1</td>\n",
              "      <td>0</td>\n",
              "      <td>1</td>\n",
              "      <td>0</td>\n",
              "      <td>0</td>\n",
              "      <td>1</td>\n",
              "      <td>0</td>\n",
              "    </tr>\n",
              "    <tr>\n",
              "      <th>1</th>\n",
              "      <td>0.431395</td>\n",
              "      <td>0.448980</td>\n",
              "      <td>1.000000</td>\n",
              "      <td>0.198541</td>\n",
              "      <td>1</td>\n",
              "      <td>0</td>\n",
              "      <td>0</td>\n",
              "      <td>1</td>\n",
              "      <td>0</td>\n",
              "      <td>0</td>\n",
              "      <td>0</td>\n",
              "      <td>1</td>\n",
              "      <td>0</td>\n",
              "      <td>1</td>\n",
              "      <td>0</td>\n",
              "      <td>1</td>\n",
              "      <td>1</td>\n",
              "      <td>0</td>\n",
              "      <td>0</td>\n",
              "      <td>1</td>\n",
              "      <td>0</td>\n",
              "      <td>1</td>\n",
              "      <td>0</td>\n",
              "      <td>1</td>\n",
              "      <td>0</td>\n",
              "    </tr>\n",
              "    <tr>\n",
              "      <th>2</th>\n",
              "      <td>0.198933</td>\n",
              "      <td>0.673469</td>\n",
              "      <td>0.000000</td>\n",
              "      <td>-0.848766</td>\n",
              "      <td>1</td>\n",
              "      <td>0</td>\n",
              "      <td>1</td>\n",
              "      <td>0</td>\n",
              "      <td>1</td>\n",
              "      <td>0</td>\n",
              "      <td>0</td>\n",
              "      <td>0</td>\n",
              "      <td>0</td>\n",
              "      <td>1</td>\n",
              "      <td>0</td>\n",
              "      <td>1</td>\n",
              "      <td>0</td>\n",
              "      <td>1</td>\n",
              "      <td>0</td>\n",
              "      <td>1</td>\n",
              "      <td>1</td>\n",
              "      <td>0</td>\n",
              "      <td>0</td>\n",
              "      <td>1</td>\n",
              "      <td>0</td>\n",
              "    </tr>\n",
              "    <tr>\n",
              "      <th>3</th>\n",
              "      <td>0.264320</td>\n",
              "      <td>0.102041</td>\n",
              "      <td>1.000000</td>\n",
              "      <td>-0.554180</td>\n",
              "      <td>1</td>\n",
              "      <td>0</td>\n",
              "      <td>1</td>\n",
              "      <td>0</td>\n",
              "      <td>0</td>\n",
              "      <td>0</td>\n",
              "      <td>0</td>\n",
              "      <td>1</td>\n",
              "      <td>0</td>\n",
              "      <td>1</td>\n",
              "      <td>1</td>\n",
              "      <td>0</td>\n",
              "      <td>1</td>\n",
              "      <td>0</td>\n",
              "      <td>0</td>\n",
              "      <td>1</td>\n",
              "      <td>1</td>\n",
              "      <td>0</td>\n",
              "      <td>1</td>\n",
              "      <td>0</td>\n",
              "      <td>0</td>\n",
              "    </tr>\n",
              "    <tr>\n",
              "      <th>4</th>\n",
              "      <td>0.783987</td>\n",
              "      <td>0.795918</td>\n",
              "      <td>0.000000</td>\n",
              "      <td>1.787071</td>\n",
              "      <td>1</td>\n",
              "      <td>0</td>\n",
              "      <td>1</td>\n",
              "      <td>0</td>\n",
              "      <td>0</td>\n",
              "      <td>1</td>\n",
              "      <td>0</td>\n",
              "      <td>0</td>\n",
              "      <td>0</td>\n",
              "      <td>1</td>\n",
              "      <td>1</td>\n",
              "      <td>0</td>\n",
              "      <td>0</td>\n",
              "      <td>1</td>\n",
              "      <td>1</td>\n",
              "      <td>0</td>\n",
              "      <td>1</td>\n",
              "      <td>0</td>\n",
              "      <td>0</td>\n",
              "      <td>0</td>\n",
              "      <td>1</td>\n",
              "    </tr>\n",
              "  </tbody>\n",
              "</table>\n",
              "</div>"
            ],
            "text/plain": [
              "   minmax_income  minmax_age  ...  age_discrete_mid-age  age_discrete_old\n",
              "0       0.215634    0.612245  ...                     1                 0\n",
              "1       0.431395    0.448980  ...                     1                 0\n",
              "2       0.198933    0.673469  ...                     1                 0\n",
              "3       0.264320    0.102041  ...                     0                 0\n",
              "4       0.783987    0.795918  ...                     0                 1\n",
              "\n",
              "[5 rows x 25 columns]"
            ]
          },
          "metadata": {
            "tags": []
          },
          "execution_count": 124
        }
      ]
    },
    {
      "cell_type": "markdown",
      "metadata": {
        "id": "Z46tQxkn8Eom",
        "colab_type": "text"
      },
      "source": [
        "* Instructions imply that both Z-Score income and min-max income belong here but it doesn't make sense to me to include both."
      ]
    },
    {
      "cell_type": "markdown",
      "metadata": {
        "id": "Vc1yJFHPMYXV",
        "colab_type": "text"
      },
      "source": [
        "###Save Table to bank_numeric.csv"
      ]
    },
    {
      "cell_type": "code",
      "metadata": {
        "id": "tsDNC_hwMHxc",
        "colab_type": "code",
        "colab": {}
      },
      "source": [
        "file_name = 'bank_numeric.csv'\n",
        "df_p6_dummy.to_csv(file_name)#, sep='\\t', encoding='utf-8')"
      ],
      "execution_count": 0,
      "outputs": []
    },
    {
      "cell_type": "markdown",
      "metadata": {
        "id": "8698RxSUqkqE",
        "colab_type": "text"
      },
      "source": [
        "## Problem 7"
      ]
    },
    {
      "cell_type": "markdown",
      "metadata": {
        "id": "RPix7F06p28u",
        "colab_type": "text"
      },
      "source": [
        "7. Using the standardized data set (of the previous part), perform basic correlation analysis among the attributes. Discuss your results by indicating any significant positive or negative correlations among pairs of attributes. You need to construct a complete Correlation Matrix. Be sure to first remove the Customer ID column before creating the correlation matrix. [Hint: you can create the correlation matrix by using the corr() function in Pandas, try at least two corr methods and compare them].\n"
      ]
    },
    {
      "cell_type": "markdown",
      "metadata": {
        "id": "ROPD2vTm-IEq",
        "colab_type": "text"
      },
      "source": [
        "### Method1: Simple Correlation Matrix"
      ]
    },
    {
      "cell_type": "code",
      "metadata": {
        "id": "hol5vhjH8ngZ",
        "colab_type": "code",
        "colab": {
          "base_uri": "https://localhost:8080/",
          "height": 873
        },
        "outputId": "9c51556c-e67a-42a4-df7d-3cd523a4adf1"
      },
      "source": [
        "#Simple Correlation Matrix\n",
        "dummy_corr = df_p6_dummy.corr(method=\"pearson\")\n",
        "dummy_corr"
      ],
      "execution_count": 127,
      "outputs": [
        {
          "output_type": "execute_result",
          "data": {
            "text/html": [
              "<div>\n",
              "<style scoped>\n",
              "    .dataframe tbody tr th:only-of-type {\n",
              "        vertical-align: middle;\n",
              "    }\n",
              "\n",
              "    .dataframe tbody tr th {\n",
              "        vertical-align: top;\n",
              "    }\n",
              "\n",
              "    .dataframe thead th {\n",
              "        text-align: right;\n",
              "    }\n",
              "</style>\n",
              "<table border=\"1\" class=\"dataframe\">\n",
              "  <thead>\n",
              "    <tr style=\"text-align: right;\">\n",
              "      <th></th>\n",
              "      <th>minmax_income</th>\n",
              "      <th>minmax_age</th>\n",
              "      <th>minmax_children</th>\n",
              "      <th>income_Z</th>\n",
              "      <th>pep_NO</th>\n",
              "      <th>pep_YES</th>\n",
              "      <th>gender_FEMALE</th>\n",
              "      <th>gender_MALE</th>\n",
              "      <th>region_INNER_CITY</th>\n",
              "      <th>region_RURAL</th>\n",
              "      <th>region_SUBURBAN</th>\n",
              "      <th>region_TOWN</th>\n",
              "      <th>married_NO</th>\n",
              "      <th>married_YES</th>\n",
              "      <th>car_NO</th>\n",
              "      <th>car_YES</th>\n",
              "      <th>savings_acct_NO</th>\n",
              "      <th>savings_acct_YES</th>\n",
              "      <th>current_acct_NO</th>\n",
              "      <th>current_acct_YES</th>\n",
              "      <th>mortgage_NO</th>\n",
              "      <th>mortgage_YES</th>\n",
              "      <th>age_discrete_young</th>\n",
              "      <th>age_discrete_mid-age</th>\n",
              "      <th>age_discrete_old</th>\n",
              "    </tr>\n",
              "  </thead>\n",
              "  <tbody>\n",
              "    <tr>\n",
              "      <th>minmax_income</th>\n",
              "      <td>1.000000</td>\n",
              "      <td>0.752726</td>\n",
              "      <td>0.036761</td>\n",
              "      <td>1.000000</td>\n",
              "      <td>-0.221991</td>\n",
              "      <td>0.221991</td>\n",
              "      <td>0.023845</td>\n",
              "      <td>-0.023845</td>\n",
              "      <td>-0.047564</td>\n",
              "      <td>8.477567e-02</td>\n",
              "      <td>0.029824</td>\n",
              "      <td>-0.036431</td>\n",
              "      <td>8.386312e-03</td>\n",
              "      <td>-8.386312e-03</td>\n",
              "      <td>-0.081556</td>\n",
              "      <td>0.081556</td>\n",
              "      <td>-0.266164</td>\n",
              "      <td>0.266164</td>\n",
              "      <td>-0.031616</td>\n",
              "      <td>0.031616</td>\n",
              "      <td>0.014662</td>\n",
              "      <td>-0.014662</td>\n",
              "      <td>-0.571415</td>\n",
              "      <td>-0.016635</td>\n",
              "      <td>5.980377e-01</td>\n",
              "    </tr>\n",
              "    <tr>\n",
              "      <th>minmax_age</th>\n",
              "      <td>0.752726</td>\n",
              "      <td>1.000000</td>\n",
              "      <td>0.023572</td>\n",
              "      <td>0.752726</td>\n",
              "      <td>-0.173825</td>\n",
              "      <td>0.173825</td>\n",
              "      <td>0.090081</td>\n",
              "      <td>-0.090081</td>\n",
              "      <td>-0.025171</td>\n",
              "      <td>1.863535e-02</td>\n",
              "      <td>0.031345</td>\n",
              "      <td>-0.008510</td>\n",
              "      <td>-1.039420e-02</td>\n",
              "      <td>1.039420e-02</td>\n",
              "      <td>-0.077733</td>\n",
              "      <td>0.077733</td>\n",
              "      <td>-0.184389</td>\n",
              "      <td>0.184389</td>\n",
              "      <td>0.035312</td>\n",
              "      <td>-0.035312</td>\n",
              "      <td>0.016154</td>\n",
              "      <td>-0.016154</td>\n",
              "      <td>-0.759417</td>\n",
              "      <td>0.001820</td>\n",
              "      <td>7.671741e-01</td>\n",
              "    </tr>\n",
              "    <tr>\n",
              "      <th>minmax_children</th>\n",
              "      <td>0.036761</td>\n",
              "      <td>0.023572</td>\n",
              "      <td>1.000000</td>\n",
              "      <td>0.036761</td>\n",
              "      <td>0.057663</td>\n",
              "      <td>-0.057663</td>\n",
              "      <td>0.014206</td>\n",
              "      <td>-0.014206</td>\n",
              "      <td>-0.051222</td>\n",
              "      <td>8.990186e-02</td>\n",
              "      <td>-0.014122</td>\n",
              "      <td>-0.007033</td>\n",
              "      <td>4.871624e-02</td>\n",
              "      <td>-4.871624e-02</td>\n",
              "      <td>-0.036455</td>\n",
              "      <td>0.036455</td>\n",
              "      <td>-0.041536</td>\n",
              "      <td>0.041536</td>\n",
              "      <td>-0.006238</td>\n",
              "      <td>0.006238</td>\n",
              "      <td>0.074339</td>\n",
              "      <td>-0.074339</td>\n",
              "      <td>0.033035</td>\n",
              "      <td>-0.058194</td>\n",
              "      <td>3.371933e-02</td>\n",
              "    </tr>\n",
              "    <tr>\n",
              "      <th>income_Z</th>\n",
              "      <td>1.000000</td>\n",
              "      <td>0.752726</td>\n",
              "      <td>0.036761</td>\n",
              "      <td>1.000000</td>\n",
              "      <td>-0.221991</td>\n",
              "      <td>0.221991</td>\n",
              "      <td>0.023845</td>\n",
              "      <td>-0.023845</td>\n",
              "      <td>-0.047564</td>\n",
              "      <td>8.477567e-02</td>\n",
              "      <td>0.029824</td>\n",
              "      <td>-0.036431</td>\n",
              "      <td>8.386312e-03</td>\n",
              "      <td>-8.386312e-03</td>\n",
              "      <td>-0.081556</td>\n",
              "      <td>0.081556</td>\n",
              "      <td>-0.266164</td>\n",
              "      <td>0.266164</td>\n",
              "      <td>-0.031616</td>\n",
              "      <td>0.031616</td>\n",
              "      <td>0.014662</td>\n",
              "      <td>-0.014662</td>\n",
              "      <td>-0.571415</td>\n",
              "      <td>-0.016635</td>\n",
              "      <td>5.980377e-01</td>\n",
              "    </tr>\n",
              "    <tr>\n",
              "      <th>pep_NO</th>\n",
              "      <td>-0.221991</td>\n",
              "      <td>-0.173825</td>\n",
              "      <td>0.057663</td>\n",
              "      <td>-0.221991</td>\n",
              "      <td>1.000000</td>\n",
              "      <td>-1.000000</td>\n",
              "      <td>0.046843</td>\n",
              "      <td>-0.046843</td>\n",
              "      <td>-0.001054</td>\n",
              "      <td>-1.971379e-02</td>\n",
              "      <td>-0.062508</td>\n",
              "      <td>0.059115</td>\n",
              "      <td>-1.895776e-01</td>\n",
              "      <td>1.895776e-01</td>\n",
              "      <td>0.018917</td>\n",
              "      <td>-0.018917</td>\n",
              "      <td>-0.072779</td>\n",
              "      <td>0.072779</td>\n",
              "      <td>0.025141</td>\n",
              "      <td>-0.025141</td>\n",
              "      <td>-0.024182</td>\n",
              "      <td>0.024182</td>\n",
              "      <td>0.154392</td>\n",
              "      <td>-0.018339</td>\n",
              "      <td>-1.352239e-01</td>\n",
              "    </tr>\n",
              "    <tr>\n",
              "      <th>pep_YES</th>\n",
              "      <td>0.221991</td>\n",
              "      <td>0.173825</td>\n",
              "      <td>-0.057663</td>\n",
              "      <td>0.221991</td>\n",
              "      <td>-1.000000</td>\n",
              "      <td>1.000000</td>\n",
              "      <td>-0.046843</td>\n",
              "      <td>0.046843</td>\n",
              "      <td>0.001054</td>\n",
              "      <td>1.971379e-02</td>\n",
              "      <td>0.062508</td>\n",
              "      <td>-0.059115</td>\n",
              "      <td>1.895776e-01</td>\n",
              "      <td>-1.895776e-01</td>\n",
              "      <td>-0.018917</td>\n",
              "      <td>0.018917</td>\n",
              "      <td>0.072779</td>\n",
              "      <td>-0.072779</td>\n",
              "      <td>-0.025141</td>\n",
              "      <td>0.025141</td>\n",
              "      <td>0.024182</td>\n",
              "      <td>-0.024182</td>\n",
              "      <td>-0.154392</td>\n",
              "      <td>0.018339</td>\n",
              "      <td>1.352239e-01</td>\n",
              "    </tr>\n",
              "    <tr>\n",
              "      <th>gender_FEMALE</th>\n",
              "      <td>0.023845</td>\n",
              "      <td>0.090081</td>\n",
              "      <td>0.014206</td>\n",
              "      <td>0.023845</td>\n",
              "      <td>0.046843</td>\n",
              "      <td>-0.046843</td>\n",
              "      <td>1.000000</td>\n",
              "      <td>-1.000000</td>\n",
              "      <td>-0.023459</td>\n",
              "      <td>-9.092412e-03</td>\n",
              "      <td>-0.010951</td>\n",
              "      <td>0.040472</td>\n",
              "      <td>2.111002e-02</td>\n",
              "      <td>-2.111002e-02</td>\n",
              "      <td>0.006667</td>\n",
              "      <td>-0.006667</td>\n",
              "      <td>0.007207</td>\n",
              "      <td>-0.007207</td>\n",
              "      <td>-0.019466</td>\n",
              "      <td>0.019466</td>\n",
              "      <td>0.066465</td>\n",
              "      <td>-0.066465</td>\n",
              "      <td>-0.030397</td>\n",
              "      <td>-0.060012</td>\n",
              "      <td>1.000740e-01</td>\n",
              "    </tr>\n",
              "    <tr>\n",
              "      <th>gender_MALE</th>\n",
              "      <td>-0.023845</td>\n",
              "      <td>-0.090081</td>\n",
              "      <td>-0.014206</td>\n",
              "      <td>-0.023845</td>\n",
              "      <td>-0.046843</td>\n",
              "      <td>0.046843</td>\n",
              "      <td>-1.000000</td>\n",
              "      <td>1.000000</td>\n",
              "      <td>0.023459</td>\n",
              "      <td>9.092412e-03</td>\n",
              "      <td>0.010951</td>\n",
              "      <td>-0.040472</td>\n",
              "      <td>-2.111002e-02</td>\n",
              "      <td>2.111002e-02</td>\n",
              "      <td>-0.006667</td>\n",
              "      <td>0.006667</td>\n",
              "      <td>-0.007207</td>\n",
              "      <td>0.007207</td>\n",
              "      <td>0.019466</td>\n",
              "      <td>-0.019466</td>\n",
              "      <td>-0.066465</td>\n",
              "      <td>0.066465</td>\n",
              "      <td>0.030397</td>\n",
              "      <td>0.060012</td>\n",
              "      <td>-1.000740e-01</td>\n",
              "    </tr>\n",
              "    <tr>\n",
              "      <th>region_INNER_CITY</th>\n",
              "      <td>-0.047564</td>\n",
              "      <td>-0.025171</td>\n",
              "      <td>-0.051222</td>\n",
              "      <td>-0.047564</td>\n",
              "      <td>-0.001054</td>\n",
              "      <td>0.001054</td>\n",
              "      <td>-0.023459</td>\n",
              "      <td>0.023459</td>\n",
              "      <td>1.000000</td>\n",
              "      <td>-3.934436e-01</td>\n",
              "      <td>-0.306032</td>\n",
              "      <td>-0.573814</td>\n",
              "      <td>-3.254290e-03</td>\n",
              "      <td>3.254290e-03</td>\n",
              "      <td>0.018143</td>\n",
              "      <td>-0.018143</td>\n",
              "      <td>0.091373</td>\n",
              "      <td>-0.091373</td>\n",
              "      <td>-0.007894</td>\n",
              "      <td>0.007894</td>\n",
              "      <td>-0.002098</td>\n",
              "      <td>0.002098</td>\n",
              "      <td>0.092141</td>\n",
              "      <td>-0.099285</td>\n",
              "      <td>2.128344e-02</td>\n",
              "    </tr>\n",
              "    <tr>\n",
              "      <th>region_RURAL</th>\n",
              "      <td>0.084776</td>\n",
              "      <td>0.018635</td>\n",
              "      <td>0.089902</td>\n",
              "      <td>0.084776</td>\n",
              "      <td>-0.019714</td>\n",
              "      <td>0.019714</td>\n",
              "      <td>-0.009092</td>\n",
              "      <td>0.009092</td>\n",
              "      <td>-0.393444</td>\n",
              "      <td>1.000000e+00</td>\n",
              "      <td>-0.148158</td>\n",
              "      <td>-0.277798</td>\n",
              "      <td>2.264903e-02</td>\n",
              "      <td>-2.264903e-02</td>\n",
              "      <td>-0.024006</td>\n",
              "      <td>0.024006</td>\n",
              "      <td>-0.036960</td>\n",
              "      <td>0.036960</td>\n",
              "      <td>0.008496</td>\n",
              "      <td>-0.008496</td>\n",
              "      <td>0.051908</td>\n",
              "      <td>-0.051908</td>\n",
              "      <td>-0.020314</td>\n",
              "      <td>0.017825</td>\n",
              "      <td>4.065116e-17</td>\n",
              "    </tr>\n",
              "    <tr>\n",
              "      <th>region_SUBURBAN</th>\n",
              "      <td>0.029824</td>\n",
              "      <td>0.031345</td>\n",
              "      <td>-0.014122</td>\n",
              "      <td>0.029824</td>\n",
              "      <td>-0.062508</td>\n",
              "      <td>0.062508</td>\n",
              "      <td>-0.010951</td>\n",
              "      <td>0.010951</td>\n",
              "      <td>-0.306032</td>\n",
              "      <td>-1.481580e-01</td>\n",
              "      <td>1.000000</td>\n",
              "      <td>-0.216080</td>\n",
              "      <td>-1.248318e-02</td>\n",
              "      <td>1.248318e-02</td>\n",
              "      <td>0.061184</td>\n",
              "      <td>-0.061184</td>\n",
              "      <td>-0.002605</td>\n",
              "      <td>0.002605</td>\n",
              "      <td>-0.038157</td>\n",
              "      <td>0.038157</td>\n",
              "      <td>-0.004635</td>\n",
              "      <td>0.004635</td>\n",
              "      <td>-0.001498</td>\n",
              "      <td>-0.015115</td>\n",
              "      <td>1.896722e-02</td>\n",
              "    </tr>\n",
              "    <tr>\n",
              "      <th>region_TOWN</th>\n",
              "      <td>-0.036431</td>\n",
              "      <td>-0.008510</td>\n",
              "      <td>-0.007033</td>\n",
              "      <td>-0.036431</td>\n",
              "      <td>0.059115</td>\n",
              "      <td>-0.059115</td>\n",
              "      <td>0.040472</td>\n",
              "      <td>-0.040472</td>\n",
              "      <td>-0.573814</td>\n",
              "      <td>-2.777982e-01</td>\n",
              "      <td>-0.216080</td>\n",
              "      <td>1.000000</td>\n",
              "      <td>-6.368915e-03</td>\n",
              "      <td>6.368915e-03</td>\n",
              "      <td>-0.041604</td>\n",
              "      <td>0.041604</td>\n",
              "      <td>-0.068654</td>\n",
              "      <td>0.068654</td>\n",
              "      <td>0.027431</td>\n",
              "      <td>-0.027431</td>\n",
              "      <td>-0.036591</td>\n",
              "      <td>0.036591</td>\n",
              "      <td>-0.083713</td>\n",
              "      <td>0.104733</td>\n",
              "      <td>-3.611198e-02</td>\n",
              "    </tr>\n",
              "    <tr>\n",
              "      <th>married_NO</th>\n",
              "      <td>0.008386</td>\n",
              "      <td>-0.010394</td>\n",
              "      <td>0.048716</td>\n",
              "      <td>0.008386</td>\n",
              "      <td>-0.189578</td>\n",
              "      <td>0.189578</td>\n",
              "      <td>0.021110</td>\n",
              "      <td>-0.021110</td>\n",
              "      <td>-0.003254</td>\n",
              "      <td>2.264903e-02</td>\n",
              "      <td>-0.012483</td>\n",
              "      <td>-0.006369</td>\n",
              "      <td>1.000000e+00</td>\n",
              "      <td>-1.000000e+00</td>\n",
              "      <td>-0.009571</td>\n",
              "      <td>0.009571</td>\n",
              "      <td>0.028604</td>\n",
              "      <td>-0.028604</td>\n",
              "      <td>-0.059996</td>\n",
              "      <td>0.059996</td>\n",
              "      <td>-0.021711</td>\n",
              "      <td>0.021711</td>\n",
              "      <td>0.007700</td>\n",
              "      <td>-0.006757</td>\n",
              "      <td>-5.051670e-17</td>\n",
              "    </tr>\n",
              "    <tr>\n",
              "      <th>married_YES</th>\n",
              "      <td>-0.008386</td>\n",
              "      <td>0.010394</td>\n",
              "      <td>-0.048716</td>\n",
              "      <td>-0.008386</td>\n",
              "      <td>0.189578</td>\n",
              "      <td>-0.189578</td>\n",
              "      <td>-0.021110</td>\n",
              "      <td>0.021110</td>\n",
              "      <td>0.003254</td>\n",
              "      <td>-2.264903e-02</td>\n",
              "      <td>0.012483</td>\n",
              "      <td>0.006369</td>\n",
              "      <td>-1.000000e+00</td>\n",
              "      <td>1.000000e+00</td>\n",
              "      <td>0.009571</td>\n",
              "      <td>-0.009571</td>\n",
              "      <td>-0.028604</td>\n",
              "      <td>0.028604</td>\n",
              "      <td>0.059996</td>\n",
              "      <td>-0.059996</td>\n",
              "      <td>0.021711</td>\n",
              "      <td>-0.021711</td>\n",
              "      <td>-0.007700</td>\n",
              "      <td>0.006757</td>\n",
              "      <td>1.353126e-17</td>\n",
              "    </tr>\n",
              "    <tr>\n",
              "      <th>car_NO</th>\n",
              "      <td>-0.081556</td>\n",
              "      <td>-0.077733</td>\n",
              "      <td>-0.036455</td>\n",
              "      <td>-0.081556</td>\n",
              "      <td>0.018917</td>\n",
              "      <td>-0.018917</td>\n",
              "      <td>0.006667</td>\n",
              "      <td>-0.006667</td>\n",
              "      <td>0.018143</td>\n",
              "      <td>-2.400610e-02</td>\n",
              "      <td>0.061184</td>\n",
              "      <td>-0.041604</td>\n",
              "      <td>-9.570725e-03</td>\n",
              "      <td>9.570725e-03</td>\n",
              "      <td>1.000000</td>\n",
              "      <td>-1.000000</td>\n",
              "      <td>0.034310</td>\n",
              "      <td>-0.034310</td>\n",
              "      <td>-0.034783</td>\n",
              "      <td>0.034783</td>\n",
              "      <td>-0.007743</td>\n",
              "      <td>0.007743</td>\n",
              "      <td>0.083296</td>\n",
              "      <td>-0.033076</td>\n",
              "      <td>-4.619213e-02</td>\n",
              "    </tr>\n",
              "    <tr>\n",
              "      <th>car_YES</th>\n",
              "      <td>0.081556</td>\n",
              "      <td>0.077733</td>\n",
              "      <td>0.036455</td>\n",
              "      <td>0.081556</td>\n",
              "      <td>-0.018917</td>\n",
              "      <td>0.018917</td>\n",
              "      <td>-0.006667</td>\n",
              "      <td>0.006667</td>\n",
              "      <td>-0.018143</td>\n",
              "      <td>2.400610e-02</td>\n",
              "      <td>-0.061184</td>\n",
              "      <td>0.041604</td>\n",
              "      <td>9.570725e-03</td>\n",
              "      <td>-9.570725e-03</td>\n",
              "      <td>-1.000000</td>\n",
              "      <td>1.000000</td>\n",
              "      <td>-0.034310</td>\n",
              "      <td>0.034310</td>\n",
              "      <td>0.034783</td>\n",
              "      <td>-0.034783</td>\n",
              "      <td>0.007743</td>\n",
              "      <td>-0.007743</td>\n",
              "      <td>-0.083296</td>\n",
              "      <td>0.033076</td>\n",
              "      <td>4.619213e-02</td>\n",
              "    </tr>\n",
              "    <tr>\n",
              "      <th>savings_acct_NO</th>\n",
              "      <td>-0.266164</td>\n",
              "      <td>-0.184389</td>\n",
              "      <td>-0.041536</td>\n",
              "      <td>-0.266164</td>\n",
              "      <td>-0.072779</td>\n",
              "      <td>0.072779</td>\n",
              "      <td>0.007207</td>\n",
              "      <td>-0.007207</td>\n",
              "      <td>0.091373</td>\n",
              "      <td>-3.695997e-02</td>\n",
              "      <td>-0.002605</td>\n",
              "      <td>-0.068654</td>\n",
              "      <td>2.860354e-02</td>\n",
              "      <td>-2.860354e-02</td>\n",
              "      <td>0.034310</td>\n",
              "      <td>-0.034310</td>\n",
              "      <td>1.000000</td>\n",
              "      <td>-1.000000</td>\n",
              "      <td>0.042511</td>\n",
              "      <td>-0.042511</td>\n",
              "      <td>-0.001588</td>\n",
              "      <td>0.001588</td>\n",
              "      <td>0.112061</td>\n",
              "      <td>0.027826</td>\n",
              "      <td>-1.456400e-01</td>\n",
              "    </tr>\n",
              "    <tr>\n",
              "      <th>savings_acct_YES</th>\n",
              "      <td>0.266164</td>\n",
              "      <td>0.184389</td>\n",
              "      <td>0.041536</td>\n",
              "      <td>0.266164</td>\n",
              "      <td>0.072779</td>\n",
              "      <td>-0.072779</td>\n",
              "      <td>-0.007207</td>\n",
              "      <td>0.007207</td>\n",
              "      <td>-0.091373</td>\n",
              "      <td>3.695997e-02</td>\n",
              "      <td>0.002605</td>\n",
              "      <td>0.068654</td>\n",
              "      <td>-2.860354e-02</td>\n",
              "      <td>2.860354e-02</td>\n",
              "      <td>-0.034310</td>\n",
              "      <td>0.034310</td>\n",
              "      <td>-1.000000</td>\n",
              "      <td>1.000000</td>\n",
              "      <td>-0.042511</td>\n",
              "      <td>0.042511</td>\n",
              "      <td>0.001588</td>\n",
              "      <td>-0.001588</td>\n",
              "      <td>-0.112061</td>\n",
              "      <td>-0.027826</td>\n",
              "      <td>1.456400e-01</td>\n",
              "    </tr>\n",
              "    <tr>\n",
              "      <th>current_acct_NO</th>\n",
              "      <td>-0.031616</td>\n",
              "      <td>0.035312</td>\n",
              "      <td>-0.006238</td>\n",
              "      <td>-0.031616</td>\n",
              "      <td>0.025141</td>\n",
              "      <td>-0.025141</td>\n",
              "      <td>-0.019466</td>\n",
              "      <td>0.019466</td>\n",
              "      <td>-0.007894</td>\n",
              "      <td>8.495729e-03</td>\n",
              "      <td>-0.038157</td>\n",
              "      <td>0.027431</td>\n",
              "      <td>-5.999592e-02</td>\n",
              "      <td>5.999592e-02</td>\n",
              "      <td>-0.034783</td>\n",
              "      <td>0.034783</td>\n",
              "      <td>0.042511</td>\n",
              "      <td>-0.042511</td>\n",
              "      <td>1.000000</td>\n",
              "      <td>-1.000000</td>\n",
              "      <td>-0.036704</td>\n",
              "      <td>0.036704</td>\n",
              "      <td>-0.059468</td>\n",
              "      <td>0.022975</td>\n",
              "      <td>3.371638e-02</td>\n",
              "    </tr>\n",
              "    <tr>\n",
              "      <th>current_acct_YES</th>\n",
              "      <td>0.031616</td>\n",
              "      <td>-0.035312</td>\n",
              "      <td>0.006238</td>\n",
              "      <td>0.031616</td>\n",
              "      <td>-0.025141</td>\n",
              "      <td>0.025141</td>\n",
              "      <td>0.019466</td>\n",
              "      <td>-0.019466</td>\n",
              "      <td>0.007894</td>\n",
              "      <td>-8.495729e-03</td>\n",
              "      <td>0.038157</td>\n",
              "      <td>-0.027431</td>\n",
              "      <td>5.999592e-02</td>\n",
              "      <td>-5.999592e-02</td>\n",
              "      <td>0.034783</td>\n",
              "      <td>-0.034783</td>\n",
              "      <td>-0.042511</td>\n",
              "      <td>0.042511</td>\n",
              "      <td>-1.000000</td>\n",
              "      <td>1.000000</td>\n",
              "      <td>0.036704</td>\n",
              "      <td>-0.036704</td>\n",
              "      <td>0.059468</td>\n",
              "      <td>-0.022975</td>\n",
              "      <td>-3.371638e-02</td>\n",
              "    </tr>\n",
              "    <tr>\n",
              "      <th>mortgage_NO</th>\n",
              "      <td>0.014662</td>\n",
              "      <td>0.016154</td>\n",
              "      <td>0.074339</td>\n",
              "      <td>0.014662</td>\n",
              "      <td>-0.024182</td>\n",
              "      <td>0.024182</td>\n",
              "      <td>0.066465</td>\n",
              "      <td>-0.066465</td>\n",
              "      <td>-0.002098</td>\n",
              "      <td>5.190841e-02</td>\n",
              "      <td>-0.004635</td>\n",
              "      <td>-0.036591</td>\n",
              "      <td>-2.171073e-02</td>\n",
              "      <td>2.171073e-02</td>\n",
              "      <td>-0.007743</td>\n",
              "      <td>0.007743</td>\n",
              "      <td>-0.001588</td>\n",
              "      <td>0.001588</td>\n",
              "      <td>-0.036704</td>\n",
              "      <td>0.036704</td>\n",
              "      <td>1.000000</td>\n",
              "      <td>-1.000000</td>\n",
              "      <td>0.018662</td>\n",
              "      <td>-0.004129</td>\n",
              "      <td>-1.413761e-02</td>\n",
              "    </tr>\n",
              "    <tr>\n",
              "      <th>mortgage_YES</th>\n",
              "      <td>-0.014662</td>\n",
              "      <td>-0.016154</td>\n",
              "      <td>-0.074339</td>\n",
              "      <td>-0.014662</td>\n",
              "      <td>0.024182</td>\n",
              "      <td>-0.024182</td>\n",
              "      <td>-0.066465</td>\n",
              "      <td>0.066465</td>\n",
              "      <td>0.002098</td>\n",
              "      <td>-5.190841e-02</td>\n",
              "      <td>0.004635</td>\n",
              "      <td>0.036591</td>\n",
              "      <td>2.171073e-02</td>\n",
              "      <td>-2.171073e-02</td>\n",
              "      <td>0.007743</td>\n",
              "      <td>-0.007743</td>\n",
              "      <td>0.001588</td>\n",
              "      <td>-0.001588</td>\n",
              "      <td>0.036704</td>\n",
              "      <td>-0.036704</td>\n",
              "      <td>-1.000000</td>\n",
              "      <td>1.000000</td>\n",
              "      <td>-0.018662</td>\n",
              "      <td>0.004129</td>\n",
              "      <td>1.413761e-02</td>\n",
              "    </tr>\n",
              "    <tr>\n",
              "      <th>age_discrete_young</th>\n",
              "      <td>-0.571415</td>\n",
              "      <td>-0.759417</td>\n",
              "      <td>0.033035</td>\n",
              "      <td>-0.571415</td>\n",
              "      <td>0.154392</td>\n",
              "      <td>-0.154392</td>\n",
              "      <td>-0.030397</td>\n",
              "      <td>0.030397</td>\n",
              "      <td>0.092141</td>\n",
              "      <td>-2.031434e-02</td>\n",
              "      <td>-0.001498</td>\n",
              "      <td>-0.083713</td>\n",
              "      <td>7.700271e-03</td>\n",
              "      <td>-7.700271e-03</td>\n",
              "      <td>0.083296</td>\n",
              "      <td>-0.083296</td>\n",
              "      <td>0.112061</td>\n",
              "      <td>-0.112061</td>\n",
              "      <td>-0.059468</td>\n",
              "      <td>0.059468</td>\n",
              "      <td>0.018662</td>\n",
              "      <td>-0.018662</td>\n",
              "      <td>1.000000</td>\n",
              "      <td>-0.581010</td>\n",
              "      <td>-3.422238e-01</td>\n",
              "    </tr>\n",
              "    <tr>\n",
              "      <th>age_discrete_mid-age</th>\n",
              "      <td>-0.016635</td>\n",
              "      <td>0.001820</td>\n",
              "      <td>-0.058194</td>\n",
              "      <td>-0.016635</td>\n",
              "      <td>-0.018339</td>\n",
              "      <td>0.018339</td>\n",
              "      <td>-0.060012</td>\n",
              "      <td>0.060012</td>\n",
              "      <td>-0.099285</td>\n",
              "      <td>1.782469e-02</td>\n",
              "      <td>-0.015115</td>\n",
              "      <td>0.104733</td>\n",
              "      <td>-6.756557e-03</td>\n",
              "      <td>6.756557e-03</td>\n",
              "      <td>-0.033076</td>\n",
              "      <td>0.033076</td>\n",
              "      <td>0.027826</td>\n",
              "      <td>-0.027826</td>\n",
              "      <td>0.022975</td>\n",
              "      <td>-0.022975</td>\n",
              "      <td>-0.004129</td>\n",
              "      <td>0.004129</td>\n",
              "      <td>-0.581010</td>\n",
              "      <td>1.000000</td>\n",
              "      <td>-5.659165e-01</td>\n",
              "    </tr>\n",
              "    <tr>\n",
              "      <th>age_discrete_old</th>\n",
              "      <td>0.598038</td>\n",
              "      <td>0.767174</td>\n",
              "      <td>0.033719</td>\n",
              "      <td>0.598038</td>\n",
              "      <td>-0.135224</td>\n",
              "      <td>0.135224</td>\n",
              "      <td>0.100074</td>\n",
              "      <td>-0.100074</td>\n",
              "      <td>0.021283</td>\n",
              "      <td>4.065116e-17</td>\n",
              "      <td>0.018967</td>\n",
              "      <td>-0.036112</td>\n",
              "      <td>-5.051670e-17</td>\n",
              "      <td>1.353126e-17</td>\n",
              "      <td>-0.046192</td>\n",
              "      <td>0.046192</td>\n",
              "      <td>-0.145640</td>\n",
              "      <td>0.145640</td>\n",
              "      <td>0.033716</td>\n",
              "      <td>-0.033716</td>\n",
              "      <td>-0.014138</td>\n",
              "      <td>0.014138</td>\n",
              "      <td>-0.342224</td>\n",
              "      <td>-0.565916</td>\n",
              "      <td>1.000000e+00</td>\n",
              "    </tr>\n",
              "  </tbody>\n",
              "</table>\n",
              "</div>"
            ],
            "text/plain": [
              "                      minmax_income  ...  age_discrete_old\n",
              "minmax_income              1.000000  ...      5.980377e-01\n",
              "minmax_age                 0.752726  ...      7.671741e-01\n",
              "minmax_children            0.036761  ...      3.371933e-02\n",
              "income_Z                   1.000000  ...      5.980377e-01\n",
              "pep_NO                    -0.221991  ...     -1.352239e-01\n",
              "pep_YES                    0.221991  ...      1.352239e-01\n",
              "gender_FEMALE              0.023845  ...      1.000740e-01\n",
              "gender_MALE               -0.023845  ...     -1.000740e-01\n",
              "region_INNER_CITY         -0.047564  ...      2.128344e-02\n",
              "region_RURAL               0.084776  ...      4.065116e-17\n",
              "region_SUBURBAN            0.029824  ...      1.896722e-02\n",
              "region_TOWN               -0.036431  ...     -3.611198e-02\n",
              "married_NO                 0.008386  ...     -5.051670e-17\n",
              "married_YES               -0.008386  ...      1.353126e-17\n",
              "car_NO                    -0.081556  ...     -4.619213e-02\n",
              "car_YES                    0.081556  ...      4.619213e-02\n",
              "savings_acct_NO           -0.266164  ...     -1.456400e-01\n",
              "savings_acct_YES           0.266164  ...      1.456400e-01\n",
              "current_acct_NO           -0.031616  ...      3.371638e-02\n",
              "current_acct_YES           0.031616  ...     -3.371638e-02\n",
              "mortgage_NO                0.014662  ...     -1.413761e-02\n",
              "mortgage_YES              -0.014662  ...      1.413761e-02\n",
              "age_discrete_young        -0.571415  ...     -3.422238e-01\n",
              "age_discrete_mid-age      -0.016635  ...     -5.659165e-01\n",
              "age_discrete_old           0.598038  ...      1.000000e+00\n",
              "\n",
              "[25 rows x 25 columns]"
            ]
          },
          "metadata": {
            "tags": []
          },
          "execution_count": 127
        }
      ]
    },
    {
      "cell_type": "markdown",
      "metadata": {
        "id": "jXz3cVm0-ODh",
        "colab_type": "text"
      },
      "source": [
        "###Method2: Corrplot (Correlation Heatmap) Visualization"
      ]
    },
    {
      "cell_type": "code",
      "metadata": {
        "id": "paebrOFr9Kqg",
        "colab_type": "code",
        "colab": {
          "base_uri": "https://localhost:8080/",
          "height": 586
        },
        "outputId": "96f7758c-062c-4332-8afe-b7c77e90fa0c"
      },
      "source": [
        "plt.figure(figsize=(16,8))\n",
        "ax_corr = sns.heatmap(\n",
        "    dummy_corr, \n",
        "    vmin=-1, vmax=1, center=0,\n",
        "    cmap=sns.diverging_palette(20, 220, n=200),\n",
        "    square=True\n",
        ")"
      ],
      "execution_count": 138,
      "outputs": [
        {
          "output_type": "display_data",
          "data": {
            "image/png": "[encoded data removed]",
            "text/plain": [
              "<Figure size 1152x576 with 2 Axes>"
            ]
          },
          "metadata": {
            "tags": []
          }
        }
      ]
    },
    {
      "cell_type": "markdown",
      "metadata": {
        "id": "tLfUxKUbBKLB",
        "colab_type": "text"
      },
      "source": [
        "### Results Discussion "
      ]
    },
    {
      "cell_type": "markdown",
      "metadata": {
        "id": "TqFtcK97ArEu",
        "colab_type": "text"
      },
      "source": [
        "* **Comparison of Corr Methods**\n",
        " * **Method1** used .corr(method=\"pearson\"). This provides values for correlations between all attribute pairs in the standardized new dummy dataset. For strong correlations we can look at pairings with + or - 0.7 values in the matrix.\n",
        " * **Method2** uses a heatmap or corrplot to do essentially the same thing but represent it visually. This helps with identifying highly correlated attributes among the high number of attributes in the dataset. On my specific visualization I did not include the numbers so it would look cleaner. \n",
        "* **Interpretation of Results**:\n",
        " * NOTES: Because the dataset includes the redundant two income columns, all attribute correlations with either income variable are the same. If this was going to be used for any sort of model only 1 should be included. Also the discretized Ages are naturally going to be correlated as expected with the min-max age column. Young age negatively correlated and old age positively correlated. Unsurprisingly Age and Income are highly correlated. Older you get probably more income you earn."
      ]
    },
    {
      "cell_type": "markdown",
      "metadata": {
        "id": "NRnMlSbBqm_c",
        "colab_type": "text"
      },
      "source": [
        "## Problem 8"
      ]
    },
    {
      "cell_type": "markdown",
      "metadata": {
        "id": "iHrjDtlhp39J",
        "colab_type": "text"
      },
      "source": [
        "8. Using Matplotlib library and/or ploting capabilties of Pandas, create a scatter plot of the (non-normalized) Income attribute relative to Age. Be sure that your plot contains appropriate labels for the axes. Do these variables seem correlated?\n"
      ]
    },
    {
      "cell_type": "code",
      "metadata": {
        "id": "0RnU6Z_0E9of",
        "colab_type": "code",
        "colab": {
          "base_uri": "https://localhost:8080/",
          "height": 404
        },
        "outputId": "fa5270d0-2c57-4b42-fbb3-643fea2337e3"
      },
      "source": [
        "plt.figure(figsize=(12,6))\n",
        "plt.scatter(df.age, df.income)\n",
        "plt.title(\"Income vs. Age\")\n",
        "plt.xlabel(\"Age\")\n",
        "plt.ylabel(\"Income\")\n",
        "plt.show()"
      ],
      "execution_count": 143,
      "outputs": [
        {
          "output_type": "display_data",
          "data": {
            "image/png": "[encoded data removed]",
            "text/plain": [
              "<Figure size 864x432 with 1 Axes>"
            ]
          },
          "metadata": {
            "tags": []
          }
        }
      ]
    },
    {
      "cell_type": "markdown",
      "metadata": {
        "id": "wthVg3keFt1C",
        "colab_type": "text"
      },
      "source": [
        "* Yes, these variables are highly postively correlated. From the previous problem, r is approximately 0.75."
      ]
    },
    {
      "cell_type": "markdown",
      "metadata": {
        "id": "sE9tyFHAqoEG",
        "colab_type": "text"
      },
      "source": [
        "## Problem 9"
      ]
    },
    {
      "cell_type": "markdown",
      "metadata": {
        "id": "WDNdggtFp43I",
        "colab_type": "text"
      },
      "source": [
        "9. Create histograms for (non-normalized) Income (using 9 bins) and Age (using 15 bins).\n"
      ]
    },
    {
      "cell_type": "markdown",
      "metadata": {
        "id": "hocyG7D5F864",
        "colab_type": "text"
      },
      "source": [
        "### Income Histogram (9 bins)"
      ]
    },
    {
      "cell_type": "code",
      "metadata": {
        "id": "k0oAeyFQGKV2",
        "colab_type": "code",
        "colab": {
          "base_uri": "https://localhost:8080/",
          "height": 313
        },
        "outputId": "139700bc-d8fd-4c4d-b958-965de8557f09"
      },
      "source": [
        "income_hist = df['income'].hist(bins=9)\n",
        "plt.title(\"Income Histogram (9 bins)\")\n",
        "plt.xlabel(\"Income\")\n",
        "plt.ylabel(\"Count\")\n",
        "income_hist"
      ],
      "execution_count": 147,
      "outputs": [
        {
          "output_type": "execute_result",
          "data": {
            "text/plain": [
              "<matplotlib.axes._subplots.AxesSubplot at 0x7f8b19f45a58>"
            ]
          },
          "metadata": {
            "tags": []
          },
          "execution_count": 147
        },
        {
          "output_type": "display_data",
          "data": {
            "image/png": "[encoded data removed]",
            "text/plain": [
              "<Figure size 432x288 with 1 Axes>"
            ]
          },
          "metadata": {
            "tags": []
          }
        }
      ]
    },
    {
      "cell_type": "markdown",
      "metadata": {
        "id": "u9Rr7yjvGKOX",
        "colab_type": "text"
      },
      "source": [
        "### Age Histogram (15 bins)"
      ]
    },
    {
      "cell_type": "code",
      "metadata": {
        "id": "-cH3GwCrGcZX",
        "colab_type": "code",
        "colab": {
          "base_uri": "https://localhost:8080/",
          "height": 313
        },
        "outputId": "90182ead-ccdd-4201-fd09-d84b00d73688"
      },
      "source": [
        "age_hist = df['age'].hist(bins=15)\n",
        "plt.title(\"Age Histogram (15 bins)\")\n",
        "plt.xlabel(\"Age\")\n",
        "plt.ylabel(\"Count\")\n",
        "age_hist"
      ],
      "execution_count": 148,
      "outputs": [
        {
          "output_type": "execute_result",
          "data": {
            "text/plain": [
              "<matplotlib.axes._subplots.AxesSubplot at 0x7f8b19f27198>"
            ]
          },
          "metadata": {
            "tags": []
          },
          "execution_count": 148
        },
        {
          "output_type": "display_data",
          "data": {
            "image/png": "[encoded data removed]",
            "text/plain": [
              "<Figure size 432x288 with 1 Axes>"
            ]
          },
          "metadata": {
            "tags": []
          }
        }
      ]
    },
    {
      "cell_type": "markdown",
      "metadata": {
        "id": "qUxquQufqoqh",
        "colab_type": "text"
      },
      "source": [
        "## Problem 10"
      ]
    },
    {
      "cell_type": "markdown",
      "metadata": {
        "id": "7XvYNPm5p7Mh",
        "colab_type": "text"
      },
      "source": [
        "10. Using a bargraph, plot the distribution of the values of the region attribute.\n"
      ]
    },
    {
      "cell_type": "code",
      "metadata": {
        "id": "OFcMsFBOG1f3",
        "colab_type": "code",
        "colab": {
          "base_uri": "https://localhost:8080/",
          "height": 431
        },
        "outputId": "34e2c8f4-f075-4e24-c20f-7644c54ccbf6"
      },
      "source": [
        "#Region Attribute\n",
        "plt.title(\"Distribution of Value of Region Attribute\")\n",
        "plt.xlabel(\"Region\")\n",
        "plt.ylabel(\"Count\")\n",
        "df['region'].value_counts().plot(kind='bar')\n",
        "df['region'].value_counts()"
      ],
      "execution_count": 150,
      "outputs": [
        {
          "output_type": "execute_result",
          "data": {
            "text/plain": [
              "INNER_CITY    269\n",
              "TOWN          173\n",
              "RURAL          96\n",
              "SUBURBAN       62\n",
              "Name: region, dtype: int64"
            ]
          },
          "metadata": {
            "tags": []
          },
          "execution_count": 150
        },
        {
          "output_type": "display_data",
          "data": {
            "image/png": "[encoded data removed]",
            "text/plain": [
              "<Figure size 432x288 with 1 Axes>"
            ]
          },
          "metadata": {
            "tags": []
          }
        }
      ]
    },
    {
      "cell_type": "markdown",
      "metadata": {
        "id": "5bscEGiNqpS2",
        "colab_type": "text"
      },
      "source": [
        "## Problem 11"
      ]
    },
    {
      "cell_type": "markdown",
      "metadata": {
        "id": "uKfadNNvp79x",
        "colab_type": "text"
      },
      "source": [
        "11. Perform a cross-tabulation of the region attribute with the pep attribute. This requires the aggregation of the occurrences of each pep value (yes or no) separately for each value of the region attribute. Show the results as a 4 by 2 (region x pep) table with entries representing the counts. [Hint: you can either use Numpy or use aggregations functions in Pandas such as groupby() and  cross-tab().] Then, either using Matplotlib directly or the plot() function in Pandas create a bar chart graph to visualize of the relationships between these sets of variables. [Hint: This example of creating simple bar charts using Matplotlib may be useful.]"
      ]
    },
    {
      "cell_type": "markdown",
      "metadata": {
        "id": "8ismAclOLXE4",
        "colab_type": "text"
      },
      "source": [
        "### Crosstab"
      ]
    },
    {
      "cell_type": "code",
      "metadata": {
        "id": "KIUe6RmtKKPH",
        "colab_type": "code",
        "colab": {
          "base_uri": "https://localhost:8080/",
          "height": 203
        },
        "outputId": "5557356d-fae1-482a-f819-b8d9ecd1ab87"
      },
      "source": [
        "#Crosstab\n",
        "pd.crosstab(df.region,df.pep)"
      ],
      "execution_count": 153,
      "outputs": [
        {
          "output_type": "execute_result",
          "data": {
            "text/html": [
              "<div>\n",
              "<style scoped>\n",
              "    .dataframe tbody tr th:only-of-type {\n",
              "        vertical-align: middle;\n",
              "    }\n",
              "\n",
              "    .dataframe tbody tr th {\n",
              "        vertical-align: top;\n",
              "    }\n",
              "\n",
              "    .dataframe thead th {\n",
              "        text-align: right;\n",
              "    }\n",
              "</style>\n",
              "<table border=\"1\" class=\"dataframe\">\n",
              "  <thead>\n",
              "    <tr style=\"text-align: right;\">\n",
              "      <th>pep</th>\n",
              "      <th>NO</th>\n",
              "      <th>YES</th>\n",
              "    </tr>\n",
              "    <tr>\n",
              "      <th>region</th>\n",
              "      <th></th>\n",
              "      <th></th>\n",
              "    </tr>\n",
              "  </thead>\n",
              "  <tbody>\n",
              "    <tr>\n",
              "      <th>INNER_CITY</th>\n",
              "      <td>146</td>\n",
              "      <td>123</td>\n",
              "    </tr>\n",
              "    <tr>\n",
              "      <th>RURAL</th>\n",
              "      <td>50</td>\n",
              "      <td>46</td>\n",
              "    </tr>\n",
              "    <tr>\n",
              "      <th>SUBURBAN</th>\n",
              "      <td>28</td>\n",
              "      <td>34</td>\n",
              "    </tr>\n",
              "    <tr>\n",
              "      <th>TOWN</th>\n",
              "      <td>102</td>\n",
              "      <td>71</td>\n",
              "    </tr>\n",
              "  </tbody>\n",
              "</table>\n",
              "</div>"
            ],
            "text/plain": [
              "pep          NO  YES\n",
              "region              \n",
              "INNER_CITY  146  123\n",
              "RURAL        50   46\n",
              "SUBURBAN     28   34\n",
              "TOWN        102   71"
            ]
          },
          "metadata": {
            "tags": []
          },
          "execution_count": 153
        }
      ]
    },
    {
      "cell_type": "code",
      "metadata": {
        "id": "9m3fCbuyKZ8G",
        "colab_type": "code",
        "colab": {
          "base_uri": "https://localhost:8080/",
          "height": 172
        },
        "outputId": "f410b8f2-1035-4853-a5d7-e31182991904"
      },
      "source": [
        "#Clean it up (manually):\n",
        "# intialise data of lists. \n",
        "crosstab_data = {'Region':['Inner_City', 'Rural', 'Suburban', 'Town'], \n",
        "                 'Pep_NO':[146, 50, 28, 102],\n",
        "                 'Pep_YES':[123, 46, 34, 71]} \n",
        "  \n",
        "# Create DataFrame \n",
        "crosstab_data_df = pd.DataFrame(crosstab_data) \n",
        "  \n",
        "# Print the output. \n",
        "crosstab_data_df"
      ],
      "execution_count": 154,
      "outputs": [
        {
          "output_type": "execute_result",
          "data": {
            "text/html": [
              "<div>\n",
              "<style scoped>\n",
              "    .dataframe tbody tr th:only-of-type {\n",
              "        vertical-align: middle;\n",
              "    }\n",
              "\n",
              "    .dataframe tbody tr th {\n",
              "        vertical-align: top;\n",
              "    }\n",
              "\n",
              "    .dataframe thead th {\n",
              "        text-align: right;\n",
              "    }\n",
              "</style>\n",
              "<table border=\"1\" class=\"dataframe\">\n",
              "  <thead>\n",
              "    <tr style=\"text-align: right;\">\n",
              "      <th></th>\n",
              "      <th>Region</th>\n",
              "      <th>Pep_NO</th>\n",
              "      <th>Pep_YES</th>\n",
              "    </tr>\n",
              "  </thead>\n",
              "  <tbody>\n",
              "    <tr>\n",
              "      <th>0</th>\n",
              "      <td>Inner_City</td>\n",
              "      <td>146</td>\n",
              "      <td>123</td>\n",
              "    </tr>\n",
              "    <tr>\n",
              "      <th>1</th>\n",
              "      <td>Rural</td>\n",
              "      <td>50</td>\n",
              "      <td>46</td>\n",
              "    </tr>\n",
              "    <tr>\n",
              "      <th>2</th>\n",
              "      <td>Suburban</td>\n",
              "      <td>28</td>\n",
              "      <td>34</td>\n",
              "    </tr>\n",
              "    <tr>\n",
              "      <th>3</th>\n",
              "      <td>Town</td>\n",
              "      <td>102</td>\n",
              "      <td>71</td>\n",
              "    </tr>\n",
              "  </tbody>\n",
              "</table>\n",
              "</div>"
            ],
            "text/plain": [
              "       Region  Pep_NO  Pep_YES\n",
              "0  Inner_City     146      123\n",
              "1       Rural      50       46\n",
              "2    Suburban      28       34\n",
              "3        Town     102       71"
            ]
          },
          "metadata": {
            "tags": []
          },
          "execution_count": 154
        }
      ]
    },
    {
      "cell_type": "markdown",
      "metadata": {
        "id": "Eeq3qgFWLa_8",
        "colab_type": "text"
      },
      "source": [
        "### Visualization of Crosstab"
      ]
    },
    {
      "cell_type": "code",
      "metadata": {
        "id": "iuafU_VOqM9n",
        "colab_type": "code",
        "colab": {
          "base_uri": "https://localhost:8080/",
          "height": 284
        },
        "outputId": "aec395a1-7329-4a89-c0d1-c6e03cbdaac0"
      },
      "source": [
        "#Region\n",
        "region_comp = sns.countplot(x=\"region\", hue=\"pep\", data=df)"
      ],
      "execution_count": 151,
      "outputs": [
        {
          "output_type": "display_data",
          "data": {
            "image/png": "[encoded data removed]",
            "text/plain": [
              "<Figure size 432x288 with 1 Axes>"
            ]
          },
          "metadata": {
            "tags": []
          }
        }
      ]
    },
    {
      "cell_type": "markdown",
      "metadata": {
        "id": "5kAuNta1KHe6",
        "colab_type": "text"
      },
      "source": [
        "* Same plot as in the other question."
      ]
    },
    {
      "cell_type": "code",
      "metadata": {
        "id": "GDOPCZQoLpj4",
        "colab_type": "code",
        "colab": {}
      },
      "source": [
        ""
      ],
      "execution_count": 0,
      "outputs": []
    }
  ]
}