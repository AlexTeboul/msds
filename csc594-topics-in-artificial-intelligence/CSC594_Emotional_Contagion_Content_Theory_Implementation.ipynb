{
  "nbformat": 4,
  "nbformat_minor": 0,
  "metadata": {
    "colab": {
      "name": "CSC594 - Emotional Contagion Content Theory Implementation.ipynb",
      "provenance": [],
      "toc_visible": true,
      "authorship_tag": "ABX9TyPKAKEDzouNuAcARTVmbIkS",
      "include_colab_link": true
    },
    "kernelspec": {
      "name": "python3",
      "display_name": "Python 3"
    },
    "accelerator": "GPU"
  },
  "cells": [
    {
      "cell_type": "markdown",
      "metadata": {
        "id": "view-in-github",
        "colab_type": "text"
      },
      "source": [
        "<a href=\"https://colab.research.google.com/github/AlexTeboul/msds/blob/main/csc594-topics-in-artificial-intelligence/CSC594_Emotional_Contagion_Content_Theory_Implementation.ipynb\" target=\"_parent\"><img src=\"https://colab.research.google.com/assets/colab-badge.svg\" alt=\"Open In Colab\"/></a>"
      ]
    },
    {
      "cell_type": "markdown",
      "metadata": {
        "id": "8ftJT7WGYkSV"
      },
      "source": [
        "#Alex Teboul\n",
        "\n",
        "#CSC 594 - Emotionally Intelligent Chatbot\n",
        "\n",
        "##Content Theory Implementation: Emotional Contagion\n",
        "\n",
        "**Structured Outline Link: [Leveraging Emotional Contagion in Social Media Networks: Risks and Opportunities](https://docs.google.com/document/d/1ogNq4K2P4T7HVEK87tJAvS613AGk1N7jhonwYHgMxC8/edit?usp=sharing)**\n",
        "\n",
        "**6 Emotional States**\n",
        "\n",
        "For the purposes of this content theory, I only include the following base emotions. These help limit the scope of the emotional contagion content theory. \n",
        "\n",
        "* Joy\n",
        "* Sadness\n",
        "* Anger\n",
        "* Fear\n",
        "* Love\n",
        "* Surprise\n",
        "\n",
        "**3 Sentiment States**\n",
        "\n",
        "As part of the content theory, there are also 3 sentiment states that can be infered from text. These help provide a baseline for interpretting the emotional state of users.\n",
        "* Negative (-)\n",
        "* Neutral\n",
        "* Positive (+)\n",
        "\n",
        "**Final Implementation Goals:**\n",
        "\n",
        "*Emotional Contagion in Text*\n",
        "\n",
        "1. Have a user input text about how they are feeling.\n",
        "2. Classify the emotion in the speech or text.\n",
        "3. Return the prediction of the user's emotional state in the form, \"I sense that you are feeling ...[emotional state].\"\n",
        "4. Display \n",
        "5. From the classified emotions, display content that matches those emotions **or** displays content that is antagonistic to those emotions in an effort to alter the emotional state of the user. \n",
        "6. Do the same based on sentiment.\n",
        "7. Ask the user's emotional state again and see if it has changed.\n",
        "8. User emotional state will be transferred to the emotionally intelligent agent through this process. EIA emotional state may be transferred to user.\n",
        " \n",
        "\n",
        "**Reference Notebooks:**\n",
        "\n",
        "1.   Code Reference: [Deep Learning Based Emotion Recognition with TensorFlow](https://colab.research.google.com/drive/14I-31WuynLg1B0RQHWwwRgBmqTlDgkwV#scrollTo=ezRBSSehGFP_)\n",
        "\n",
        "\n",
        "\n",
        "\n",
        "\n"
      ]
    },
    {
      "cell_type": "markdown",
      "metadata": {
        "id": "IaK_ANyoqcip"
      },
      "source": [
        "#1. Emotional States Model Building"
      ]
    },
    {
      "cell_type": "markdown",
      "metadata": {
        "id": "SoRNQJ1vq3w2"
      },
      "source": [
        "**About this section:**\n",
        "\n",
        "In this section, I attempt to build a train a model to recognize emotional states in text. I am using a process demonstrated by Elvis Saravia to use GRU RNN. The dataset used contains roughly 417k pre-processed tweets with associated joy, sadness, anger, fear, love, and surprise labels.\n"
      ]
    },
    {
      "cell_type": "markdown",
      "metadata": {
        "id": "CxpaB0FKkfSv"
      },
      "source": [
        "## 1. Setup"
      ]
    },
    {
      "cell_type": "code",
      "metadata": {
        "id": "JRA4NChgY-YN",
        "outputId": "e8a8d701-de58-4a3e-9797-4d4d859e0cbf",
        "colab": {
          "base_uri": "https://localhost:8080/"
        }
      },
      "source": [
        "from google.colab import drive\n",
        "drive.mount('/content/gdrive')"
      ],
      "execution_count": null,
      "outputs": [
        {
          "output_type": "stream",
          "text": [
            "Drive already mounted at /content/gdrive; to attempt to forcibly remount, call drive.mount(\"/content/gdrive\", force_remount=True).\n"
          ],
          "name": "stdout"
        }
      ]
    },
    {
      "cell_type": "code",
      "metadata": {
        "id": "ztSoceqxFxwW"
      },
      "source": [
        "#Setup\n",
        "import re\n",
        "import numpy as np\n",
        "import time\n",
        "from sklearn import preprocessing\n",
        "from sklearn.model_selection import train_test_split\n",
        "import matplotlib.pyplot as plt\n",
        "%matplotlib inline\n",
        "\n",
        "import itertools\n",
        "import pandas as pd\n",
        "from scipy import stats\n",
        "from sklearn import metrics\n",
        "from sklearn.preprocessing import LabelEncoder\n",
        "\n",
        "### Helper functions\n",
        "import pickle\n",
        "\n",
        "def convert_to_pickle(item, directory):\n",
        "    pickle.dump(item, open(directory,\"wb\"))\n",
        "\n",
        "def load_from_pickle(directory):\n",
        "    return pickle.load(open(directory,\"rb\"))\n",
        "\n",
        "import tensorflow as tf"
      ],
      "execution_count": null,
      "outputs": []
    },
    {
      "cell_type": "markdown",
      "metadata": {
        "id": "ITuj0xd9pCB_"
      },
      "source": [
        "## Get the Dataset"
      ]
    },
    {
      "cell_type": "code",
      "metadata": {
        "id": "pM1HqwsvYg9j",
        "outputId": "54058fe0-f729-480e-eca3-7012299ef052",
        "colab": {
          "base_uri": "https://localhost:8080/",
          "height": 329
        }
      },
      "source": [
        "# load data from tensorflow \n",
        "#https://github.com/omarsar/nlp_pytorch_tensorflow_notebooks/blob/master/data/merged_training.pkl\n",
        "data = load_from_pickle(directory=\"/content/gdrive/My Drive/Colab Notebooks/datasets/merged_training.pkl\")\n",
        "\n",
        "plt.title(\"Count of Tweet Emotions in Dataset\")\n",
        "data.emotions.value_counts().plot.bar()"
      ],
      "execution_count": null,
      "outputs": [
        {
          "output_type": "execute_result",
          "data": {
            "text/plain": [
              "<matplotlib.axes._subplots.AxesSubplot at 0x7f46c7342cc0>"
            ]
          },
          "metadata": {
            "tags": []
          },
          "execution_count": 3
        },
        {
          "output_type": "display_data",
          "data": {
            "image/png": "[encoded data removed]",
            "text/plain": [
              "<Figure size 432x288 with 1 Axes>"
            ]
          },
          "metadata": {
            "tags": [],
            "needs_background": "light"
          }
        }
      ]
    },
    {
      "cell_type": "code",
      "metadata": {
        "id": "_gucdHGakkOW",
        "outputId": "f60866ab-454f-4626-a651-0e6e80222138",
        "colab": {
          "base_uri": "https://localhost:8080/",
          "height": 140
        }
      },
      "source": [
        "#count of emotions in dataset out of 416,809\n",
        "#ex. there are 141,067 tweets containing the general emotion \"joy\" or something close to it.\n",
        "data.emotions.value_counts()"
      ],
      "execution_count": null,
      "outputs": [
        {
          "output_type": "execute_result",
          "data": {
            "text/plain": [
              "joy         141067\n",
              "sadness     121187\n",
              "anger        57317\n",
              "fear         47712\n",
              "love         34554\n",
              "surprise     14972\n",
              "Name: emotions, dtype: int64"
            ]
          },
          "metadata": {
            "tags": []
          },
          "execution_count": 4
        }
      ]
    },
    {
      "cell_type": "code",
      "metadata": {
        "id": "UzLNlz4lmRfC",
        "outputId": "f93a86f2-91ea-4d62-9276-dd59518e1296",
        "colab": {
          "base_uri": "https://localhost:8080/",
          "height": 357
        }
      },
      "source": [
        "#sample of the dataset\n",
        "data.head(10)"
      ],
      "execution_count": null,
      "outputs": [
        {
          "output_type": "execute_result",
          "data": {
            "text/html": [
              "<div>\n",
              "<style scoped>\n",
              "    .dataframe tbody tr th:only-of-type {\n",
              "        vertical-align: middle;\n",
              "    }\n",
              "\n",
              "    .dataframe tbody tr th {\n",
              "        vertical-align: top;\n",
              "    }\n",
              "\n",
              "    .dataframe thead th {\n",
              "        text-align: right;\n",
              "    }\n",
              "</style>\n",
              "<table border=\"1\" class=\"dataframe\">\n",
              "  <thead>\n",
              "    <tr style=\"text-align: right;\">\n",
              "      <th></th>\n",
              "      <th>text</th>\n",
              "      <th>emotions</th>\n",
              "    </tr>\n",
              "  </thead>\n",
              "  <tbody>\n",
              "    <tr>\n",
              "      <th>27383</th>\n",
              "      <td>i feel awful about it too because it s my job ...</td>\n",
              "      <td>sadness</td>\n",
              "    </tr>\n",
              "    <tr>\n",
              "      <th>110083</th>\n",
              "      <td>im alone i feel awful</td>\n",
              "      <td>sadness</td>\n",
              "    </tr>\n",
              "    <tr>\n",
              "      <th>140764</th>\n",
              "      <td>ive probably mentioned this before but i reall...</td>\n",
              "      <td>joy</td>\n",
              "    </tr>\n",
              "    <tr>\n",
              "      <th>100071</th>\n",
              "      <td>i was feeling a little low few days back</td>\n",
              "      <td>sadness</td>\n",
              "    </tr>\n",
              "    <tr>\n",
              "      <th>2837</th>\n",
              "      <td>i beleive that i am much more sensitive to oth...</td>\n",
              "      <td>love</td>\n",
              "    </tr>\n",
              "    <tr>\n",
              "      <th>18231</th>\n",
              "      <td>i find myself frustrated with christians becau...</td>\n",
              "      <td>love</td>\n",
              "    </tr>\n",
              "    <tr>\n",
              "      <th>10714</th>\n",
              "      <td>i am one of those people who feels like going ...</td>\n",
              "      <td>joy</td>\n",
              "    </tr>\n",
              "    <tr>\n",
              "      <th>35177</th>\n",
              "      <td>i feel especially pleased about this as this h...</td>\n",
              "      <td>joy</td>\n",
              "    </tr>\n",
              "    <tr>\n",
              "      <th>122177</th>\n",
              "      <td>i was struggling with these awful feelings and...</td>\n",
              "      <td>joy</td>\n",
              "    </tr>\n",
              "    <tr>\n",
              "      <th>26723</th>\n",
              "      <td>i feel so enraged but helpless at the same time</td>\n",
              "      <td>anger</td>\n",
              "    </tr>\n",
              "  </tbody>\n",
              "</table>\n",
              "</div>"
            ],
            "text/plain": [
              "                                                     text emotions\n",
              "27383   i feel awful about it too because it s my job ...  sadness\n",
              "110083                              im alone i feel awful  sadness\n",
              "140764  ive probably mentioned this before but i reall...      joy\n",
              "100071           i was feeling a little low few days back  sadness\n",
              "2837    i beleive that i am much more sensitive to oth...     love\n",
              "18231   i find myself frustrated with christians becau...     love\n",
              "10714   i am one of those people who feels like going ...      joy\n",
              "35177   i feel especially pleased about this as this h...      joy\n",
              "122177  i was struggling with these awful feelings and...      joy\n",
              "26723     i feel so enraged but helpless at the same time    anger"
            ]
          },
          "metadata": {
            "tags": []
          },
          "execution_count": 5
        }
      ]
    },
    {
      "cell_type": "markdown",
      "metadata": {
        "id": "z0PkMhP7oxhn"
      },
      "source": [
        "## Tokenization, Sampling, Vocabulary Construction, Index-Word Mapping"
      ]
    },
    {
      "cell_type": "code",
      "metadata": {
        "id": "s2nGyzpsmbZE",
        "outputId": "cdde9543-5955-469e-ed6d-ba8a5ee60147",
        "colab": {
          "base_uri": "https://localhost:8080/"
        }
      },
      "source": [
        "# keep 80 tokens or less\n",
        "data[\"token_size\"] = data[\"text\"].apply(lambda x: len(x.split(' ')))\n",
        "data = data.loc[data['token_size'] < 70].copy()\n",
        "\n",
        "# sampling 50k\n",
        "data = data.sample(n=50000)\n",
        "\n",
        "# see now we have 50k tweets only that are 80 tokens or less\n",
        "data.shape"
      ],
      "execution_count": null,
      "outputs": [
        {
          "output_type": "execute_result",
          "data": {
            "text/plain": [
              "(50000, 3)"
            ]
          },
          "metadata": {
            "tags": []
          },
          "execution_count": 6
        }
      ]
    },
    {
      "cell_type": "code",
      "metadata": {
        "id": "_fXavrZ4m110",
        "outputId": "32852f1b-ad96-4961-ffee-7b4b2f2c624f",
        "colab": {
          "base_uri": "https://localhost:8080/"
        }
      },
      "source": [
        "# now we \n",
        "data.head() "
      ],
      "execution_count": null,
      "outputs": [
        {
          "output_type": "execute_result",
          "data": {
            "text/html": [
              "<div>\n",
              "<style scoped>\n",
              "    .dataframe tbody tr th:only-of-type {\n",
              "        vertical-align: middle;\n",
              "    }\n",
              "\n",
              "    .dataframe tbody tr th {\n",
              "        vertical-align: top;\n",
              "    }\n",
              "\n",
              "    .dataframe thead th {\n",
              "        text-align: right;\n",
              "    }\n",
              "</style>\n",
              "<table border=\"1\" class=\"dataframe\">\n",
              "  <thead>\n",
              "    <tr style=\"text-align: right;\">\n",
              "      <th></th>\n",
              "      <th>text</th>\n",
              "      <th>emotions</th>\n",
              "      <th>token_size</th>\n",
              "    </tr>\n",
              "  </thead>\n",
              "  <tbody>\n",
              "    <tr>\n",
              "      <th>74979</th>\n",
              "      <td>i just feel like it s just idiotic to say i m ...</td>\n",
              "      <td>sadness</td>\n",
              "      <td>27</td>\n",
              "    </tr>\n",
              "    <tr>\n",
              "      <th>67184</th>\n",
              "      <td>i feel that i don t have that many updates or ...</td>\n",
              "      <td>joy</td>\n",
              "      <td>22</td>\n",
              "    </tr>\n",
              "    <tr>\n",
              "      <th>28890</th>\n",
              "      <td>i wanted to go out to the strip club tonight b...</td>\n",
              "      <td>love</td>\n",
              "      <td>39</td>\n",
              "    </tr>\n",
              "    <tr>\n",
              "      <th>15531</th>\n",
              "      <td>i can go from feeling absolutely wonderful to ...</td>\n",
              "      <td>joy</td>\n",
              "      <td>15</td>\n",
              "    </tr>\n",
              "    <tr>\n",
              "      <th>12022</th>\n",
              "      <td>i can feel so beaten down by the sinful nature...</td>\n",
              "      <td>sadness</td>\n",
              "      <td>25</td>\n",
              "    </tr>\n",
              "  </tbody>\n",
              "</table>\n",
              "</div>"
            ],
            "text/plain": [
              "                                                    text emotions  token_size\n",
              "74979  i just feel like it s just idiotic to say i m ...  sadness          27\n",
              "67184  i feel that i don t have that many updates or ...      joy          22\n",
              "28890  i wanted to go out to the strip club tonight b...     love          39\n",
              "15531  i can go from feeling absolutely wonderful to ...      joy          15\n",
              "12022  i can feel so beaten down by the sinful nature...  sadness          25"
            ]
          },
          "metadata": {
            "tags": []
          },
          "execution_count": 7
        }
      ]
    },
    {
      "cell_type": "code",
      "metadata": {
        "id": "uvLerQmcpvKC"
      },
      "source": [
        "# This class creates a word -> index mapping \n",
        "# (\"think\" -> 27) and vice-versa \n",
        "# (27 -> \"think\") across this dataset sample\n",
        "class ConstructVocab():\n",
        "    def __init__(self, sentences):\n",
        "        self.sentences = sentences\n",
        "        self.word2idx = {}\n",
        "        self.idx2word = {}\n",
        "        self.vocab = set()\n",
        "        self.create_index()\n",
        "        \n",
        "    def create_index(self):\n",
        "        for s in self.sentences:\n",
        "            # update with individual tokens\n",
        "            self.vocab.update(s.split(' '))\n",
        "            \n",
        "        # sort the vocab\n",
        "        self.vocab = sorted(self.vocab)\n",
        "\n",
        "        # add a padding token with index 0\n",
        "        self.word2idx['<pad>'] = 0\n",
        "        \n",
        "        # word to index mapping\n",
        "        for index, word in enumerate(self.vocab):\n",
        "            self.word2idx[word] = index + 1 # +1 because of pad token\n",
        "        \n",
        "        # index to word mapping\n",
        "        for word, index in self.word2idx.items():\n",
        "            self.idx2word[index] = word"
      ],
      "execution_count": null,
      "outputs": []
    },
    {
      "cell_type": "markdown",
      "metadata": {
        "id": "JZqaPtuxr6Sv"
      },
      "source": [
        "## Put sample Data in Tensors"
      ]
    },
    {
      "cell_type": "code",
      "metadata": {
        "id": "KuapVIPsuM2I",
        "outputId": "02386673-385d-41d4-88fd-73ffcb4fad96",
        "colab": {
          "base_uri": "https://localhost:8080/"
        }
      },
      "source": [
        "# construct vocab and indexing\n",
        "inputs = ConstructVocab(data[\"text\"].values.tolist())\n",
        "\n",
        "# examples of what is in the vocab\n",
        "inputs.vocab[0:20]"
      ],
      "execution_count": null,
      "outputs": [
        {
          "output_type": "execute_result",
          "data": {
            "text/plain": [
              "['a',\n",
              " 'aa',\n",
              " 'aaa',\n",
              " 'aaaa',\n",
              " 'aaaaaaaall',\n",
              " 'aaaaall',\n",
              " 'aaaahhhhhh',\n",
              " 'aaah',\n",
              " 'aaargh',\n",
              " 'aaliyah',\n",
              " 'aand',\n",
              " 'aardvarkartglass',\n",
              " 'aaron',\n",
              " 'aarthi',\n",
              " 'aatp',\n",
              " 'ab',\n",
              " 'abad',\n",
              " 'abandoment',\n",
              " 'abandon',\n",
              " 'abandoned']"
            ]
          },
          "metadata": {
            "tags": []
          },
          "execution_count": 9
        }
      ]
    },
    {
      "cell_type": "code",
      "metadata": {
        "id": "kdYAf-gruTVv",
        "outputId": "e97b8441-2f34-49ec-d40b-d97db236d308",
        "colab": {
          "base_uri": "https://localhost:8080/"
        }
      },
      "source": [
        "# how many 'words' are in the vocabulary\n",
        "len(inputs.vocab)"
      ],
      "execution_count": null,
      "outputs": [
        {
          "output_type": "execute_result",
          "data": {
            "text/plain": [
              "27505"
            ]
          },
          "metadata": {
            "tags": []
          },
          "execution_count": 10
        }
      ]
    },
    {
      "cell_type": "code",
      "metadata": {
        "id": "iuEk9Hx7r_Hx"
      },
      "source": [
        "# vectorize to tensor\n",
        "input_tensor = [[inputs.word2idx[s] for s in es.split(' ')]  for es in data[\"text\"].values.tolist()]"
      ],
      "execution_count": null,
      "outputs": []
    },
    {
      "cell_type": "code",
      "metadata": {
        "id": "rB5XEmeB8RkR",
        "outputId": "0b7b724e-1a84-4ba7-cfdf-fbd429be2c5b",
        "colab": {
          "base_uri": "https://localhost:8080/"
        }
      },
      "source": [
        "input_tensor[0:2]"
      ],
      "execution_count": null,
      "outputs": [
        {
          "output_type": "execute_result",
          "data": {
            "text/plain": [
              "[[11713,\n",
              "  13101,\n",
              "  8794,\n",
              "  13979,\n",
              "  12711,\n",
              "  20804,\n",
              "  13101,\n",
              "  11765,\n",
              "  24650,\n",
              "  21028,\n",
              "  11713,\n",
              "  14449,\n",
              "  10201,\n",
              "  24650,\n",
              "  18482,\n",
              "  20846,\n",
              "  21513,\n",
              "  3258,\n",
              "  26588,\n",
              "  19465,\n",
              "  16853,\n",
              "  10201,\n",
              "  24650,\n",
              "  26600,\n",
              "  1,\n",
              "  4854,\n",
              "  11122],\n",
              " [11713,\n",
              "  8794,\n",
              "  24280,\n",
              "  11713,\n",
              "  7037,\n",
              "  23889,\n",
              "  10916,\n",
              "  24280,\n",
              "  14690,\n",
              "  25848,\n",
              "  16939,\n",
              "  24377,\n",
              "  24650,\n",
              "  19486,\n",
              "  16830,\n",
              "  8206,\n",
              "  5928,\n",
              "  9332,\n",
              "  657,\n",
              "  24287,\n",
              "  7430,\n",
              "  17689]]"
            ]
          },
          "metadata": {
            "tags": []
          },
          "execution_count": 12
        }
      ]
    },
    {
      "cell_type": "code",
      "metadata": {
        "id": "rTrAxURfsHNO"
      },
      "source": [
        "def max_length(tensor):\n",
        "    return max(len(t) for t in tensor)"
      ],
      "execution_count": null,
      "outputs": []
    },
    {
      "cell_type": "code",
      "metadata": {
        "id": "rAVSiFgusHkT",
        "outputId": "a51a8411-7c68-4f34-d2cd-0eb4dd7cc50a",
        "colab": {
          "base_uri": "https://localhost:8080/"
        }
      },
      "source": [
        "# calculate the max_length of input tensor\n",
        "max_length_inp = max_length(input_tensor)\n",
        "print(max_length_inp)"
      ],
      "execution_count": null,
      "outputs": [
        {
          "output_type": "stream",
          "text": [
            "69\n"
          ],
          "name": "stdout"
        }
      ]
    },
    {
      "cell_type": "code",
      "metadata": {
        "id": "UIlUj840u4qm"
      },
      "source": [
        "# Padding the input and output tensor to the maximum length\n",
        "input_tensor = tf.keras.preprocessing.sequence.pad_sequences(input_tensor, \n",
        "                                                             maxlen=max_length_inp,\n",
        "                                                             padding='post')"
      ],
      "execution_count": null,
      "outputs": []
    },
    {
      "cell_type": "code",
      "metadata": {
        "id": "_tVTkby3tq2U",
        "outputId": "b2a9ec29-d4ef-4672-f52c-8043822fe294",
        "colab": {
          "base_uri": "https://localhost:8080/"
        }
      },
      "source": [
        "#Show what it's like now that it's padded\n",
        "input_tensor[0:2]"
      ],
      "execution_count": null,
      "outputs": [
        {
          "output_type": "execute_result",
          "data": {
            "text/plain": [
              "array([[11713, 13101,  8794, 13979, 12711, 20804, 13101, 11765, 24650,\n",
              "        21028, 11713, 14449, 10201, 24650, 18482, 20846, 21513,  3258,\n",
              "        26588, 19465, 16853, 10201, 24650, 26600,     1,  4854, 11122,\n",
              "            0,     0,     0,     0,     0,     0,     0,     0,     0,\n",
              "            0,     0,     0,     0,     0,     0,     0,     0,     0,\n",
              "            0,     0,     0,     0,     0,     0,     0,     0,     0,\n",
              "            0,     0,     0,     0,     0,     0,     0,     0,     0,\n",
              "            0,     0,     0,     0,     0,     0],\n",
              "       [11713,  8794, 24280, 11713,  7037, 23889, 10916, 24280, 14690,\n",
              "        25848, 16939, 24377, 24650, 19486, 16830,  8206,  5928,  9332,\n",
              "          657, 24287,  7430, 17689,     0,     0,     0,     0,     0,\n",
              "            0,     0,     0,     0,     0,     0,     0,     0,     0,\n",
              "            0,     0,     0,     0,     0,     0,     0,     0,     0,\n",
              "            0,     0,     0,     0,     0,     0,     0,     0,     0,\n",
              "            0,     0,     0,     0,     0,     0,     0,     0,     0,\n",
              "            0,     0,     0,     0,     0,     0]], dtype=int32)"
            ]
          },
          "metadata": {
            "tags": []
          },
          "execution_count": 16
        }
      ]
    },
    {
      "cell_type": "markdown",
      "metadata": {
        "id": "UN_VC_VLvJTa"
      },
      "source": [
        "## Binarization"
      ]
    },
    {
      "cell_type": "code",
      "metadata": {
        "id": "JzyE8u9Cu0ZJ"
      },
      "source": [
        "### convert targets to one-hot encoding vectors\n",
        "emotions = list(set(data.emotions.unique()))\n",
        "num_emotions = len(emotions)\n",
        "# binarizer\n",
        "mlb = preprocessing.MultiLabelBinarizer()\n",
        "data_labels =  [set(emos) & set(emotions) for emos in data[['emotions']].values]\n",
        "bin_emotions = mlb.fit_transform(data_labels)\n",
        "target_tensor = np.array(bin_emotions.tolist())"
      ],
      "execution_count": null,
      "outputs": []
    },
    {
      "cell_type": "code",
      "metadata": {
        "id": "Z6nRnWUBvNM2",
        "outputId": "619c701e-bea0-44fe-ae73-47c06b7715e3",
        "colab": {
          "base_uri": "https://localhost:8080/"
        }
      },
      "source": [
        "# So that first row in the tensor here represents a tweet and it's corresponding emotion of sadness. \n",
        "target_tensor[0:2] "
      ],
      "execution_count": null,
      "outputs": [
        {
          "output_type": "execute_result",
          "data": {
            "text/plain": [
              "array([[0, 0, 0, 0, 1, 0],\n",
              "       [0, 0, 1, 0, 0, 0]])"
            ]
          },
          "metadata": {
            "tags": []
          },
          "execution_count": 18
        }
      ]
    },
    {
      "cell_type": "code",
      "metadata": {
        "id": "d08EpkAqw6Dr",
        "outputId": "1d94def6-81bc-4acb-d7f7-03cff5ac43e3",
        "colab": {
          "base_uri": "https://localhost:8080/"
        }
      },
      "source": [
        "# we now have a 6 dimensional tensor with our 60k sample tweet texts laid out by emotional state.\n",
        "# Refer to why in the emotion_dict produced a few code blocks below\n",
        "target_tensor.shape"
      ],
      "execution_count": null,
      "outputs": [
        {
          "output_type": "execute_result",
          "data": {
            "text/plain": [
              "(50000, 6)"
            ]
          },
          "metadata": {
            "tags": []
          },
          "execution_count": 19
        }
      ]
    },
    {
      "cell_type": "markdown",
      "metadata": {
        "id": "4s4VAWUMwZ3c"
      },
      "source": [
        "## 6 Emotional States Dictionary"
      ]
    },
    {
      "cell_type": "code",
      "metadata": {
        "id": "uqJIn-JxwEji",
        "outputId": "33dfc553-4374-4b66-e94b-29e687adaca0",
        "colab": {
          "base_uri": "https://localhost:8080/"
        }
      },
      "source": [
        "data.head()"
      ],
      "execution_count": null,
      "outputs": [
        {
          "output_type": "execute_result",
          "data": {
            "text/html": [
              "<div>\n",
              "<style scoped>\n",
              "    .dataframe tbody tr th:only-of-type {\n",
              "        vertical-align: middle;\n",
              "    }\n",
              "\n",
              "    .dataframe tbody tr th {\n",
              "        vertical-align: top;\n",
              "    }\n",
              "\n",
              "    .dataframe thead th {\n",
              "        text-align: right;\n",
              "    }\n",
              "</style>\n",
              "<table border=\"1\" class=\"dataframe\">\n",
              "  <thead>\n",
              "    <tr style=\"text-align: right;\">\n",
              "      <th></th>\n",
              "      <th>text</th>\n",
              "      <th>emotions</th>\n",
              "      <th>token_size</th>\n",
              "    </tr>\n",
              "  </thead>\n",
              "  <tbody>\n",
              "    <tr>\n",
              "      <th>74979</th>\n",
              "      <td>i just feel like it s just idiotic to say i m ...</td>\n",
              "      <td>sadness</td>\n",
              "      <td>27</td>\n",
              "    </tr>\n",
              "    <tr>\n",
              "      <th>67184</th>\n",
              "      <td>i feel that i don t have that many updates or ...</td>\n",
              "      <td>joy</td>\n",
              "      <td>22</td>\n",
              "    </tr>\n",
              "    <tr>\n",
              "      <th>28890</th>\n",
              "      <td>i wanted to go out to the strip club tonight b...</td>\n",
              "      <td>love</td>\n",
              "      <td>39</td>\n",
              "    </tr>\n",
              "    <tr>\n",
              "      <th>15531</th>\n",
              "      <td>i can go from feeling absolutely wonderful to ...</td>\n",
              "      <td>joy</td>\n",
              "      <td>15</td>\n",
              "    </tr>\n",
              "    <tr>\n",
              "      <th>12022</th>\n",
              "      <td>i can feel so beaten down by the sinful nature...</td>\n",
              "      <td>sadness</td>\n",
              "      <td>25</td>\n",
              "    </tr>\n",
              "  </tbody>\n",
              "</table>\n",
              "</div>"
            ],
            "text/plain": [
              "                                                    text emotions  token_size\n",
              "74979  i just feel like it s just idiotic to say i m ...  sadness          27\n",
              "67184  i feel that i don t have that many updates or ...      joy          22\n",
              "28890  i wanted to go out to the strip club tonight b...     love          39\n",
              "15531  i can go from feeling absolutely wonderful to ...      joy          15\n",
              "12022  i can feel so beaten down by the sinful nature...  sadness          25"
            ]
          },
          "metadata": {
            "tags": []
          },
          "execution_count": 20
        }
      ]
    },
    {
      "cell_type": "code",
      "metadata": {
        "id": "BA8diD3YwHEM"
      },
      "source": [
        "get_emotion = lambda t: np.argmax(t)"
      ],
      "execution_count": null,
      "outputs": []
    },
    {
      "cell_type": "code",
      "metadata": {
        "id": "jen758jWwKxy",
        "outputId": "b59d7756-ca18-49ff-aae3-93fd7fde3f92",
        "colab": {
          "base_uri": "https://localhost:8080/"
        }
      },
      "source": [
        "get_emotion(target_tensor[0])"
      ],
      "execution_count": null,
      "outputs": [
        {
          "output_type": "execute_result",
          "data": {
            "text/plain": [
              "4"
            ]
          },
          "metadata": {
            "tags": []
          },
          "execution_count": 22
        }
      ]
    },
    {
      "cell_type": "code",
      "metadata": {
        "id": "hSxokwZewMey"
      },
      "source": [
        "#Dictionary of 6 Emotional-States\n",
        "emotion_dict = {0: 'anger', 1: 'fear', 2: 'joy', 3: 'love', 4: 'sadness', 5: 'surprise'}"
      ],
      "execution_count": null,
      "outputs": []
    },
    {
      "cell_type": "code",
      "metadata": {
        "id": "wgfajJg0wOT1",
        "outputId": "3f69c4a4-206f-443f-8c6f-00557a0e553b",
        "colab": {
          "base_uri": "https://localhost:8080/"
        }
      },
      "source": [
        "#This is the emotional state from that first entry in the target_tensor.\n",
        "emotion_dict[get_emotion(target_tensor[0])]"
      ],
      "execution_count": null,
      "outputs": [
        {
          "output_type": "execute_result",
          "data": {
            "text/plain": [
              "'sadness'"
            ]
          },
          "metadata": {
            "tags": []
          },
          "execution_count": 24
        }
      ]
    },
    {
      "cell_type": "markdown",
      "metadata": {
        "id": "UwfIvFYGwe-x"
      },
      "source": [
        "## Training and Validation Set Splitting\n",
        "\n",
        "Necessary to train the model"
      ]
    },
    {
      "cell_type": "code",
      "metadata": {
        "id": "Qc8jjZ1UwP_s",
        "outputId": "b7f2e351-0040-4e02-9692-80b253e2de97",
        "colab": {
          "base_uri": "https://localhost:8080/"
        }
      },
      "source": [
        "# Creating training and validation sets using an 80-20 split\n",
        "input_tensor_train, input_tensor_val, target_tensor_train, target_tensor_val = train_test_split(input_tensor, target_tensor, test_size=0.2)\n",
        "\n",
        "# Split the validataion further to obtain a holdout dataset (for testing) -- split 50:50\n",
        "input_tensor_val, input_tensor_test, target_tensor_val, target_tensor_test = train_test_split(input_tensor_val, target_tensor_val, test_size=0.5)\n",
        "\n",
        "# Show length\n",
        "len(input_tensor_train), len(target_tensor_train), len(input_tensor_val), len(target_tensor_val), len(input_tensor_test), len(target_tensor_test)"
      ],
      "execution_count": null,
      "outputs": [
        {
          "output_type": "execute_result",
          "data": {
            "text/plain": [
              "(40000, 40000, 5000, 5000, 5000, 5000)"
            ]
          },
          "metadata": {
            "tags": []
          },
          "execution_count": 25
        }
      ]
    },
    {
      "cell_type": "markdown",
      "metadata": {
        "id": "3sdpuL-iwstl"
      },
      "source": [
        "* We now 80-20 train test splits for NN to learn on. There's also a holdout for validation."
      ]
    },
    {
      "cell_type": "code",
      "metadata": {
        "id": "fi367dDawwGn"
      },
      "source": [
        "# Data Loader Code\n",
        "\n",
        "TRAIN_BUFFER_SIZE = len(input_tensor_train)\n",
        "VAL_BUFFER_SIZE = len(input_tensor_val)\n",
        "TEST_BUFFER_SIZE = len(input_tensor_test)\n",
        "BATCH_SIZE = 64\n",
        "TRAIN_N_BATCH = TRAIN_BUFFER_SIZE // BATCH_SIZE\n",
        "VAL_N_BATCH = VAL_BUFFER_SIZE // BATCH_SIZE\n",
        "TEST_N_BATCH = TEST_BUFFER_SIZE // BATCH_SIZE\n",
        "\n",
        "embedding_dim = 256\n",
        "units = 1024\n",
        "vocab_inp_size = len(inputs.word2idx)\n",
        "target_size = num_emotions\n",
        "\n",
        "train_dataset = tf.data.Dataset.from_tensor_slices((input_tensor_train, \n",
        "                                                    target_tensor_train)).shuffle(TRAIN_BUFFER_SIZE)\n",
        "train_dataset = train_dataset.batch(BATCH_SIZE, drop_remainder=True)\n",
        "val_dataset = tf.data.Dataset.from_tensor_slices((input_tensor_val, \n",
        "                                                  target_tensor_val)).shuffle(VAL_BUFFER_SIZE)\n",
        "val_dataset = val_dataset.batch(BATCH_SIZE, drop_remainder=True)\n",
        "test_dataset = tf.data.Dataset.from_tensor_slices((input_tensor_test, \n",
        "                                                    target_tensor_test)).shuffle(TEST_BUFFER_SIZE)\n",
        "test_dataset = test_dataset.batch(BATCH_SIZE, drop_remainder=True)"
      ],
      "execution_count": null,
      "outputs": []
    },
    {
      "cell_type": "code",
      "metadata": {
        "id": "nopyPGntx_TZ",
        "outputId": "67be888c-2617-4f16-9556-1ce62277c810",
        "colab": {
          "base_uri": "https://localhost:8080/"
        }
      },
      "source": [
        "# checking minibatch\n",
        "print(train_dataset)\n",
        "print(val_dataset)\n",
        "print(test_dataset)"
      ],
      "execution_count": null,
      "outputs": [
        {
          "output_type": "stream",
          "text": [
            "<BatchDataset shapes: ((64, 69), (64, 6)), types: (tf.int32, tf.int64)>\n",
            "<BatchDataset shapes: ((64, 69), (64, 6)), types: (tf.int32, tf.int64)>\n",
            "<BatchDataset shapes: ((64, 69), (64, 6)), types: (tf.int32, tf.int64)>\n"
          ],
          "name": "stdout"
        }
      ]
    },
    {
      "cell_type": "markdown",
      "metadata": {
        "id": "sJUOo5xZGFRZ"
      },
      "source": [
        "## Build Model - Gated Recurrent Neural Network (GRU)\n",
        "\n",
        "Now that the data is preprocessed and transformed, we can build the model. This particular model can uses a computation graph to train our emotion classifier. A recurrent neural network could also be used instead.\n",
        "\n",
        "**Model Basic Architecture**\n",
        "![alt txt](https://github.com/omarsar/nlp_pytorch_tensorflow_notebooks/blob/master/img/gru-model.png?raw=true)"
      ]
    },
    {
      "cell_type": "code",
      "metadata": {
        "id": "kGnbPi94ytTW"
      },
      "source": [
        "### define the GRU component\n",
        "def gru(units):\n",
        "  # If you have a GPU, we recommend using CuDNNGRU(provides a 3x speedup than GRU)\n",
        "  # the code automatically does that.\n",
        "    if tf.test.is_gpu_available():\n",
        "        return tf.compat.v1.keras.layers.CuDNNGRU(units, \n",
        "                                    return_sequences=True, \n",
        "                                    return_state=True, \n",
        "                                    recurrent_initializer='glorot_uniform')\n",
        "    else:\n",
        "        return tf.keras.layers.GRU(units, \n",
        "                               return_sequences=True, \n",
        "                               return_state=True, \n",
        "                               recurrent_activation='relu', \n",
        "                               recurrent_initializer='glorot_uniform')\n",
        "\n",
        "### Build the model\n",
        "class EmoGRU(tf.keras.Model):\n",
        "    def __init__(self, vocab_size, embedding_dim, hidden_units, batch_sz, output_size):\n",
        "        super(EmoGRU, self).__init__()\n",
        "        self.batch_sz = batch_sz\n",
        "        self.hidden_units = hidden_units\n",
        "        \n",
        "        # layers\n",
        "        self.embedding = tf.keras.layers.Embedding(vocab_size, embedding_dim)\n",
        "        self.dropout = tf.keras.layers.Dropout(0.5)\n",
        "        self.gru = gru(self.hidden_units)\n",
        "        self.fc = tf.keras.layers.Dense(output_size)\n",
        "        \n",
        "    def call(self, x, hidden):\n",
        "        x = self.embedding(x) # batch_size X max_len X embedding_dim\n",
        "        output, state = self.gru(x, initial_state = hidden) #  batch_size X max_len X hidden_units\n",
        "        out = output[:,-1,:]\n",
        "        out = self.dropout(out)\n",
        "        out = self.fc(out) # batch_size X max_len X output_size\n",
        "        return out, state\n",
        "    \n",
        "    def initialize_hidden_state(self):\n",
        "        return tf.zeros((self.batch_sz, self.hidden_units))"
      ],
      "execution_count": null,
      "outputs": []
    },
    {
      "cell_type": "code",
      "metadata": {
        "id": "OP-H2HVUyy6F",
        "outputId": "83118c37-3e0c-4913-c543-190249ac037b",
        "colab": {
          "base_uri": "https://localhost:8080/"
        }
      },
      "source": [
        "#test that it works\n",
        "model = EmoGRU(vocab_inp_size, embedding_dim, units, BATCH_SIZE, target_size)\n",
        "\n",
        "# initialize the hidden state of the RNN\n",
        "hidden = model.initialize_hidden_state()\n",
        "\n",
        "# testing for the first batch only then break the for loop\n",
        "# Potential bug: out is not randomized enough\n",
        "for (batch, (inp, targ)) in enumerate(train_dataset):\n",
        "    out, state = model(inp, hidden)\n",
        "    print(out.shape) \n",
        "    break"
      ],
      "execution_count": null,
      "outputs": [
        {
          "output_type": "stream",
          "text": [
            "WARNING:tensorflow:From <ipython-input-28-dca34a6f5d55>:5: is_gpu_available (from tensorflow.python.framework.test_util) is deprecated and will be removed in a future version.\n",
            "Instructions for updating:\n",
            "Use `tf.config.list_physical_devices('GPU')` instead.\n",
            "(64, 6)\n"
          ],
          "name": "stdout"
        }
      ]
    },
    {
      "cell_type": "markdown",
      "metadata": {
        "id": "et2mM0ccy8rq"
      },
      "source": [
        "Train the GRU Model"
      ]
    },
    {
      "cell_type": "code",
      "metadata": {
        "id": "il6l6jIU13t0"
      },
      "source": [
        "optimizer = tf.optimizers.Adam()\n",
        "\n",
        "def loss_function(y, prediction):\n",
        "    return tf.compat.v1.losses.softmax_cross_entropy(y, logits=prediction)\n",
        "\n",
        "def accuracy(y, yhat):\n",
        "    #compare the predictions to the truth\n",
        "    yhat = tf.argmax(yhat, 1).numpy()\n",
        "    y    = tf.argmax(y   , 1).numpy()\n",
        "    return np.sum(y == yhat)/len(y)"
      ],
      "execution_count": null,
      "outputs": []
    },
    {
      "cell_type": "code",
      "metadata": {
        "id": "pQwKnkfe2i5t",
        "outputId": "ea623cf7-c315-40d2-92cd-453dfb5f8e25",
        "colab": {
          "base_uri": "https://localhost:8080/"
        }
      },
      "source": [
        "EPOCHS = 10\n",
        "\n",
        "for epoch in range(EPOCHS):\n",
        "    start = time.time()\n",
        "    \n",
        "    ### Initialize hidden state\n",
        "    hidden = model.initialize_hidden_state()\n",
        "    total_loss = 0\n",
        "    train_accuracy, val_accuracy = 0, 0\n",
        "    \n",
        "    ### Training\n",
        "    for (batch, (inp, targ)) in enumerate(train_dataset):\n",
        "        loss = 0\n",
        "        \n",
        "        with tf.GradientTape() as tape:\n",
        "            predictions,_ = model(inp, hidden)\n",
        "            loss += loss_function(targ, predictions)\n",
        "        batch_loss = (loss / int(targ.shape[1]))        \n",
        "        total_loss += batch_loss\n",
        "        \n",
        "        batch_accuracy = accuracy(targ, predictions)\n",
        "        train_accuracy += batch_accuracy\n",
        "        \n",
        "        gradients = tape.gradient(loss, model.variables)\n",
        "        optimizer.apply_gradients(zip(gradients, model.variables))\n",
        "        \n",
        "        if batch % 100 == 0:\n",
        "            print('Epoch {} Batch {} Val. Loss {:.4f}'.format(epoch + 1,\n",
        "                                                         batch,\n",
        "                                                         batch_loss.numpy()))\n",
        "            \n",
        "    ### Validating\n",
        "    hidden = model.initialize_hidden_state()\n",
        "\n",
        "    for (batch, (inp, targ)) in enumerate(val_dataset):        \n",
        "        predictions,_ = model(inp, hidden)        \n",
        "        batch_accuracy = accuracy(targ, predictions)\n",
        "        val_accuracy += batch_accuracy\n",
        "    \n",
        "    print('Epoch {} Loss {:.4f} -- Train Acc. {:.4f} -- Val Acc. {:.4f}'.format(epoch + 1, \n",
        "                                                             total_loss / TRAIN_N_BATCH, \n",
        "                                                             train_accuracy / TRAIN_N_BATCH,\n",
        "                                                             val_accuracy / VAL_N_BATCH))\n",
        "    print('Time taken for 1 epoch {} sec\\n'.format(time.time() - start))"
      ],
      "execution_count": null,
      "outputs": [
        {
          "output_type": "stream",
          "text": [
            "Epoch 1 Batch 0 Val. Loss 0.2989\n",
            "Epoch 1 Batch 100 Val. Loss 0.2596\n",
            "Epoch 1 Batch 200 Val. Loss 0.2554\n",
            "Epoch 1 Batch 300 Val. Loss 0.3029\n",
            "Epoch 1 Batch 400 Val. Loss 0.2887\n",
            "Epoch 1 Batch 500 Val. Loss 0.2612\n",
            "Epoch 1 Batch 600 Val. Loss 0.2624\n",
            "Epoch 1 Loss 0.2636 -- Train Acc. 0.3335 -- Val Acc. 0.3415\n",
            "Time taken for 1 epoch 82.42999601364136 sec\n",
            "\n",
            "Epoch 2 Batch 0 Val. Loss 0.2661\n",
            "Epoch 2 Batch 100 Val. Loss 0.2501\n",
            "Epoch 2 Batch 200 Val. Loss 0.2617\n",
            "Epoch 2 Batch 300 Val. Loss 0.2598\n",
            "Epoch 2 Batch 400 Val. Loss 0.2749\n",
            "Epoch 2 Batch 500 Val. Loss 0.2568\n",
            "Epoch 2 Batch 600 Val. Loss 0.2710\n",
            "Epoch 2 Loss 0.2629 -- Train Acc. 0.3372 -- Val Acc. 0.3415\n",
            "Time taken for 1 epoch 81.9231014251709 sec\n",
            "\n",
            "Epoch 3 Batch 0 Val. Loss 0.2700\n",
            "Epoch 3 Batch 100 Val. Loss 0.2711\n",
            "Epoch 3 Batch 200 Val. Loss 0.2590\n",
            "Epoch 3 Batch 300 Val. Loss 0.2826\n",
            "Epoch 3 Batch 400 Val. Loss 0.2456\n",
            "Epoch 3 Batch 500 Val. Loss 0.2541\n",
            "Epoch 3 Batch 600 Val. Loss 0.3645\n",
            "Epoch 3 Loss 0.2697 -- Train Acc. 0.3318 -- Val Acc. 0.2925\n",
            "Time taken for 1 epoch 81.97497653961182 sec\n",
            "\n",
            "Epoch 4 Batch 0 Val. Loss 0.2765\n",
            "Epoch 4 Batch 100 Val. Loss 0.2730\n",
            "Epoch 4 Batch 200 Val. Loss 0.1994\n",
            "Epoch 4 Batch 300 Val. Loss 0.2025\n",
            "Epoch 4 Batch 400 Val. Loss 0.1931\n",
            "Epoch 4 Batch 500 Val. Loss 0.1418\n",
            "Epoch 4 Batch 600 Val. Loss 0.1212\n",
            "Epoch 4 Loss 0.1963 -- Train Acc. 0.4800 -- Val Acc. 0.7770\n",
            "Time taken for 1 epoch 81.59457635879517 sec\n",
            "\n",
            "Epoch 5 Batch 0 Val. Loss 0.1133\n",
            "Epoch 5 Batch 100 Val. Loss 0.1055\n",
            "Epoch 5 Batch 200 Val. Loss 0.0715\n",
            "Epoch 5 Batch 300 Val. Loss 0.0320\n",
            "Epoch 5 Batch 400 Val. Loss 0.0423\n",
            "Epoch 5 Batch 500 Val. Loss 0.0501\n",
            "Epoch 5 Batch 600 Val. Loss 0.0536\n",
            "Epoch 5 Loss 0.0554 -- Train Acc. 0.8809 -- Val Acc. 0.9032\n",
            "Time taken for 1 epoch 81.4391303062439 sec\n",
            "\n",
            "Epoch 6 Batch 0 Val. Loss 0.0741\n",
            "Epoch 6 Batch 100 Val. Loss 0.0295\n",
            "Epoch 6 Batch 200 Val. Loss 0.0396\n",
            "Epoch 6 Batch 300 Val. Loss 0.0369\n",
            "Epoch 6 Batch 400 Val. Loss 0.0648\n",
            "Epoch 6 Batch 500 Val. Loss 0.0475\n",
            "Epoch 6 Batch 600 Val. Loss 0.0197\n",
            "Epoch 6 Loss 0.0318 -- Train Acc. 0.9244 -- Val Acc. 0.9135\n",
            "Time taken for 1 epoch 81.53379893302917 sec\n",
            "\n",
            "Epoch 7 Batch 0 Val. Loss 0.0202\n",
            "Epoch 7 Batch 100 Val. Loss 0.0258\n",
            "Epoch 7 Batch 200 Val. Loss 0.0060\n",
            "Epoch 7 Batch 300 Val. Loss 0.0155\n",
            "Epoch 7 Batch 400 Val. Loss 0.0417\n",
            "Epoch 7 Batch 500 Val. Loss 0.0321\n",
            "Epoch 7 Batch 600 Val. Loss 0.0129\n",
            "Epoch 7 Loss 0.0237 -- Train Acc. 0.9406 -- Val Acc. 0.9173\n",
            "Time taken for 1 epoch 81.74116897583008 sec\n",
            "\n",
            "Epoch 8 Batch 0 Val. Loss 0.0169\n",
            "Epoch 8 Batch 100 Val. Loss 0.0243\n",
            "Epoch 8 Batch 200 Val. Loss 0.0315\n",
            "Epoch 8 Batch 300 Val. Loss 0.0186\n",
            "Epoch 8 Batch 400 Val. Loss 0.0064\n",
            "Epoch 8 Batch 500 Val. Loss 0.0194\n",
            "Epoch 8 Batch 600 Val. Loss 0.0338\n",
            "Epoch 8 Loss 0.0198 -- Train Acc. 0.9495 -- Val Acc. 0.9229\n",
            "Time taken for 1 epoch 81.29567217826843 sec\n",
            "\n",
            "Epoch 9 Batch 0 Val. Loss 0.0168\n",
            "Epoch 9 Batch 100 Val. Loss 0.0162\n",
            "Epoch 9 Batch 200 Val. Loss 0.0101\n",
            "Epoch 9 Batch 300 Val. Loss 0.0048\n",
            "Epoch 9 Batch 400 Val. Loss 0.0075\n",
            "Epoch 9 Batch 500 Val. Loss 0.0087\n",
            "Epoch 9 Batch 600 Val. Loss 0.0112\n",
            "Epoch 9 Loss 0.0172 -- Train Acc. 0.9563 -- Val Acc. 0.9223\n",
            "Time taken for 1 epoch 80.87145185470581 sec\n",
            "\n",
            "Epoch 10 Batch 0 Val. Loss 0.0168\n",
            "Epoch 10 Batch 100 Val. Loss 0.0055\n",
            "Epoch 10 Batch 200 Val. Loss 0.0153\n",
            "Epoch 10 Batch 300 Val. Loss 0.0167\n",
            "Epoch 10 Batch 400 Val. Loss 0.0127\n",
            "Epoch 10 Batch 500 Val. Loss 0.0238\n",
            "Epoch 10 Batch 600 Val. Loss 0.0108\n",
            "Epoch 10 Loss 0.0150 -- Train Acc. 0.9618 -- Val Acc. 0.9151\n",
            "Time taken for 1 epoch 80.85194540023804 sec\n",
            "\n"
          ],
          "name": "stdout"
        }
      ]
    },
    {
      "cell_type": "code",
      "metadata": {
        "id": "OLRMGtUa3Clj",
        "outputId": "9a3d6f32-3f4c-4488-c994-3a1cae1c8753",
        "colab": {
          "base_uri": "https://localhost:8080/"
        }
      },
      "source": [
        "model.summary()"
      ],
      "execution_count": null,
      "outputs": [
        {
          "output_type": "stream",
          "text": [
            "Model: \"emo_gru\"\n",
            "_________________________________________________________________\n",
            "Layer (type)                 Output Shape              Param #   \n",
            "=================================================================\n",
            "embedding (Embedding)        multiple                  7041536   \n",
            "_________________________________________________________________\n",
            "dropout (Dropout)            multiple                  0         \n",
            "_________________________________________________________________\n",
            "cu_dnngru (CuDNNGRU)         multiple                  3938304   \n",
            "_________________________________________________________________\n",
            "dense (Dense)                multiple                  6150      \n",
            "=================================================================\n",
            "Total params: 10,985,990\n",
            "Trainable params: 10,985,990\n",
            "Non-trainable params: 0\n",
            "_________________________________________________________________\n"
          ],
          "name": "stdout"
        }
      ]
    },
    {
      "cell_type": "code",
      "metadata": {
        "id": "u-hSr-pUAWm1",
        "outputId": "7a5c3c01-cf10-4a24-834b-50a6a6b4dd46",
        "colab": {
          "base_uri": "https://localhost:8080/"
        }
      },
      "source": [
        "test_accuracy = 0\n",
        "all_predictions = []\n",
        "x_raw = []\n",
        "y_raw = []\n",
        "\n",
        "hidden = model.initialize_hidden_state()\n",
        "\n",
        "for (batch, (inp, targ)) in enumerate(test_dataset):        \n",
        "    predictions,_ = model(inp, hidden)        \n",
        "    batch_accuracy = accuracy(targ, predictions)\n",
        "    test_accuracy += batch_accuracy\n",
        "    \n",
        "    x_raw = x_raw + [x for x in inp]\n",
        "    y_raw = y_raw + [y for y in targ]\n",
        "    \n",
        "    all_predictions.append(predictions)\n",
        "    \n",
        "print(\"Test Accuracy: \", test_accuracy/TEST_N_BATCH)"
      ],
      "execution_count": null,
      "outputs": [
        {
          "output_type": "stream",
          "text": [
            "Test Accuracy:  0.9154647435897436\n"
          ],
          "name": "stdout"
        }
      ]
    },
    {
      "cell_type": "code",
      "metadata": {
        "id": "M9gRzsooB2Oo"
      },
      "source": [
        "#Save the model:\n",
        "model.save_weights('emo_model')\n"
      ],
      "execution_count": null,
      "outputs": []
    },
    {
      "cell_type": "code",
      "metadata": {
        "id": "HRn4c-2MAkKq"
      },
      "source": [
        "### Class to Properly Evaluate our Models\n",
        "class Evaluate():\n",
        "\n",
        "    def va_dist(cls, prediction, target, va_df, binarizer, name='', silent=False):\n",
        "        \"\"\" Computes distance between actual and prediction through cosine distance \"\"\"\n",
        "        va_matrix = va_df.loc[binarizer.classes_][['valence','arousal']].values\n",
        "        y_va = target.dot(va_matrix)\n",
        "        F_va = prediction.dot(va_matrix)\n",
        "\n",
        "        # dist is a one row vector with size of the test data passed(emotion)\n",
        "        dist = metrics.pairwise.paired_cosine_distances(y_va, F_va)\n",
        "        res = stats.describe(dist)\n",
        "\n",
        "        # print by default (if silent=False)\n",
        "        if not silent:\n",
        "            print('%s\\tmean: %f\\tvariance: %f' % (name, res.mean, res.variance))\n",
        "\n",
        "        return {\n",
        "            'distances': dist,\n",
        "            'dist_stat': res\n",
        "        }\n",
        "\n",
        "    def evaluate_class(cls, predictions, target, target2=None, silent=False):\n",
        "        \"\"\" Compute only the predicted class \"\"\"\n",
        "        p_2_annotation = dict()\n",
        "\n",
        "        precision_recall_fscore_support = [\n",
        "            (pair[0], pair[1].mean()) for pair in zip(\n",
        "                ['precision', 'recall', 'f1', 'support'],\n",
        "                metrics.precision_recall_fscore_support(target, predictions)\n",
        "            )\n",
        "        ]\n",
        "\n",
        "        metrics.precision_recall_fscore_support(target, predictions)\n",
        "\n",
        "        # confusion matrix\n",
        "        le = LabelEncoder()\n",
        "        target_le = le.fit_transform(target)\n",
        "        predictions_le = le.transform(predictions)\n",
        "        cm = metrics.confusion_matrix(target_le, predictions_le)\n",
        "\n",
        "        # prediction if two annotations are given on test data\n",
        "        if target2:\n",
        "            p_2_annotation = pd.DataFrame(\n",
        "                [(pred, pred in set([t1,t2])) for pred, t1, t2 in zip(predictions, target, target2)],\n",
        "                columns=['emo','success']\n",
        "            ).groupby('emo').apply(lambda emo: emo.success.sum()/ len(emo.success)).to_dict()\n",
        "\n",
        "        if not silent:\n",
        "            print(\"Default Classification report\")\n",
        "            print(metrics.classification_report(target, predictions))\n",
        "\n",
        "            # print if target2 was provided\n",
        "            if len(p_2_annotation) > 0:\n",
        "                print('\\nPrecision on 2 annotations:')\n",
        "                for emo in p_2_annotation:\n",
        "                    print(\"%s: %.2f\" % (emo, p_2_annotation[emo]))\n",
        "\n",
        "            # print accuracies, precision, recall, and f1\n",
        "            print('\\nAccuracy:')\n",
        "            print(metrics.accuracy_score(target, predictions))\n",
        "            print(\"Correct Predictions: \", metrics.accuracy_score(target, predictions,normalize=False))\n",
        "            for to_print in precision_recall_fscore_support[:3]:\n",
        "                print( \"%s: %.2f\" % to_print )\n",
        "\n",
        "            # normalizing the values of the consfusion matrix\n",
        "            print('\\nconfusion matrix\\n %s' % cm)\n",
        "            print('(row=expected, col=predicted)')\n",
        "            cm_normalized = cm.astype('float') / cm.sum(axis=1)[:, np.newaxis]\n",
        "            cls.plot_confusion_matrix(cm_normalized, le.classes_, 'Confusion matrix Normalized')\n",
        "\n",
        "        return {\n",
        "            'precision_recall_fscore_support': precision_recall_fscore_support,\n",
        "            'accuracy': metrics.accuracy_score(target, predictions),\n",
        "            'p_2_annotation': p_2_annotation,\n",
        "            'confusion_matrix': cm\n",
        "        }\n",
        "\n",
        "    def predict_class(cls, X_train, y_train, X_test, y_test,\n",
        "                      pipeline, silent=False, target2=None):\n",
        "        \"\"\" Predicted class,then run some performance evaluation \"\"\"\n",
        "        pipeline.fit(X_train, y_train)\n",
        "        predictions = pipeline.predict(X_test)\n",
        "        print(\"predictions computed....\")\n",
        "        return cls.evaluate_class(predictions, y_test, target2, silent)\n",
        "\n",
        "    def evaluate_prob(cls, prediction, target_rank, target_class, binarizer, va_df, silent=False, target2=None):\n",
        "        \"\"\" Evaluate through probability \"\"\"\n",
        "        # Run normal class evaluator\n",
        "        predict_class = binarizer.classes_[prediction.argmax(axis=1)]\n",
        "        class_eval = cls.evaluate_class(predict_class, target_class, target2, silent)\n",
        "\n",
        "        if not silent:\n",
        "            print('\\n - First Emotion Classification Metrics -')\n",
        "            print('\\n - Multiple Emotion rank Metrics -')\n",
        "            print('VA Cosine Distance')\n",
        "\n",
        "        classes_dist = [\n",
        "            (\n",
        "                emo,\n",
        "                cls.va_dist(\n",
        "                    prediction[np.array(target_class) == emo],\n",
        "                    target_rank[np.array(target_class) == emo],\n",
        "                    va_df,\n",
        "                    binarizer,\n",
        "                    emo,\n",
        "                    silent)\n",
        "                ) for emo in binarizer.classes_\n",
        "        ]\n",
        "        avg_dist = cls.va_dist(prediction, target_rank, va_df, binarizer, 'avg', silent)\n",
        "\n",
        "        coverage_error = metrics.coverage_error(target_rank, prediction)\n",
        "        average_precision_score = metrics.average_precision_score(target_rank, prediction)\n",
        "        label_ranking_average_precision_score = metrics.label_ranking_average_precision_score(target_rank, prediction)\n",
        "        label_ranking_loss = metrics.label_ranking_loss(target_rank, prediction)\n",
        "\n",
        "        # recall at 2\n",
        "        # obtain top two predictions\n",
        "        top2_pred = [set([binarizer.classes_[i[0]], binarizer.classes_[i[1]]]) for i in (prediction.argsort(axis=1).T[-2:].T)]\n",
        "        recall_at_2 = pd.DataFrame(\n",
        "            [\n",
        "            t in p for t, p in zip(target_class, top2_pred)\n",
        "            ], index=target_class, columns=['recall@2']).groupby(level=0).apply(lambda emo: emo.sum()/len(emo))\n",
        "\n",
        "        # combine target into sets\n",
        "        if target2:\n",
        "            union_target = [set(t) for t in zip(target_class, target2)]\n",
        "        else:\n",
        "            union_target = [set(t) for t in zip(target_class)]\n",
        "\n",
        "        # precision at k\n",
        "        top_k_pred = [\n",
        "            [set([binarizer.classes_[i] for i in i_list]) for i_list in (prediction.argsort(axis=1).T[-i:].T)]\n",
        "            for i in range(2, len(binarizer.classes_)+1)]\n",
        "        precision_at_k = [\n",
        "            ('p@' + str(k+2), np.array([len(t & p)/(k+2) for t, p in zip(union_target, top_k_pred[k])]).mean())\n",
        "            for k in range(len(top_k_pred))]\n",
        "\n",
        "        # do this if silent= False\n",
        "        if not silent:\n",
        "            print('\\n')\n",
        "            print(recall_at_2)\n",
        "            print('\\n')\n",
        "            print('p@k')\n",
        "            for pk in precision_at_k:\n",
        "                print(pk[0] + ':\\t' + str(pk[1]))\n",
        "            print('\\ncoverage_error: %f' % coverage_error)\n",
        "            print('average_precision_score: %f' % average_precision_score)\n",
        "            print('label_ranking_average_precision_score: %f' % label_ranking_average_precision_score)\n",
        "            print('label_ranking_loss: %f' % label_ranking_loss)\n",
        "\n",
        "        return {\n",
        "            'class_eval': class_eval,\n",
        "            'recall_at_2': recall_at_2.to_dict(),\n",
        "            'precision_at_2': precision_at_k,\n",
        "            'classes_dist': classes_dist,\n",
        "            'avg_dist': avg_dist,\n",
        "            'coverage_error': coverage_error,\n",
        "            'average_precision_score': average_precision_score,\n",
        "            'label_ranking_average_precision_score': label_ranking_average_precision_score,\n",
        "            'label_ranking_loss': label_ranking_loss\n",
        "        }\n",
        "\n",
        "\n",
        "    def predict_prob(cls, X_train, y_train, X_test, y_test, label_test, pipeline, binarizer, va_df, silent=False, target2=None):\n",
        "        \"\"\" Output predcations based on training and labels \"\"\"\n",
        "        pipeline.fit(X_train, y_train)\n",
        "        predictions = pipeline.predict_proba(X_test)\n",
        "        pred_to_mlb = [np.where(pipeline.classes_ == emo)[0][0] for emo in binarizer.classes_.tolist()]\n",
        "        return cls.evaluate_prob(predictions[:,pred_to_mlb], y_test, label_test, binarizer, va_df, silent, target2)\n",
        "\n",
        "\n",
        "    def plot_confusion_matrix(cls, cm, my_tags, title='Confusion matrix', cmap=plt.cm.Blues):\n",
        "        \"\"\" Plotting the confusion_matrix\"\"\"\n",
        "        plt.rc('figure', figsize=(4, 4), dpi=100)\n",
        "        plt.imshow(cm, interpolation='nearest', cmap=cmap)\n",
        "        plt.title(title)\n",
        "        plt.colorbar()\n",
        "        tick_marks = np.arange(len(my_tags))\n",
        "        target_names = my_tags\n",
        "        plt.xticks(tick_marks, target_names, rotation=45)\n",
        "        plt.yticks(tick_marks, target_names)\n",
        "        \n",
        "        # add normalized values inside the Confusion matrix\n",
        "        fmt = '.2f'\n",
        "        thresh = cm.max() / 2.\n",
        "        for i, j in itertools.product(range(cm.shape[0]), range(cm.shape[1])):\n",
        "            plt.text(j, i, format(cm[i, j], fmt), horizontalalignment=\"center\", color=\"white\" if cm[i, j] > thresh else \"black\")\n",
        "\n",
        "        plt.tight_layout()\n",
        "        plt.ylabel('True label')\n",
        "        plt.xlabel('Predicted label')"
      ],
      "execution_count": null,
      "outputs": []
    },
    {
      "cell_type": "markdown",
      "metadata": {
        "id": "HNWoJAUVode8"
      },
      "source": [
        "## results"
      ]
    },
    {
      "cell_type": "code",
      "metadata": {
        "id": "0nNEXE8LAlOY",
        "outputId": "88e4114a-b1c2-4663-ad87-7d26d9d36b16",
        "colab": {
          "base_uri": "https://localhost:8080/",
          "height": 1000
        }
      },
      "source": [
        "evaluator = Evaluate()\n",
        "\n",
        "final_predictions = []\n",
        "\n",
        "for p in all_predictions:\n",
        "    for sub_p in p:\n",
        "        final_predictions.append(sub_p)\n",
        "\n",
        "predictions = [np.argmax(p).item() for p in final_predictions]\n",
        "targets = [np.argmax(t).item() for t in y_raw]\n",
        "correct_predictions = float(np.sum(predictions == targets))\n",
        "\n",
        "# predictions\n",
        "predictions_human_readable = ((x_raw, predictions))\n",
        "# actual targets\n",
        "target_human_readable = ((x_raw,  targets))\n",
        "\n",
        "emotion_dict = {0: 'anger', 1: 'fear', 2: 'joy', 3: 'love', 4: 'sadness', 5: 'surprise'}\n",
        "\n",
        "# convert results into dataframe\n",
        "model_test_result = pd.DataFrame(predictions_human_readable[1],columns=[\"emotion\"])\n",
        "test = pd.DataFrame(target_human_readable[1], columns=[\"emotion\"])\n",
        "\n",
        "model_test_result.emotion = model_test_result.emotion.map(lambda x: emotion_dict[int(float(x))])\n",
        "test.emotion = test.emotion.map(lambda x: emotion_dict[int(x)])\n",
        "\n",
        "evaluator.evaluate_class(model_test_result.emotion, test.emotion )"
      ],
      "execution_count": null,
      "outputs": [
        {
          "output_type": "stream",
          "text": [
            "Default Classification report\n",
            "              precision    recall  f1-score   support\n",
            "\n",
            "       anger       0.92      0.91      0.91       652\n",
            "        fear       0.85      0.94      0.89       552\n",
            "         joy       0.91      0.95      0.93      1690\n",
            "        love       0.85      0.77      0.81       437\n",
            "     sadness       0.97      0.93      0.95      1477\n",
            "    surprise       0.87      0.74      0.80       184\n",
            "\n",
            "    accuracy                           0.92      4992\n",
            "   macro avg       0.89      0.87      0.88      4992\n",
            "weighted avg       0.92      0.92      0.91      4992\n",
            "\n",
            "\n",
            "Accuracy:\n",
            "0.9154647435897436\n",
            "Correct Predictions:  4570\n",
            "precision: 0.89\n",
            "recall: 0.87\n",
            "f1: 0.88\n",
            "\n",
            "confusion matrix\n",
            " [[ 595   24   14    1   17    1]\n",
            " [  12  517    3    0   11    9]\n",
            " [   6    6 1612   50    9    7]\n",
            " [   2    2   95  337    1    0]\n",
            " [  33   32   27    9 1373    3]\n",
            " [   1   29   16    0    2  136]]\n",
            "(row=expected, col=predicted)\n"
          ],
          "name": "stdout"
        },
        {
          "output_type": "execute_result",
          "data": {
            "text/plain": [
              "{'accuracy': 0.9154647435897436,\n",
              " 'confusion_matrix': array([[ 595,   24,   14,    1,   17,    1],\n",
              "        [  12,  517,    3,    0,   11,    9],\n",
              "        [   6,    6, 1612,   50,    9,    7],\n",
              "        [   2,    2,   95,  337,    1,    0],\n",
              "        [  33,   32,   27,    9, 1373,    3],\n",
              "        [   1,   29,   16,    0,    2,  136]]),\n",
              " 'p_2_annotation': {},\n",
              " 'precision_recall_fscore_support': [('precision', 0.8948282603155668),\n",
              "  ('recall', 0.8738169212293075),\n",
              "  ('f1', 0.8825755195916738),\n",
              "  ('support', 832.0)]}"
            ]
          },
          "metadata": {
            "tags": []
          },
          "execution_count": 41
        },
        {
          "output_type": "display_data",
          "data": {
            "image/png": "[encoded data removed]",
            "text/plain": [
              "<Figure size 400x400 with 2 Axes>"
            ]
          },
          "metadata": {
            "tags": [],
            "needs_background": "light"
          }
        }
      ]
    },
    {
      "cell_type": "markdown",
      "metadata": {
        "id": "_OUJ6a-wCk8h"
      },
      "source": [
        "# 2. Sentiment States Model Building"
      ]
    },
    {
      "cell_type": "markdown",
      "metadata": {
        "id": "_zE7CmD9wlAM"
      },
      "source": [
        "###1. Get IMDB dataset which contains movie reviews data and preprocess it"
      ]
    },
    {
      "cell_type": "code",
      "metadata": {
        "id": "NEu-0JbePjDm",
        "outputId": "3a412bc5-dc0c-42c3-d189-7e5e01d5d008",
        "colab": {
          "base_uri": "https://localhost:8080/"
        }
      },
      "source": [
        "#Get the IMDB Dataset, format data appropriate to input into model\n",
        "from keras.datasets import imdb\n",
        "top_words = 10000\n",
        "(x_train, y_train), (x_test, y_test) = imdb.load_data(num_words=top_words)\n",
        "#a total of 88000 words are contained in the dictionary and \n",
        "imdb.get_word_index()\n",
        "word_dict_sent = imdb.get_word_index()\n",
        "word_dict_sent = { key:(value + 3) for key, value in word_dict_sent.items() }\n",
        "word_dict_sent[''] = 0  # Padding\n",
        "word_dict_sent['>'] = 1 # Start\n",
        "word_dict_sent['?'] = 2 # Unknown word\n",
        "reverse_word_dict = { value:key for key, value in word_dict_sent.items() }\n",
        "from keras.preprocessing import sequence\n",
        "max_review_length = 500\n",
        "x_train = sequence.pad_sequences(x_train, maxlen=max_review_length)\n",
        "x_test = sequence.pad_sequences(x_test, maxlen=max_review_length)\n",
        "print(x_train.shape, x_test.shape)"
      ],
      "execution_count": null,
      "outputs": [
        {
          "output_type": "stream",
          "text": [
            "Using TensorFlow backend.\n"
          ],
          "name": "stderr"
        },
        {
          "output_type": "stream",
          "text": [
            "(25000, 500) (25000, 500)\n"
          ],
          "name": "stdout"
        }
      ]
    },
    {
      "cell_type": "code",
      "metadata": {
        "id": "5A1bRsrIvVtm",
        "outputId": "6ca81e00-f8da-468b-f8cf-62cfa53a31e0",
        "colab": {
          "base_uri": "https://localhost:8080/"
        }
      },
      "source": [
        "import pandas as pd\n",
        "dfff = pd.DataFrame(x_train)\n",
        "dfff.head()"
      ],
      "execution_count": null,
      "outputs": [
        {
          "output_type": "execute_result",
          "data": {
            "text/html": [
              "<div>\n",
              "<style scoped>\n",
              "    .dataframe tbody tr th:only-of-type {\n",
              "        vertical-align: middle;\n",
              "    }\n",
              "\n",
              "    .dataframe tbody tr th {\n",
              "        vertical-align: top;\n",
              "    }\n",
              "\n",
              "    .dataframe thead th {\n",
              "        text-align: right;\n",
              "    }\n",
              "</style>\n",
              "<table border=\"1\" class=\"dataframe\">\n",
              "  <thead>\n",
              "    <tr style=\"text-align: right;\">\n",
              "      <th></th>\n",
              "      <th>0</th>\n",
              "      <th>1</th>\n",
              "      <th>2</th>\n",
              "      <th>3</th>\n",
              "      <th>4</th>\n",
              "      <th>5</th>\n",
              "      <th>6</th>\n",
              "      <th>7</th>\n",
              "      <th>8</th>\n",
              "      <th>9</th>\n",
              "      <th>10</th>\n",
              "      <th>11</th>\n",
              "      <th>12</th>\n",
              "      <th>13</th>\n",
              "      <th>14</th>\n",
              "      <th>15</th>\n",
              "      <th>16</th>\n",
              "      <th>17</th>\n",
              "      <th>18</th>\n",
              "      <th>19</th>\n",
              "      <th>20</th>\n",
              "      <th>21</th>\n",
              "      <th>22</th>\n",
              "      <th>23</th>\n",
              "      <th>24</th>\n",
              "      <th>25</th>\n",
              "      <th>26</th>\n",
              "      <th>27</th>\n",
              "      <th>28</th>\n",
              "      <th>29</th>\n",
              "      <th>30</th>\n",
              "      <th>31</th>\n",
              "      <th>32</th>\n",
              "      <th>33</th>\n",
              "      <th>34</th>\n",
              "      <th>35</th>\n",
              "      <th>36</th>\n",
              "      <th>37</th>\n",
              "      <th>38</th>\n",
              "      <th>39</th>\n",
              "      <th>...</th>\n",
              "      <th>460</th>\n",
              "      <th>461</th>\n",
              "      <th>462</th>\n",
              "      <th>463</th>\n",
              "      <th>464</th>\n",
              "      <th>465</th>\n",
              "      <th>466</th>\n",
              "      <th>467</th>\n",
              "      <th>468</th>\n",
              "      <th>469</th>\n",
              "      <th>470</th>\n",
              "      <th>471</th>\n",
              "      <th>472</th>\n",
              "      <th>473</th>\n",
              "      <th>474</th>\n",
              "      <th>475</th>\n",
              "      <th>476</th>\n",
              "      <th>477</th>\n",
              "      <th>478</th>\n",
              "      <th>479</th>\n",
              "      <th>480</th>\n",
              "      <th>481</th>\n",
              "      <th>482</th>\n",
              "      <th>483</th>\n",
              "      <th>484</th>\n",
              "      <th>485</th>\n",
              "      <th>486</th>\n",
              "      <th>487</th>\n",
              "      <th>488</th>\n",
              "      <th>489</th>\n",
              "      <th>490</th>\n",
              "      <th>491</th>\n",
              "      <th>492</th>\n",
              "      <th>493</th>\n",
              "      <th>494</th>\n",
              "      <th>495</th>\n",
              "      <th>496</th>\n",
              "      <th>497</th>\n",
              "      <th>498</th>\n",
              "      <th>499</th>\n",
              "    </tr>\n",
              "  </thead>\n",
              "  <tbody>\n",
              "    <tr>\n",
              "      <th>0</th>\n",
              "      <td>0</td>\n",
              "      <td>0</td>\n",
              "      <td>0</td>\n",
              "      <td>0</td>\n",
              "      <td>0</td>\n",
              "      <td>0</td>\n",
              "      <td>0</td>\n",
              "      <td>0</td>\n",
              "      <td>0</td>\n",
              "      <td>0</td>\n",
              "      <td>0</td>\n",
              "      <td>0</td>\n",
              "      <td>0</td>\n",
              "      <td>0</td>\n",
              "      <td>0</td>\n",
              "      <td>0</td>\n",
              "      <td>0</td>\n",
              "      <td>0</td>\n",
              "      <td>0</td>\n",
              "      <td>0</td>\n",
              "      <td>0</td>\n",
              "      <td>0</td>\n",
              "      <td>0</td>\n",
              "      <td>0</td>\n",
              "      <td>0</td>\n",
              "      <td>0</td>\n",
              "      <td>0</td>\n",
              "      <td>0</td>\n",
              "      <td>0</td>\n",
              "      <td>0</td>\n",
              "      <td>0</td>\n",
              "      <td>0</td>\n",
              "      <td>0</td>\n",
              "      <td>0</td>\n",
              "      <td>0</td>\n",
              "      <td>0</td>\n",
              "      <td>0</td>\n",
              "      <td>0</td>\n",
              "      <td>0</td>\n",
              "      <td>0</td>\n",
              "      <td>...</td>\n",
              "      <td>22</td>\n",
              "      <td>21</td>\n",
              "      <td>134</td>\n",
              "      <td>476</td>\n",
              "      <td>26</td>\n",
              "      <td>480</td>\n",
              "      <td>5</td>\n",
              "      <td>144</td>\n",
              "      <td>30</td>\n",
              "      <td>5535</td>\n",
              "      <td>18</td>\n",
              "      <td>51</td>\n",
              "      <td>36</td>\n",
              "      <td>28</td>\n",
              "      <td>224</td>\n",
              "      <td>92</td>\n",
              "      <td>25</td>\n",
              "      <td>104</td>\n",
              "      <td>4</td>\n",
              "      <td>226</td>\n",
              "      <td>65</td>\n",
              "      <td>16</td>\n",
              "      <td>38</td>\n",
              "      <td>1334</td>\n",
              "      <td>88</td>\n",
              "      <td>12</td>\n",
              "      <td>16</td>\n",
              "      <td>283</td>\n",
              "      <td>5</td>\n",
              "      <td>16</td>\n",
              "      <td>4472</td>\n",
              "      <td>113</td>\n",
              "      <td>103</td>\n",
              "      <td>32</td>\n",
              "      <td>15</td>\n",
              "      <td>16</td>\n",
              "      <td>5345</td>\n",
              "      <td>19</td>\n",
              "      <td>178</td>\n",
              "      <td>32</td>\n",
              "    </tr>\n",
              "    <tr>\n",
              "      <th>1</th>\n",
              "      <td>0</td>\n",
              "      <td>0</td>\n",
              "      <td>0</td>\n",
              "      <td>0</td>\n",
              "      <td>0</td>\n",
              "      <td>0</td>\n",
              "      <td>0</td>\n",
              "      <td>0</td>\n",
              "      <td>0</td>\n",
              "      <td>0</td>\n",
              "      <td>0</td>\n",
              "      <td>0</td>\n",
              "      <td>0</td>\n",
              "      <td>0</td>\n",
              "      <td>0</td>\n",
              "      <td>0</td>\n",
              "      <td>0</td>\n",
              "      <td>0</td>\n",
              "      <td>0</td>\n",
              "      <td>0</td>\n",
              "      <td>0</td>\n",
              "      <td>0</td>\n",
              "      <td>0</td>\n",
              "      <td>0</td>\n",
              "      <td>0</td>\n",
              "      <td>0</td>\n",
              "      <td>0</td>\n",
              "      <td>0</td>\n",
              "      <td>0</td>\n",
              "      <td>0</td>\n",
              "      <td>0</td>\n",
              "      <td>0</td>\n",
              "      <td>0</td>\n",
              "      <td>0</td>\n",
              "      <td>0</td>\n",
              "      <td>0</td>\n",
              "      <td>0</td>\n",
              "      <td>0</td>\n",
              "      <td>0</td>\n",
              "      <td>0</td>\n",
              "      <td>...</td>\n",
              "      <td>152</td>\n",
              "      <td>491</td>\n",
              "      <td>18</td>\n",
              "      <td>2</td>\n",
              "      <td>32</td>\n",
              "      <td>7464</td>\n",
              "      <td>1212</td>\n",
              "      <td>14</td>\n",
              "      <td>9</td>\n",
              "      <td>6</td>\n",
              "      <td>371</td>\n",
              "      <td>78</td>\n",
              "      <td>22</td>\n",
              "      <td>625</td>\n",
              "      <td>64</td>\n",
              "      <td>1382</td>\n",
              "      <td>9</td>\n",
              "      <td>8</td>\n",
              "      <td>168</td>\n",
              "      <td>145</td>\n",
              "      <td>23</td>\n",
              "      <td>4</td>\n",
              "      <td>1690</td>\n",
              "      <td>15</td>\n",
              "      <td>16</td>\n",
              "      <td>4</td>\n",
              "      <td>1355</td>\n",
              "      <td>5</td>\n",
              "      <td>28</td>\n",
              "      <td>6</td>\n",
              "      <td>52</td>\n",
              "      <td>154</td>\n",
              "      <td>462</td>\n",
              "      <td>33</td>\n",
              "      <td>89</td>\n",
              "      <td>78</td>\n",
              "      <td>285</td>\n",
              "      <td>16</td>\n",
              "      <td>145</td>\n",
              "      <td>95</td>\n",
              "    </tr>\n",
              "    <tr>\n",
              "      <th>2</th>\n",
              "      <td>0</td>\n",
              "      <td>0</td>\n",
              "      <td>0</td>\n",
              "      <td>0</td>\n",
              "      <td>0</td>\n",
              "      <td>0</td>\n",
              "      <td>0</td>\n",
              "      <td>0</td>\n",
              "      <td>0</td>\n",
              "      <td>0</td>\n",
              "      <td>0</td>\n",
              "      <td>0</td>\n",
              "      <td>0</td>\n",
              "      <td>0</td>\n",
              "      <td>0</td>\n",
              "      <td>0</td>\n",
              "      <td>0</td>\n",
              "      <td>0</td>\n",
              "      <td>0</td>\n",
              "      <td>0</td>\n",
              "      <td>0</td>\n",
              "      <td>0</td>\n",
              "      <td>0</td>\n",
              "      <td>0</td>\n",
              "      <td>0</td>\n",
              "      <td>0</td>\n",
              "      <td>0</td>\n",
              "      <td>0</td>\n",
              "      <td>0</td>\n",
              "      <td>0</td>\n",
              "      <td>0</td>\n",
              "      <td>0</td>\n",
              "      <td>0</td>\n",
              "      <td>0</td>\n",
              "      <td>0</td>\n",
              "      <td>0</td>\n",
              "      <td>0</td>\n",
              "      <td>0</td>\n",
              "      <td>0</td>\n",
              "      <td>0</td>\n",
              "      <td>...</td>\n",
              "      <td>23</td>\n",
              "      <td>22</td>\n",
              "      <td>12</td>\n",
              "      <td>272</td>\n",
              "      <td>40</td>\n",
              "      <td>57</td>\n",
              "      <td>31</td>\n",
              "      <td>11</td>\n",
              "      <td>4</td>\n",
              "      <td>22</td>\n",
              "      <td>47</td>\n",
              "      <td>6</td>\n",
              "      <td>2307</td>\n",
              "      <td>51</td>\n",
              "      <td>9</td>\n",
              "      <td>170</td>\n",
              "      <td>23</td>\n",
              "      <td>595</td>\n",
              "      <td>116</td>\n",
              "      <td>595</td>\n",
              "      <td>1352</td>\n",
              "      <td>13</td>\n",
              "      <td>191</td>\n",
              "      <td>79</td>\n",
              "      <td>638</td>\n",
              "      <td>89</td>\n",
              "      <td>2</td>\n",
              "      <td>14</td>\n",
              "      <td>9</td>\n",
              "      <td>8</td>\n",
              "      <td>106</td>\n",
              "      <td>607</td>\n",
              "      <td>624</td>\n",
              "      <td>35</td>\n",
              "      <td>534</td>\n",
              "      <td>6</td>\n",
              "      <td>227</td>\n",
              "      <td>7</td>\n",
              "      <td>129</td>\n",
              "      <td>113</td>\n",
              "    </tr>\n",
              "    <tr>\n",
              "      <th>3</th>\n",
              "      <td>687</td>\n",
              "      <td>23</td>\n",
              "      <td>4</td>\n",
              "      <td>2</td>\n",
              "      <td>7339</td>\n",
              "      <td>6</td>\n",
              "      <td>3693</td>\n",
              "      <td>42</td>\n",
              "      <td>38</td>\n",
              "      <td>39</td>\n",
              "      <td>121</td>\n",
              "      <td>59</td>\n",
              "      <td>456</td>\n",
              "      <td>10</td>\n",
              "      <td>10</td>\n",
              "      <td>7</td>\n",
              "      <td>265</td>\n",
              "      <td>12</td>\n",
              "      <td>575</td>\n",
              "      <td>111</td>\n",
              "      <td>153</td>\n",
              "      <td>159</td>\n",
              "      <td>59</td>\n",
              "      <td>16</td>\n",
              "      <td>1447</td>\n",
              "      <td>21</td>\n",
              "      <td>25</td>\n",
              "      <td>586</td>\n",
              "      <td>482</td>\n",
              "      <td>39</td>\n",
              "      <td>4</td>\n",
              "      <td>96</td>\n",
              "      <td>59</td>\n",
              "      <td>716</td>\n",
              "      <td>12</td>\n",
              "      <td>4</td>\n",
              "      <td>172</td>\n",
              "      <td>65</td>\n",
              "      <td>9</td>\n",
              "      <td>579</td>\n",
              "      <td>...</td>\n",
              "      <td>14</td>\n",
              "      <td>31</td>\n",
              "      <td>9</td>\n",
              "      <td>242</td>\n",
              "      <td>955</td>\n",
              "      <td>48</td>\n",
              "      <td>25</td>\n",
              "      <td>279</td>\n",
              "      <td>2</td>\n",
              "      <td>23</td>\n",
              "      <td>12</td>\n",
              "      <td>1685</td>\n",
              "      <td>195</td>\n",
              "      <td>25</td>\n",
              "      <td>238</td>\n",
              "      <td>60</td>\n",
              "      <td>796</td>\n",
              "      <td>2</td>\n",
              "      <td>4</td>\n",
              "      <td>671</td>\n",
              "      <td>7</td>\n",
              "      <td>2804</td>\n",
              "      <td>5</td>\n",
              "      <td>4</td>\n",
              "      <td>559</td>\n",
              "      <td>154</td>\n",
              "      <td>888</td>\n",
              "      <td>7</td>\n",
              "      <td>726</td>\n",
              "      <td>50</td>\n",
              "      <td>26</td>\n",
              "      <td>49</td>\n",
              "      <td>7008</td>\n",
              "      <td>15</td>\n",
              "      <td>566</td>\n",
              "      <td>30</td>\n",
              "      <td>579</td>\n",
              "      <td>21</td>\n",
              "      <td>64</td>\n",
              "      <td>2574</td>\n",
              "    </tr>\n",
              "    <tr>\n",
              "      <th>4</th>\n",
              "      <td>0</td>\n",
              "      <td>0</td>\n",
              "      <td>0</td>\n",
              "      <td>0</td>\n",
              "      <td>0</td>\n",
              "      <td>0</td>\n",
              "      <td>0</td>\n",
              "      <td>0</td>\n",
              "      <td>0</td>\n",
              "      <td>0</td>\n",
              "      <td>0</td>\n",
              "      <td>0</td>\n",
              "      <td>0</td>\n",
              "      <td>0</td>\n",
              "      <td>0</td>\n",
              "      <td>0</td>\n",
              "      <td>0</td>\n",
              "      <td>0</td>\n",
              "      <td>0</td>\n",
              "      <td>0</td>\n",
              "      <td>0</td>\n",
              "      <td>0</td>\n",
              "      <td>0</td>\n",
              "      <td>0</td>\n",
              "      <td>0</td>\n",
              "      <td>0</td>\n",
              "      <td>0</td>\n",
              "      <td>0</td>\n",
              "      <td>0</td>\n",
              "      <td>0</td>\n",
              "      <td>0</td>\n",
              "      <td>0</td>\n",
              "      <td>0</td>\n",
              "      <td>0</td>\n",
              "      <td>0</td>\n",
              "      <td>0</td>\n",
              "      <td>0</td>\n",
              "      <td>0</td>\n",
              "      <td>0</td>\n",
              "      <td>0</td>\n",
              "      <td>...</td>\n",
              "      <td>74</td>\n",
              "      <td>233</td>\n",
              "      <td>334</td>\n",
              "      <td>207</td>\n",
              "      <td>126</td>\n",
              "      <td>224</td>\n",
              "      <td>12</td>\n",
              "      <td>562</td>\n",
              "      <td>298</td>\n",
              "      <td>2167</td>\n",
              "      <td>1272</td>\n",
              "      <td>7</td>\n",
              "      <td>2601</td>\n",
              "      <td>5</td>\n",
              "      <td>516</td>\n",
              "      <td>988</td>\n",
              "      <td>43</td>\n",
              "      <td>8</td>\n",
              "      <td>79</td>\n",
              "      <td>120</td>\n",
              "      <td>15</td>\n",
              "      <td>595</td>\n",
              "      <td>13</td>\n",
              "      <td>784</td>\n",
              "      <td>25</td>\n",
              "      <td>3171</td>\n",
              "      <td>18</td>\n",
              "      <td>165</td>\n",
              "      <td>170</td>\n",
              "      <td>143</td>\n",
              "      <td>19</td>\n",
              "      <td>14</td>\n",
              "      <td>5</td>\n",
              "      <td>7224</td>\n",
              "      <td>6</td>\n",
              "      <td>226</td>\n",
              "      <td>251</td>\n",
              "      <td>7</td>\n",
              "      <td>61</td>\n",
              "      <td>113</td>\n",
              "    </tr>\n",
              "  </tbody>\n",
              "</table>\n",
              "<p>5 rows × 500 columns</p>\n",
              "</div>"
            ],
            "text/plain": [
              "   0    1    2    3     4    5     6    ...   493  494  495   496  497  498   499\n",
              "0    0    0    0    0     0    0     0  ...    32   15   16  5345   19  178    32\n",
              "1    0    0    0    0     0    0     0  ...    33   89   78   285   16  145    95\n",
              "2    0    0    0    0     0    0     0  ...    35  534    6   227    7  129   113\n",
              "3  687   23    4    2  7339    6  3693  ...    15  566   30   579   21   64  2574\n",
              "4    0    0    0    0     0    0     0  ...  7224    6  226   251    7   61   113\n",
              "\n",
              "[5 rows x 500 columns]"
            ]
          },
          "metadata": {
            "tags": []
          },
          "execution_count": 43
        }
      ]
    },
    {
      "cell_type": "markdown",
      "metadata": {
        "id": "4vRvJpBZwuvq"
      },
      "source": [
        "###2. Using a standard sequential model, relu activations, adam optimizer, and a binary crossentropy loss function"
      ]
    },
    {
      "cell_type": "code",
      "metadata": {
        "id": "oRIRg_d3vbOa",
        "outputId": "be68b7eb-8faa-46aa-e282-a6ff568b7051",
        "colab": {
          "base_uri": "https://localhost:8080/",
          "height": 340
        }
      },
      "source": [
        "#Building a model with keras\n",
        "from keras.models import Sequential\n",
        "from keras.layers import Dense\n",
        "from keras.layers.embeddings import Embedding\n",
        "from keras.layers import Flatten\n",
        "\n",
        "embedding_vector_length = 32\n",
        "model_sent = Sequential()\n",
        "model_sent.add(Embedding(top_words, embedding_vector_length, input_length=max_review_length))\n",
        "model_sent.add(Flatten())\n",
        "model_sent.add(Dense(16, activation='relu'))\n",
        "model_sent.add(Dense(16, activation='relu'))\n",
        "model_sent.add(Dense(1, activation='sigmoid'))\n",
        "model_sent.compile(loss='binary_crossentropy',optimizer='adam', metrics=['accuracy'])\n",
        "print(model_sent.summary())"
      ],
      "execution_count": null,
      "outputs": [
        {
          "output_type": "stream",
          "text": [
            "Model: \"sequential_1\"\n",
            "_________________________________________________________________\n",
            "Layer (type)                 Output Shape              Param #   \n",
            "=================================================================\n",
            "embedding_1 (Embedding)      (None, 500, 32)           320000    \n",
            "_________________________________________________________________\n",
            "flatten_1 (Flatten)          (None, 16000)             0         \n",
            "_________________________________________________________________\n",
            "dense_1 (Dense)              (None, 16)                256016    \n",
            "_________________________________________________________________\n",
            "dense_2 (Dense)              (None, 16)                272       \n",
            "_________________________________________________________________\n",
            "dense_3 (Dense)              (None, 1)                 17        \n",
            "=================================================================\n",
            "Total params: 576,305\n",
            "Trainable params: 576,305\n",
            "Non-trainable params: 0\n",
            "_________________________________________________________________\n",
            "None\n"
          ],
          "name": "stdout"
        }
      ]
    },
    {
      "cell_type": "code",
      "metadata": {
        "id": "4eDrkVgi-6j9",
        "outputId": "d0afc9b0-50db-4348-aca5-d8d98117aac4",
        "colab": {
          "base_uri": "https://localhost:8080/",
          "height": 644
        }
      },
      "source": [
        "# Output network visualization\n",
        "from IPython.display import SVG\n",
        "from keras.utils.vis_utils import model_to_dot\n",
        "from keras.utils.vis_utils import plot_model\n",
        "SVG(model_to_dot(model_sent).create(prog='dot', format='svg'))\n",
        "plot_model(model_sent, to_file='model_plot.png', show_shapes=True, show_layer_names=True)"
      ],
      "execution_count": null,
      "outputs": [
        {
          "output_type": "execute_result",
          "data": {
            "image/png": "[encoded data removed]",
            "text/plain": [
              "<IPython.core.display.Image object>"
            ]
          },
          "metadata": {
            "tags": []
          },
          "execution_count": 45
        }
      ]
    },
    {
      "cell_type": "markdown",
      "metadata": {
        "id": "Sdy14P61xES1"
      },
      "source": [
        "###3. With a batch size of 128 and 5 epochs, train the model"
      ]
    },
    {
      "cell_type": "code",
      "metadata": {
        "id": "y2nu6cqfvjo9",
        "outputId": "524e5e45-b991-4bdc-954b-e9ff2335421a",
        "colab": {
          "base_uri": "https://localhost:8080/",
          "height": 258
        }
      },
      "source": [
        "hist = model_sent.fit(x_train, y_train, validation_data=(x_test, y_test), epochs=5, batch_size=128)"
      ],
      "execution_count": null,
      "outputs": [
        {
          "output_type": "stream",
          "text": [
            "/usr/local/lib/python3.6/dist-packages/tensorflow/python/framework/indexed_slices.py:434: UserWarning: Converting sparse IndexedSlices to a dense Tensor of unknown shape. This may consume a large amount of memory.\n",
            "  \"Converting sparse IndexedSlices to a dense Tensor of unknown shape. \"\n"
          ],
          "name": "stderr"
        },
        {
          "output_type": "stream",
          "text": [
            "Train on 25000 samples, validate on 25000 samples\n",
            "Epoch 1/5\n",
            "25000/25000 [==============================] - 1s 51us/step - loss: 0.5654 - accuracy: 0.6471 - val_loss: 0.3150 - val_accuracy: 0.8627\n",
            "Epoch 2/5\n",
            "25000/25000 [==============================] - 1s 47us/step - loss: 0.2022 - accuracy: 0.9226 - val_loss: 0.2885 - val_accuracy: 0.8796\n",
            "Epoch 3/5\n",
            "25000/25000 [==============================] - 1s 47us/step - loss: 0.0602 - accuracy: 0.9838 - val_loss: 0.3520 - val_accuracy: 0.8735\n",
            "Epoch 4/5\n",
            "25000/25000 [==============================] - 1s 46us/step - loss: 0.0116 - accuracy: 0.9985 - val_loss: 0.4344 - val_accuracy: 0.8702\n",
            "Epoch 5/5\n",
            "25000/25000 [==============================] - 1s 46us/step - loss: 0.0025 - accuracy: 0.9998 - val_loss: 0.4793 - val_accuracy: 0.8701\n"
          ],
          "name": "stdout"
        }
      ]
    },
    {
      "cell_type": "markdown",
      "metadata": {
        "id": "mZ79ythOxM5Z"
      },
      "source": [
        "###4. Display results of training"
      ]
    },
    {
      "cell_type": "code",
      "metadata": {
        "id": "SlIgyoSywAkl",
        "outputId": "641fdbc5-d368-4025-fdb7-d88a6b97e500",
        "colab": {
          "base_uri": "https://localhost:8080/",
          "height": 34
        }
      },
      "source": [
        "scores = model_sent.evaluate(x_test, y_test, verbose=0)\n",
        "print(\"Accuracy: %.2f%%\" % (scores[1] * 100))"
      ],
      "execution_count": null,
      "outputs": [
        {
          "output_type": "stream",
          "text": [
            "Accuracy: 87.01%\n"
          ],
          "name": "stdout"
        }
      ]
    },
    {
      "cell_type": "markdown",
      "metadata": {
        "id": "1FHmtfFLxTBt"
      },
      "source": [
        "###5. Build an analyzer function to apply this outside model to our Yelp data"
      ]
    },
    {
      "cell_type": "code",
      "metadata": {
        "id": "skCWVJRqwFzz"
      },
      "source": [
        "#Build analyzer function based on the model to apply to the vegas dataset.\n",
        "import string\n",
        "import numpy as np\n",
        "\n",
        "def analyzer(text):\n",
        "    # Prepare the input by removing punctuation characters, converting\n",
        "    # characters to lower case, and removing words containing numbers\n",
        "    translator = str.maketrans('', '', string.punctuation)\n",
        "    text = text.translate(translator)\n",
        "    text = text.lower().split(' ')\n",
        "    text = [word for word in text if word.isalpha()]\n",
        "\n",
        "    # Generate an input tensor\n",
        "    input = [1]\n",
        "    for word in text:\n",
        "        if word in word_dict_sent and word_dict_sent[word] < top_words:\n",
        "            input.append(word_dict_sent[word])\n",
        "        else:\n",
        "            input.append(2)\n",
        "    padded_input = sequence.pad_sequences([input], maxlen=max_review_length)\n",
        "\n",
        "    # Invoke the model and return the result\n",
        "    result = model_sent.predict(np.array([padded_input][0]))[0][0]\n",
        "    sentiment=''\n",
        "\n",
        "    #how positive or negative\n",
        "    if result > 0.66:\n",
        "      sentiment = 'positive'\n",
        "    elif result > 0.33:\n",
        "      sentiment = 'neutral'\n",
        "    else:\n",
        "      sentiment = 'negative'\n",
        "    return result, sentiment"
      ],
      "execution_count": null,
      "outputs": []
    },
    {
      "cell_type": "markdown",
      "metadata": {
        "id": "FjD3b2p62urF"
      },
      "source": [
        "###7. Test the model on some phrases"
      ]
    },
    {
      "cell_type": "code",
      "metadata": {
        "id": "xs7ywGNnFo_o",
        "outputId": "b3b71cf7-a4d6-4412-a00d-356ed0d53c72",
        "colab": {
          "base_uri": "https://localhost:8080/",
          "height": 34
        }
      },
      "source": [
        "analyzer('I love this class!')"
      ],
      "execution_count": null,
      "outputs": [
        {
          "output_type": "execute_result",
          "data": {
            "text/plain": [
              "(0.7927328, 'positive')"
            ]
          },
          "metadata": {
            "tags": []
          },
          "execution_count": 150
        }
      ]
    },
    {
      "cell_type": "code",
      "metadata": {
        "id": "dxHSKePYprCg",
        "colab": {
          "base_uri": "https://localhost:8080/",
          "height": 34
        },
        "outputId": "8017c107-64bf-48ee-8091-0e413f5e8e16"
      },
      "source": [
        "analyzer('my day was okay. some good parts. fine')"
      ],
      "execution_count": null,
      "outputs": [
        {
          "output_type": "execute_result",
          "data": {
            "text/plain": [
              "(0.64419585, 'neutral')"
            ]
          },
          "metadata": {
            "tags": []
          },
          "execution_count": 154
        }
      ]
    },
    {
      "cell_type": "code",
      "metadata": {
        "id": "JzGbzQ7LoX-J",
        "outputId": "9f43e0c0-b044-4e95-8699-bc6133d7c8ec",
        "colab": {
          "base_uri": "https://localhost:8080/",
          "height": 34
        }
      },
      "source": [
        "analyzer('my car broke down. i am so sad')"
      ],
      "execution_count": null,
      "outputs": [
        {
          "output_type": "execute_result",
          "data": {
            "text/plain": [
              "(0.124461584, 'negative')"
            ]
          },
          "metadata": {
            "tags": []
          },
          "execution_count": 155
        }
      ]
    },
    {
      "cell_type": "markdown",
      "metadata": {
        "id": "BV9oB-JDHRtz"
      },
      "source": [
        "## Implementation\n",
        "\n",
        "1. A agent's sentiment state is initialized\n",
        "2. A user tells the agent something. Can be good or bad. A story, how they're feeling, an idea, etc.\n",
        "3. The agent interprets the sentiment of what it was told and its internal state moves in the direction of the overall sentiment of the user's input.\n"
      ]
    },
    {
      "cell_type": "code",
      "metadata": {
        "id": "kbeFDj5ZHUuD"
      },
      "source": [
        "import pandas as pd\n",
        "import numpy as np\n",
        "import ipywidgets as wg\n",
        "from IPython.display import display\n",
        "import random"
      ],
      "execution_count": null,
      "outputs": []
    },
    {
      "cell_type": "code",
      "metadata": {
        "id": "RPtjB0uMfn0K"
      },
      "source": [
        "pd.set_option('display.max_colwidth', 240)"
      ],
      "execution_count": null,
      "outputs": []
    },
    {
      "cell_type": "code",
      "metadata": {
        "id": "QB92ta_5LC2u",
        "colab": {
          "base_uri": "https://localhost:8080/",
          "height": 204
        },
        "outputId": "49c7392e-1211-4ff5-f94d-ac9c74d14025"
      },
      "source": [
        "data.head()"
      ],
      "execution_count": null,
      "outputs": [
        {
          "output_type": "execute_result",
          "data": {
            "text/html": [
              "<div>\n",
              "<style scoped>\n",
              "    .dataframe tbody tr th:only-of-type {\n",
              "        vertical-align: middle;\n",
              "    }\n",
              "\n",
              "    .dataframe tbody tr th {\n",
              "        vertical-align: top;\n",
              "    }\n",
              "\n",
              "    .dataframe thead th {\n",
              "        text-align: right;\n",
              "    }\n",
              "</style>\n",
              "<table border=\"1\" class=\"dataframe\">\n",
              "  <thead>\n",
              "    <tr style=\"text-align: right;\">\n",
              "      <th></th>\n",
              "      <th>text</th>\n",
              "      <th>emotions</th>\n",
              "      <th>token_size</th>\n",
              "    </tr>\n",
              "  </thead>\n",
              "  <tbody>\n",
              "    <tr>\n",
              "      <th>74979</th>\n",
              "      <td>i just feel like it s just idiotic to say i m going to practice safe sex but we re only going to wear a condom here</td>\n",
              "      <td>sadness</td>\n",
              "      <td>27</td>\n",
              "    </tr>\n",
              "    <tr>\n",
              "      <th>67184</th>\n",
              "      <td>i feel that i don t have that many updates or things to read on every day for all the eager people</td>\n",
              "      <td>joy</td>\n",
              "      <td>22</td>\n",
              "    </tr>\n",
              "    <tr>\n",
              "      <th>28890</th>\n",
              "      <td>i wanted to go out to the strip club tonight because i wanted to see the stanley cup final game which was only on cable and im feeling horny and i wanted to see some tits in my face</td>\n",
              "      <td>love</td>\n",
              "      <td>39</td>\n",
              "    </tr>\n",
              "    <tr>\n",
              "      <th>15531</th>\n",
              "      <td>i can go from feeling absolutely wonderful to being overwhelmed by angry misery in seconds</td>\n",
              "      <td>joy</td>\n",
              "      <td>15</td>\n",
              "    </tr>\n",
              "    <tr>\n",
              "      <th>12022</th>\n",
              "      <td>i can feel so beaten down by the sinful nature and yet so clearly further along than i was even just a few years ago</td>\n",
              "      <td>sadness</td>\n",
              "      <td>25</td>\n",
              "    </tr>\n",
              "  </tbody>\n",
              "</table>\n",
              "</div>"
            ],
            "text/plain": [
              "                                                                                                                                                                                        text  ... token_size\n",
              "74979                                                                    i just feel like it s just idiotic to say i m going to practice safe sex but we re only going to wear a condom here  ...         27\n",
              "67184                                                                                     i feel that i don t have that many updates or things to read on every day for all the eager people  ...         22\n",
              "28890  i wanted to go out to the strip club tonight because i wanted to see the stanley cup final game which was only on cable and im feeling horny and i wanted to see some tits in my face  ...         39\n",
              "15531                                                                                             i can go from feeling absolutely wonderful to being overwhelmed by angry misery in seconds  ...         15\n",
              "12022                                                                   i can feel so beaten down by the sinful nature and yet so clearly further along than i was even just a few years ago  ...         25\n",
              "\n",
              "[5 rows x 3 columns]"
            ]
          },
          "metadata": {
            "tags": []
          },
          "execution_count": 140
        }
      ]
    },
    {
      "cell_type": "code",
      "metadata": {
        "id": "DQaQxyQtO86I"
      },
      "source": [
        "# positives\n",
        "joy = data['emotions'] == \"joy\"\n",
        "love = data['emotions'] == \"love\"\n",
        "sadness = data['emotions'] == \"sadness\""
      ],
      "execution_count": null,
      "outputs": []
    },
    {
      "cell_type": "code",
      "metadata": {
        "id": "temCP587ZiJA",
        "colab": {
          "base_uri": "https://localhost:8080/",
          "height": 204
        },
        "outputId": "f7056848-e433-4cea-afb9-a795800d72e7"
      },
      "source": [
        "# joy samples\n",
        "data[joy].sample(n=5)"
      ],
      "execution_count": null,
      "outputs": [
        {
          "output_type": "execute_result",
          "data": {
            "text/html": [
              "<div>\n",
              "<style scoped>\n",
              "    .dataframe tbody tr th:only-of-type {\n",
              "        vertical-align: middle;\n",
              "    }\n",
              "\n",
              "    .dataframe tbody tr th {\n",
              "        vertical-align: top;\n",
              "    }\n",
              "\n",
              "    .dataframe thead th {\n",
              "        text-align: right;\n",
              "    }\n",
              "</style>\n",
              "<table border=\"1\" class=\"dataframe\">\n",
              "  <thead>\n",
              "    <tr style=\"text-align: right;\">\n",
              "      <th></th>\n",
              "      <th>text</th>\n",
              "      <th>emotions</th>\n",
              "      <th>token_size</th>\n",
              "    </tr>\n",
              "  </thead>\n",
              "  <tbody>\n",
              "    <tr>\n",
              "      <th>133627</th>\n",
              "      <td>im feeling sweet and wholesome i want to slip into something more you know utilitarian a href https farm</td>\n",
              "      <td>joy</td>\n",
              "      <td>19</td>\n",
              "    </tr>\n",
              "    <tr>\n",
              "      <th>530</th>\n",
              "      <td>receiving my result slip pass on my birthday</td>\n",
              "      <td>joy</td>\n",
              "      <td>8</td>\n",
              "    </tr>\n",
              "    <tr>\n",
              "      <th>21647</th>\n",
              "      <td>i didnt feel clever or funny or grateful or sweet</td>\n",
              "      <td>joy</td>\n",
              "      <td>10</td>\n",
              "    </tr>\n",
              "    <tr>\n",
              "      <th>56789</th>\n",
              "      <td>i feel pretty fantastic about that</td>\n",
              "      <td>joy</td>\n",
              "      <td>6</td>\n",
              "    </tr>\n",
              "    <tr>\n",
              "      <th>8545</th>\n",
              "      <td>i am feeling very relieved and thankful that my mother sugary went so well she is having the other knee replaced over the next couple months so when both are done and she is ok i will feel very happy</td>\n",
              "      <td>joy</td>\n",
              "      <td>40</td>\n",
              "    </tr>\n",
              "  </tbody>\n",
              "</table>\n",
              "</div>"
            ],
            "text/plain": [
              "                                                                                                                                                                                                           text  ... token_size\n",
              "133627                                                                                                 im feeling sweet and wholesome i want to slip into something more you know utilitarian a href https farm  ...         19\n",
              "530                                                                                                                                                                receiving my result slip pass on my birthday  ...          8\n",
              "21647                                                                                                                                                         i didnt feel clever or funny or grateful or sweet  ...         10\n",
              "56789                                                                                                                                                                        i feel pretty fantastic about that  ...          6\n",
              "8545    i am feeling very relieved and thankful that my mother sugary went so well she is having the other knee replaced over the next couple months so when both are done and she is ok i will feel very happy  ...         40\n",
              "\n",
              "[5 rows x 3 columns]"
            ]
          },
          "metadata": {
            "tags": []
          },
          "execution_count": 144
        }
      ]
    },
    {
      "cell_type": "code",
      "metadata": {
        "id": "zTwtZ1q-dFon",
        "colab": {
          "base_uri": "https://localhost:8080/",
          "height": 221
        },
        "outputId": "c3c6ceca-334f-4333-d0c1-5e5e9ca0fc06"
      },
      "source": [
        "# sadness samples\n",
        "data[sadness].sample(n=5)"
      ],
      "execution_count": null,
      "outputs": [
        {
          "output_type": "execute_result",
          "data": {
            "text/html": [
              "<div>\n",
              "<style scoped>\n",
              "    .dataframe tbody tr th:only-of-type {\n",
              "        vertical-align: middle;\n",
              "    }\n",
              "\n",
              "    .dataframe tbody tr th {\n",
              "        vertical-align: top;\n",
              "    }\n",
              "\n",
              "    .dataframe thead th {\n",
              "        text-align: right;\n",
              "    }\n",
              "</style>\n",
              "<table border=\"1\" class=\"dataframe\">\n",
              "  <thead>\n",
              "    <tr style=\"text-align: right;\">\n",
              "      <th></th>\n",
              "      <th>text</th>\n",
              "      <th>emotions</th>\n",
              "      <th>token_size</th>\n",
              "    </tr>\n",
              "  </thead>\n",
              "  <tbody>\n",
              "    <tr>\n",
              "      <th>119574</th>\n",
              "      <td>ive been feeling so rotten lately i just keep making the wrong decisions and i keep doing self destructive things</td>\n",
              "      <td>sadness</td>\n",
              "      <td>20</td>\n",
              "    </tr>\n",
              "    <tr>\n",
              "      <th>7115</th>\n",
              "      <td>i am hungover physically weak from going to the gym yesterday drinking a fair bit and being up until am and emotionally because sometimes after a big night out with a lot of people i feel quite lonely the next day</td>\n",
              "      <td>sadness</td>\n",
              "      <td>41</td>\n",
              "    </tr>\n",
              "    <tr>\n",
              "      <th>56662</th>\n",
              "      <td>i feel terrible for elizabeth fechtel</td>\n",
              "      <td>sadness</td>\n",
              "      <td>6</td>\n",
              "    </tr>\n",
              "    <tr>\n",
              "      <th>120071</th>\n",
              "      <td>ive been working hard and not getting enough sleep so im feeling a bit lethargic</td>\n",
              "      <td>sadness</td>\n",
              "      <td>15</td>\n",
              "    </tr>\n",
              "    <tr>\n",
              "      <th>35383</th>\n",
              "      <td>i feel i am truly myself does that seem tragic</td>\n",
              "      <td>sadness</td>\n",
              "      <td>10</td>\n",
              "    </tr>\n",
              "  </tbody>\n",
              "</table>\n",
              "</div>"
            ],
            "text/plain": [
              "                                                                                                                                                                                                                         text  ... token_size\n",
              "119574                                                                                                      ive been feeling so rotten lately i just keep making the wrong decisions and i keep doing self destructive things  ...         20\n",
              "7115    i am hungover physically weak from going to the gym yesterday drinking a fair bit and being up until am and emotionally because sometimes after a big night out with a lot of people i feel quite lonely the next day  ...         41\n",
              "56662                                                                                                                                                                                   i feel terrible for elizabeth fechtel  ...          6\n",
              "120071                                                                                                                                       ive been working hard and not getting enough sleep so im feeling a bit lethargic  ...         15\n",
              "35383                                                                                                                                                                          i feel i am truly myself does that seem tragic  ...         10\n",
              "\n",
              "[5 rows x 3 columns]"
            ]
          },
          "metadata": {
            "tags": []
          },
          "execution_count": 146
        }
      ]
    },
    {
      "cell_type": "code",
      "metadata": {
        "id": "xCJfnk56LB1J",
        "colab": {
          "base_uri": "https://localhost:8080/",
          "height": 799
        },
        "outputId": "bc68e3a7-06ad-460e-c84b-019239c4ed9d"
      },
      "source": [
        "#\n",
        "# Emotional Contagion Beta: Agent Takes on Sentiment of Others\n",
        "#\n",
        "import random\n",
        "# game_running = True until someone quits\n",
        "game_running = True\n",
        "user_input='hello_world'\n",
        "\n",
        "while game_running:\n",
        "    # Greet the user to our game\n",
        "    print()\n",
        "    print(\"Hello and Welcome to the Emotional Contagion Game.  \\n Enter q to exit the simulation \\n Otherwise, tell the agent something (eg. something that happened to you, how you are feeling right now, a story, etc.) \\n\" )\n",
        "\n",
        "    # *** The agent sentiment is randomly initialized between 0 and 1 ***\n",
        "    agent1_init_sentiment = round(random.randint(0, 10)*.1,2)\n",
        "    print(\"agent1_sentiment = \", agent1_init_sentiment)\n",
        "    agent1_sentiment = agent1_init_sentiment\n",
        "\n",
        "    # *** The agent's probability of emotional contagion is set (in this case, can't be 0)***\n",
        "    #agent1_prob_emo_contagion = round(random.randint(1, 10)*.1,2)\n",
        "    #print(\"agent1_prob_emo_contagion = \", agent1_prob_emo_contagion)\n",
        "\n",
        "    # Get some sample statements with a particular sentiment\n",
        "    agent_negative_sentiment_statements_list = [\"Man today really sucks. I'm not feeling good.\", \n",
        "                                                \"I've just been so depressed lately. Hope this game makes me feel better.\",\n",
        "                                                \"Ugh. What do you want. Can't you tell I'm not happy right now.\",\n",
        "                                                \"Sigh, leave me alone. Today sucks.\",\n",
        "                                                \"Just had a hard day at work. Hope your's was better.\"]\n",
        "    agent_neutral_sentiment_statements_list = [\"I feel pretty good today. Work was so so, but I'm fine.\", \n",
        "                                               \"Today was a bit of a bummer. But tonight should be fun.\", \n",
        "                                               \"I'm fine. How're you doing?\", \n",
        "                                               \"I'm feeling okay I suppose.\"]\n",
        "    agent_positive_sentiment_statements_list = [\"I feel pretty great today. Things are looking up.\",\n",
        "                                                \"What a beautiful day, I'm feeling good.\",\n",
        "                                                \"Today has been unusually good. I feel quite happy.\"\n",
        "                                                ]\n",
        "\n",
        "    # Get some sample statements to respond to an input \n",
        "    agent_negative_sentiment_responses_list = [\"Well that stinks. I don't feel better after hearing that.\", \n",
        "                                                \"Awwh. Dang.\",\n",
        "                                                \"That's too bad. Got me bummed out..\",\n",
        "                                                \"Aye, my condolences.\",\n",
        "                                               \"Ugh, sad..\",\n",
        "                                               \"Give me some positive content. I'm not feeling good now...\",\n",
        "                                               \"I'm not as happy now.. \",\n",
        "                                               \"What a bummer..\"]\n",
        "    agent_neutral_sentiment_responses_list = [\"Well, that's not too rough. Good to know..\", \n",
        "                                               \"Don't know how to feel about that.\", \n",
        "                                               \"Hmmm. I'm feeling neutral about that.\",\n",
        "                                              \"Okay then.. \",\n",
        "                                              \"Really didn't change my sentiment state at all.. Tell me something more EXTREME!\"\n",
        "                                                ]\n",
        "    agent_positive_sentiment_responses_list = [\"That's good news. I feel better.\",\n",
        "                                                \"I'm feeling better after hearing that.\",\n",
        "                                                \"Good stuff. Glad to hear it..\"\n",
        "                                                \"Seem's positive to me. Tell me more!\",\n",
        "                                               \"You know, after hearing that, I feel a little better.\",\n",
        "                                               \"Need more of these positive vibes in my life. Thanks.\",\n",
        "                                               \"Glad to hear it. Any more good news?\"]\n",
        "\n",
        "\n",
        "    #randomly \n",
        "    if agent1_sentiment < 0.33:\n",
        "      print(\"agent1_init_state:\", random.choice(agent_negative_sentiment_statements_list))\n",
        "    elif agent1_sentiment < 0.66:\n",
        "      print(\"agent1_init_state:\", random.choice(agent_neutral_sentiment_statements_list))\n",
        "    else:\n",
        "      print(\"agent1_init_state:\", random.choice(agent_positive_sentiment_statements_list))\n",
        "\n",
        "    while user_input != \"q\":\n",
        "      # Get the player's guess from the player\n",
        "      print()\n",
        "      user_input = input(\"Tell me something: \")\n",
        "\n",
        "      # Does the user want to quit playing?\n",
        "      if user_input == \"q\":\n",
        "        game_running = False\n",
        "        break\n",
        "\n",
        "      #If the user has responded, update the sentiment of the agent with probability of contagion applied\n",
        "      else:\n",
        "        agent1_sentiment_analysis_of_user = analyzer(user_input)\n",
        "        print(\"agent1_sentiment_analysis_of_user: \", agent1_sentiment_analysis_of_user) #Optionally hide this\n",
        "        \n",
        "        if agent1_sentiment_analysis_of_user[0] < 0.33:\n",
        "          print(\"agent1_init_state:\", random.choice(agent_negative_sentiment_responses_list))\n",
        "          agent1_sentiment = (agent1_sentiment + agent1_sentiment_analysis_of_user[0]) / 2\n",
        "          print(\"updated_agent1_sentiment: \", round(agent1_sentiment,2))\n",
        "\n",
        "        elif agent1_sentiment_analysis_of_user[0] < 0.66:\n",
        "          print(\"agent1_init_state:\", random.choice(agent_neutral_sentiment_responses_list))\n",
        "          #agent1_sentiment = (agent1_sentiment + agent1_sentiment_analysis_of_user[0]) / 2\n",
        "          agent1_sentiment = agent1_sentiment\n",
        "          print(\"updated_agent1_sentiment: \", round(agent1_sentiment,2))\n",
        "\n",
        "        else:\n",
        "          print(\"agent1_init_state:\", random.choice(agent_positive_sentiment_responses_list))\n",
        "          agent1_sentiment = (agent1_sentiment + agent1_sentiment_analysis_of_user[0]) / 2\n",
        "          print(\"updated_agent1_sentiment: \", round(agent1_sentiment,2))\n",
        "\n",
        "# Say goodbye to the player\n",
        "print()\n",
        "print(\"Thanks for playing Emotional Contagion Beta\")"
      ],
      "execution_count": null,
      "outputs": [
        {
          "output_type": "stream",
          "text": [
            "\n",
            "Hello and Welcome to the Emotional Contagion Game.  \n",
            " Enter q to exit the simulation \n",
            " Otherwise, tell the agent something (eg. something that happened to you, how you are feeling right now, a story, etc.) \n",
            "\n",
            "agent1_sentiment =  0.1\n",
            "agent1_init_state: I've just been so depressed lately. Hope this game makes me feel better.\n",
            "\n",
            "Tell me something: you are beautiful\n",
            "agent1_sentiment_analysis_of_user:  (0.8516507, 'positive')\n",
            "agent1_init_state: Good stuff. Glad to hear it..Seem's positive to me. Tell me more!\n",
            "updated_agent1_sentiment:  0.48\n",
            "\n",
            "Tell me something: you suck\n",
            "agent1_sentiment_analysis_of_user:  (0.73975855, 'positive')\n",
            "agent1_init_state: I'm feeling better after hearing that.\n",
            "updated_agent1_sentiment:  0.61\n",
            "\n",
            "Tell me something: you have nice hair\n",
            "agent1_sentiment_analysis_of_user:  (0.7414751, 'positive')\n",
            "agent1_init_state: That's good news. I feel better.\n",
            "updated_agent1_sentiment:  0.67\n",
            "\n",
            "Tell me something: my leg is itchy\n",
            "agent1_sentiment_analysis_of_user:  (0.56406534, 'neutral')\n",
            "agent1_init_state: Really didn't change my sentiment state at all.. Tell me something more EXTREME!\n",
            "updated_agent1_sentiment:  0.67\n",
            "\n",
            "Tell me something: i am covered in mosquito bites\n",
            "agent1_sentiment_analysis_of_user:  (0.31478336, 'negative')\n",
            "agent1_init_state: Well that stinks. I don't feel better after hearing that.\n",
            "updated_agent1_sentiment:  0.49\n",
            "\n",
            "Tell me something: i spent forever taking care of my plants\n",
            "agent1_sentiment_analysis_of_user:  (0.022629036, 'negative')\n",
            "agent1_init_state: I'm not as happy now.. \n",
            "updated_agent1_sentiment:  0.26\n",
            "\n",
            "Tell me something: you are the worst agent ever i hate you\n",
            "agent1_sentiment_analysis_of_user:  (0.0011823154, 'negative')\n",
            "agent1_init_state: Ugh, sad..\n",
            "updated_agent1_sentiment:  0.13\n",
            "\n",
            "Tell me something: q\n",
            "\n",
            "Thanks for playing Emotional Contagion Beta\n"
          ],
          "name": "stdout"
        }
      ]
    },
    {
      "cell_type": "code",
      "metadata": {
        "id": "4lngBiKjfYzk"
      },
      "source": [
        ""
      ],
      "execution_count": null,
      "outputs": []
    }
  ]
}