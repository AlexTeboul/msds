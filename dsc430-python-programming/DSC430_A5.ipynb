{
 "cells": [
  {
   "attachments": {},
   "cell_type": "markdown",
   "metadata": {},
   "source": [
    "Alex Teboul, DSC 430, 3/19/2019\n",
    "\n",
    "Assignment 5\n",
    "\n",
    "“I have not given or received any unauthorized assistance on this assignment.”\n",
    "\n"
   ]
  },
  {
   "attachments": {},
   "cell_type": "markdown",
   "metadata": {},
   "source": [
    "Part 1: Basic Numpy (20 points)\n",
    "\n",
    "For this assignment we are going to turn our attention away from Visual Studio and work with Jupyter Notebook.  The easiest way to install it is by installing Anaconda. (https://conda.io/docs/user-guide/install/index.html).  It will also install many of the other packages we are going use in this assignment.  Using NumPy in your Jupyter Notebook…\n",
    "1.\tImport NumPy\n",
    "2.\tUse arange to create a NumPy array with 100 equally spaced values in the range 0 through 100 (not including 100).  Name this NumPy array a.\n",
    "3.\tUse arange to create a NumPy array with 10 equally spaced values in the range 0 through 100 (not including 100).  Name this NumPy array b.\n",
    "4.\tUse linspace to create a NumPy array in the range 0 through 10 (inclusive) with values spaced at 0.1.  Call this NumPy array c.\n",
    "5.\tCreate a random two-dimensional array with the dimensions 10 by 10.  Call this NumPy array d.\n",
    "6.\tReshape a so that it is a two-dimensional array with the dimensions 10 by 10.\n",
    "7.\tShow the results of “a[4,5]” and explain the results in a comment.\n",
    "8.\tShow the results of “a[4]” and explain the results in a comment.\n",
    "9.\tShow the sum of d.\n",
    "10.\tShow the max of a.\n",
    "11.\tShow the transpose of b.\n",
    "12.\tShow the results of adding a and d.\n",
    "13.\tShow the results of multiplying a and d.\n",
    "14.\tShow the results of computing the dot product of a and d."
   ]
  },
  {
   "cell_type": "code",
   "execution_count": 174,
   "metadata": {},
   "outputs": [],
   "source": [
    "#1. Import NumPy\n",
    "import numpy as np"
   ]
  },
  {
   "cell_type": "code",
   "execution_count": 175,
   "metadata": {},
   "outputs": [
    {
     "name": "stdout",
     "output_type": "stream",
     "text": [
      "#2. a =  [ 0  1  2  3  4  5  6  7  8  9 10 11 12 13 14 15 16 17 18 19 20 21 22 23\n",
      " 24 25 26 27 28 29 30 31 32 33 34 35 36 37 38 39 40 41 42 43 44 45 46 47\n",
      " 48 49 50 51 52 53 54 55 56 57 58 59 60 61 62 63 64 65 66 67 68 69 70 71\n",
      " 72 73 74 75 76 77 78 79 80 81 82 83 84 85 86 87 88 89 90 91 92 93 94 95\n",
      " 96 97 98 99] \n",
      "\n"
     ]
    }
   ],
   "source": [
    "#2. Use arange to create a NumPy array with 100 equally spaced values in the range 0 through 100 (not including 100).  \n",
    "#Name this NumPy array a.\n",
    "a = np.arange(100)\n",
    "print(\"#2.\",\"a = \", a,\"\\n\")"
   ]
  },
  {
   "cell_type": "code",
   "execution_count": 177,
   "metadata": {},
   "outputs": [
    {
     "name": "stdout",
     "output_type": "stream",
     "text": [
      "#3. b = [ 0 10 20 30 40 50 60 70 80 90] \n",
      "\n"
     ]
    }
   ],
   "source": [
    "#3. Use arange to create a NumPy array with 10 equally spaced values in the range 0 through 100 (not including 100).  \n",
    "#Name this NumPy array b.\n",
    "b = np.arange(0,100,10)\n",
    "print(\"#3.\",\"b =\", b, \"\\n\")"
   ]
  },
  {
   "cell_type": "code",
   "execution_count": 178,
   "metadata": {},
   "outputs": [
    {
     "name": "stdout",
     "output_type": "stream",
     "text": [
      "#4. c = [ 0.   0.1  0.2  0.3  0.4  0.5  0.6  0.7  0.8  0.9  1.   1.1  1.2  1.3\n",
      "  1.4  1.5  1.6  1.7  1.8  1.9  2.   2.1  2.2  2.3  2.4  2.5  2.6  2.7\n",
      "  2.8  2.9  3.   3.1  3.2  3.3  3.4  3.5  3.6  3.7  3.8  3.9  4.   4.1\n",
      "  4.2  4.3  4.4  4.5  4.6  4.7  4.8  4.9  5.   5.1  5.2  5.3  5.4  5.5\n",
      "  5.6  5.7  5.8  5.9  6.   6.1  6.2  6.3  6.4  6.5  6.6  6.7  6.8  6.9\n",
      "  7.   7.1  7.2  7.3  7.4  7.5  7.6  7.7  7.8  7.9  8.   8.1  8.2  8.3\n",
      "  8.4  8.5  8.6  8.7  8.8  8.9  9.   9.1  9.2  9.3  9.4  9.5  9.6  9.7\n",
      "  9.8  9.9 10. ] \n",
      "\n"
     ]
    }
   ],
   "source": [
    "#4. Use linspace to create a NumPy array in the range 0 through 10 (inclusive) with values spaced at 0.1.  \n",
    "#Call this NumPy array c.\n",
    "c = np.linspace(0.,10.,101)\n",
    "print(\"#4.\",\"c =\", c, \"\\n\")"
   ]
  },
  {
   "cell_type": "code",
   "execution_count": 179,
   "metadata": {},
   "outputs": [
    {
     "name": "stdout",
     "output_type": "stream",
     "text": [
      "#5. d = [[0.74266077 0.02297182 0.85191334 0.34123184 0.20652805 0.70248249\n",
      "  0.07609383 0.01195583 0.07597078 0.82998807]\n",
      " [0.68453545 0.30769515 0.12127195 0.96747198 0.06556085 0.03948275\n",
      "  0.17985866 0.94720916 0.97665765 0.27695416]\n",
      " [0.57069674 0.60431517 0.37852916 0.58003022 0.78054305 0.20106669\n",
      "  0.19733606 0.53669002 0.63395679 0.18273405]\n",
      " [0.78899755 0.82899552 0.66035137 0.41318509 0.34302943 0.76338811\n",
      "  0.28771747 0.33080145 0.54366541 0.63007429]\n",
      " [0.585349   0.33127818 0.35890143 0.27616215 0.62817867 0.8637736\n",
      "  0.61742783 0.76996433 0.6281921  0.65211787]\n",
      " [0.08352362 0.79175323 0.19948842 0.8534841  0.44006732 0.5554862\n",
      "  0.09927036 0.60886951 0.8718999  0.73601776]\n",
      " [0.72677189 0.95446767 0.5307884  0.74324108 0.85062859 0.56361008\n",
      "  0.33299218 0.69160514 0.7975143  0.9595201 ]\n",
      " [0.86747755 0.96121295 0.98251301 0.80348454 0.06335483 0.04191549\n",
      "  0.62912873 0.95350858 0.60890044 0.66275825]\n",
      " [0.40983955 0.84305157 0.81602836 0.77361252 0.66497782 0.13567792\n",
      "  0.19713204 0.99018237 0.37433349 0.48194968]\n",
      " [0.92496798 0.43790161 0.62233388 0.07002792 0.15940878 0.88253111\n",
      "  0.54514311 0.92956086 0.90974775 0.31314042]] \n",
      "\n"
     ]
    }
   ],
   "source": [
    "#5. Create a random two-dimensional array with the dimensions 10 by 10.  \n",
    "#Call this NumPy array d.\n",
    "d = np.random.random((10,10))\n",
    "print(\"#5.\",\"d =\", d, \"\\n\")"
   ]
  },
  {
   "cell_type": "code",
   "execution_count": 180,
   "metadata": {},
   "outputs": [
    {
     "name": "stdout",
     "output_type": "stream",
     "text": [
      "#6. a_reshaped = [[ 0  1  2  3  4  5  6  7  8  9]\n",
      " [10 11 12 13 14 15 16 17 18 19]\n",
      " [20 21 22 23 24 25 26 27 28 29]\n",
      " [30 31 32 33 34 35 36 37 38 39]\n",
      " [40 41 42 43 44 45 46 47 48 49]\n",
      " [50 51 52 53 54 55 56 57 58 59]\n",
      " [60 61 62 63 64 65 66 67 68 69]\n",
      " [70 71 72 73 74 75 76 77 78 79]\n",
      " [80 81 82 83 84 85 86 87 88 89]\n",
      " [90 91 92 93 94 95 96 97 98 99]] \n",
      "\n"
     ]
    }
   ],
   "source": [
    "#6. Reshape a so that it is a two-dimensional array with the dimensions 10 by 10.\n",
    "a = a.reshape(10,10)\n",
    "a_reshaped = a.reshape(10,10)\n",
    "print(\"#6.\",\"a_reshaped =\", a_reshaped, \"\\n\")"
   ]
  },
  {
   "cell_type": "code",
   "execution_count": 181,
   "metadata": {},
   "outputs": [
    {
     "name": "stdout",
     "output_type": "stream",
     "text": [
      "#7. a[4,5] = 45\n",
      "Before reshaping: a[4,5] = \n",
      "---------------------------------------------------------------------------\n",
      "IndexError                                Traceback (most recent call last)\n",
      "<ipython-input-40-3c3788a3fae1> in <module>()\n",
      "     28 \n",
      "     29 #7. Show the results of “a[4,5]” and explain the results in a comment.\n",
      "---> 30 print(a[4,5])\n",
      "\n",
      "IndexError: too many indices for array,\n",
      "\n",
      "After reshaping: a_reshaped[4,5]= 45\n",
      "\n",
      "\n",
      "Explanation: The resulting IndexErrror is because a is composed of a single row, so index 5 in the column dimension does not exist.  On the other hand, a_reshaped[4,5]= 45 which is index 4 in row and index 5 in column for our \n",
      "10x10 reshape of a. \n",
      "\n"
     ]
    }
   ],
   "source": [
    "#7. Show the results of “a[4,5]” and explain the results in a comment.\n",
    "\n",
    "print(\"#7. a[4,5] =\", a[4,5])\n",
    "\n",
    "print(\"Before reshaping: a[4,5] =\",'''\n",
    "---------------------------------------------------------------------------\n",
    "IndexError                                Traceback (most recent call last)\n",
    "<ipython-input-40-3c3788a3fae1> in <module>()\n",
    "     28 \n",
    "     29 #7. Show the results of “a[4,5]” and explain the results in a comment.\n",
    "---> 30 print(a[4,5])\n",
    "\n",
    "IndexError: too many indices for array,\n",
    "\n",
    "After reshaping: a_reshaped[4,5]= 45\n",
    "\n",
    "''')\n",
    "#a_reshaped[4,5]\n",
    "print(\"Explanation: The resulting IndexErrror is because a is composed of a single row, so index 5 in the column dimension does not exist.  On the other hand, a_reshaped[4,5]= 45 which is index 4 in row and index 5 in column for our \\n10x10 reshape of a.\", \"\\n\")"
   ]
  },
  {
   "cell_type": "code",
   "execution_count": 182,
   "metadata": {},
   "outputs": [
    {
     "name": "stdout",
     "output_type": "stream",
     "text": [
      "#8. a[4] = [40 41 42 43 44 45 46 47 48 49] \n",
      " \n"
     ]
    }
   ],
   "source": [
    "#8. Show the results of “a[4]” and explain the results in a comment.\n",
    "#a[4]\n",
    "print(\"#8.\",\"a[4] =\", a[4], \"\\n\", \"\")"
   ]
  },
  {
   "cell_type": "code",
   "execution_count": 183,
   "metadata": {},
   "outputs": [
    {
     "name": "stdout",
     "output_type": "stream",
     "text": [
      "#9. np.sum(d) = 54.8427463723416 \n",
      "\n"
     ]
    }
   ],
   "source": [
    "#9.Show the sum of d.\n",
    "print(\"#9.\",\"np.sum(d) =\",np.sum(d), \"\\n\")"
   ]
  },
  {
   "cell_type": "code",
   "execution_count": 184,
   "metadata": {},
   "outputs": [
    {
     "name": "stdout",
     "output_type": "stream",
     "text": [
      "#10. np.max(a) = 99 \n",
      "\n"
     ]
    }
   ],
   "source": [
    "#10. Show the max of a.\n",
    "print(\"#10.\",\"np.max(a) =\",np.max(a), \"\\n\")"
   ]
  },
  {
   "cell_type": "code",
   "execution_count": 185,
   "metadata": {},
   "outputs": [
    {
     "name": "stdout",
     "output_type": "stream",
     "text": [
      "#11. np.transpose(b) = [ 0 10 20 30 40 50 60 70 80 90] \n",
      "\n"
     ]
    }
   ],
   "source": [
    "#11. Show the transpose of b.\n",
    "print(\"#11.\",\"np.transpose(b) =\",np.transpose(b), \"\\n\")"
   ]
  },
  {
   "cell_type": "code",
   "execution_count": 186,
   "metadata": {},
   "outputs": [
    {
     "name": "stdout",
     "output_type": "stream",
     "text": [
      "#12. a+d= [[ 0.74266077  1.02297182  2.85191334  3.34123184  4.20652805  5.70248249\n",
      "   6.07609383  7.01195583  8.07597078  9.82998807]\n",
      " [10.68453545 11.30769515 12.12127195 13.96747198 14.06556085 15.03948275\n",
      "  16.17985866 17.94720916 18.97665765 19.27695416]\n",
      " [20.57069674 21.60431517 22.37852916 23.58003022 24.78054305 25.20106669\n",
      "  26.19733606 27.53669002 28.63395679 29.18273405]\n",
      " [30.78899755 31.82899552 32.66035137 33.41318509 34.34302943 35.76338811\n",
      "  36.28771747 37.33080145 38.54366541 39.63007429]\n",
      " [40.585349   41.33127818 42.35890143 43.27616215 44.62817867 45.8637736\n",
      "  46.61742783 47.76996433 48.6281921  49.65211787]\n",
      " [50.08352362 51.79175323 52.19948842 53.8534841  54.44006732 55.5554862\n",
      "  56.09927036 57.60886951 58.8718999  59.73601776]\n",
      " [60.72677189 61.95446767 62.5307884  63.74324108 64.85062859 65.56361008\n",
      "  66.33299218 67.69160514 68.7975143  69.9595201 ]\n",
      " [70.86747755 71.96121295 72.98251301 73.80348454 74.06335483 75.04191549\n",
      "  76.62912873 77.95350858 78.60890044 79.66275825]\n",
      " [80.40983955 81.84305157 82.81602836 83.77361252 84.66497782 85.13567792\n",
      "  86.19713204 87.99018237 88.37433349 89.48194968]\n",
      " [90.92496798 91.43790161 92.62233388 93.07002792 94.15940878 95.88253111\n",
      "  96.54514311 97.92956086 98.90974775 99.31314042]] \n",
      "\n"
     ]
    }
   ],
   "source": [
    "#12. Show the results of adding a and d.\n",
    "print(\"#12. a+d=\",a+d,\"\\n\")"
   ]
  },
  {
   "cell_type": "code",
   "execution_count": 187,
   "metadata": {},
   "outputs": [
    {
     "name": "stdout",
     "output_type": "stream",
     "text": [
      "#13. a*d= [[0.00000000e+00 2.29718239e-02 1.70382667e+00 1.02369553e+00\n",
      "  8.26112199e-01 3.51241243e+00 4.56562996e-01 8.36908310e-02\n",
      "  6.07766220e-01 7.46989267e+00]\n",
      " [6.84535455e+00 3.38464667e+00 1.45526339e+00 1.25771358e+01\n",
      "  9.17851880e-01 5.92241291e-01 2.87773855e+00 1.61025558e+01\n",
      "  1.75798378e+01 5.26212911e+00]\n",
      " [1.14139349e+01 1.26906185e+01 8.32764152e+00 1.33406951e+01\n",
      "  1.87330332e+01 5.02666720e+00 5.13073750e+00 1.44906305e+01\n",
      "  1.77507902e+01 5.29928736e+00]\n",
      " [2.36699264e+01 2.56988610e+01 2.11312439e+01 1.36351080e+01\n",
      "  1.16630008e+01 2.67185837e+01 1.03578288e+01 1.22396537e+01\n",
      "  2.06592854e+01 2.45728973e+01]\n",
      " [2.34139600e+01 1.35824055e+01 1.50738601e+01 1.18749727e+01\n",
      "  2.76398613e+01 3.88698119e+01 2.84016801e+01 3.61883237e+01\n",
      "  3.01532209e+01 3.19537756e+01]\n",
      " [4.17618081e+00 4.03794148e+01 1.03733977e+01 4.52346575e+01\n",
      "  2.37636353e+01 3.05517409e+01 5.55913992e+00 3.47055621e+01\n",
      "  5.05701939e+01 4.34250479e+01]\n",
      " [4.36063136e+01 5.82225282e+01 3.29088810e+01 4.68241882e+01\n",
      "  5.44402297e+01 3.66346554e+01 2.19774837e+01 4.63375441e+01\n",
      "  5.42309726e+01 6.62068869e+01]\n",
      " [6.07234282e+01 6.82461195e+01 7.07409368e+01 5.86543718e+01\n",
      "  4.68825725e+00 3.14366181e+00 4.78137831e+01 7.34201604e+01\n",
      "  4.74942347e+01 5.23579018e+01]\n",
      " [3.27871641e+01 6.82871774e+01 6.69143251e+01 6.42098392e+01\n",
      "  5.58581372e+01 1.15326232e+01 1.69533556e+01 8.61458660e+01\n",
      "  3.29413474e+01 4.28935218e+01]\n",
      " [8.32471182e+01 3.98490464e+01 5.72547173e+01 6.51259695e+00\n",
      "  1.49844253e+01 8.38404555e+01 5.23337388e+01 9.01674033e+01\n",
      "  8.91552796e+01 3.10009012e+01]] \n",
      "\n"
     ]
    }
   ],
   "source": [
    "#13. Show the results of multiplying a and d.\n",
    "print(\"#13. a*d=\",a*d,\"\\n\")"
   ]
  },
  {
   "cell_type": "code",
   "execution_count": 188,
   "metadata": {},
   "outputs": [
    {
     "name": "stdout",
     "output_type": "stream",
     "text": [
      "#14. np.dot(a,d) = [[ 28.98833809  32.42801469  27.48398549  25.64214663  19.67054345\n",
      "   21.66757812  17.28894475  36.24889597  30.97762197  25.89149498]\n",
      " [ 92.8365391   93.26444347  82.7051787   83.86146134  61.69331733\n",
      "   69.16172246  48.90994732 103.95236846  95.18600815  83.14404153]\n",
      " [156.68474012 154.10087225 137.92637191 142.08077604 103.71609122\n",
      "  116.6558668   80.53094988 171.65584096 159.39439433 140.39658808]\n",
      " [220.53294113 214.93730104 193.14756511 200.30009075 145.7388651\n",
      "  164.15001114 112.15195245 239.35931345 223.60278051 197.64913463]\n",
      " [284.38114215 275.77372982 248.36875832 258.51940545 187.76163898\n",
      "  211.64415548 143.77295502 307.06278595 287.81116669 254.90168118]\n",
      " [348.22934316 336.6101586  303.58995152 316.73872016 229.78441287\n",
      "  259.13829982 175.39395758 374.76625844 352.01955287 312.15422773]\n",
      " [412.07754418 397.44658739 358.81114473 374.95803486 271.80718675\n",
      "  306.63244416 207.01496015 442.46973094 416.22793905 369.40677428]\n",
      " [475.92574519 458.28301617 414.03233793 433.17734957 313.82996063\n",
      "  354.12658849 238.63596272 510.17320343 480.43632523 426.65932083]\n",
      " [539.77394621 519.11944495 469.25353114 491.39666427 355.85273451\n",
      "  401.62073283 270.25696528 577.87667593 544.64471141 483.91186738]\n",
      " [603.62214722 579.95587374 524.47472435 549.61597898 397.8755084\n",
      "  449.11487717 301.87796785 645.58014842 608.85309759 541.16441393]] \n",
      "\n"
     ]
    }
   ],
   "source": [
    "#14. Show the results of computing the dot product of a and d.\n",
    "print(\"#14. np.dot(a,d) =\",np.dot(a,d),\"\\n\")"
   ]
  },
  {
   "attachments": {},
   "cell_type": "markdown",
   "metadata": {},
   "source": [
    "Part 2: Life (40 points)\n",
    "    \n",
    "Read the Wikipedia article on Conway’s Game of Life.  We will implement this simulation in a Jupyter Notebook using NumPy.  \n",
    "\n",
    "We will work on a torus because it will make the code easier and we won't need to deal with boundaries. This means that cells on the top are adjacent to cells on the bottom and the same is true for the left and right sides.\n",
    "\n",
    "Write a function called conway(s, p) that generates a board, which is a square two dimensional NumPy array of size s.  The board should be randomly populated with probability p.  If p is set to 0, all cells should be 0 (dead).  If p is set to 1, all cells should be 1 (alive).  Start with p=0.1; about 10 percent of cells should 1.\n",
    "\n",
    "Write a function advance(b,t) that accepts a Conway board and advances it t time steps according to the rules:\n",
    "1. Any live cell (marked as 1) with fewer than two live neighbors dies, as if by underpopulation.\n",
    "2. Any live cell (marked as 1) with two or three live neighbors lives on to the next generation.\n",
    "3. Any live cell (marked as 1) with more than three live neighbors dies, as if by overpopulation.\n",
    "4. Any dead cell (marked as 0) with exactly three live neighbors becomes a live cell, as if by reproduction.\n",
    "\n",
    "Write a function to pleasantly display the board.\n",
    "Demonstrate your code for different values of s, p and t.\n",
    "\n",
    "\n"
   ]
  },
  {
   "cell_type": "code",
   "execution_count": 393,
   "metadata": {},
   "outputs": [],
   "source": [
    "import numpy as np\n",
    "import matplotlib.pyplot as plt\n",
    "np.random.seed(7)\n",
    "\n",
    "\n",
    "def conway(s,p):\n",
    "    ''' generates a board'''\n",
    "    board = np.random.choice([0,1],size=(s,s),p=[1-p,p])\n",
    "    return board"
   ]
  },
  {
   "cell_type": "code",
   "execution_count": 410,
   "metadata": {},
   "outputs": [
    {
     "name": "stdout",
     "output_type": "stream",
     "text": [
      "board1 = conway(10,1): \n",
      " [[1 1 1 1 1 1 1 1 1 1]\n",
      " [1 1 1 1 1 1 1 1 1 1]\n",
      " [1 1 1 1 1 1 1 1 1 1]\n",
      " [1 1 1 1 1 1 1 1 1 1]\n",
      " [1 1 1 1 1 1 1 1 1 1]\n",
      " [1 1 1 1 1 1 1 1 1 1]\n",
      " [1 1 1 1 1 1 1 1 1 1]\n",
      " [1 1 1 1 1 1 1 1 1 1]\n",
      " [1 1 1 1 1 1 1 1 1 1]\n",
      " [1 1 1 1 1 1 1 1 1 1]]\n",
      "board0 = conway(10,0): \n",
      " [[0 0 0 0 0 0 0 0 0 0]\n",
      " [0 0 0 0 0 0 0 0 0 0]\n",
      " [0 0 0 0 0 0 0 0 0 0]\n",
      " [0 0 0 0 0 0 0 0 0 0]\n",
      " [0 0 0 0 0 0 0 0 0 0]\n",
      " [0 0 0 0 0 0 0 0 0 0]\n",
      " [0 0 0 0 0 0 0 0 0 0]\n",
      " [0 0 0 0 0 0 0 0 0 0]\n",
      " [0 0 0 0 0 0 0 0 0 0]\n",
      " [0 0 0 0 0 0 0 0 0 0]]\n",
      "board05 = conway(10,0.5): \n",
      " [[1 1 1 0 1 0 0 1 1 0]\n",
      " [1 1 1 0 0 0 1 0 1 0]\n",
      " [1 1 0 1 1 1 0 0 1 0]\n",
      " [1 1 1 1 0 0 1 0 1 1]\n",
      " [0 1 0 1 0 1 0 0 0 1]\n",
      " [0 1 1 0 1 1 1 0 1 1]\n",
      " [1 0 0 0 0 1 0 1 0 0]\n",
      " [0 1 1 0 0 0 0 1 1 0]\n",
      " [1 1 1 1 0 1 1 1 1 0]\n",
      " [0 0 0 0 0 1 1 1 1 1]]\n",
      "board = conway(20,0.1): \n",
      " [[0 0 0 0 0 0 0 0 0 0 0 0 0 0 0 0 1 0 0 1]\n",
      " [0 0 1 0 0 1 0 0 0 0 0 0 0 0 0 0 0 0 0 0]\n",
      " [0 0 0 0 0 0 0 0 0 0 1 0 0 0 0 0 0 1 0 0]\n",
      " [0 0 0 0 0 1 1 0 1 0 0 0 0 1 0 0 0 0 0 0]\n",
      " [0 1 0 0 1 0 0 0 0 1 0 0 0 0 0 0 0 0 0 0]\n",
      " [0 0 0 0 0 0 0 0 0 0 0 0 0 1 0 0 0 0 0 0]\n",
      " [0 0 0 0 1 0 0 0 0 0 0 0 0 1 0 0 1 0 0 0]\n",
      " [0 1 0 0 1 0 0 0 0 0 1 0 1 0 1 0 0 0 0 0]\n",
      " [0 0 0 0 0 0 1 0 0 0 0 0 0 0 1 0 0 0 0 0]\n",
      " [0 0 0 0 1 0 0 0 0 0 0 0 0 0 0 0 0 0 0 0]\n",
      " [0 0 0 1 0 0 0 0 0 0 0 0 0 0 0 0 0 0 0 0]\n",
      " [0 0 0 0 0 1 0 0 0 0 0 0 0 0 0 0 0 0 0 0]\n",
      " [0 0 0 0 0 0 0 0 0 0 0 0 0 0 0 0 1 0 0 0]\n",
      " [0 0 0 0 1 0 0 0 0 0 0 1 0 0 1 0 0 0 0 0]\n",
      " [0 0 0 0 0 0 0 0 0 0 0 0 0 0 0 0 0 0 0 0]\n",
      " [0 0 0 1 0 0 0 0 0 0 0 0 0 0 0 0 0 0 0 0]\n",
      " [0 0 0 0 0 0 0 0 0 0 0 0 0 1 1 0 1 1 0 0]\n",
      " [0 0 0 0 0 0 0 1 0 0 0 0 0 1 0 0 0 0 0 1]\n",
      " [0 0 0 1 0 0 0 0 0 0 0 0 0 0 0 0 0 0 1 0]\n",
      " [0 0 0 0 0 0 0 0 0 0 0 0 0 0 0 0 0 0 0 0]]\n"
     ]
    }
   ],
   "source": [
    "#Testing\n",
    "board1 = conway(10,1)\n",
    "print(\"board1 = conway(10,1): \\n\", board1)\n",
    "board0 = conway(10,0)\n",
    "print(\"board0 = conway(10,0): \\n\", board0)\n",
    "board05 = conway(10,0.5)\n",
    "print(\"board05 = conway(10,0.5): \\n\", board05)\n",
    "\n",
    "#s = 10, p = 0.1\n",
    "board = conway(20,0.1)\n",
    "print(\"board = conway(20,0.1): \\n\", board)\n"
   ]
  },
  {
   "cell_type": "code",
   "execution_count": 411,
   "metadata": {},
   "outputs": [],
   "source": [
    "#Write a function advance(b,t) that accepts a Conway board and advances it t time steps according to the rules:\n",
    "#Any live cell (marked as 1) with fewer than two live neighbors dies, as if by underpopulation.\n",
    "#Any live cell (marked as 1) with two or three live neighbors lives on to the next generation.\n",
    "#Any live cell (marked as 1) with more than three live neighbors dies, as if by overpopulation.\n",
    "#Any dead cell (marked as 0) with exactly three live neighbors becomes a live cell, as if by reproduction. Write a function to pleasantly display the board. \n",
    "#Demonstrate your code for different values of s, p and t.\n",
    "import numpy as np \n",
    "import matplotlib.pyplot as plt  \n",
    "\n",
    "\n",
    "def advance(b,t):\n",
    "    '''accepts a board b and advances it t steps according to the rules'''\n",
    "    \n",
    "    #get the s value from b\n",
    "    s = np.shape(b)[0]-1\n",
    "    \n",
    "    #define the new board\n",
    "    new_board = b.copy()\n",
    "    \n",
    "    #count the 8 cells around each cell and update the cell on the new board\n",
    "    for _ in range(t):\n",
    "        for i in range(s): \n",
    "            for j in range(s):\n",
    "                neighbor_count = (new_board[i, (j-1)] + new_board[i, (j+1)] + new_board[(i-1), j] + new_board[(i+1), j] + new_board[(i-1), (j-1)] + new_board[(i-1), (j+1)] + new_board[(i+1), (j-1)] + new_board[(i+1), (j+1)])\n",
    "                # Rules\n",
    "                #1. Becomes a 1 in the new board if the neighbor_count is 2 or 3:\n",
    "                if neighbor_count == 2 or neighbor_count == 3:\n",
    "                    new_board[i,j] = 1\n",
    "                \n",
    "                #2. Becomes a 0 in the new board if the neighbor_count is anything else\n",
    "                else:\n",
    "                    new_board[i,j] = 0\n",
    "                \n",
    "    return new_board"
   ]
  },
  {
   "cell_type": "code",
   "execution_count": 412,
   "metadata": {},
   "outputs": [],
   "source": [
    "#Write a function to pleasantly display the board\n",
    "def disp_board(b):\n",
    "    ''' Takes in a board and displays it pretty'''\n",
    "    ax1 = plt.axes()\n",
    "    ax1.matshow(b,cmap=plt.cm.binary)\n",
    "    ax1.set_axis_off()\n",
    "    plt.show()\n",
    "    return"
   ]
  },
  {
   "cell_type": "code",
   "execution_count": 413,
   "metadata": {},
   "outputs": [
    {
     "data": {
      "image/png": "[encoded data removed]",
      "text/plain": [
       "<Figure size 432x288 with 1 Axes>"
      ]
     },
     "metadata": {},
     "output_type": "display_data"
    }
   ],
   "source": [
    "#represent with pretty black and white board\n",
    "disp_board(board)"
   ]
  },
  {
   "cell_type": "code",
   "execution_count": 414,
   "metadata": {},
   "outputs": [
    {
     "data": {
      "image/png": "[encoded data removed]",
      "text/plain": [
       "<Figure size 432x288 with 1 Axes>"
      ]
     },
     "metadata": {},
     "output_type": "display_data"
    }
   ],
   "source": [
    "#print(advance(board,1))\n",
    "#represent with pretty black and white board\n",
    "disp_board(advance(board,1))"
   ]
  },
  {
   "cell_type": "code",
   "execution_count": 415,
   "metadata": {},
   "outputs": [
    {
     "data": {
      "image/png": "[encoded data removed]",
      "text/plain": [
       "<Figure size 432x288 with 1 Axes>"
      ]
     },
     "metadata": {},
     "output_type": "display_data"
    }
   ],
   "source": [
    "#print(advance(board,2))\n",
    "#represent with pretty black and white board\n",
    "disp_board(advance(board,2))"
   ]
  },
  {
   "cell_type": "code",
   "execution_count": 416,
   "metadata": {},
   "outputs": [
    {
     "data": {
      "image/png": "[encoded data removed]",
      "text/plain": [
       "<Figure size 432x288 with 1 Axes>"
      ]
     },
     "metadata": {},
     "output_type": "display_data"
    }
   ],
   "source": [
    "#print(advance(board,3))\n",
    "#represent with pretty black and white board\n",
    "disp_board(advance(board,3))"
   ]
  },
  {
   "cell_type": "markdown",
   "metadata": {},
   "source": [
    "Cool, seems to be working at this point. "
   ]
  },
  {
   "cell_type": "code",
   "execution_count": 434,
   "metadata": {},
   "outputs": [],
   "source": [
    "#Demonstrate your code for different values of s, p and t.\n",
    "\n",
    "#values\n",
    "s_1 = 5\n",
    "s_2 = 50\n",
    "\n",
    "p_1 = 0.1\n",
    "p_2 = .9\n",
    "p_3 = 0.05\n",
    "\n",
    "t_1 = 1\n",
    "t_2 = 5\n",
    "t_3 = 50"
   ]
  },
  {
   "cell_type": "code",
   "execution_count": 430,
   "metadata": {},
   "outputs": [
    {
     "data": {
      "image/png": "[encoded data removed]",
      "text/plain": [
       "<Figure size 432x288 with 1 Axes>"
      ]
     },
     "metadata": {},
     "output_type": "display_data"
    },
    {
     "data": {
      "image/png": "[encoded data removed]",
      "text/plain": [
       "<Figure size 432x288 with 1 Axes>"
      ]
     },
     "metadata": {},
     "output_type": "display_data"
    }
   ],
   "source": [
    "#testing ground (change the values to test stuff out -- it all works)\n",
    "#Major overcrowding Example\n",
    "boardtest1 = conway(s_2,p_2)\n",
    "disp_board(boardtest1)\n",
    "disp_board(advance(boardtest1,t_1))"
   ]
  },
  {
   "cell_type": "code",
   "execution_count": 436,
   "metadata": {},
   "outputs": [
    {
     "data": {
      "image/png": "[encoded data removed]",
      "text/plain": [
       "<Figure size 432x288 with 1 Axes>"
      ]
     },
     "metadata": {},
     "output_type": "display_data"
    },
    {
     "data": {
      "image/png": "[encoded data removed]",
      "text/plain": [
       "<Figure size 432x288 with 1 Axes>"
      ]
     },
     "metadata": {},
     "output_type": "display_data"
    }
   ],
   "source": [
    "#testing ground (change the values to test stuff out -- it all works)\n",
    "#Cool undecrowding Example\n",
    "boardtest1 = conway(s_2,p_3)\n",
    "disp_board(boardtest1)\n",
    "disp_board(advance(boardtest1,t_3))"
   ]
  },
  {
   "cell_type": "markdown",
   "metadata": {},
   "source": [
    "Part 3: Housing (40 points)\n",
    "    \n",
    "Using NumPy and MatPlotLib:\n",
    "1.\tImport MatPlotLib.\n",
    "2.\tImport NumPy.\n",
    "3.\tRead about the California Housing Dataset:\n",
    "    a.\twww.kaggle.com/camnugent/california-housing-prices\n",
    "4.\tDownload the California Housing dataset from the D2L.\n",
    "5.\tWrite code to get the size of housing.\n",
    "6.\tWrite code to get the data type of the data in housing.\n",
    "7.\tWrite code to get the dimensions of housing.\n",
    "8.\tCreate a labeled histogram of population.\n",
    "9.\tCreate a bar chart for ocean_proximity.\n",
    "10.\tCreate a labeled scatter plot of age (x-axis) and pop (y-axis).  Color the points in the scatterplot based on price.\n",
    "11.\tWrite a brief analysis of the scatterplot.\n"
   ]
  },
  {
   "cell_type": "code",
   "execution_count": 238,
   "metadata": {},
   "outputs": [
    {
     "data": {
      "text/html": [
       "<div>\n",
       "<style scoped>\n",
       "    .dataframe tbody tr th:only-of-type {\n",
       "        vertical-align: middle;\n",
       "    }\n",
       "\n",
       "    .dataframe tbody tr th {\n",
       "        vertical-align: top;\n",
       "    }\n",
       "\n",
       "    .dataframe thead th {\n",
       "        text-align: right;\n",
       "    }\n",
       "</style>\n",
       "<table border=\"1\" class=\"dataframe\">\n",
       "  <thead>\n",
       "    <tr style=\"text-align: right;\">\n",
       "      <th></th>\n",
       "      <th>longitude</th>\n",
       "      <th>latitude</th>\n",
       "      <th>housing_median_age</th>\n",
       "      <th>total_rooms</th>\n",
       "      <th>total_bedrooms</th>\n",
       "      <th>population</th>\n",
       "      <th>households</th>\n",
       "      <th>median_income</th>\n",
       "      <th>median_house_value</th>\n",
       "      <th>ocean_proximity</th>\n",
       "    </tr>\n",
       "  </thead>\n",
       "  <tbody>\n",
       "    <tr>\n",
       "      <th>0</th>\n",
       "      <td>-122.23</td>\n",
       "      <td>37.88</td>\n",
       "      <td>41.0</td>\n",
       "      <td>880.0</td>\n",
       "      <td>129.0</td>\n",
       "      <td>322.0</td>\n",
       "      <td>126.0</td>\n",
       "      <td>8.3252</td>\n",
       "      <td>452600.0</td>\n",
       "      <td>NEAR BAY</td>\n",
       "    </tr>\n",
       "    <tr>\n",
       "      <th>1</th>\n",
       "      <td>-122.22</td>\n",
       "      <td>37.86</td>\n",
       "      <td>21.0</td>\n",
       "      <td>7099.0</td>\n",
       "      <td>1106.0</td>\n",
       "      <td>2401.0</td>\n",
       "      <td>1138.0</td>\n",
       "      <td>8.3014</td>\n",
       "      <td>358500.0</td>\n",
       "      <td>NEAR BAY</td>\n",
       "    </tr>\n",
       "    <tr>\n",
       "      <th>2</th>\n",
       "      <td>-122.24</td>\n",
       "      <td>37.85</td>\n",
       "      <td>52.0</td>\n",
       "      <td>1467.0</td>\n",
       "      <td>190.0</td>\n",
       "      <td>496.0</td>\n",
       "      <td>177.0</td>\n",
       "      <td>7.2574</td>\n",
       "      <td>352100.0</td>\n",
       "      <td>NEAR BAY</td>\n",
       "    </tr>\n",
       "    <tr>\n",
       "      <th>3</th>\n",
       "      <td>-122.25</td>\n",
       "      <td>37.85</td>\n",
       "      <td>52.0</td>\n",
       "      <td>1274.0</td>\n",
       "      <td>235.0</td>\n",
       "      <td>558.0</td>\n",
       "      <td>219.0</td>\n",
       "      <td>5.6431</td>\n",
       "      <td>341300.0</td>\n",
       "      <td>NEAR BAY</td>\n",
       "    </tr>\n",
       "    <tr>\n",
       "      <th>4</th>\n",
       "      <td>-122.25</td>\n",
       "      <td>37.85</td>\n",
       "      <td>52.0</td>\n",
       "      <td>1627.0</td>\n",
       "      <td>280.0</td>\n",
       "      <td>565.0</td>\n",
       "      <td>259.0</td>\n",
       "      <td>3.8462</td>\n",
       "      <td>342200.0</td>\n",
       "      <td>NEAR BAY</td>\n",
       "    </tr>\n",
       "  </tbody>\n",
       "</table>\n",
       "</div>"
      ],
      "text/plain": [
       "   longitude  latitude  housing_median_age  total_rooms  total_bedrooms  \\\n",
       "0    -122.23     37.88                41.0        880.0           129.0   \n",
       "1    -122.22     37.86                21.0       7099.0          1106.0   \n",
       "2    -122.24     37.85                52.0       1467.0           190.0   \n",
       "3    -122.25     37.85                52.0       1274.0           235.0   \n",
       "4    -122.25     37.85                52.0       1627.0           280.0   \n",
       "\n",
       "   population  households  median_income  median_house_value ocean_proximity  \n",
       "0       322.0       126.0         8.3252            452600.0        NEAR BAY  \n",
       "1      2401.0      1138.0         8.3014            358500.0        NEAR BAY  \n",
       "2       496.0       177.0         7.2574            352100.0        NEAR BAY  \n",
       "3       558.0       219.0         5.6431            341300.0        NEAR BAY  \n",
       "4       565.0       259.0         3.8462            342200.0        NEAR BAY  "
      ]
     },
     "execution_count": 238,
     "metadata": {},
     "output_type": "execute_result"
    }
   ],
   "source": [
    "#Import MatPlotLib\n",
    "import matplotlib.pyplot as plt\n",
    "import numpy as np\n",
    "import pandas as pd\n",
    "\n",
    "#import dataset\n",
    "file_path = \"/Users/alexteboul/Desktop/housing.csv\"\n",
    "#data = np.genfromtxt(file_path, delimiter=',')\n",
    "df=pd.read_csv(file_path, sep=',')\n",
    "\n",
    "df.head()"
   ]
  },
  {
   "cell_type": "code",
   "execution_count": 239,
   "metadata": {},
   "outputs": [
    {
     "name": "stdout",
     "output_type": "stream",
     "text": [
      "np.size(df) =  206400 values excluding headers \n",
      "\n"
     ]
    }
   ],
   "source": [
    "#5. Write code to get the size of housing.\n",
    "print(\"np.size(df) = \",np.size(df), \"values excluding headers \\n\")"
   ]
  },
  {
   "cell_type": "code",
   "execution_count": 240,
   "metadata": {},
   "outputs": [
    {
     "data": {
      "text/plain": [
       "longitude             float64\n",
       "latitude              float64\n",
       "housing_median_age    float64\n",
       "total_rooms           float64\n",
       "total_bedrooms        float64\n",
       "population            float64\n",
       "households            float64\n",
       "median_income         float64\n",
       "median_house_value    float64\n",
       "ocean_proximity        object\n",
       "dtype: object"
      ]
     },
     "execution_count": 240,
     "metadata": {},
     "output_type": "execute_result"
    }
   ],
   "source": [
    "#6. Write code to get the data type of the data in housing.\n",
    "df.dtypes"
   ]
  },
  {
   "cell_type": "code",
   "execution_count": 241,
   "metadata": {},
   "outputs": [
    {
     "name": "stdout",
     "output_type": "stream",
     "text": [
      "np.shape(df) =  (20640, 10) dimensions excluding headers \n",
      "\n"
     ]
    }
   ],
   "source": [
    "#7. Write code to get the dimensions of housing.\n",
    "print(\"np.shape(df) = \", np.shape(df), \"dimensions excluding headers \\n\")"
   ]
  },
  {
   "cell_type": "code",
   "execution_count": 242,
   "metadata": {},
   "outputs": [
    {
     "data": {
      "text/plain": [
       "Text(0.5,1,'8. Histogram of Population')"
      ]
     },
     "execution_count": 242,
     "metadata": {},
     "output_type": "execute_result"
    },
    {
     "data": {
      "image/png": "[encoded data removed]",
      "text/plain": [
       "<Figure size 432x288 with 1 Axes>"
      ]
     },
     "metadata": {},
     "output_type": "display_data"
    }
   ],
   "source": [
    "#8. Create a labeled histogram of population.\n",
    "#df['population'].hist()\n",
    "plt.hist(df['population'], bins=100)\n",
    "plt.ylabel('Frequency')\n",
    "plt.xlabel('Population')\n",
    "plt.title('8. Histogram of Population')\n",
    "#np.max(df['population'])"
   ]
  },
  {
   "cell_type": "code",
   "execution_count": 247,
   "metadata": {},
   "outputs": [
    {
     "data": {
      "text/plain": [
       "Text(0.5,1,'9. Bar Chart for ocean_proximity')"
      ]
     },
     "execution_count": 247,
     "metadata": {},
     "output_type": "execute_result"
    },
    {
     "data": {
      "image/png": "[encoded data removed]",
      "text/plain": [
       "<Figure size 432x288 with 1 Axes>"
      ]
     },
     "metadata": {},
     "output_type": "display_data"
    }
   ],
   "source": [
    "#9. Create a bar chart for ocean_proximity.\n",
    "df['ocean_proximity'].value_counts().plot(kind='bar')\n",
    "plt.ylabel('Frequency')\n",
    "plt.xlabel('Categories of ocean_proximity')\n",
    "plt.title('9. Bar Chart for ocean_proximity')\n",
    "#df.groupby('ocean_proximity').size().plot(kind='bar')"
   ]
  },
  {
   "cell_type": "code",
   "execution_count": 279,
   "metadata": {},
   "outputs": [
    {
     "data": {
      "text/plain": [
       "Text(0.5,1,'10. Scatter Plot age and pop with price coloring')"
      ]
     },
     "execution_count": 279,
     "metadata": {},
     "output_type": "execute_result"
    },
    {
     "data": {
      "image/png": "[encoded data removed]",
      "text/plain": [
       "<Figure size 432x288 with 1 Axes>"
      ]
     },
     "metadata": {},
     "output_type": "display_data"
    }
   ],
   "source": [
    "#10. Create a labeled scatter plot of age (x-axis) and pop (y-axis). Color the points in the scatterplot based on price.\n",
    "plt.scatter(df['housing_median_age'], df['population'],s=5,c=df['median_house_value'])\n",
    "plt.ylabel('Population')\n",
    "plt.xlabel('Housing_Median_Age')\n",
    "plt.title('10. Scatter Plot age and pop with price coloring')\n"
   ]
  },
  {
   "cell_type": "markdown",
   "metadata": {},
   "source": [
    "11. Write a brief analysis of the scatterplot.\n",
    "\n",
    "There seems to be a general trend that older housing has lower population values, but it's not a strong relationship. There appear to be a few outliers (2 housing data points with huge population values are clearly visible in the scatter). These outliers could thow off future analysis. Besides that, there does not seem to be any significant relationship between the median_house_value (price) and either age or population.\n"
   ]
  },
  {
   "cell_type": "code",
   "execution_count": null,
   "metadata": {},
   "outputs": [],
   "source": []
  }
 ],
 "metadata": {
  "kernelspec": {
   "display_name": "Python 3",
   "language": "python",
   "name": "python3"
  },
  "language_info": {
   "codemirror_mode": {
    "name": "ipython",
    "version": 3
   },
   "file_extension": ".py",
   "mimetype": "text/x-python",
   "name": "python",
   "nbconvert_exporter": "python",
   "pygments_lexer": "ipython3",
   "version": "3.6.5"
  }
 },
 "nbformat": 4,
 "nbformat_minor": 2
}
